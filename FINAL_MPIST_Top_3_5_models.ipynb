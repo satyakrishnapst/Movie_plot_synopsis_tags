{
 "cells": [
  {
   "cell_type": "markdown",
   "metadata": {
    "colab_type": "text",
    "id": "lx34iObWJ8fR"
   },
   "source": [
    "<h1>MPST: Movie Plot Synopses with Tags</h1>\n"
   ]
  },
  {
   "cell_type": "markdown",
   "metadata": {
    "colab_type": "text",
    "id": "lReoH9saQ1_R"
   },
   "source": [
    "<h1>Business Problem</h1>"
   ]
  },
  {
   "cell_type": "markdown",
   "metadata": {
    "colab_type": "text",
    "id": "kcQ_lF0eKA5e"
   },
   "source": [
    "\n",
    "<h2>1.1 Dataset Description</h2>\n",
    "<ul>\n",
    " <li>Abstract Social tagging of movies reveals a wide range of heterogeneous information about movies, like the genre, plot structure, soundtracks, metadata, visual and emotional experiences.</li>\n",
    " <li> Such information can be valuable in building automatic systems to create tags for movies.</li>\n",
    "  <li> Automatic tagging systems can help recommendation engines to improve the retrieval of similar movies as well as help viewers to know what to expect from a movie in advance.</li>\n",
    " <li> In this paper, we set out to the task of collecting a corpus of movie plot synopses and tags. </li>\n",
    "  <li>We describe a methodology that enabled us to build a fine-grained set of around 70 tags exposing heterogeneous characteristics of movie plots and the multi-label associations of these tags with some 14K movie plot synopses.</li>\n",
    " <li> We investigate how these tags correlate with movies and the flow of emotions throughout different types of movies. Finally, we use this corpus to explore the feasibility of inferring tags from plot synopses. </li>\n",
    " <li>We expect the corpus will be useful in other tasks where analysis of narratives is relevant</li>\n",
    "</ul>"
   ]
  },
  {
   "cell_type": "markdown",
   "metadata": {
    "colab_type": "text",
    "id": "EmYyaok4Oev6"
   },
   "source": [
    "<h2>1.2 Data Source</h2>\n",
    "<ul>\n",
    "<li>\n",
    "Dataset : https://www.kaggle.com/cryptexcode/mpst-movie-plot-synopses-with-tags\n",
    "</li>\n",
    "<li>Please find the paper here: https://www.aclweb.org/anthology/L18-1274</li>\n",
    "<li>This dataset was published in LREC 2018@Miyazaki, Japan.</li>\n",
    "<li>Keywords Tag generation for movies, Movie plot analysis, Multi-label dataset, Narrative texts</li>\n",
    "<li>More information is available here http://ritual.uh.edu/mpst-2018/</li>\n",
    "</ul>"
   ]
  },
  {
   "cell_type": "markdown",
   "metadata": {
    "colab_type": "text",
    "id": "JBpeKOR4KA8s"
   },
   "source": [
    "<h2> 1.3 Problem Statement</h2>\n",
    "<ul>\n",
    "<li>Identify which tag should be assigned to which movie.</li>\n",
    "<li>we present the MPST corpus that contains plot synopses of 14,828 movies and their associations with a set of fine-grained tags, where each movie is tagged      with one or more tags.\n",
    "</li>\n",
    "</ul>"
   ]
  },
  {
   "cell_type": "markdown",
   "metadata": {
    "colab_type": "text",
    "id": "gQ5KcDsJKBB3"
   },
   "source": [
    "<h2>1.4 Real world/Business Objectives and Constraints</h2>\n",
    "<ul>\n",
    "<li>Predict as many tags as possible with high precision and recall.</li>\n",
    "<li>No strict latency concerns.</li>\n",
    "</ul>"
   ]
  },
  {
   "cell_type": "markdown",
   "metadata": {
    "colab_type": "text",
    "id": "D_0GN8JdKBFv"
   },
   "source": [
    "<h2>2. Machine Learning Problem </h2>"
   ]
  },
  {
   "cell_type": "markdown",
   "metadata": {
    "colab_type": "text",
    "id": "RLxlFhM2KBPq"
   },
   "source": [
    "<h2>2.1 Data Format</h2>\n",
    "\n",
    "\n",
    "*   Data will be in a csv file\n",
    "*   Train.csv contains 6 columns : imdb_id, title, plot_synopsis, tags, split, synopsis_source\n",
    "\n",
    "*   Size of Train.csv - 28MB \n",
    "*   Number of rows in Train.csv = 14,828\n",
    "\n",
    "\n",
    "\n",
    "\n"
   ]
  },
  {
   "cell_type": "markdown",
   "metadata": {
    "colab_type": "text",
    "id": "1aMlpLjUKBTE"
   },
   "source": [
    "<h2>2.2 Mapping the real-world problem to a Machine Learning Problem</h2>"
   ]
  },
  {
   "cell_type": "markdown",
   "metadata": {
    "colab_type": "text",
    "id": "R4PG6aJOKBW9"
   },
   "source": [
    "<h2>2.2.1Type of Machine Learning Problem</h2>\n",
    "<ul>\n",
    "<li>It is a multi-label classification problem Multi-label Classification: Multilabel classification assigns to each sample a set of target labels.</li> <li>This can be thought as predicting properties of a data-point that are not mutually exclusive, such as topics that are relevant for a document.</li>\n",
    "</ul>"
   ]
  },
  {
   "cell_type": "markdown",
   "metadata": {
    "colab_type": "text",
    "id": "1Q2rihfySB2n"
   },
   "source": [
    "<h2>2.2.2 Performance metric</h2>                             \n",
    "<ul>\n",
    "<li>\n",
    "Micro-Averaged F1-Score (Mean F Score) : The F1 score can be interpreted as a weighted average of the precision and recall, where an F1 score reaches its best value at 1 and worst score at 0. The relative contribution of precision and recall to the F1 score are equal. <br>\n",
    "The formula for the F1 score is: F1 = 2 * (precision * recall) / (precision +   recall)\n",
    "</li>\n",
    "<li>\n",
    "In the multi-class and multi-label case, this is the weighted average of the F1 score of each class.\n",
    "</li>\n",
    "<li>\n",
    "<b>' Micro f1 score ' : </b><br>\n",
    "Calculate metrics globally by counting the total true positives, false negatives and false positives. This is a better metric when we have class imbalance.</li>\n",
    "<li>\n",
    "<b>'Macro f1 score':</b> <br>\n",
    "Calculate metrics for each label, and find their unweighted mean. This does not take label imbalance into account.\n",
    "</li>\n",
    "</ul>"
   ]
  },
  {
   "cell_type": "markdown",
   "metadata": {
    "colab_type": "text",
    "id": "AZJpNB17SB6N"
   },
   "source": [
    "<h2>3.Exploratory Data Analysis</h2>"
   ]
  },
  {
   "cell_type": "markdown",
   "metadata": {
    "colab_type": "text",
    "id": "SY9GGdWvVRhN"
   },
   "source": [
    "<h2>3.1 Data Loading and Cleaning\n",
    "</h2>"
   ]
  },
  {
   "cell_type": "code",
   "execution_count": 1,
   "metadata": {
    "colab": {
     "base_uri": "https://localhost:8080/",
     "height": 122
    },
    "colab_type": "code",
    "id": "oYk4EDhAVfjd",
    "outputId": "104c153a-1e9b-434f-e063-df70fc0b1f10"
   },
   "outputs": [
    {
     "name": "stdout",
     "output_type": "stream",
     "text": [
      "Go to this URL in a browser: https://accounts.google.com/o/oauth2/auth?client_id=947318989803-6bn6qk8qdgf4n4g3pfee6491hc0brc4i.apps.googleusercontent.com&redirect_uri=urn%3Aietf%3Awg%3Aoauth%3A2.0%3Aoob&scope=email%20https%3A%2F%2Fwww.googleapis.com%2Fauth%2Fdocs.test%20https%3A%2F%2Fwww.googleapis.com%2Fauth%2Fdrive%20https%3A%2F%2Fwww.googleapis.com%2Fauth%2Fdrive.photos.readonly%20https%3A%2F%2Fwww.googleapis.com%2Fauth%2Fpeopleapi.readonly&response_type=code\n",
      "\n",
      "Enter your authorization code:\n",
      "··········\n",
      "Mounted at /content/drive\n"
     ]
    }
   ],
   "source": [
    "from google.colab import drive\n",
    "drive.mount('/content/drive') "
   ]
  },
  {
   "cell_type": "code",
   "execution_count": 0,
   "metadata": {
    "colab": {},
    "colab_type": "code",
    "id": "Ez1Jk2mtOIq5"
   },
   "outputs": [],
   "source": [
    "import warnings\n",
    "warnings.filterwarnings(\"ignore\")\n",
    "import pandas as pd\n",
    "import csv\n",
    "import matplotlib.pyplot as plt\n",
    "import seaborn as sns\n",
    "import numpy as np\n",
    "from wordcloud import WordCloud\n",
    "import datetime as dt\n",
    "from nltk.corpus import stopwords\n",
    "from nltk.tokenize import word_tokenize\n",
    "from nltk.stem.snowball import SnowballStemmer\n",
    "from sklearn.feature_extraction.text import CountVectorizer\n",
    "from sklearn.feature_extraction.text import TfidfVectorizer\n",
    "from sklearn.feature_extraction.text import TfidfTransformer\n",
    "from gensim import models\n",
    "from gensim.models import Word2Vec\n",
    "from gensim.models import KeyedVectors\n",
    "from sklearn.multiclass import OneVsRestClassifier\n",
    "from sklearn.linear_model import SGDClassifier\n",
    "from sklearn.model_selection import GridSearchCV\n",
    "from sklearn import metrics\n",
    "from sklearn.metrics import f1_score,precision_score,recall_score\n",
    "from sklearn.model_selection import train_test_split\n",
    "from sklearn import svm\n",
    "from sklearn.linear_model import LogisticRegression\n",
    "from sklearn.naive_bayes import GaussianNB\n",
    "from datetime import datetime\n",
    "from scipy.sparse import coo_matrix, hstack "
   ]
  },
  {
   "cell_type": "code",
   "execution_count": 0,
   "metadata": {
    "colab": {},
    "colab_type": "code",
    "id": "vHJxJkrfVmby"
   },
   "outputs": [],
   "source": [
    "df= pd.read_csv('drive/My Drive/colab/mpst_full_data.csv',sep=',') "
   ]
  },
  {
   "cell_type": "code",
   "execution_count": 4,
   "metadata": {
    "colab": {
     "base_uri": "https://localhost:8080/",
     "height": 142
    },
    "colab_type": "code",
    "id": "nMrnK2N4V1I0",
    "outputId": "0853ece6-3557-4398-f24d-06b020a3254a"
   },
   "outputs": [
    {
     "data": {
      "text/html": [
       "<div>\n",
       "<style scoped>\n",
       "    .dataframe tbody tr th:only-of-type {\n",
       "        vertical-align: middle;\n",
       "    }\n",
       "\n",
       "    .dataframe tbody tr th {\n",
       "        vertical-align: top;\n",
       "    }\n",
       "\n",
       "    .dataframe thead th {\n",
       "        text-align: right;\n",
       "    }\n",
       "</style>\n",
       "<table border=\"1\" class=\"dataframe\">\n",
       "  <thead>\n",
       "    <tr style=\"text-align: right;\">\n",
       "      <th></th>\n",
       "      <th>imdb_id</th>\n",
       "      <th>title</th>\n",
       "      <th>plot_synopsis</th>\n",
       "      <th>tags</th>\n",
       "      <th>split</th>\n",
       "      <th>synopsis_source</th>\n",
       "    </tr>\n",
       "  </thead>\n",
       "  <tbody>\n",
       "    <tr>\n",
       "      <th>0</th>\n",
       "      <td>tt0057603</td>\n",
       "      <td>I tre volti della paura</td>\n",
       "      <td>Note: this synopsis is for the orginal Italian...</td>\n",
       "      <td>cult, horror, gothic, murder, atmospheric</td>\n",
       "      <td>train</td>\n",
       "      <td>imdb</td>\n",
       "    </tr>\n",
       "    <tr>\n",
       "      <th>1</th>\n",
       "      <td>tt1733125</td>\n",
       "      <td>Dungeons &amp; Dragons: The Book of Vile Darkness</td>\n",
       "      <td>Two thousand years ago, Nhagruul the Foul, a s...</td>\n",
       "      <td>violence</td>\n",
       "      <td>train</td>\n",
       "      <td>imdb</td>\n",
       "    </tr>\n",
       "    <tr>\n",
       "      <th>2</th>\n",
       "      <td>tt0033045</td>\n",
       "      <td>The Shop Around the Corner</td>\n",
       "      <td>Matuschek's, a gift store in Budapest, is the ...</td>\n",
       "      <td>romantic</td>\n",
       "      <td>test</td>\n",
       "      <td>imdb</td>\n",
       "    </tr>\n",
       "  </tbody>\n",
       "</table>\n",
       "</div>"
      ],
      "text/plain": [
       "     imdb_id  ... synopsis_source\n",
       "0  tt0057603  ...            imdb\n",
       "1  tt1733125  ...            imdb\n",
       "2  tt0033045  ...            imdb\n",
       "\n",
       "[3 rows x 6 columns]"
      ]
     },
     "execution_count": 4,
     "metadata": {
      "tags": []
     },
     "output_type": "execute_result"
    }
   ],
   "source": [
    "df.head(3)"
   ]
  },
  {
   "cell_type": "code",
   "execution_count": 5,
   "metadata": {
    "colab": {
     "base_uri": "https://localhost:8080/",
     "height": 34
    },
    "colab_type": "code",
    "id": "l-nNCaHKWcTC",
    "outputId": "d9df9caf-6dcd-4f4d-f07d-4a3d7aa70bd9"
   },
   "outputs": [
    {
     "name": "stdout",
     "output_type": "stream",
     "text": [
      "No of rows and cols in data: (14828, 6)\n"
     ]
    }
   ],
   "source": [
    "print('No of rows and cols in data:',df.shape)"
   ]
  },
  {
   "cell_type": "markdown",
   "metadata": {
    "colab_type": "text",
    "id": "VsDlOmViKZY0"
   },
   "source": [
    "<h2> Checking NaN values </h2>"
   ]
  },
  {
   "cell_type": "code",
   "execution_count": 6,
   "metadata": {
    "colab": {
     "base_uri": "https://localhost:8080/",
     "height": 34
    },
    "colab_type": "code",
    "id": "lXuLpc7FWjli",
    "outputId": "d293e1ca-6808-4bd3-fb0d-50fc7ab93901"
   },
   "outputs": [
    {
     "name": "stdout",
     "output_type": "stream",
     "text": [
      "checking is there any nan values in data :  False\n"
     ]
    }
   ],
   "source": [
    "print('checking is there any nan values in data : ',df.isnull().any().any())\n",
    "#there is no nan values in our data "
   ]
  },
  {
   "cell_type": "markdown",
   "metadata": {
    "colab_type": "text",
    "id": "g1xhfuV0KfRf"
   },
   "source": [
    "<h2>checking Duplicates </h2>"
   ]
  },
  {
   "cell_type": "code",
   "execution_count": 7,
   "metadata": {
    "colab": {
     "base_uri": "https://localhost:8080/",
     "height": 68
    },
    "colab_type": "code",
    "id": "9SnogjEQ4VeR",
    "outputId": "ff4b87eb-ca4f-49f1-9483-419d5d4e0038"
   },
   "outputs": [
    {
     "name": "stdout",
     "output_type": "stream",
     "text": [
      "Duplicates in our data  : 76\n",
      "Before removing duplicates in our data we have : 14828 rows\n",
      "After removing duplicates we have  : 14752 rows\n"
     ]
    }
   ],
   "source": [
    "org_len=len(df) \n",
    "pure_df = df.drop_duplicates(['title','plot_synopsis','tags'])\n",
    "pure_len = len(pure_df)\n",
    "print('Duplicates in our data  :',org_len - pure_len)\n",
    "print('Before removing duplicates in our data we have :',org_len,'rows')\n",
    "print('After removing duplicates we have  :',pure_len,'rows')"
   ]
  },
  {
   "cell_type": "markdown",
   "metadata": {
    "colab_type": "text",
    "id": "jGHKD7ohNm9e"
   },
   "source": [
    "<h2>Analysis of Tags</h2>"
   ]
  },
  {
   "cell_type": "markdown",
   "metadata": {
    "colab_type": "text",
    "id": "Oi8VEuKiK-W0"
   },
   "source": [
    "<h3> checking No of Tags per Movie </h3>"
   ]
  },
  {
   "cell_type": "code",
   "execution_count": 8,
   "metadata": {
    "colab": {
     "base_uri": "https://localhost:8080/",
     "height": 255
    },
    "colab_type": "code",
    "id": "RMqGzgrzKWc_",
    "outputId": "0917e950-868e-40d7-8bca-17488aa53699"
   },
   "outputs": [
    {
     "data": {
      "text/html": [
       "<div>\n",
       "<style scoped>\n",
       "    .dataframe tbody tr th:only-of-type {\n",
       "        vertical-align: middle;\n",
       "    }\n",
       "\n",
       "    .dataframe tbody tr th {\n",
       "        vertical-align: top;\n",
       "    }\n",
       "\n",
       "    .dataframe thead th {\n",
       "        text-align: right;\n",
       "    }\n",
       "</style>\n",
       "<table border=\"1\" class=\"dataframe\">\n",
       "  <thead>\n",
       "    <tr style=\"text-align: right;\">\n",
       "      <th></th>\n",
       "      <th>imdb_id</th>\n",
       "      <th>title</th>\n",
       "      <th>plot_synopsis</th>\n",
       "      <th>tags</th>\n",
       "      <th>split</th>\n",
       "      <th>synopsis_source</th>\n",
       "      <th>tags_count</th>\n",
       "    </tr>\n",
       "  </thead>\n",
       "  <tbody>\n",
       "    <tr>\n",
       "      <th>0</th>\n",
       "      <td>tt0057603</td>\n",
       "      <td>I tre volti della paura</td>\n",
       "      <td>Note: this synopsis is for the orginal Italian...</td>\n",
       "      <td>cult, horror, gothic, murder, atmospheric</td>\n",
       "      <td>train</td>\n",
       "      <td>imdb</td>\n",
       "      <td>5</td>\n",
       "    </tr>\n",
       "    <tr>\n",
       "      <th>1</th>\n",
       "      <td>tt1733125</td>\n",
       "      <td>Dungeons &amp; Dragons: The Book of Vile Darkness</td>\n",
       "      <td>Two thousand years ago, Nhagruul the Foul, a s...</td>\n",
       "      <td>violence</td>\n",
       "      <td>train</td>\n",
       "      <td>imdb</td>\n",
       "      <td>1</td>\n",
       "    </tr>\n",
       "    <tr>\n",
       "      <th>2</th>\n",
       "      <td>tt0033045</td>\n",
       "      <td>The Shop Around the Corner</td>\n",
       "      <td>Matuschek's, a gift store in Budapest, is the ...</td>\n",
       "      <td>romantic</td>\n",
       "      <td>test</td>\n",
       "      <td>imdb</td>\n",
       "      <td>1</td>\n",
       "    </tr>\n",
       "    <tr>\n",
       "      <th>3</th>\n",
       "      <td>tt0113862</td>\n",
       "      <td>Mr. Holland's Opus</td>\n",
       "      <td>Glenn Holland, not a morning person by anyone'...</td>\n",
       "      <td>inspiring, romantic, stupid, feel-good</td>\n",
       "      <td>train</td>\n",
       "      <td>imdb</td>\n",
       "      <td>4</td>\n",
       "    </tr>\n",
       "    <tr>\n",
       "      <th>4</th>\n",
       "      <td>tt0086250</td>\n",
       "      <td>Scarface</td>\n",
       "      <td>In May 1980, a Cuban man named Tony Montana (A...</td>\n",
       "      <td>cruelty, murder, dramatic, cult, violence, atm...</td>\n",
       "      <td>val</td>\n",
       "      <td>imdb</td>\n",
       "      <td>10</td>\n",
       "    </tr>\n",
       "  </tbody>\n",
       "</table>\n",
       "</div>"
      ],
      "text/plain": [
       "     imdb_id  ... tags_count\n",
       "0  tt0057603  ...          5\n",
       "1  tt1733125  ...          1\n",
       "2  tt0033045  ...          1\n",
       "3  tt0113862  ...          4\n",
       "4  tt0086250  ...         10\n",
       "\n",
       "[5 rows x 7 columns]"
      ]
     },
     "execution_count": 8,
     "metadata": {
      "tags": []
     },
     "output_type": "execute_result"
    }
   ],
   "source": [
    "import warnings\n",
    "warnings.filterwarnings(\"ignore\")\n",
    "pure_df[\"tags_count\"] = pure_df[\"tags\"].apply(lambda text: len(text.split(\" \")))\n",
    "pure_df.head(5) "
   ]
  },
  {
   "cell_type": "markdown",
   "metadata": {
    "colab_type": "text",
    "id": "YAmObrzWNyDL"
   },
   "source": [
    "<h3>Minimum and maximum and Average no of Tags per movie </h3>"
   ]
  },
  {
   "cell_type": "code",
   "execution_count": 9,
   "metadata": {
    "colab": {
     "base_uri": "https://localhost:8080/",
     "height": 68
    },
    "colab_type": "code",
    "id": "RaL7eLRcLeqe",
    "outputId": "603c2917-bb8a-4ee1-dbde-08402d433f56"
   },
   "outputs": [
    {
     "name": "stdout",
     "output_type": "stream",
     "text": [
      "Maximum no of tags per movie 27\n",
      "Minimum no of tags per movie 1\n",
      "Avg no of tags per movie: 3.2586090021691976\n"
     ]
    }
   ],
   "source": [
    "print('Maximum no of tags per movie',max(pure_df['tags_count']))\n",
    "print('Minimum no of tags per movie',min(pure_df['tags_count']))\n",
    "print('Avg no of tags per movie:', ((sum(pure_df['tags_count'])*1.0)/len(pure_df['tags_count'])))"
   ]
  },
  {
   "cell_type": "markdown",
   "metadata": {
    "colab_type": "text",
    "id": "60juULq_VAEe"
   },
   "source": [
    "Plotting visually no of tags per movies "
   ]
  },
  {
   "cell_type": "code",
   "execution_count": 10,
   "metadata": {
    "colab": {
     "base_uri": "https://localhost:8080/",
     "height": 295
    },
    "colab_type": "code",
    "id": "6T3ZmWRdRXGR",
    "outputId": "b3224a0d-ea91-444c-af12-e7cb458740c5"
   },
   "outputs": [
    {
     "data": {
      "image/png": "[encoded data removed]",
      "text/plain": [
       "<Figure size 432x288 with 1 Axes>"
      ]
     },
     "metadata": {
      "tags": []
     },
     "output_type": "display_data"
    }
   ],
   "source": [
    "sns.countplot(pure_df['tags_count'], palette='gist_rainbow')\n",
    "plt.title(\"Number of tags in the movies \")\n",
    "plt.xlabel(\"Number of Tags\")\n",
    "plt.ylabel(\"Number of movies\")\n",
    "plt.show()"
   ]
  },
  {
   "cell_type": "markdown",
   "metadata": {
    "colab_type": "text",
    "id": "EUBQTiuUSoSa"
   },
   "source": [
    "Maximum no of tags per movie is 27 <br>\n",
    "Minimum no of tags per movie is 1 <br>\n",
    "Average no of tags per movie is 3 <br>\n",
    "Most of the movies having tags 1 <br>\n",
    "2,3 tags with movies tooks next place "
   ]
  },
  {
   "cell_type": "markdown",
   "metadata": {
    "colab_type": "text",
    "id": "z_SOzXd1N5nm"
   },
   "source": [
    "<h3> Unique No of tags </h3>"
   ]
  },
  {
   "cell_type": "code",
   "execution_count": 11,
   "metadata": {
    "colab": {
     "base_uri": "https://localhost:8080/",
     "height": 51
    },
    "colab_type": "code",
    "id": "EEGXmVJRLewk",
    "outputId": "fa1e7492-507a-4a2d-d826-92e96f7bb996"
   },
   "outputs": [
    {
     "name": "stdout",
     "output_type": "stream",
     "text": [
      "Number of data points : 14752\n",
      "Number of unique tags : 71\n"
     ]
    }
   ],
   "source": [
    "pure_df['tags_2'\n",
    "] = pure_df['tags'].apply(lambda x : x.replace(' ', '').replace(',',' '))\n",
    "vectorizer = CountVectorizer(tokenizer = lambda x: x.split())\n",
    "tags_vect = vectorizer.fit_transform(pure_df['tags_2'])\n",
    "print(\"Number of data points :\", tags_vect.shape[0])\n",
    "print(\"Number of unique tags :\", tags_vect.shape[1])"
   ]
  },
  {
   "cell_type": "code",
   "execution_count": 12,
   "metadata": {
    "colab": {
     "base_uri": "https://localhost:8080/",
     "height": 54
    },
    "colab_type": "code",
    "id": "oVSSJsxiLezj",
    "outputId": "614d57eb-ef30-4798-a8c6-190023e0d21e"
   },
   "outputs": [
    {
     "name": "stdout",
     "output_type": "stream",
     "text": [
      "Some of the unique tags we have : ['absurd', 'action', 'adultcomedy', 'allegory', 'alternatehistory', 'alternatereality', 'antiwar', 'atmospheric', 'autobiographical', 'avantgarde']\n"
     ]
    }
   ],
   "source": [
    "tag_names = vectorizer.get_feature_names()\n",
    "print(\"Some of the unique tags we have :\", tag_names[:10])"
   ]
  },
  {
   "cell_type": "markdown",
   "metadata": {
    "colab_type": "text",
    "id": "Kif6d_jUQpyx"
   },
   "source": [
    "<h3> Number of times a movie tag apperead</h3>"
   ]
  },
  {
   "cell_type": "code",
   "execution_count": 13,
   "metadata": {
    "colab": {
     "base_uri": "https://localhost:8080/",
     "height": 1000
    },
    "colab_type": "code",
    "id": "p6QdCvGGQwN0",
    "outputId": "46ac748a-83cf-44a9-fbeb-3a0abe6a314d"
   },
   "outputs": [
    {
     "data": {
      "text/plain": [
       "{'absurd': 270,\n",
       " 'action': 659,\n",
       " 'adultcomedy': 128,\n",
       " 'allegory': 138,\n",
       " 'alternatehistory': 102,\n",
       " 'alternatereality': 205,\n",
       " 'antiwar': 118,\n",
       " 'atmospheric': 396,\n",
       " 'autobiographical': 44,\n",
       " 'avantgarde': 220,\n",
       " 'blaxploitation': 74,\n",
       " 'bleak': 211,\n",
       " 'boring': 525,\n",
       " 'brainwashing': 107,\n",
       " 'christianfilm': 42,\n",
       " 'claustrophobic': 84,\n",
       " 'clever': 87,\n",
       " 'comedy': 1858,\n",
       " 'comic': 114,\n",
       " 'cruelty': 442,\n",
       " 'cult': 2647,\n",
       " 'cute': 197,\n",
       " 'dark': 405,\n",
       " 'depressing': 205,\n",
       " 'dramatic': 412,\n",
       " 'entertaining': 749,\n",
       " 'fantasy': 544,\n",
       " 'feel-good': 76,\n",
       " 'flashback': 2937,\n",
       " 'goodversusevil': 874,\n",
       " 'gothic': 441,\n",
       " 'grindhousefilm': 66,\n",
       " 'haunting': 149,\n",
       " 'historical': 272,\n",
       " 'historicalfiction': 139,\n",
       " 'homemovie': 153,\n",
       " 'horror': 485,\n",
       " 'humor': 822,\n",
       " 'insanity': 634,\n",
       " 'inspiring': 118,\n",
       " 'intrigue': 168,\n",
       " 'magicalrealism': 54,\n",
       " 'melodrama': 456,\n",
       " 'murder': 5762,\n",
       " 'mystery': 519,\n",
       " 'neonoir': 745,\n",
       " 'nonfiction': 37,\n",
       " 'paranormal': 546,\n",
       " 'philosophical': 228,\n",
       " 'plottwist': 205,\n",
       " 'pornographic': 163,\n",
       " 'prank': 255,\n",
       " 'psychedelic': 1895,\n",
       " 'psychological': 289,\n",
       " 'queer': 98,\n",
       " 'realism': 204,\n",
       " 'revenge': 2462,\n",
       " 'romantic': 2894,\n",
       " 'sadist': 652,\n",
       " 'satire': 815,\n",
       " 'sci-fi': 309,\n",
       " 'sentimental': 233,\n",
       " 'storytelling': 364,\n",
       " 'stupid': 190,\n",
       " 'suicidal': 54,\n",
       " 'suspenseful': 1086,\n",
       " 'thought-provoking': 120,\n",
       " 'tragedy': 585,\n",
       " 'violence': 4420,\n",
       " 'western': 73,\n",
       " 'whimsical': 79}"
      ]
     },
     "execution_count": 13,
     "metadata": {
      "tags": []
     },
     "output_type": "execute_result"
    }
   ],
   "source": [
    "freqs = tags_vect.sum(axis=0).A1\n",
    "result = dict(zip(tag_names, freqs))\n",
    "result"
   ]
  },
  {
   "cell_type": "markdown",
   "metadata": {
    "colab_type": "text",
    "id": "me6hzwIn-iA4"
   },
   "source": [
    "If we observe tags in above dictionary we got same tags with different counts its not duplicate there are some movies which contains same kind tags category or that tag belongs to one of movie sub category "
   ]
  },
  {
   "cell_type": "code",
   "execution_count": 14,
   "metadata": {
    "colab": {
     "base_uri": "https://localhost:8080/",
     "height": 142
    },
    "colab_type": "code",
    "id": "n8B0g7mo5j9Z",
    "outputId": "3e490356-eef1-42ef-96c8-e3b4c0eb3dc3"
   },
   "outputs": [
    {
     "data": {
      "text/html": [
       "<div>\n",
       "<style scoped>\n",
       "    .dataframe tbody tr th:only-of-type {\n",
       "        vertical-align: middle;\n",
       "    }\n",
       "\n",
       "    .dataframe tbody tr th {\n",
       "        vertical-align: top;\n",
       "    }\n",
       "\n",
       "    .dataframe thead th {\n",
       "        text-align: right;\n",
       "    }\n",
       "</style>\n",
       "<table border=\"1\" class=\"dataframe\">\n",
       "  <thead>\n",
       "    <tr style=\"text-align: right;\">\n",
       "      <th></th>\n",
       "      <th>tags</th>\n",
       "      <th>counts</th>\n",
       "    </tr>\n",
       "  </thead>\n",
       "  <tbody>\n",
       "    <tr>\n",
       "      <th>43</th>\n",
       "      <td>murder</td>\n",
       "      <td>5762</td>\n",
       "    </tr>\n",
       "    <tr>\n",
       "      <th>68</th>\n",
       "      <td>violence</td>\n",
       "      <td>4420</td>\n",
       "    </tr>\n",
       "    <tr>\n",
       "      <th>28</th>\n",
       "      <td>flashback</td>\n",
       "      <td>2937</td>\n",
       "    </tr>\n",
       "  </tbody>\n",
       "</table>\n",
       "</div>"
      ],
      "text/plain": [
       "         tags  counts\n",
       "43     murder    5762\n",
       "68   violence    4420\n",
       "28  flashback    2937"
      ]
     },
     "execution_count": 14,
     "metadata": {
      "tags": []
     },
     "output_type": "execute_result"
    }
   ],
   "source": [
    "tags_counts = pd.DataFrame(result.items(),columns=['tags','counts'])\n",
    "tags_sorted = tags_counts.sort_values(['counts'],ascending=False)\n",
    "tags_sorted.head(3)"
   ]
  },
  {
   "cell_type": "markdown",
   "metadata": {
    "colab_type": "text",
    "id": "HLBgkVCzULRQ"
   },
   "source": [
    "<h3> Most frequent tags </h3>"
   ]
  },
  {
   "cell_type": "code",
   "execution_count": 15,
   "metadata": {
    "colab": {
     "base_uri": "https://localhost:8080/",
     "height": 392
    },
    "colab_type": "code",
    "id": "Bimv4uZZT0Z9",
    "outputId": "3e14d721-6072-4687-f9fa-3f605ee13ef3"
   },
   "outputs": [
    {
     "data": {
      "image/png": "[encoded data removed]",
      "text/plain": [
       "<Figure size 720x720 with 1 Axes>"
      ]
     },
     "metadata": {
      "tags": []
     },
     "output_type": "display_data"
    }
   ],
   "source": [
    "# Ploting word cloud\n",
    "# Lets first convert the 'result' dictionary to 'list of tuples'\n",
    "tup = dict(result.items())\n",
    "#Initializing WordCloud using frequencies of tags.\n",
    "wordcloud = WordCloud(    background_color='black',\n",
    "                          width=1600,\n",
    "                          height=800,\n",
    "                    ).generate_from_frequencies(tup)\n",
    "\n",
    "fig = plt.figure(figsize=(10,10))\n",
    "plt.imshow(wordcloud)\n",
    "plt.axis('off')\n",
    "plt.tight_layout(pad=0)\n",
    "fig.savefig(\"tag.png\")\n",
    "plt.show()"
   ]
  },
  {
   "cell_type": "markdown",
   "metadata": {
    "colab_type": "text",
    "id": "Y_57Obu8Uf0S"
   },
   "source": [
    "If we observe above wordcloud most frequent 5 tags are **violance**, **murder**, **cult**, **revenge**, **flashback**"
   ]
  },
  {
   "cell_type": "code",
   "execution_count": 16,
   "metadata": {
    "colab": {
     "base_uri": "https://localhost:8080/",
     "height": 361
    },
    "colab_type": "code",
    "id": "uy1CD1dB4xre",
    "outputId": "36ba399d-d671-41d6-f29b-2ffbeee4c80f"
   },
   "outputs": [
    {
     "data": {
      "image/png": "[encoded data removed]",
      "text/plain": [
       "<Figure size 432x288 with 1 Axes>"
      ]
     },
     "metadata": {
      "tags": []
     },
     "output_type": "display_data"
    }
   ],
   "source": [
    "i=np.arange(30)\n",
    "tags_sorted.head(30).plot(kind='bar')\n",
    "plt.title('Frequency of top 30 tags')\n",
    "plt.xticks(i, tags_sorted['tags'])\n",
    "plt.xlabel('Tags')\n",
    "plt.ylabel('Counts')\n",
    "plt.show()"
   ]
  },
  {
   "cell_type": "markdown",
   "metadata": {
    "colab_type": "text",
    "id": "A_hAhuDH9LkB"
   },
   "source": [
    "Most of the frequent movie tags are **Murder**, **violence**, **cult**, **flashback**, **romantic**, **revenge** <br>\n",
    "\n",
    "\n"
   ]
  },
  {
   "cell_type": "markdown",
   "metadata": {
    "colab_type": "text",
    "id": "kUMbrVN616T1"
   },
   "source": [
    "<h2> Data Cleaning </h2>"
   ]
  },
  {
   "cell_type": "code",
   "execution_count": 0,
   "metadata": {
    "colab": {},
    "colab_type": "code",
    "id": "fHAxQMMY4T7d"
   },
   "outputs": [],
   "source": [
    "# https://stackoverflow.com/a/47091490/4084039\n",
    "import re\n",
    "\n",
    "def decontracted(phrase):\n",
    "    # specific\n",
    "    phrase = re.sub(r\"won't\", \"will not\", phrase)\n",
    "    phrase = re.sub(r\"can\\'t\", \"can not\", phrase)\n",
    "\n",
    "    # general\n",
    "    phrase = re.sub(r\"n\\'t\", \" not\", phrase)\n",
    "    phrase = re.sub(r\"\\'re\", \" are\", phrase)\n",
    "    phrase = re.sub(r\"\\'s\", \" is\", phrase)\n",
    "    phrase = re.sub(r\"\\'d\", \" would\", phrase)\n",
    "    phrase = re.sub(r\"\\'ll\", \" will\", phrase)\n",
    "    phrase = re.sub(r\"\\'t\", \" not\", phrase)\n",
    "    phrase = re.sub(r\"\\'ve\", \" have\", phrase)\n",
    "    phrase = re.sub(r\"\\'m\", \" am\", phrase)\n",
    "    return phrase"
   ]
  },
  {
   "cell_type": "code",
   "execution_count": 0,
   "metadata": {
    "colab": {},
    "colab_type": "code",
    "id": "LQP9FdIfDAoI"
   },
   "outputs": [],
   "source": [
    "stopwords= ['i', 'me', 'my', 'myself', 'we', 'our', 'ours', 'ourselves', 'you', \"you're\", \"you've\",\\\n",
    "            \"you'll\", \"you'd\", 'your', 'yours', 'yourself', 'yourselves', 'he', 'him', 'his', 'himself', \\\n",
    "            'she', \"she's\", 'her', 'hers', 'herself', 'it', \"it's\", 'its', 'itself', 'they', 'them', 'their',\\\n",
    "            'theirs', 'themselves', 'what', 'which', 'who', 'whom', 'this', 'that', \"that'll\", 'these', 'those', \\\n",
    "            'am', 'is', 'are', 'was', 'were', 'be', 'been', 'being', 'have', 'has', 'had', 'having', 'do', 'does', \\\n",
    "            'did', 'doing', 'a', 'an', 'the', 'and', 'but', 'if', 'or', 'because', 'as', 'until', 'while', 'of', \\\n",
    "            'at', 'by', 'for', 'with', 'about', 'against', 'between', 'into', 'through', 'during', 'before', 'after',\\\n",
    "            'above', 'below', 'to', 'from', 'up', 'down', 'in', 'out', 'on', 'off', 'over', 'under', 'again', 'further',\\\n",
    "            'then', 'once', 'here', 'there', 'when', 'where', 'why', 'how', 'all', 'any', 'both', 'each', 'few', 'more',\\\n",
    "            'most', 'other', 'some', 'such', 'only', 'own', 'same', 'so', 'than', 'too', 'very', \\\n",
    "            's', 't', 'can', 'will', 'just', 'don', \"don't\", 'should', \"should've\", 'now', 'd', 'll', 'm', 'o', 're', \\\n",
    "            've', 'y', 'ain', 'aren', \"aren't\", 'couldn', \"couldn't\", 'didn', \"didn't\", 'doesn', \"doesn't\", 'hadn',\\\n",
    "            \"hadn't\", 'hasn', \"hasn't\", 'haven', \"haven't\", 'isn', \"isn't\", 'ma', 'mightn', \"mightn't\", 'mustn',\\\n",
    "            \"mustn't\", 'needn', \"needn't\", 'shan', \"shan't\", 'shouldn', \"shouldn't\", 'wasn', \"wasn't\", 'weren', \"weren't\", \\\n",
    "            'won', \"won't\", 'wouldn', \"wouldn't\"]"
   ]
  },
  {
   "cell_type": "code",
   "execution_count": 0,
   "metadata": {
    "colab": {},
    "colab_type": "code",
    "id": "XKCLjosgUte7"
   },
   "outputs": [],
   "source": [
    "from tqdm import tqdm\n",
    "def preprocess_text(text_data):\n",
    "    preprocessed_text = []\n",
    "    # tqdm is for printing the status bar\n",
    "    for sentance in tqdm(text_data):\n",
    "        sent = decontracted(sentance)\n",
    "        sent = sent.replace('\\\\r', ' ')\n",
    "        sent = sent.replace('\\\\n', ' ')\n",
    "        sent = sent.replace('\\\\\"', ' ')\n",
    "        sent = re.sub('[^A-Za-z0-9]+', ' ', sent)\n",
    "        # https://gist.github.com/sebleier/554280\n",
    "        sent = ' '.join(e for e in sent.split() if e.lower() not in stopwords)\n",
    "        preprocessed_text.append(sent.lower().strip())\n",
    "    return preprocessed_text"
   ]
  },
  {
   "cell_type": "code",
   "execution_count": 21,
   "metadata": {
    "colab": {
     "base_uri": "https://localhost:8080/",
     "height": 193
    },
    "colab_type": "code",
    "id": "C_t13dQMUthj",
    "outputId": "b0910645-7f24-4616-9d65-acaeb3c14120"
   },
   "outputs": [
    {
     "data": {
      "text/html": [
       "<div>\n",
       "<style scoped>\n",
       "    .dataframe tbody tr th:only-of-type {\n",
       "        vertical-align: middle;\n",
       "    }\n",
       "\n",
       "    .dataframe tbody tr th {\n",
       "        vertical-align: top;\n",
       "    }\n",
       "\n",
       "    .dataframe thead th {\n",
       "        text-align: right;\n",
       "    }\n",
       "</style>\n",
       "<table border=\"1\" class=\"dataframe\">\n",
       "  <thead>\n",
       "    <tr style=\"text-align: right;\">\n",
       "      <th></th>\n",
       "      <th>imdb_id</th>\n",
       "      <th>title</th>\n",
       "      <th>plot_synopsis</th>\n",
       "      <th>tags</th>\n",
       "      <th>split</th>\n",
       "      <th>synopsis_source</th>\n",
       "      <th>tags_count</th>\n",
       "      <th>tags_2</th>\n",
       "    </tr>\n",
       "  </thead>\n",
       "  <tbody>\n",
       "    <tr>\n",
       "      <th>0</th>\n",
       "      <td>tt0057603</td>\n",
       "      <td>I tre volti della paura</td>\n",
       "      <td>Note: this synopsis is for the orginal Italian...</td>\n",
       "      <td>cult, horror, gothic, murder, atmospheric</td>\n",
       "      <td>train</td>\n",
       "      <td>imdb</td>\n",
       "      <td>5</td>\n",
       "      <td>cult horror gothic murder atmospheric</td>\n",
       "    </tr>\n",
       "    <tr>\n",
       "      <th>1</th>\n",
       "      <td>tt1733125</td>\n",
       "      <td>Dungeons &amp; Dragons: The Book of Vile Darkness</td>\n",
       "      <td>Two thousand years ago, Nhagruul the Foul, a s...</td>\n",
       "      <td>violence</td>\n",
       "      <td>train</td>\n",
       "      <td>imdb</td>\n",
       "      <td>1</td>\n",
       "      <td>violence</td>\n",
       "    </tr>\n",
       "    <tr>\n",
       "      <th>2</th>\n",
       "      <td>tt0033045</td>\n",
       "      <td>The Shop Around the Corner</td>\n",
       "      <td>Matuschek's, a gift store in Budapest, is the ...</td>\n",
       "      <td>romantic</td>\n",
       "      <td>test</td>\n",
       "      <td>imdb</td>\n",
       "      <td>1</td>\n",
       "      <td>romantic</td>\n",
       "    </tr>\n",
       "  </tbody>\n",
       "</table>\n",
       "</div>"
      ],
      "text/plain": [
       "     imdb_id  ...                                 tags_2\n",
       "0  tt0057603  ...  cult horror gothic murder atmospheric\n",
       "1  tt1733125  ...                               violence\n",
       "2  tt0033045  ...                               romantic\n",
       "\n",
       "[3 rows x 8 columns]"
      ]
     },
     "execution_count": 21,
     "metadata": {
      "tags": []
     },
     "output_type": "execute_result"
    }
   ],
   "source": [
    "pure_df.head(3)"
   ]
  },
  {
   "cell_type": "markdown",
   "metadata": {
    "colab_type": "text",
    "id": "L1dF8-ZUAcPx"
   },
   "source": [
    "We considering only tile ,plot_synopsis, tags for modeling rest of feature are not much useful"
   ]
  },
  {
   "cell_type": "code",
   "execution_count": 20,
   "metadata": {
    "colab": {
     "base_uri": "https://localhost:8080/",
     "height": 51
    },
    "colab_type": "code",
    "id": "HTw1ujECUtkY",
    "outputId": "16515885-911f-451d-a8d4-864cc36089f2"
   },
   "outputs": [
    {
     "name": "stderr",
     "output_type": "stream",
     "text": [
      "100%|██████████| 14752/14752 [00:00<00:00, 52565.63it/s]\n",
      "100%|██████████| 14752/14752 [00:29<00:00, 506.54it/s]\n"
     ]
    }
   ],
   "source": [
    "pure_df['pre_pro_title'] = preprocess_text(pure_df['title'].values)\n",
    "pure_df['pre_pro_plot_synopsis'] = preprocess_text(pure_df['plot_synopsis'].values) "
   ]
  },
  {
   "cell_type": "code",
   "execution_count": 0,
   "metadata": {
    "colab": {},
    "colab_type": "code",
    "id": "oo0TpvjCUtng"
   },
   "outputs": [],
   "source": [
    "pure_df['pre_pro_tags'] = pure_df['tags'].apply(lambda x : x.replace(' ', '').replace(',',' '))"
   ]
  },
  {
   "cell_type": "code",
   "execution_count": 22,
   "metadata": {
    "colab": {
     "base_uri": "https://localhost:8080/",
     "height": 278
    },
    "colab_type": "code",
    "id": "MzW3-JjzUtp_",
    "outputId": "4937632e-ad21-4523-95ce-698614c36942"
   },
   "outputs": [
    {
     "data": {
      "text/html": [
       "<div>\n",
       "<style scoped>\n",
       "    .dataframe tbody tr th:only-of-type {\n",
       "        vertical-align: middle;\n",
       "    }\n",
       "\n",
       "    .dataframe tbody tr th {\n",
       "        vertical-align: top;\n",
       "    }\n",
       "\n",
       "    .dataframe thead th {\n",
       "        text-align: right;\n",
       "    }\n",
       "</style>\n",
       "<table border=\"1\" class=\"dataframe\">\n",
       "  <thead>\n",
       "    <tr style=\"text-align: right;\">\n",
       "      <th></th>\n",
       "      <th>imdb_id</th>\n",
       "      <th>title</th>\n",
       "      <th>plot_synopsis</th>\n",
       "      <th>tags</th>\n",
       "      <th>split</th>\n",
       "      <th>synopsis_source</th>\n",
       "      <th>tags_count</th>\n",
       "      <th>tags_2</th>\n",
       "      <th>pre_pro_title</th>\n",
       "      <th>pre_pro_plot_synopsis</th>\n",
       "      <th>pre_pro_tags</th>\n",
       "    </tr>\n",
       "  </thead>\n",
       "  <tbody>\n",
       "    <tr>\n",
       "      <th>0</th>\n",
       "      <td>tt0057603</td>\n",
       "      <td>I tre volti della paura</td>\n",
       "      <td>Note: this synopsis is for the orginal Italian...</td>\n",
       "      <td>cult, horror, gothic, murder, atmospheric</td>\n",
       "      <td>train</td>\n",
       "      <td>imdb</td>\n",
       "      <td>5</td>\n",
       "      <td>cult horror gothic murder atmospheric</td>\n",
       "      <td>tre volti della paura</td>\n",
       "      <td>note synopsis orginal italian release segments...</td>\n",
       "      <td>cult horror gothic murder atmospheric</td>\n",
       "    </tr>\n",
       "    <tr>\n",
       "      <th>1</th>\n",
       "      <td>tt1733125</td>\n",
       "      <td>Dungeons &amp; Dragons: The Book of Vile Darkness</td>\n",
       "      <td>Two thousand years ago, Nhagruul the Foul, a s...</td>\n",
       "      <td>violence</td>\n",
       "      <td>train</td>\n",
       "      <td>imdb</td>\n",
       "      <td>1</td>\n",
       "      <td>violence</td>\n",
       "      <td>dungeons dragons book vile darkness</td>\n",
       "      <td>two thousand years ago nhagruul foul sorcerer ...</td>\n",
       "      <td>violence</td>\n",
       "    </tr>\n",
       "    <tr>\n",
       "      <th>2</th>\n",
       "      <td>tt0033045</td>\n",
       "      <td>The Shop Around the Corner</td>\n",
       "      <td>Matuschek's, a gift store in Budapest, is the ...</td>\n",
       "      <td>romantic</td>\n",
       "      <td>test</td>\n",
       "      <td>imdb</td>\n",
       "      <td>1</td>\n",
       "      <td>romantic</td>\n",
       "      <td>shop around corner</td>\n",
       "      <td>matuschek gift store budapest workplace alfred...</td>\n",
       "      <td>romantic</td>\n",
       "    </tr>\n",
       "  </tbody>\n",
       "</table>\n",
       "</div>"
      ],
      "text/plain": [
       "     imdb_id  ...                           pre_pro_tags\n",
       "0  tt0057603  ...  cult horror gothic murder atmospheric\n",
       "1  tt1733125  ...                               violence\n",
       "2  tt0033045  ...                               romantic\n",
       "\n",
       "[3 rows x 11 columns]"
      ]
     },
     "execution_count": 22,
     "metadata": {
      "tags": []
     },
     "output_type": "execute_result"
    }
   ],
   "source": [
    "pure_df.head(3)"
   ]
  },
  {
   "cell_type": "markdown",
   "metadata": {
    "colab_type": "text",
    "id": "bzvHhKQ-JbL9"
   },
   "source": [
    "<h3>Converting tags for multilabel problems</h3>"
   ]
  },
  {
   "cell_type": "code",
   "execution_count": 23,
   "metadata": {
    "colab": {
     "base_uri": "https://localhost:8080/",
     "height": 34
    },
    "colab_type": "code",
    "id": "6YKMtM5FUtuw",
    "outputId": "9fb2cbf8-3168-489a-b9dc-ac08f1e1245d"
   },
   "outputs": [
    {
     "data": {
      "text/plain": [
       "(14752, 71)"
      ]
     },
     "execution_count": 23,
     "metadata": {
      "tags": []
     },
     "output_type": "execute_result"
    }
   ],
   "source": [
    "# binary='true' will give a binary vectorizer\n",
    "vectorizer = CountVectorizer(tokenizer = lambda x: x.split(), binary='true')\n",
    "multilabel_y = vectorizer.fit_transform(pure_df['pre_pro_tags'])\n",
    "multilabel_y.shape "
   ]
  },
  {
   "cell_type": "markdown",
   "metadata": {
    "colab_type": "text",
    "id": "pYW7VvlsZX_k"
   },
   "source": [
    "<h3>Here we picking Top_3 and Top_5 tags out of 71 tags and applying different featurizations inspired from research paper \n",
    " </h3>\n",
    "\n",
    "1.   UNI_GRAMS\n",
    "2.   BI_GRAMS\n",
    "3.   TRI_GRAMS\n",
    "4.   CHAR_GRAMS(3,4)\n",
    "5.   UNI + BI + TRI\n",
    "6.   CHAR_3 + CHAR_4\n",
    "7.   UNI + BI + TRI + CHAR_3 + CHAR_4 \n",
    "\n",
    "\n",
    "\n"
   ]
  },
  {
   "cell_type": "code",
   "execution_count": 24,
   "metadata": {
    "colab": {
     "base_uri": "https://localhost:8080/",
     "height": 34
    },
    "colab_type": "code",
    "id": "ii90lGJx26Ws",
    "outputId": "d94d7cf6-c28d-44c9-e775-5a8b23778c30"
   },
   "outputs": [
    {
     "data": {
      "text/plain": [
       "(14752, 3)"
      ]
     },
     "execution_count": 24,
     "metadata": {
      "tags": []
     },
     "output_type": "execute_result"
    }
   ],
   "source": [
    "#top-3 tags \n",
    "#Refer above research paper we first analysis on top 3 tags \n",
    "vectorizer = CountVectorizer(tokenizer = lambda x: x.split(), binary='true',max_features=3)\n",
    "multilabel_y3 = vectorizer.fit_transform(pure_df['pre_pro_tags'])\n",
    "multilabel_y3.shape "
   ]
  },
  {
   "cell_type": "markdown",
   "metadata": {
    "colab_type": "text",
    "id": "6fZjvhfR3kTA"
   },
   "source": [
    "<h3>3_Tags Data</h2>"
   ]
  },
  {
   "cell_type": "code",
   "execution_count": 0,
   "metadata": {
    "colab": {},
    "colab_type": "code",
    "id": "uvLNJOhoJj3q"
   },
   "outputs": [],
   "source": [
    "X = pure_df.drop(['pre_pro_tags'],axis=1) \n",
    "Y = multilabel_y3 "
   ]
  },
  {
   "cell_type": "code",
   "execution_count": 0,
   "metadata": {
    "colab": {},
    "colab_type": "code",
    "id": "Sv6KTh_2G7iX"
   },
   "outputs": [],
   "source": [
    "x_train_data, x_test_3, y_train_data, y_test_3 = train_test_split(X, Y, test_size=0.20, random_state=42) "
   ]
  },
  {
   "cell_type": "code",
   "execution_count": 0,
   "metadata": {
    "colab": {},
    "colab_type": "code",
    "id": "1w4ja-ktidCB"
   },
   "outputs": [],
   "source": [
    "x_train_3, x_cv_3, y_train_3, y_cv_3 = train_test_split(x_train_data, y_train_data, test_size=0.20, random_state=42)"
   ]
  },
  {
   "cell_type": "code",
   "execution_count": 28,
   "metadata": {
    "colab": {
     "base_uri": "https://localhost:8080/",
     "height": 68
    },
    "colab_type": "code",
    "id": "gSsbdG9pG7lb",
    "outputId": "ecff817c-27aa-4584-c82c-16fd1d273ae0"
   },
   "outputs": [
    {
     "name": "stdout",
     "output_type": "stream",
     "text": [
      "train_data shape (9440, 10) (9440, 3)\n",
      "train_data shape (2361, 10) (2361, 3)\n",
      "test_data shape (2951, 10) (2951, 3)\n"
     ]
    }
   ],
   "source": [
    "print('train_data shape',x_train_3.shape,y_train_3.shape)\n",
    "print('train_data shape',x_cv_3.shape,y_cv_3.shape)\n",
    "print('test_data shape',x_test_3.shape,y_test_3.shape)"
   ]
  },
  {
   "cell_type": "markdown",
   "metadata": {
    "colab_type": "text",
    "id": "AYlp38JTKGfd"
   },
   "source": [
    "<h2>Applying Bow Uni Grams on Top 3-Tags Data </h2>\n"
   ]
  },
  {
   "cell_type": "code",
   "execution_count": 29,
   "metadata": {
    "colab": {
     "base_uri": "https://localhost:8080/",
     "height": 102
    },
    "colab_type": "code",
    "id": "_HCx8tajG7qP",
    "outputId": "9e8a44a4-0d43-4995-bb49-14ce7d288b10"
   },
   "outputs": [
    {
     "name": "stdout",
     "output_type": "stream",
     "text": [
      "bow_train data (9440, 10000) (9440, 3)\n",
      "bow_cv data (2361, 10000) (2361, 3)\n",
      "bow_test data (2951, 10000) (2951, 3)\n",
      "CPU times: user 5.36 s, sys: 60.6 ms, total: 5.42 s\n",
      "Wall time: 5.42 s\n"
     ]
    }
   ],
   "source": [
    "%%time\n",
    "vectorizer = CountVectorizer(min_df=10,max_features=10000)\n",
    "xb_train_multilabel_3 = vectorizer.fit_transform(x_train_3['pre_pro_plot_synopsis'])\n",
    "xb_cv_multilabel_3 = vectorizer.transform(x_cv_3['pre_pro_plot_synopsis'])\n",
    "xb_test_multilabel_3 = vectorizer.transform(x_test_3['pre_pro_plot_synopsis'])\n",
    "\n",
    "print('bow_train data',xb_train_multilabel_3.shape,y_train_3.shape)\n",
    "print('bow_cv data',xb_cv_multilabel_3.shape,y_cv_3.shape)\n",
    "print('bow_test data',xb_test_multilabel_3.shape,y_test_3.shape)"
   ]
  },
  {
   "cell_type": "markdown",
   "metadata": {
    "colab_type": "text",
    "id": "qb4bedjY8f4q"
   },
   "source": [
    "<h2>Applying Bow Bi Grams on Top 3-Tags Data </h2>\n"
   ]
  },
  {
   "cell_type": "code",
   "execution_count": 30,
   "metadata": {
    "colab": {
     "base_uri": "https://localhost:8080/",
     "height": 102
    },
    "colab_type": "code",
    "id": "vE4jkuqa8gKB",
    "outputId": "2bad9c7b-a2a3-48c1-85bd-069d90ea6d77"
   },
   "outputs": [
    {
     "name": "stdout",
     "output_type": "stream",
     "text": [
      "bow_train data (9440, 10000) (9440, 3)\n",
      "bow_cv data (2361, 10000) (2361, 3)\n",
      "bow_test data (2951, 10000) (2951, 3)\n",
      "CPU times: user 23.2 s, sys: 629 ms, total: 23.8 s\n",
      "Wall time: 23.8 s\n"
     ]
    }
   ],
   "source": [
    "%%time\n",
    "vectorizer = CountVectorizer(ngram_range=(2,2),min_df=10,max_features=10000)\n",
    "xb2_train_multilabel_3 = vectorizer.fit_transform(x_train_3['pre_pro_plot_synopsis'])\n",
    "xb2_cv_multilabel_3 = vectorizer.transform(x_cv_3['pre_pro_plot_synopsis'])\n",
    "xb2_test_multilabel_3 = vectorizer.transform(x_test_3['pre_pro_plot_synopsis'])\n",
    "\n",
    "print('bow_train data',xb2_train_multilabel_3.shape,y_train_3.shape)\n",
    "print('bow_cv data',xb2_cv_multilabel_3.shape,y_cv_3.shape)\n",
    "print('bow_test data',xb2_test_multilabel_3.shape,y_test_3.shape)"
   ]
  },
  {
   "cell_type": "markdown",
   "metadata": {
    "colab_type": "text",
    "id": "1eDzTVvg9QN_"
   },
   "source": [
    "<h2>Applying Bow Tri Grams on Top 3-Tags Data </h2>\n",
    "\n"
   ]
  },
  {
   "cell_type": "code",
   "execution_count": 31,
   "metadata": {
    "colab": {
     "base_uri": "https://localhost:8080/",
     "height": 102
    },
    "colab_type": "code",
    "id": "bGFxv65G9QbK",
    "outputId": "fcb743d1-07a3-4fdb-d392-269ffc3c5934"
   },
   "outputs": [
    {
     "name": "stdout",
     "output_type": "stream",
     "text": [
      "bow_train data (9440, 987) (9440, 3)\n",
      "bow_cv data (2361, 987) (2361, 3)\n",
      "bow_test data (2951, 987) (2951, 3)\n",
      "CPU times: user 30.1 s, sys: 584 ms, total: 30.7 s\n",
      "Wall time: 30.7 s\n"
     ]
    }
   ],
   "source": [
    "%%time\n",
    "vectorizer = CountVectorizer(ngram_range=(3,3),min_df=10,max_features=10000)\n",
    "xb3_train_multilabel_3 = vectorizer.fit_transform(x_train_3['pre_pro_plot_synopsis'])\n",
    "xb3_cv_multilabel_3 = vectorizer.transform(x_cv_3['pre_pro_plot_synopsis'])\n",
    "xb3_test_multilabel_3 = vectorizer.transform(x_test_3['pre_pro_plot_synopsis'])\n",
    "\n",
    "print('bow_train data',xb3_train_multilabel_3.shape,y_train_3.shape)\n",
    "print('bow_cv data',xb3_cv_multilabel_3.shape,y_cv_3.shape)\n",
    "print('bow_test data',xb3_test_multilabel_3.shape,y_test_3.shape)"
   ]
  },
  {
   "cell_type": "markdown",
   "metadata": {
    "colab_type": "text",
    "id": "UIvkdBKr-BVX"
   },
   "source": [
    "<h2>Applying Bow Char 3 Grams on Top 3-Tags Data </h2>\n"
   ]
  },
  {
   "cell_type": "code",
   "execution_count": 32,
   "metadata": {
    "colab": {
     "base_uri": "https://localhost:8080/",
     "height": 102
    },
    "colab_type": "code",
    "id": "tua7eKwr-Bdr",
    "outputId": "3f2ec023-d289-4965-ae7b-ba9484488b16"
   },
   "outputs": [
    {
     "name": "stdout",
     "output_type": "stream",
     "text": [
      "bow_train data (9440, 8046) (9440, 3)\n",
      "bow_cv data (2361, 8046) (2361, 3)\n",
      "bow_test data (2951, 8046) (2951, 3)\n",
      "CPU times: user 24.7 s, sys: 51.6 ms, total: 24.8 s\n",
      "Wall time: 24.8 s\n"
     ]
    }
   ],
   "source": [
    "%%time\n",
    "vectorizer = CountVectorizer(ngram_range=(3,3),analyzer='char',min_df=10,max_features=10000)\n",
    "xbc_train_multilabel_3 = vectorizer.fit_transform(x_train_3['pre_pro_plot_synopsis'])\n",
    "xbc_cv_multilabel_3 = vectorizer.transform(x_cv_3['pre_pro_plot_synopsis'])\n",
    "xbc_test_multilabel_3 = vectorizer.transform(x_test_3['pre_pro_plot_synopsis'])\n",
    "\n",
    "print('bow_train data',xbc_train_multilabel_3.shape,y_train_3.shape)\n",
    "print('bow_cv data',xbc_cv_multilabel_3.shape,y_cv_3.shape)\n",
    "print('bow_test data',xbc_test_multilabel_3.shape,y_test_3.shape)"
   ]
  },
  {
   "cell_type": "markdown",
   "metadata": {
    "colab_type": "text",
    "id": "9LOxHLOR-xjs"
   },
   "source": [
    "<h2>Applying Bow Char 4  Grams on Top 3-Tags Data </h2>\n"
   ]
  },
  {
   "cell_type": "code",
   "execution_count": 33,
   "metadata": {
    "colab": {
     "base_uri": "https://localhost:8080/",
     "height": 102
    },
    "colab_type": "code",
    "id": "FmVgvFGR-yFS",
    "outputId": "b518bee6-eb6b-4e26-9528-48c44c1bb619"
   },
   "outputs": [
    {
     "name": "stdout",
     "output_type": "stream",
     "text": [
      "bow_train data (9440, 10000) (9440, 3)\n",
      "bow_cv data (2361, 10000) (2361, 3)\n",
      "bow_test data (2951, 10000) (2951, 3)\n",
      "CPU times: user 29.4 s, sys: 37.9 ms, total: 29.4 s\n",
      "Wall time: 29.4 s\n"
     ]
    }
   ],
   "source": [
    "%%time\n",
    "vectorizer = CountVectorizer(ngram_range=(4,4),analyzer='char',min_df=10,max_features=10000)\n",
    "xbs_train_multilabel_3 = vectorizer.fit_transform(x_train_3['pre_pro_plot_synopsis'])\n",
    "xbs_cv_multilabel_3 = vectorizer.transform(x_cv_3['pre_pro_plot_synopsis'])\n",
    "xbs_test_multilabel_3 = vectorizer.transform(x_test_3['pre_pro_plot_synopsis'])\n",
    "\n",
    "print('bow_train data',xbs_train_multilabel_3.shape,y_train_3.shape)\n",
    "print('bow_cv data',xbs_cv_multilabel_3.shape,y_cv_3.shape)\n",
    "print('bow_test data',xbs_test_multilabel_3.shape,y_test_3.shape)"
   ]
  },
  {
   "cell_type": "markdown",
   "metadata": {
    "colab_type": "text",
    "id": "K1bDwXSgUon_"
   },
   "source": [
    "<h3>BOW UNI + BI + TRI grams</h3> "
   ]
  },
  {
   "cell_type": "code",
   "execution_count": 0,
   "metadata": {
    "colab": {},
    "colab_type": "code",
    "id": "KOACnqlcUOal"
   },
   "outputs": [],
   "source": [
    "bow_tr_uni_bi_3 = hstack((xb_train_multilabel_3,xb2_train_multilabel_3),format='csr',dtype='float64')\n",
    "bow_cv_uni_bi_3 = hstack((xb_cv_multilabel_3,xb2_cv_multilabel_3),format='csr',dtype='float64')\n",
    "bow_te_uni_bi_3 = hstack((xb_test_multilabel_3,xb2_test_multilabel_3),format='csr',dtype='float64')\n",
    "\n",
    "bow_tr_uni_bi_tri_3 = hstack((bow_tr_uni_bi_3,xb3_train_multilabel_3),format='csr',dtype='float64')\n",
    "bow_cv_uni_bi_tri_3 = hstack((bow_cv_uni_bi_3,xb3_cv_multilabel_3),format='csr',dtype='float64')\n",
    "bow_te_uni_bi_tri_3 = hstack((bow_te_uni_bi_3,xb3_test_multilabel_3),format='csr',dtype='float64')"
   ]
  },
  {
   "cell_type": "markdown",
   "metadata": {
    "colab_type": "text",
    "id": "hxh4yPQQWLYX"
   },
   "source": [
    "<h3>BOw Char 3 + Char 4 Grams </h3>"
   ]
  },
  {
   "cell_type": "code",
   "execution_count": 0,
   "metadata": {
    "colab": {},
    "colab_type": "code",
    "id": "h_KbIs7xWKul"
   },
   "outputs": [],
   "source": [
    "bow_tr_c3_c4_3 = hstack((xbc_train_multilabel_3,xbs_train_multilabel_3),format='csr',dtype='float64')\n",
    "bow_cv_c3_c4_3 = hstack((xbc_cv_multilabel_3,xbs_cv_multilabel_3),format='csr',dtype='float64')\n",
    "bow_te_c3_c4_3 = hstack((xbc_test_multilabel_3,xbs_test_multilabel_3),format='csr',dtype='float64') "
   ]
  },
  {
   "cell_type": "markdown",
   "metadata": {
    "colab_type": "text",
    "id": "4IMPLLq1WlQy"
   },
   "source": [
    "<h3>Bow UNI + BI + TRI + C3 + C4 Grams</h3>"
   ]
  },
  {
   "cell_type": "code",
   "execution_count": 0,
   "metadata": {
    "colab": {},
    "colab_type": "code",
    "id": "ROwnn9JPWlip"
   },
   "outputs": [],
   "source": [
    "bow_tr_u_b_t_c3_c4_3 = hstack((bow_tr_uni_bi_tri_3,bow_tr_c3_c4_3),format='csr',dtype='float64') \n",
    "bow_cv_u_b_t_c3_c4_3 = hstack((bow_cv_uni_bi_tri_3,bow_cv_c3_c4_3),format='csr',dtype='float64') \n",
    "bow_te_u_b_t_c3_c4_3 = hstack((bow_te_uni_bi_tri_3,bow_te_c3_c4_3),format='csr',dtype='float64') "
   ]
  },
  {
   "cell_type": "markdown",
   "metadata": {
    "colab_type": "text",
    "id": "_hJPoNlK3otd"
   },
   "source": [
    "<h3> BOW 5_Tags Data</h3>"
   ]
  },
  {
   "cell_type": "code",
   "execution_count": 37,
   "metadata": {
    "colab": {
     "base_uri": "https://localhost:8080/",
     "height": 34
    },
    "colab_type": "code",
    "id": "r-RSL2qM3o4V",
    "outputId": "70993985-94e1-4a9a-926b-e9db77be059e"
   },
   "outputs": [
    {
     "data": {
      "text/plain": [
       "(14752, 5)"
      ]
     },
     "execution_count": 37,
     "metadata": {
      "tags": []
     },
     "output_type": "execute_result"
    }
   ],
   "source": [
    "#top-5 tags \n",
    "#Refer above research paper we second we analysis on top 5 tags \n",
    "vectorizer = CountVectorizer(tokenizer = lambda x: x.split(), binary='true',max_features=5)\n",
    "multilabel_y5 = vectorizer.fit_transform(pure_df['pre_pro_tags'])\n",
    "multilabel_y5.shape "
   ]
  },
  {
   "cell_type": "code",
   "execution_count": 0,
   "metadata": {
    "colab": {},
    "colab_type": "code",
    "id": "4OVuBr1I4UGR"
   },
   "outputs": [],
   "source": [
    "X2 = pure_df.drop(['pre_pro_tags'],axis=1) \n",
    "Y2 = multilabel_y5 "
   ]
  },
  {
   "cell_type": "code",
   "execution_count": 39,
   "metadata": {
    "colab": {
     "base_uri": "https://localhost:8080/",
     "height": 68
    },
    "colab_type": "code",
    "id": "FETAlmRm5YhE",
    "outputId": "7a7e1a1c-f33b-4b3a-ca79-ec05c5d7e19c"
   },
   "outputs": [
    {
     "name": "stdout",
     "output_type": "stream",
     "text": [
      "train_data shape (9440, 10) (9440, 5)\n",
      "train_data shape (2361, 10) (2361, 5)\n",
      "test_data shape (2951, 10) (2951, 5)\n"
     ]
    }
   ],
   "source": [
    "#test data \n",
    "x_train_data, x_test_5, y_train_data, y_test_5 = train_test_split(X2, Y2, test_size=0.20, random_state=42) \n",
    "#Train and  CV\n",
    "x_train_5, x_cv_5, y_train_5, y_cv_5 = train_test_split(x_train_data, y_train_data, test_size=0.20, random_state=42)\n",
    "\n",
    "print('train_data shape',x_train_5.shape,y_train_5.shape)\n",
    "print('train_data shape',x_cv_5.shape,y_cv_5.shape)\n",
    "print('test_data shape',x_test_5.shape,y_test_5.shape)"
   ]
  },
  {
   "cell_type": "markdown",
   "metadata": {
    "colab_type": "text",
    "id": "Qgy11LXQ7591"
   },
   "source": [
    "<h2>Applying Bow Uni Grams on 5-Tags Data </h2>\n"
   ]
  },
  {
   "cell_type": "code",
   "execution_count": 40,
   "metadata": {
    "colab": {
     "base_uri": "https://localhost:8080/",
     "height": 102
    },
    "colab_type": "code",
    "id": "DpoTsqyO7Y-_",
    "outputId": "4e772190-c406-4b21-c305-7072283943ba"
   },
   "outputs": [
    {
     "name": "stdout",
     "output_type": "stream",
     "text": [
      "bow_train data (9440, 10000) (9440, 5)\n",
      "bow_cv data (2361, 10000) (2361, 5)\n",
      "bow_test data (2951, 10000) (2951, 5)\n",
      "CPU times: user 5.34 s, sys: 16.9 ms, total: 5.36 s\n",
      "Wall time: 5.36 s\n"
     ]
    }
   ],
   "source": [
    "%%time\n",
    "vectorizer = CountVectorizer(min_df=10,max_features=10000)\n",
    "xb_train_multilabel_5 = vectorizer.fit_transform(x_train_5['pre_pro_plot_synopsis'])\n",
    "xb_cv_multilabel_5 = vectorizer.transform(x_cv_5['pre_pro_plot_synopsis'])\n",
    "xb_test_multilabel_5 = vectorizer.transform(x_test_5['pre_pro_plot_synopsis'])\n",
    "\n",
    "print('bow_train data',xb_train_multilabel_5.shape,y_train_5.shape)\n",
    "print('bow_cv data',xb_cv_multilabel_5.shape,y_cv_5.shape)\n",
    "print('bow_test data',xb_test_multilabel_5.shape,y_test_5.shape)"
   ]
  },
  {
   "cell_type": "markdown",
   "metadata": {
    "colab_type": "text",
    "id": "MGiCJmIJBPxn"
   },
   "source": [
    "<h2>Applying Bow Bi Grams on 5-Tags Data </h2>"
   ]
  },
  {
   "cell_type": "code",
   "execution_count": 0,
   "metadata": {
    "colab": {},
    "colab_type": "code",
    "id": "WnfNdX1cAGlV"
   },
   "outputs": [],
   "source": [
    "%%time\n",
    "vectorizer = CountVectorizer(ngram_range=(2,2),min_df=10,max_features=10000)\n",
    "xb2_train_multilabel_5 = vectorizer.fit_transform(x_train_5['pre_pro_plot_synopsis'])\n",
    "xb2_cv_multilabel_5 = vectorizer.transform(x_cv_5['pre_pro_plot_synopsis'])\n",
    "xb2_test_multilabel_5 = vectorizer.transform(x_test_5['pre_pro_plot_synopsis'])\n",
    "\n",
    "print('bow_train data',xb2_train_multilabel_5.shape,y_train_5.shape)\n",
    "print('bow_cv data',xb2_cv_multilabel_5.shape,y_cv_5.shape)\n",
    "print('bow_test data',xb2_test_multilabel_5.shape,y_test_5.shape)"
   ]
  },
  {
   "cell_type": "markdown",
   "metadata": {
    "colab_type": "text",
    "id": "Q10QzIuqBS3Q"
   },
   "source": [
    "<h2>Applying Bow Tri Grams on 5-Tags Data </h2>"
   ]
  },
  {
   "cell_type": "code",
   "execution_count": 42,
   "metadata": {
    "colab": {
     "base_uri": "https://localhost:8080/",
     "height": 102
    },
    "colab_type": "code",
    "id": "MEoaUAo2AHTo",
    "outputId": "3619cf4f-b764-4631-88fc-3527cbf0d60e"
   },
   "outputs": [
    {
     "name": "stdout",
     "output_type": "stream",
     "text": [
      "bow_train data (9440, 987) (9440, 5)\n",
      "bow_cv data (2361, 987) (2361, 5)\n",
      "bow_test data (2951, 987) (2951, 5)\n",
      "CPU times: user 28.8 s, sys: 492 ms, total: 29.3 s\n",
      "Wall time: 29.4 s\n"
     ]
    }
   ],
   "source": [
    "%%time\n",
    "vectorizer = CountVectorizer(ngram_range=(3,3),min_df=10,max_features=10000)\n",
    "xb3_train_multilabel_5 = vectorizer.fit_transform(x_train_5['pre_pro_plot_synopsis'])\n",
    "xb3_cv_multilabel_5 = vectorizer.transform(x_cv_5['pre_pro_plot_synopsis'])\n",
    "xb3_test_multilabel_5 = vectorizer.transform(x_test_5['pre_pro_plot_synopsis'])\n",
    "\n",
    "print('bow_train data',xb3_train_multilabel_5.shape,y_train_5.shape)\n",
    "print('bow_cv data',xb3_cv_multilabel_5.shape,y_cv_5.shape)\n",
    "print('bow_test data',xb3_test_multilabel_5.shape,y_test_5.shape)"
   ]
  },
  {
   "cell_type": "markdown",
   "metadata": {
    "colab_type": "text",
    "id": "9fTSQAq6BVVx"
   },
   "source": [
    "<h2>Applying Bow Char 3 Grams on 5-Tags Data </h2>"
   ]
  },
  {
   "cell_type": "code",
   "execution_count": 43,
   "metadata": {
    "colab": {
     "base_uri": "https://localhost:8080/",
     "height": 102
    },
    "colab_type": "code",
    "id": "_vFVV9_yAHiT",
    "outputId": "3dc2c376-fb17-4e5d-999b-71e1d21f08c0"
   },
   "outputs": [
    {
     "name": "stdout",
     "output_type": "stream",
     "text": [
      "bow_train data (9440, 8046) (9440, 5)\n",
      "bow_cv data (2361, 8046) (2361, 5)\n",
      "bow_test data (2951, 8046) (2951, 5)\n",
      "CPU times: user 24.8 s, sys: 36.5 ms, total: 24.9 s\n",
      "Wall time: 24.9 s\n"
     ]
    }
   ],
   "source": [
    "%%time\n",
    "vectorizer = CountVectorizer(ngram_range=(3,3),analyzer='char',min_df=10,max_features=10000)\n",
    "xbc_train_multilabel_5 = vectorizer.fit_transform(x_train_5['pre_pro_plot_synopsis'])\n",
    "xbc_cv_multilabel_5 = vectorizer.transform(x_cv_5['pre_pro_plot_synopsis'])\n",
    "xbc_test_multilabel_5 = vectorizer.transform(x_test_5['pre_pro_plot_synopsis'])\n",
    "\n",
    "print('bow_train data',xbc_train_multilabel_5.shape,y_train_5.shape)\n",
    "print('bow_cv data',xbc_cv_multilabel_5.shape,y_cv_5.shape)\n",
    "print('bow_test data',xbc_test_multilabel_5.shape,y_test_5.shape)"
   ]
  },
  {
   "cell_type": "markdown",
   "metadata": {
    "colab_type": "text",
    "id": "UZwLjZA1BXbl"
   },
   "source": [
    "<h2>Applying Bow Char 4 Grams on 5-Tags Data </h2>"
   ]
  },
  {
   "cell_type": "code",
   "execution_count": 44,
   "metadata": {
    "colab": {
     "base_uri": "https://localhost:8080/",
     "height": 102
    },
    "colab_type": "code",
    "id": "cjlZrS2FAHsy",
    "outputId": "90b7eef6-3b85-4f06-9b4c-733b089ff964"
   },
   "outputs": [
    {
     "name": "stdout",
     "output_type": "stream",
     "text": [
      "bow_train data (9440, 10000) (9440, 5)\n",
      "bow_cv data (2361, 10000) (2361, 5)\n",
      "bow_test data (2951, 10000) (2951, 5)\n",
      "CPU times: user 29.5 s, sys: 26.4 ms, total: 29.5 s\n",
      "Wall time: 29.5 s\n"
     ]
    }
   ],
   "source": [
    "%%time\n",
    "vectorizer = CountVectorizer(ngram_range=(4,4),analyzer='char',min_df=10,max_features=10000)\n",
    "xbs_train_multilabel_5 = vectorizer.fit_transform(x_train_5['pre_pro_plot_synopsis'])\n",
    "xbs_cv_multilabel_5 = vectorizer.transform(x_cv_5['pre_pro_plot_synopsis'])\n",
    "xbs_test_multilabel_5 = vectorizer.transform(x_test_5['pre_pro_plot_synopsis'])\n",
    "\n",
    "print('bow_train data',xbs_train_multilabel_5.shape,y_train_5.shape)\n",
    "print('bow_cv data',xbs_cv_multilabel_5.shape,y_cv_5.shape)\n",
    "print('bow_test data',xbs_test_multilabel_5.shape,y_test_5.shape)"
   ]
  },
  {
   "cell_type": "markdown",
   "metadata": {
    "colab_type": "text",
    "id": "ZPcjsjaoYDgD"
   },
   "source": [
    "<h3>BOW_5 UNI + BI + TRI </h3>"
   ]
  },
  {
   "cell_type": "code",
   "execution_count": 0,
   "metadata": {
    "colab": {},
    "colab_type": "code",
    "id": "Pkxy8XAtXROI"
   },
   "outputs": [],
   "source": [
    "bow_tr_uni_bi_5 = hstack((xb_train_multilabel_5,xb2_train_multilabel_5),format='csr',dtype='float64')\n",
    "bow_cv_uni_bi_5 = hstack((xb_cv_multilabel_5,xb2_cv_multilabel_5),format='csr',dtype='float64')\n",
    "bow_te_uni_bi_5 = hstack((xb_test_multilabel_5,xb2_test_multilabel_5),format='csr',dtype='float64')\n",
    "\n",
    "bow_tr_uni_bi_tri_5 = hstack((bow_tr_uni_bi_5,xb3_train_multilabel_5),format='csr',dtype='float64')\n",
    "bow_cv_uni_bi_tri_5 = hstack((bow_cv_uni_bi_5,xb3_cv_multilabel_5),format='csr',dtype='float64')\n",
    "bow_te_uni_bi_tri_5 = hstack((bow_te_uni_bi_5,xb3_test_multilabel_5),format='csr',dtype='float64')"
   ]
  },
  {
   "cell_type": "markdown",
   "metadata": {
    "colab_type": "text",
    "id": "1E0oMM3SYJ_v"
   },
   "source": [
    "<h3> BOW_5 C3 + C4 </h3>"
   ]
  },
  {
   "cell_type": "code",
   "execution_count": 0,
   "metadata": {
    "colab": {},
    "colab_type": "code",
    "id": "LX4opMoQXReP"
   },
   "outputs": [],
   "source": [
    "bow_tr_c3_c4_5 = hstack((xbc_train_multilabel_5,xbs_train_multilabel_5),format='csr',dtype='float64')\n",
    "bow_cv_c3_c4_5 = hstack((xbc_cv_multilabel_5,xbs_cv_multilabel_5),format='csr',dtype='float64')\n",
    "bow_te_c3_c4_5 = hstack((xbc_test_multilabel_5,xbs_test_multilabel_5),format='csr',dtype='float64') "
   ]
  },
  {
   "cell_type": "markdown",
   "metadata": {
    "colab_type": "text",
    "id": "Je5jwVNFYSq9"
   },
   "source": [
    "<h3> BOW_5 UNI + BI + TRI + C3 + C4 </h3>"
   ]
  },
  {
   "cell_type": "code",
   "execution_count": 0,
   "metadata": {
    "colab": {},
    "colab_type": "code",
    "id": "841Wlp0nXRn8"
   },
   "outputs": [],
   "source": [
    "bow_tr_u_b_t_c3_c4_5 = hstack((bow_tr_uni_bi_tri_5,bow_tr_c3_c4_5),format='csr',dtype='float64') \n",
    "bow_cv_u_b_t_c3_c4_5 = hstack((bow_cv_uni_bi_tri_5,bow_cv_c3_c4_5),format='csr',dtype='float64') \n",
    "bow_te_u_b_t_c3_c4_5 = hstack((bow_te_uni_bi_tri_5,bow_te_c3_c4_5),format='csr',dtype='float64') "
   ]
  },
  {
   "cell_type": "markdown",
   "metadata": {
    "colab_type": "text",
    "id": "L409kpx6Mz7c"
   },
   "source": [
    "<h2>Applying TFIDF vectorizer on 3-Tag data </h2>"
   ]
  },
  {
   "cell_type": "code",
   "execution_count": 48,
   "metadata": {
    "colab": {
     "base_uri": "https://localhost:8080/",
     "height": 102
    },
    "colab_type": "code",
    "id": "zMmUf1ylG7s1",
    "outputId": "44e968ea-b72d-427f-8e03-e0201c13a723"
   },
   "outputs": [
    {
     "name": "stdout",
     "output_type": "stream",
     "text": [
      "tfidf_train data (9440, 10000) (9440, 3)\n",
      "tfidf_cv data (2361, 10000) (2361, 3)\n",
      "tfidf_test data (2951, 10000) (2951, 3)\n",
      "CPU times: user 5.5 s, sys: 12.9 ms, total: 5.52 s\n",
      "Wall time: 5.53 s\n"
     ]
    }
   ],
   "source": [
    "%%time\n",
    "tf_idf_vect  = TfidfVectorizer(max_features=10000)\n",
    "xt_train_multilabel_3 = tf_idf_vect.fit_transform(x_train_3['pre_pro_plot_synopsis'])\n",
    "xt_cv_multilabel_3 = tf_idf_vect.transform(x_cv_3['pre_pro_plot_synopsis'])\n",
    "xt_test_multilabel_3 = tf_idf_vect.transform(x_test_3['pre_pro_plot_synopsis'])\n",
    "print('tfidf_train data',xt_train_multilabel_3.shape,y_train_3.shape)\n",
    "print('tfidf_cv data',xt_cv_multilabel_3.shape,y_cv_3.shape) \n",
    "print('tfidf_test data',xt_test_multilabel_3.shape,y_test_3.shape) "
   ]
  },
  {
   "cell_type": "markdown",
   "metadata": {
    "colab_type": "text",
    "id": "x2Jc8CsIrgA8"
   },
   "source": [
    "<h2>Applying TFIDF vectorizer Bi grams on 3-Tag data </h2>"
   ]
  },
  {
   "cell_type": "code",
   "execution_count": 49,
   "metadata": {
    "colab": {
     "base_uri": "https://localhost:8080/",
     "height": 102
    },
    "colab_type": "code",
    "id": "ApU9LDjkEe8D",
    "outputId": "c111e693-1127-4a6f-d2c1-ec1215383bd5"
   },
   "outputs": [
    {
     "name": "stdout",
     "output_type": "stream",
     "text": [
      "tfidf_train data (9440, 10000) (9440, 3)\n",
      "tfidf_cv data (2361, 10000) (2361, 3)\n",
      "tfidf_test data (2951, 10000) (2951, 3)\n",
      "CPU times: user 22.5 s, sys: 315 ms, total: 22.8 s\n",
      "Wall time: 22.8 s\n"
     ]
    }
   ],
   "source": [
    "\n",
    "%%time\n",
    "tf_idf_vect  = TfidfVectorizer(ngram_range=(2,2),max_features=10000)\n",
    "xtb_train_multilabel_3 = tf_idf_vect.fit_transform(x_train_3['pre_pro_plot_synopsis'])\n",
    "xtb_cv_multilabel_3 = tf_idf_vect.transform(x_cv_3['pre_pro_plot_synopsis'])\n",
    "xtb_test_multilabel_3 = tf_idf_vect.transform(x_test_3['pre_pro_plot_synopsis'])\n",
    "print('tfidf_train data',xtb_train_multilabel_3.shape,y_train_3.shape)\n",
    "print('tfidf_cv data',xtb_cv_multilabel_3.shape,y_cv_3.shape) \n",
    "print('tfidf_test data',xtb_test_multilabel_3.shape,y_test_3.shape) "
   ]
  },
  {
   "cell_type": "markdown",
   "metadata": {
    "colab_type": "text",
    "id": "zq7LRdYOrl9B"
   },
   "source": [
    "<h2>Applying TFIDF vectorizer Tri grams on 3-Tag data </h2>"
   ]
  },
  {
   "cell_type": "code",
   "execution_count": 50,
   "metadata": {
    "colab": {
     "base_uri": "https://localhost:8080/",
     "height": 102
    },
    "colab_type": "code",
    "id": "8Plw9W4qEfoy",
    "outputId": "5f8c5722-5625-48b2-9223-a8151ee71df8"
   },
   "outputs": [
    {
     "name": "stdout",
     "output_type": "stream",
     "text": [
      "tfidf_train data (9440, 10000) (9440, 3)\n",
      "tfidf_cv data (2361, 10000) (2361, 3)\n",
      "tfidf_test data (2951, 10000) (2951, 3)\n",
      "CPU times: user 29.2 s, sys: 489 ms, total: 29.7 s\n",
      "Wall time: 29.7 s\n"
     ]
    }
   ],
   "source": [
    "%%time\n",
    "tf_idf_vect  = TfidfVectorizer(ngram_range=(3,3),max_features=10000)\n",
    "xtt_train_multilabel_3 = tf_idf_vect.fit_transform(x_train_3['pre_pro_plot_synopsis'])\n",
    "xtt_cv_multilabel_3 = tf_idf_vect.transform(x_cv_3['pre_pro_plot_synopsis'])\n",
    "xtt_test_multilabel_3 = tf_idf_vect.transform(x_test_3['pre_pro_plot_synopsis'])\n",
    "print('tfidf_train data',xtt_train_multilabel_3.shape,y_train_3.shape)\n",
    "print('tfidf_cv data',xtt_cv_multilabel_3.shape,y_cv_3.shape) \n",
    "print('tfidf_test data',xtt_test_multilabel_3.shape,y_test_3.shape) "
   ]
  },
  {
   "cell_type": "markdown",
   "metadata": {
    "colab_type": "text",
    "id": "jyCUh7nRrqO6"
   },
   "source": [
    "<h2>Applying TFIDF vectorizer char 3  grams on 3-Tag data </h2>"
   ]
  },
  {
   "cell_type": "code",
   "execution_count": 51,
   "metadata": {
    "colab": {
     "base_uri": "https://localhost:8080/",
     "height": 102
    },
    "colab_type": "code",
    "id": "RujaLSY-FCVQ",
    "outputId": "4269b3f4-e623-4a6d-e514-64162591581d"
   },
   "outputs": [
    {
     "name": "stdout",
     "output_type": "stream",
     "text": [
      "tfidf_train data (9440, 10000) (9440, 3)\n",
      "tfidf_cv data (2361, 10000) (2361, 3)\n",
      "tfidf_test data (2951, 10000) (2951, 3)\n",
      "CPU times: user 25.3 s, sys: 36.8 ms, total: 25.3 s\n",
      "Wall time: 25.3 s\n"
     ]
    }
   ],
   "source": [
    "%%time\n",
    "tf_idf_vect  = TfidfVectorizer(ngram_range=(3,3),analyzer='char',max_features=10000)\n",
    "xtc_train_multilabel_3 = tf_idf_vect.fit_transform(x_train_3['pre_pro_plot_synopsis'])\n",
    "xtc_cv_multilabel_3 = tf_idf_vect.transform(x_cv_3['pre_pro_plot_synopsis'])\n",
    "xtc_test_multilabel_3 = tf_idf_vect.transform(x_test_3['pre_pro_plot_synopsis'])\n",
    "print('tfidf_train data',xtc_train_multilabel_3.shape,y_train_3.shape)\n",
    "print('tfidf_cv data',xtc_cv_multilabel_3.shape,y_cv_3.shape) \n",
    "print('tfidf_test data',xtc_test_multilabel_3.shape,y_test_3.shape) "
   ]
  },
  {
   "cell_type": "markdown",
   "metadata": {
    "colab_type": "text",
    "id": "iUGFosJ8rt0i"
   },
   "source": [
    "<h2>Applying TFIDF vectorizer char 4 grams on 3-Tag data </h2>"
   ]
  },
  {
   "cell_type": "code",
   "execution_count": 52,
   "metadata": {
    "colab": {
     "base_uri": "https://localhost:8080/",
     "height": 102
    },
    "colab_type": "code",
    "id": "W29ibcS2FCe4",
    "outputId": "79eabb7b-2205-40b8-aac1-c81d616457e6"
   },
   "outputs": [
    {
     "name": "stdout",
     "output_type": "stream",
     "text": [
      "tfidf_train data (9440, 10000) (9440, 3)\n",
      "tfidf_cv data (2361, 10000) (2361, 3)\n",
      "tfidf_test data (2951, 10000) (2951, 3)\n",
      "CPU times: user 30.1 s, sys: 22.8 ms, total: 30.1 s\n",
      "Wall time: 30.2 s\n"
     ]
    }
   ],
   "source": [
    "%%time\n",
    "tf_idf_vect  = TfidfVectorizer(ngram_range=(4,4),analyzer='char',max_features=10000)\n",
    "xts_train_multilabel_3 = tf_idf_vect.fit_transform(x_train_3['pre_pro_plot_synopsis'])\n",
    "xts_cv_multilabel_3 = tf_idf_vect.transform(x_cv_3['pre_pro_plot_synopsis'])\n",
    "xts_test_multilabel_3 = tf_idf_vect.transform(x_test_3['pre_pro_plot_synopsis'])\n",
    "print('tfidf_train data',xts_train_multilabel_3.shape,y_train_3.shape)\n",
    "print('tfidf_cv data',xts_cv_multilabel_3.shape,y_cv_3.shape) \n",
    "print('tfidf_test data',xts_test_multilabel_3.shape,y_test_3.shape) "
   ]
  },
  {
   "cell_type": "markdown",
   "metadata": {
    "colab_type": "text",
    "id": "5jkI73LXYh6D"
   },
   "source": [
    "<h3> TFIDF_3 UNI + BI + TRi </h3>"
   ]
  },
  {
   "cell_type": "code",
   "execution_count": 0,
   "metadata": {
    "colab": {},
    "colab_type": "code",
    "id": "HNN8xy0PYiOV"
   },
   "outputs": [],
   "source": [
    "tf_tr_uni_bi_3 = hstack((xt_train_multilabel_3,xtb_train_multilabel_3),format='csr',dtype='float64')\n",
    "tf_cv_uni_bi_3 = hstack((xt_cv_multilabel_3,xtb_cv_multilabel_3),format='csr',dtype='float64')\n",
    "tf_te_uni_bi_3 = hstack((xt_test_multilabel_3,xtb_test_multilabel_3),format='csr',dtype='float64')\n",
    "\n",
    "tf_tr_uni_bi_tri_3 = hstack((tf_tr_uni_bi_3,xtt_train_multilabel_3),format='csr',dtype='float64')\n",
    "tf_cv_uni_bi_tri_3 = hstack((tf_cv_uni_bi_3,xtt_cv_multilabel_3),format='csr',dtype='float64')\n",
    "tf_te_uni_bi_tri_3 = hstack((tf_te_uni_bi_3,xtt_test_multilabel_3),format='csr',dtype='float64')"
   ]
  },
  {
   "cell_type": "markdown",
   "metadata": {
    "colab_type": "text",
    "id": "M597-PBLYipE"
   },
   "source": [
    "<h3> TFIDF_3 C3 + C4 </h3>"
   ]
  },
  {
   "cell_type": "code",
   "execution_count": 0,
   "metadata": {
    "colab": {},
    "colab_type": "code",
    "id": "_mt8dIaXYi4w"
   },
   "outputs": [],
   "source": [
    "tf_tr_c3_c4_3 = hstack((xtc_train_multilabel_3,xts_train_multilabel_3),format='csr',dtype='float64')\n",
    "tf_cv_c3_c4_3 = hstack((xtc_cv_multilabel_3,xts_cv_multilabel_3),format='csr',dtype='float64')\n",
    "tf_te_c3_c4_3 = hstack((xtc_test_multilabel_3,xts_test_multilabel_3),format='csr',dtype='float64') "
   ]
  },
  {
   "cell_type": "markdown",
   "metadata": {
    "colab_type": "text",
    "id": "JVHTfgc8YjFP"
   },
   "source": [
    "<h3> TFIDF_3 UNI + BI + TRi + C3 + C4 </h3>"
   ]
  },
  {
   "cell_type": "code",
   "execution_count": 0,
   "metadata": {
    "colab": {},
    "colab_type": "code",
    "id": "iI3TKiohYjTX"
   },
   "outputs": [],
   "source": [
    "tf_tr_u_b_t_c3_c4_3 = hstack((tf_tr_uni_bi_tri_3,tf_tr_c3_c4_3),format='csr',dtype='float64') \n",
    "tf_cv_u_b_t_c3_c4_3 = hstack((tf_cv_uni_bi_tri_3,tf_cv_c3_c4_3),format='csr',dtype='float64') \n",
    "tf_te_u_b_t_c3_c4_3 = hstack((tf_te_uni_bi_tri_3,tf_te_c3_c4_3),format='csr',dtype='float64') "
   ]
  },
  {
   "cell_type": "markdown",
   "metadata": {
    "colab_type": "text",
    "id": "pjmWSlOlFVx6"
   },
   "source": [
    "<h2>Applying TFIDF vectorizer on 5-Tag data </h2>"
   ]
  },
  {
   "cell_type": "code",
   "execution_count": 56,
   "metadata": {
    "colab": {
     "base_uri": "https://localhost:8080/",
     "height": 102
    },
    "colab_type": "code",
    "id": "HOwtZ36bFWLF",
    "outputId": "27743e88-f1b7-478d-cd3f-4e7ef3dbeb91"
   },
   "outputs": [
    {
     "name": "stdout",
     "output_type": "stream",
     "text": [
      "tfidf_train data (9440, 10000) (9440, 5)\n",
      "tfidf_cv data (2361, 10000) (2361, 5)\n",
      "tfidf_test data (2951, 10000) (2951, 5)\n",
      "CPU times: user 5.45 s, sys: 19 ms, total: 5.46 s\n",
      "Wall time: 5.47 s\n"
     ]
    }
   ],
   "source": [
    "%%time\n",
    "tf_idf_vect  = TfidfVectorizer(max_features=10000)\n",
    "xt_train_multilabel_5 = tf_idf_vect.fit_transform(x_train_5['pre_pro_plot_synopsis'])\n",
    "xt_cv_multilabel_5 = tf_idf_vect.transform(x_cv_5['pre_pro_plot_synopsis'])\n",
    "xt_test_multilabel_5 = tf_idf_vect.transform(x_test_5['pre_pro_plot_synopsis'])\n",
    "print('tfidf_train data',xt_train_multilabel_5.shape,y_train_5.shape)\n",
    "print('tfidf_cv data',xt_cv_multilabel_5.shape,y_cv_5.shape) \n",
    "print('tfidf_test data',xt_test_multilabel_5.shape,y_test_5.shape) "
   ]
  },
  {
   "cell_type": "markdown",
   "metadata": {
    "colab_type": "text",
    "id": "rHfj3UQIrw1G"
   },
   "source": [
    "<h2>Applying TFIDF vectorizer Bi grams on 5-Tag data </h2>"
   ]
  },
  {
   "cell_type": "code",
   "execution_count": 57,
   "metadata": {
    "colab": {
     "base_uri": "https://localhost:8080/",
     "height": 102
    },
    "colab_type": "code",
    "id": "WEk_LzQzFWjX",
    "outputId": "84cc57ef-d51f-45ab-e0a5-9f8ec474b836"
   },
   "outputs": [
    {
     "name": "stdout",
     "output_type": "stream",
     "text": [
      "tfidf_train data (9440, 10000) (9440, 5)\n",
      "tfidf_cv data (2361, 10000) (2361, 5)\n",
      "tfidf_test data (2951, 10000) (2951, 5)\n",
      "CPU times: user 22.5 s, sys: 320 ms, total: 22.8 s\n",
      "Wall time: 22.8 s\n"
     ]
    }
   ],
   "source": [
    "%%time\n",
    "tf_idf_vect  = TfidfVectorizer(ngram_range=(2,2),max_features=10000)\n",
    "xtb_train_multilabel_5 = tf_idf_vect.fit_transform(x_train_5['pre_pro_plot_synopsis'])\n",
    "xtb_cv_multilabel_5 = tf_idf_vect.transform(x_cv_5['pre_pro_plot_synopsis'])\n",
    "xtb_test_multilabel_5 = tf_idf_vect.transform(x_test_5['pre_pro_plot_synopsis'])\n",
    "print('tfidf_train data',xtb_train_multilabel_5.shape,y_train_5.shape)\n",
    "print('tfidf_cv data',xtb_cv_multilabel_5.shape,y_cv_5.shape) \n",
    "print('tfidf_test data',xtb_test_multilabel_5.shape,y_test_5.shape) "
   ]
  },
  {
   "cell_type": "markdown",
   "metadata": {
    "colab_type": "text",
    "id": "9Jnm_aezr0B1"
   },
   "source": [
    "<h2>Applying TFIDF vectorizer Tri grams on 5-Tag data </h2>"
   ]
  },
  {
   "cell_type": "code",
   "execution_count": 58,
   "metadata": {
    "colab": {
     "base_uri": "https://localhost:8080/",
     "height": 102
    },
    "colab_type": "code",
    "id": "hvQgwRo_FWum",
    "outputId": "bb2226d1-2efb-4b00-a4da-ccd681ad0e81"
   },
   "outputs": [
    {
     "name": "stdout",
     "output_type": "stream",
     "text": [
      "tfidf_train data (9440, 10000) (9440, 5)\n",
      "tfidf_cv data (2361, 10000) (2361, 5)\n",
      "tfidf_test data (2951, 10000) (2951, 5)\n",
      "CPU times: user 28.9 s, sys: 470 ms, total: 29.4 s\n",
      "Wall time: 29.4 s\n"
     ]
    }
   ],
   "source": [
    "%%time\n",
    "tf_idf_vect  = TfidfVectorizer(ngram_range=(3,3),max_features=10000)\n",
    "xtt_train_multilabel_5 = tf_idf_vect.fit_transform(x_train_5['pre_pro_plot_synopsis'])\n",
    "xtt_cv_multilabel_5 = tf_idf_vect.transform(x_cv_5['pre_pro_plot_synopsis'])\n",
    "xtt_test_multilabel_5 = tf_idf_vect.transform(x_test_5['pre_pro_plot_synopsis'])\n",
    "print('tfidf_train data',xtt_train_multilabel_5.shape,y_train_5.shape)\n",
    "print('tfidf_cv data',xtt_cv_multilabel_5.shape,y_cv_5.shape) \n",
    "print('tfidf_test data',xtt_test_multilabel_5.shape,y_test_5.shape) "
   ]
  },
  {
   "cell_type": "markdown",
   "metadata": {
    "colab_type": "text",
    "id": "EkIzyL1hr3BL"
   },
   "source": [
    "<h2>Applying TFIDF vectorizer char 3 grams on 5-Tag data </h2>"
   ]
  },
  {
   "cell_type": "code",
   "execution_count": 59,
   "metadata": {
    "colab": {
     "base_uri": "https://localhost:8080/",
     "height": 102
    },
    "colab_type": "code",
    "id": "9vti5O5bFW5P",
    "outputId": "58fe6b4a-e479-4921-f375-644f1d7ce092"
   },
   "outputs": [
    {
     "name": "stdout",
     "output_type": "stream",
     "text": [
      "tfidf_train data (9440, 10000) (9440, 5)\n",
      "tfidf_cv data (2361, 10000) (2361, 5)\n",
      "tfidf_test data (2951, 10000) (2951, 5)\n",
      "CPU times: user 25.1 s, sys: 34.8 ms, total: 25.1 s\n",
      "Wall time: 25.1 s\n"
     ]
    }
   ],
   "source": [
    "%%time\n",
    "tf_idf_vect  = TfidfVectorizer(ngram_range=(3,3),analyzer='char',max_features=10000)\n",
    "xtc_train_multilabel_5 = tf_idf_vect.fit_transform(x_train_5['pre_pro_plot_synopsis'])\n",
    "xtc_cv_multilabel_5 = tf_idf_vect.transform(x_cv_5['pre_pro_plot_synopsis'])\n",
    "xtc_test_multilabel_5 = tf_idf_vect.transform(x_test_5['pre_pro_plot_synopsis'])\n",
    "print('tfidf_train data',xtc_train_multilabel_5.shape,y_train_5.shape)\n",
    "print('tfidf_cv data',xtc_cv_multilabel_5.shape,y_cv_5.shape) \n",
    "print('tfidf_test data',xtc_test_multilabel_5.shape,y_test_5.shape) "
   ]
  },
  {
   "cell_type": "markdown",
   "metadata": {
    "colab_type": "text",
    "id": "4JAveOZBr7-w"
   },
   "source": [
    "<h2>Applying TFIDF vectorizer Char 4 grams on 5-Tag data </h2>"
   ]
  },
  {
   "cell_type": "code",
   "execution_count": 60,
   "metadata": {
    "colab": {
     "base_uri": "https://localhost:8080/",
     "height": 102
    },
    "colab_type": "code",
    "id": "zHJ9OUqtFXD-",
    "outputId": "8e03785e-20f2-4154-cdc4-f408f0642d41"
   },
   "outputs": [
    {
     "name": "stdout",
     "output_type": "stream",
     "text": [
      "tfidf_train data (9440, 10000) (9440, 5)\n",
      "tfidf_cv data (2361, 10000) (2361, 5)\n",
      "tfidf_test data (2951, 10000) (2951, 5)\n",
      "CPU times: user 29.8 s, sys: 25.8 ms, total: 29.8 s\n",
      "Wall time: 29.8 s\n"
     ]
    }
   ],
   "source": [
    "%%time\n",
    "tf_idf_vect  = TfidfVectorizer(ngram_range=(4,4),analyzer='char',max_features=10000)\n",
    "xts_train_multilabel_5 = tf_idf_vect.fit_transform(x_train_5['pre_pro_plot_synopsis'])\n",
    "xts_cv_multilabel_5 = tf_idf_vect.transform(x_cv_5['pre_pro_plot_synopsis'])\n",
    "xts_test_multilabel_5 = tf_idf_vect.transform(x_test_5['pre_pro_plot_synopsis'])\n",
    "print('tfidf_train data',xts_train_multilabel_5.shape,y_train_5.shape)\n",
    "print('tfidf_cv data',xts_cv_multilabel_5.shape,y_cv_5.shape) \n",
    "print('tfidf_test data',xts_test_multilabel_5.shape,y_test_5.shape) "
   ]
  },
  {
   "cell_type": "markdown",
   "metadata": {
    "colab_type": "text",
    "id": "rBxrw0aVZ4l8"
   },
   "source": [
    "<h3> TFIDF_5 UNI + BI + TRi </h3>"
   ]
  },
  {
   "cell_type": "code",
   "execution_count": 0,
   "metadata": {
    "colab": {},
    "colab_type": "code",
    "id": "A13sH_JmZ4xx"
   },
   "outputs": [],
   "source": [
    "tf_tr_uni_bi_5 = hstack((xt_train_multilabel_5,xtb_train_multilabel_5),format='csr',dtype='float64')\n",
    "tf_cv_uni_bi_5 = hstack((xt_cv_multilabel_5,xtb_cv_multilabel_5),format='csr',dtype='float64')\n",
    "tf_te_uni_bi_5 = hstack((xt_test_multilabel_5,xtb_test_multilabel_5),format='csr',dtype='float64')\n",
    "\n",
    "tf_tr_uni_bi_tri_5 = hstack((tf_tr_uni_bi_5,xtt_train_multilabel_5),format='csr',dtype='float64')\n",
    "tf_cv_uni_bi_tri_5 = hstack((tf_cv_uni_bi_5,xtt_cv_multilabel_5),format='csr',dtype='float64')\n",
    "tf_te_uni_bi_tri_5 = hstack((tf_te_uni_bi_5,xtt_test_multilabel_5),format='csr',dtype='float64')"
   ]
  },
  {
   "cell_type": "markdown",
   "metadata": {
    "colab_type": "text",
    "id": "sanBC5G3Z4_J"
   },
   "source": [
    "<h3> TFIDF_5 C3 + C4 </h3>"
   ]
  },
  {
   "cell_type": "code",
   "execution_count": 0,
   "metadata": {
    "colab": {},
    "colab_type": "code",
    "id": "9bGEQHFlZ5LH"
   },
   "outputs": [],
   "source": [
    "tf_tr_c3_c4_5 = hstack((xtc_train_multilabel_5,xts_train_multilabel_5),format='csr',dtype='float64')\n",
    "tf_cv_c3_c4_5 = hstack((xtc_cv_multilabel_5,xts_cv_multilabel_5),format='csr',dtype='float64')\n",
    "tf_te_c3_c4_5 = hstack((xtc_test_multilabel_5,xts_test_multilabel_5),format='csr',dtype='float64') "
   ]
  },
  {
   "cell_type": "markdown",
   "metadata": {
    "colab_type": "text",
    "id": "nl2ijL3SZ5ai"
   },
   "source": [
    "<h3> TFIDF_5 UNI + BI + TRi + C3 + C4 </h3>"
   ]
  },
  {
   "cell_type": "code",
   "execution_count": 0,
   "metadata": {
    "colab": {},
    "colab_type": "code",
    "id": "rdDTw7O0Z5mV"
   },
   "outputs": [],
   "source": [
    "tf_tr_u_b_t_c3_c4_5 = hstack((tf_tr_uni_bi_tri_5,tf_tr_c3_c4_5),format='csr',dtype='float64') \n",
    "tf_cv_u_b_t_c3_c4_5 = hstack((tf_cv_uni_bi_tri_5,tf_cv_c3_c4_5),format='csr',dtype='float64') \n",
    "tf_te_u_b_t_c3_c4_5 = hstack((tf_te_uni_bi_tri_5,tf_te_c3_c4_5),format='csr',dtype='float64') "
   ]
  },
  {
   "cell_type": "markdown",
   "metadata": {
    "colab_type": "text",
    "id": "UojLt9hZx8va"
   },
   "source": [
    "<h2> Logistic Regression </h2>"
   ]
  },
  {
   "cell_type": "code",
   "execution_count": 0,
   "metadata": {
    "colab": {},
    "colab_type": "code",
    "id": "OtfqyYhpgIUw"
   },
   "outputs": [],
   "source": [
    "#hyperparameter tuning\n",
    "#we have multiple models to train so we create a model function \n",
    "def log_reg(x_train,y_train,x_cv,y_cv,x_test,y_test):\n",
    "  train_f1 = []\n",
    "  cv_f1 = []\n",
    "  parameters=[0.0001,0.001,0.01,0.1,1,10,100,1000]\n",
    "  for i in parameters:\n",
    "    classifier = OneVsRestClassifier(LogisticRegression(C=i, penalty='l1',class_weight='balanced'))\n",
    "    classifier.fit(x_train, y_train)\n",
    "    train_predictions = classifier.predict (x_train)\n",
    "    train_f1_score = f1_score(y_train, train_predictions, average='micro')\n",
    "    train_f1.append(train_f1_score)\n",
    "    cv_predictions = classifier.predict(x_cv)\n",
    "    cv_f1_score = f1_score(y_cv, cv_predictions, average='micro')\n",
    "    cv_f1.append(cv_f1_score)\n",
    "    print(\"for\",i,      \"Train_f1_score: {:.4f}, Cv_f1_score: {:.4f}\".format(train_f1_score, cv_f1_score))\n",
    "  best_estimators = np.argmax(cv_f1)\n",
    "  print('best parameter :',parameters[best_estimators])\n",
    "  #modeling with test data with best hyper paremeter \n",
    "  classifier2 = OneVsRestClassifier(LogisticRegression(C=parameters[best_estimators], penalty='l1',class_weight='balanced'))\n",
    "  classifier2.fit(x_train, y_train)\n",
    "  predictions = classifier2.predict(x_test)\n",
    "\n",
    "  print(\"Accuracy :\",metrics.accuracy_score(y_test, predictions))\n",
    "  print(\"Hamming loss \",metrics.hamming_loss(y_test,predictions))\n",
    "\n",
    "  precision = precision_score(y_test, predictions, average='micro')\n",
    "  recall = recall_score(y_test, predictions, average='micro')\n",
    "  f1 = f1_score(y_test, predictions, average='micro')\n",
    "  \n",
    "  print(\"Micro-average :\") \n",
    "  print(\"Precision: {:.4f}, Recall: {:.4f}, F1-measure: {:.4f}\".format(precision, recall, f1))"
   ]
  },
  {
   "cell_type": "markdown",
   "metadata": {
    "colab_type": "text",
    "id": "eaR9VRTtafV2"
   },
   "source": [
    "<h3> Logistic Regression 3-Tags BOW UNI Grams Model </h3>"
   ]
  },
  {
   "cell_type": "code",
   "execution_count": 66,
   "metadata": {
    "colab": {
     "base_uri": "https://localhost:8080/",
     "height": 272
    },
    "colab_type": "code",
    "id": "pt9QJWOkDp4X",
    "outputId": "c1ead8ab-eb97-4842-adc3-075c488c0f7a"
   },
   "outputs": [
    {
     "name": "stdout",
     "output_type": "stream",
     "text": [
      "for 0.0001 Train_f1_score: 0.0000, Cv_f1_score: 0.0000\n",
      "for 0.001 Train_f1_score: 0.4875, Cv_f1_score: 0.4706\n",
      "for 0.01 Train_f1_score: 0.5990, Cv_f1_score: 0.5574\n",
      "for 0.1 Train_f1_score: 0.7996, Cv_f1_score: 0.5450\n",
      "for 1 Train_f1_score: 0.9766, Cv_f1_score: 0.4901\n",
      "for 10 Train_f1_score: 0.9779, Cv_f1_score: 0.4761\n",
      "for 100 Train_f1_score: 0.9780, Cv_f1_score: 0.4707\n",
      "for 1000 Train_f1_score: 0.9780, Cv_f1_score: 0.4729\n",
      "best parameter : 0.01\n",
      "Accuracy : 0.3988478481870552\n",
      "Hamming loss  0.27775895176776233\n",
      "Micro-average :\n",
      "Precision: 0.5411, Recall: 0.6426, F1-measure: 0.5875\n",
      "CPU times: user 3min 11s, sys: 64.2 ms, total: 3min 11s\n",
      "Wall time: 3min 11s\n"
     ]
    }
   ],
   "source": [
    "%%time \n",
    "log_reg(xb_train_multilabel_3,y_train_3,xb_cv_multilabel_3,y_cv_3,xb_test_multilabel_3,y_test_3)"
   ]
  },
  {
   "cell_type": "markdown",
   "metadata": {
    "colab_type": "text",
    "id": "iHnuIhU4avRH"
   },
   "source": [
    "<h3> Logistic Regression 3-Tags BOW  BI Grams Model </h3>"
   ]
  },
  {
   "cell_type": "code",
   "execution_count": 67,
   "metadata": {
    "colab": {
     "base_uri": "https://localhost:8080/",
     "height": 272
    },
    "colab_type": "code",
    "id": "uu_5EFXjO0z-",
    "outputId": "c0c9b069-ccbc-4e25-9e5e-76a18a1138d5"
   },
   "outputs": [
    {
     "name": "stdout",
     "output_type": "stream",
     "text": [
      "for 0.0001 Train_f1_score: 0.0000, Cv_f1_score: 0.0000\n",
      "for 0.001 Train_f1_score: 0.0000, Cv_f1_score: 0.0000\n",
      "for 0.01 Train_f1_score: 0.2899, Cv_f1_score: 0.2736\n",
      "for 0.1 Train_f1_score: 0.5747, Cv_f1_score: 0.4690\n",
      "for 1 Train_f1_score: 0.9320, Cv_f1_score: 0.4547\n",
      "for 10 Train_f1_score: 0.9776, Cv_f1_score: 0.4301\n",
      "for 100 Train_f1_score: 0.9777, Cv_f1_score: 0.4123\n",
      "for 1000 Train_f1_score: 0.9777, Cv_f1_score: 0.4143\n",
      "best parameter : 0.1\n",
      "Accuracy : 0.36665537106065743\n",
      "Hamming loss  0.30272224104823225\n",
      "Micro-average :\n",
      "Precision: 0.5079, Recall: 0.5306, F1-measure: 0.5190\n",
      "CPU times: user 28.3 s, sys: 19.9 ms, total: 28.3 s\n",
      "Wall time: 28.3 s\n"
     ]
    }
   ],
   "source": [
    "%%time\n",
    "log_reg(xb2_train_multilabel_3,y_train_3,xb2_cv_multilabel_3,y_cv_3,xb2_test_multilabel_3,y_test_3)"
   ]
  },
  {
   "cell_type": "markdown",
   "metadata": {
    "colab_type": "text",
    "id": "w4oGc4cyaxRz"
   },
   "source": [
    "<h3> Logistic Regression 3-Tags BOW TRI Grams Model </h3>"
   ]
  },
  {
   "cell_type": "code",
   "execution_count": 68,
   "metadata": {
    "colab": {
     "base_uri": "https://localhost:8080/",
     "height": 272
    },
    "colab_type": "code",
    "id": "7pjgEqN4O2Wq",
    "outputId": "66cba1bf-9e1d-4713-d581-032ddb615ad6"
   },
   "outputs": [
    {
     "name": "stdout",
     "output_type": "stream",
     "text": [
      "for 0.0001 Train_f1_score: 0.0000, Cv_f1_score: 0.0000\n",
      "for 0.001 Train_f1_score: 0.0000, Cv_f1_score: 0.0000\n",
      "for 0.01 Train_f1_score: 0.0000, Cv_f1_score: 0.0000\n",
      "for 0.1 Train_f1_score: 0.1921, Cv_f1_score: 0.1504\n",
      "for 1 Train_f1_score: 0.5076, Cv_f1_score: 0.3323\n",
      "for 10 Train_f1_score: 0.5277, Cv_f1_score: 0.3386\n",
      "for 100 Train_f1_score: 0.5285, Cv_f1_score: 0.3411\n",
      "for 1000 Train_f1_score: 0.5288, Cv_f1_score: 0.3420\n",
      "best parameter : 1000\n",
      "Accuracy : 0.27177228058285324\n",
      "Hamming loss  0.379984186151587\n",
      "Micro-average :\n",
      "Precision: 0.3848, Recall: 0.3916, F1-measure: 0.3881\n",
      "CPU times: user 801 ms, sys: 10 ms, total: 811 ms\n",
      "Wall time: 806 ms\n"
     ]
    }
   ],
   "source": [
    "%%time\n",
    "log_reg(xb3_train_multilabel_3,y_train_3,xb3_cv_multilabel_3,y_cv_3,xb3_test_multilabel_3,y_test_3)"
   ]
  },
  {
   "cell_type": "markdown",
   "metadata": {
    "colab_type": "text",
    "id": "ZIjXTLOHaz1s"
   },
   "source": [
    "<h3> Logistic Regression 3-Tags BOW CHAR-3 Grams Model </h3>"
   ]
  },
  {
   "cell_type": "code",
   "execution_count": 69,
   "metadata": {
    "colab": {
     "base_uri": "https://localhost:8080/",
     "height": 272
    },
    "colab_type": "code",
    "id": "3YYIsfXRO2xm",
    "outputId": "c6c79c7e-e895-48b7-dd44-66b9fe2b77eb"
   },
   "outputs": [
    {
     "name": "stdout",
     "output_type": "stream",
     "text": [
      "for 0.0001 Train_f1_score: 0.4571, Cv_f1_score: 0.4417\n",
      "for 0.001 Train_f1_score: 0.5026, Cv_f1_score: 0.4808\n",
      "for 0.01 Train_f1_score: 0.6459, Cv_f1_score: 0.5358\n",
      "for 0.1 Train_f1_score: 0.8280, Cv_f1_score: 0.4962\n",
      "for 1 Train_f1_score: 0.9748, Cv_f1_score: 0.4463\n",
      "for 10 Train_f1_score: 0.9779, Cv_f1_score: 0.4415\n",
      "for 100 Train_f1_score: 0.9779, Cv_f1_score: 0.4360\n",
      "for 1000 Train_f1_score: 0.9780, Cv_f1_score: 0.4274\n",
      "best parameter : 0.01\n",
      "Accuracy : 0.37072178922399185\n",
      "Hamming loss  0.2921043713995256\n",
      "Micro-average :\n",
      "Precision: 0.5209, Recall: 0.6367, F1-measure: 0.5730\n",
      "CPU times: user 1h 15min, sys: 745 ms, total: 1h 15min 1s\n",
      "Wall time: 1h 15min 2s\n"
     ]
    }
   ],
   "source": [
    "%%time \n",
    "log_reg(xbc_train_multilabel_3,y_train_3,xbc_cv_multilabel_3,y_cv_3,xbc_test_multilabel_3,y_test_3)"
   ]
  },
  {
   "cell_type": "markdown",
   "metadata": {
    "colab_type": "text",
    "id": "J1QvD2Cca3B2"
   },
   "source": [
    "<h3> Logistic Regression 3-Tags BOW CHAR-4 Grams Model </h3>"
   ]
  },
  {
   "cell_type": "code",
   "execution_count": 70,
   "metadata": {
    "colab": {
     "base_uri": "https://localhost:8080/",
     "height": 272
    },
    "colab_type": "code",
    "id": "5tJLRncZO3DF",
    "outputId": "a9d6a407-49cc-4aae-a6dc-e934f4e19a5c"
   },
   "outputs": [
    {
     "name": "stdout",
     "output_type": "stream",
     "text": [
      "for 0.0001 Train_f1_score: 0.4570, Cv_f1_score: 0.4415\n",
      "for 0.001 Train_f1_score: 0.5055, Cv_f1_score: 0.4876\n",
      "for 0.01 Train_f1_score: 0.6434, Cv_f1_score: 0.5611\n",
      "for 0.1 Train_f1_score: 0.8941, Cv_f1_score: 0.5037\n",
      "for 1 Train_f1_score: 0.9780, Cv_f1_score: 0.4721\n",
      "for 10 Train_f1_score: 0.9780, Cv_f1_score: 0.4684\n",
      "for 100 Train_f1_score: 0.9780, Cv_f1_score: 0.4665\n",
      "for 1000 Train_f1_score: 0.9780, Cv_f1_score: 0.4652\n",
      "best parameter : 0.01\n",
      "Accuracy : 0.38393764825482884\n",
      "Hamming loss  0.2821642381113747\n",
      "Micro-average :\n",
      "Precision: 0.5344, Recall: 0.6462, F1-measure: 0.5850\n",
      "CPU times: user 11min 9s, sys: 544 ms, total: 11min 9s\n",
      "Wall time: 11min 10s\n"
     ]
    }
   ],
   "source": [
    "%%time \n",
    "log_reg(xbs_train_multilabel_3,y_train_3,xbs_cv_multilabel_3,y_cv_3,xbs_test_multilabel_3,y_test_3)"
   ]
  },
  {
   "cell_type": "markdown",
   "metadata": {
    "colab_type": "text",
    "id": "wbKg1W95rbls"
   },
   "source": [
    "<h3>BOW UNI + BI + TRI 3-Tags </h3>  "
   ]
  },
  {
   "cell_type": "code",
   "execution_count": 71,
   "metadata": {
    "colab": {
     "base_uri": "https://localhost:8080/",
     "height": 272
    },
    "colab_type": "code",
    "id": "KDkcu5pcra6e",
    "outputId": "2c616369-c5a6-46a3-9c3e-d8e5376a1685"
   },
   "outputs": [
    {
     "name": "stdout",
     "output_type": "stream",
     "text": [
      "for 0.0001 Train_f1_score: 0.0000, Cv_f1_score: 0.0000\n",
      "for 0.001 Train_f1_score: 0.4875, Cv_f1_score: 0.4706\n",
      "for 0.01 Train_f1_score: 0.5990, Cv_f1_score: 0.5574\n",
      "for 0.1 Train_f1_score: 0.8027, Cv_f1_score: 0.5424\n",
      "for 1 Train_f1_score: 0.9772, Cv_f1_score: 0.4918\n",
      "for 10 Train_f1_score: 0.9779, Cv_f1_score: 0.4802\n",
      "for 100 Train_f1_score: 0.9780, Cv_f1_score: 0.4830\n",
      "for 1000 Train_f1_score: 0.9780, Cv_f1_score: 0.4708\n",
      "best parameter : 0.01\n",
      "Accuracy : 0.3981701118264995\n",
      "Hamming loss  0.2780978199480402\n",
      "Micro-average :\n",
      "Precision: 0.5406, Recall: 0.6422, F1-measure: 0.5871\n",
      "CPU times: user 2min 15s, sys: 47 ms, total: 2min 15s\n",
      "Wall time: 2min 15s\n"
     ]
    }
   ],
   "source": [
    "%%time \n",
    "log_reg(bow_tr_uni_bi_tri_3,y_train_3,bow_cv_uni_bi_tri_3,y_cv_3,bow_te_uni_bi_tri_3,y_test_3)"
   ]
  },
  {
   "cell_type": "markdown",
   "metadata": {
    "colab_type": "text",
    "id": "5_LgzWP1sKVD"
   },
   "source": [
    "<h3> BOW C3 + C4 3-Tags</h3>"
   ]
  },
  {
   "cell_type": "code",
   "execution_count": 72,
   "metadata": {
    "colab": {
     "base_uri": "https://localhost:8080/",
     "height": 272
    },
    "colab_type": "code",
    "id": "N3bWaAShsKh8",
    "outputId": "e5a83e2c-bf38-4735-857a-f058117b87ff"
   },
   "outputs": [
    {
     "name": "stdout",
     "output_type": "stream",
     "text": [
      "for 0.0001 Train_f1_score: 0.4571, Cv_f1_score: 0.4417\n",
      "for 0.001 Train_f1_score: 0.5042, Cv_f1_score: 0.4834\n",
      "for 0.01 Train_f1_score: 0.6613, Cv_f1_score: 0.5478\n",
      "for 0.1 Train_f1_score: 0.9181, Cv_f1_score: 0.4981\n",
      "for 1 Train_f1_score: 0.9778, Cv_f1_score: 0.4686\n",
      "for 10 Train_f1_score: 0.9780, Cv_f1_score: 0.4672\n",
      "for 100 Train_f1_score: 0.9780, Cv_f1_score: 0.4743\n",
      "for 1000 Train_f1_score: 0.9780, Cv_f1_score: 0.4553\n",
      "best parameter : 0.01\n",
      "Accuracy : 0.3812267028126059\n",
      "Hamming loss  0.2851010956737829\n",
      "Micro-average :\n",
      "Precision: 0.5306, Recall: 0.6404, F1-measure: 0.5803\n",
      "CPU times: user 17min 55s, sys: 896 ms, total: 17min 56s\n",
      "Wall time: 17min 57s\n"
     ]
    }
   ],
   "source": [
    "%%time \n",
    "log_reg(bow_tr_c3_c4_3,y_train_3,bow_cv_c3_c4_3,y_cv_3,bow_te_c3_c4_3,y_test_3)"
   ]
  },
  {
   "cell_type": "markdown",
   "metadata": {
    "colab_type": "text",
    "id": "f3KwrqOEsla_"
   },
   "source": [
    "<h3> Bow UNI + BI + TRI + C3 + C4 3-Tags </h3>"
   ]
  },
  {
   "cell_type": "code",
   "execution_count": 73,
   "metadata": {
    "colab": {
     "base_uri": "https://localhost:8080/",
     "height": 272
    },
    "colab_type": "code",
    "id": "DVisr0-Xslo1",
    "outputId": "dfdead85-ee98-4627-b705-3a9890f222b6"
   },
   "outputs": [
    {
     "name": "stdout",
     "output_type": "stream",
     "text": [
      "for 0.0001 Train_f1_score: 0.4571, Cv_f1_score: 0.4417\n",
      "for 0.001 Train_f1_score: 0.5041, Cv_f1_score: 0.4836\n",
      "for 0.01 Train_f1_score: 0.6615, Cv_f1_score: 0.5473\n",
      "for 0.1 Train_f1_score: 0.9243, Cv_f1_score: 0.5013\n",
      "for 1 Train_f1_score: 0.9778, Cv_f1_score: 0.4782\n",
      "for 10 Train_f1_score: 0.9780, Cv_f1_score: 0.4799\n",
      "for 100 Train_f1_score: 0.9780, Cv_f1_score: 0.4780\n",
      "for 1000 Train_f1_score: 0.9780, Cv_f1_score: 0.4691\n",
      "best parameter : 0.01\n",
      "Accuracy : 0.3852931209759404\n",
      "Hamming loss  0.28408449113294926\n",
      "Micro-average :\n",
      "Precision: 0.5321, Recall: 0.6382, F1-measure: 0.5803\n",
      "CPU times: user 13min 40s, sys: 962 ms, total: 13min 41s\n",
      "Wall time: 13min 41s\n"
     ]
    }
   ],
   "source": [
    "%%time \n",
    "log_reg(bow_tr_u_b_t_c3_c4_3,y_train_3,bow_cv_u_b_t_c3_c4_3,y_cv_3,bow_te_u_b_t_c3_c4_3,y_test_3) "
   ]
  },
  {
   "cell_type": "markdown",
   "metadata": {
    "colab_type": "text",
    "id": "hfjEo35fPjpd"
   },
   "source": [
    "<h1> Logistic Regression BOW 5-Tag models</h1>"
   ]
  },
  {
   "cell_type": "markdown",
   "metadata": {
    "colab_type": "text",
    "id": "PndKPNn0a8t4"
   },
   "source": [
    "<h3> Logistic Regression 5-Tags BOW UNI Grams Model </h3>"
   ]
  },
  {
   "cell_type": "code",
   "execution_count": 74,
   "metadata": {
    "colab": {
     "base_uri": "https://localhost:8080/",
     "height": 272
    },
    "colab_type": "code",
    "id": "jPgttQa1PPNd",
    "outputId": "046e4af5-1b9b-4c36-9280-1d758c410ca9"
   },
   "outputs": [
    {
     "name": "stdout",
     "output_type": "stream",
     "text": [
      "for 0.0001 Train_f1_score: 0.0000, Cv_f1_score: 0.0000\n",
      "for 0.001 Train_f1_score: 0.4518, Cv_f1_score: 0.4351\n",
      "for 0.01 Train_f1_score: 0.5552, Cv_f1_score: 0.5110\n",
      "for 0.1 Train_f1_score: 0.7864, Cv_f1_score: 0.4985\n",
      "for 1 Train_f1_score: 0.9751, Cv_f1_score: 0.4506\n",
      "for 10 Train_f1_score: 0.9763, Cv_f1_score: 0.4388\n",
      "for 100 Train_f1_score: 0.9764, Cv_f1_score: 0.4302\n",
      "for 1000 Train_f1_score: 0.9764, Cv_f1_score: 0.4304\n",
      "best parameter : 0.01\n",
      "Accuracy : 0.20433751270755676\n",
      "Hamming loss  0.28153168417485597\n",
      "Micro-average :\n",
      "Precision: 0.4671, Recall: 0.6269, F1-measure: 0.5353\n",
      "CPU times: user 4min 13s, sys: 51 ms, total: 4min 13s\n",
      "Wall time: 4min 13s\n"
     ]
    }
   ],
   "source": [
    "%%time\n",
    "log_reg(xb_train_multilabel_5,y_train_5,xb_cv_multilabel_5,y_cv_5,xb_test_multilabel_5,y_test_5)"
   ]
  },
  {
   "cell_type": "markdown",
   "metadata": {
    "colab_type": "text",
    "id": "53NxLrMgbR8P"
   },
   "source": [
    "<h3> Logistic Regression 5-Tags BOW BI Grams Model </h3>"
   ]
  },
  {
   "cell_type": "code",
   "execution_count": 75,
   "metadata": {
    "colab": {
     "base_uri": "https://localhost:8080/",
     "height": 272
    },
    "colab_type": "code",
    "id": "RROEaa6gPPew",
    "outputId": "b5f6de27-d0dd-44a2-cdf2-0d2b8115a925"
   },
   "outputs": [
    {
     "name": "stdout",
     "output_type": "stream",
     "text": [
      "for 0.0001 Train_f1_score: 0.0000, Cv_f1_score: 0.0000\n",
      "for 0.001 Train_f1_score: 0.0000, Cv_f1_score: 0.0000\n",
      "for 0.01 Train_f1_score: 0.3046, Cv_f1_score: 0.2846\n",
      "for 0.1 Train_f1_score: 0.5426, Cv_f1_score: 0.4376\n",
      "for 1 Train_f1_score: 0.9274, Cv_f1_score: 0.4097\n",
      "for 10 Train_f1_score: 0.9761, Cv_f1_score: 0.3892\n",
      "for 100 Train_f1_score: 0.9762, Cv_f1_score: 0.3730\n",
      "for 1000 Train_f1_score: 0.9762, Cv_f1_score: 0.3749\n",
      "best parameter : 0.1\n",
      "Accuracy : 0.1870552355133853\n",
      "Hamming loss  0.30410030498136226\n",
      "Micro-average :\n",
      "Precision: 0.4278, Recall: 0.5198, F1-measure: 0.4693\n",
      "CPU times: user 39.2 s, sys: 16 ms, total: 39.2 s\n",
      "Wall time: 39.2 s\n"
     ]
    }
   ],
   "source": [
    "%%time\n",
    "log_reg(xb2_train_multilabel_5,y_train_5,xb2_cv_multilabel_5,y_cv_5,xb2_test_multilabel_5,y_test_5)"
   ]
  },
  {
   "cell_type": "markdown",
   "metadata": {
    "colab_type": "text",
    "id": "oIlRYyhebUAq"
   },
   "source": [
    "<h3> Logistic Regression 5-Tags BOW TRI Grams Model </h3>"
   ]
  },
  {
   "cell_type": "code",
   "execution_count": 76,
   "metadata": {
    "colab": {
     "base_uri": "https://localhost:8080/",
     "height": 272
    },
    "colab_type": "code",
    "id": "WtUqy_wLPPvA",
    "outputId": "b027541e-44ec-4626-f150-c4e462d7fff6"
   },
   "outputs": [
    {
     "name": "stdout",
     "output_type": "stream",
     "text": [
      "for 0.0001 Train_f1_score: 0.0000, Cv_f1_score: 0.0000\n",
      "for 0.001 Train_f1_score: 0.0000, Cv_f1_score: 0.0000\n",
      "for 0.01 Train_f1_score: 0.0000, Cv_f1_score: 0.0000\n",
      "for 0.1 Train_f1_score: 0.2050, Cv_f1_score: 0.1679\n",
      "for 1 Train_f1_score: 0.4866, Cv_f1_score: 0.3167\n",
      "for 10 Train_f1_score: 0.5070, Cv_f1_score: 0.3205\n",
      "for 100 Train_f1_score: 0.5081, Cv_f1_score: 0.3219\n",
      "for 1000 Train_f1_score: 0.5084, Cv_f1_score: 0.3221\n",
      "best parameter : 1000\n",
      "Accuracy : 0.13656387665198239\n",
      "Hamming loss  0.36699423924093527\n",
      "Micro-average :\n",
      "Precision: 0.3240, Recall: 0.3854, F1-measure: 0.3520\n",
      "CPU times: user 1.41 s, sys: 9 ms, total: 1.41 s\n",
      "Wall time: 1.41 s\n"
     ]
    }
   ],
   "source": [
    "%%time\n",
    "log_reg(xb3_train_multilabel_5,y_train_5,xb3_cv_multilabel_5,y_cv_5,xb3_test_multilabel_5,y_test_5)"
   ]
  },
  {
   "cell_type": "markdown",
   "metadata": {
    "colab_type": "text",
    "id": "aClZXaC4bXx3"
   },
   "source": [
    "<h3> Logistic Regression 5-Tags BOW CHAR-4 Grams Model </h3>"
   ]
  },
  {
   "cell_type": "code",
   "execution_count": 77,
   "metadata": {
    "colab": {
     "base_uri": "https://localhost:8080/",
     "height": 272
    },
    "colab_type": "code",
    "id": "vfrgAsbZPQDz",
    "outputId": "a35e2fc7-ea1b-4a4f-e8a3-e636e11b688b"
   },
   "outputs": [
    {
     "name": "stdout",
     "output_type": "stream",
     "text": [
      "for 0.0001 Train_f1_score: 0.4063, Cv_f1_score: 0.3911\n",
      "for 0.001 Train_f1_score: 0.4593, Cv_f1_score: 0.4403\n",
      "for 0.01 Train_f1_score: 0.6054, Cv_f1_score: 0.4972\n",
      "for 0.1 Train_f1_score: 0.8159, Cv_f1_score: 0.4526\n",
      "for 1 Train_f1_score: 0.9733, Cv_f1_score: 0.4090\n",
      "for 10 Train_f1_score: 0.9763, Cv_f1_score: 0.4051\n",
      "for 100 Train_f1_score: 0.9763, Cv_f1_score: 0.4006\n",
      "for 1000 Train_f1_score: 0.9764, Cv_f1_score: 0.3979\n",
      "best parameter : 0.01\n",
      "Accuracy : 0.19112165367671977\n",
      "Hamming loss  0.29115554049474757\n",
      "Micro-average :\n",
      "Precision: 0.4546, Recall: 0.6288, F1-measure: 0.5277\n",
      "CPU times: user 1h 45min 27s, sys: 1.09 s, total: 1h 45min 29s\n",
      "Wall time: 1h 45min 31s\n"
     ]
    }
   ],
   "source": [
    "%%time \n",
    "log_reg(xbc_train_multilabel_5,y_train_5,xbc_cv_multilabel_5,y_cv_5,xbc_test_multilabel_5,y_test_5)"
   ]
  },
  {
   "cell_type": "markdown",
   "metadata": {
    "colab_type": "text",
    "id": "qZjXMfFZbahr"
   },
   "source": [
    "<h3> Logistic Regression 5-Tags BOW CHAR-5 Grams Model </h3>"
   ]
  },
  {
   "cell_type": "code",
   "execution_count": 78,
   "metadata": {
    "colab": {
     "base_uri": "https://localhost:8080/",
     "height": 272
    },
    "colab_type": "code",
    "id": "fQoJUaXGPQrE",
    "outputId": "2b97dc7d-2f9e-4a6f-8f4e-5b992e40c126"
   },
   "outputs": [
    {
     "name": "stdout",
     "output_type": "stream",
     "text": [
      "for 0.0001 Train_f1_score: 0.4063, Cv_f1_score: 0.3911\n",
      "for 0.001 Train_f1_score: 0.4529, Cv_f1_score: 0.4375\n",
      "for 0.01 Train_f1_score: 0.6025, Cv_f1_score: 0.5154\n",
      "for 0.1 Train_f1_score: 0.8888, Cv_f1_score: 0.4544\n",
      "for 1 Train_f1_score: 0.9763, Cv_f1_score: 0.4251\n",
      "for 10 Train_f1_score: 0.9764, Cv_f1_score: 0.4213\n",
      "for 100 Train_f1_score: 0.9764, Cv_f1_score: 0.4194\n",
      "for 1000 Train_f1_score: 0.9764, Cv_f1_score: 0.4136\n",
      "best parameter : 0.01\n",
      "Accuracy : 0.19993222636394442\n",
      "Hamming loss  0.2823449678075229\n",
      "Micro-average :\n",
      "Precision: 0.4664, Recall: 0.6343, F1-measure: 0.5375\n",
      "CPU times: user 21min 14s, sys: 949 ms, total: 21min 15s\n",
      "Wall time: 21min 15s\n"
     ]
    }
   ],
   "source": [
    "%%time \n",
    "log_reg(xbs_train_multilabel_5,y_train_5,xbs_cv_multilabel_5,y_cv_5,xbs_test_multilabel_5,y_test_5) "
   ]
  },
  {
   "cell_type": "markdown",
   "metadata": {
    "colab_type": "text",
    "id": "TsBx-L5htJ9D"
   },
   "source": [
    "<h3>Logistic Regression 5-Tags UNI + BI + TRI </h3>"
   ]
  },
  {
   "cell_type": "code",
   "execution_count": 79,
   "metadata": {
    "colab": {
     "base_uri": "https://localhost:8080/",
     "height": 272
    },
    "colab_type": "code",
    "id": "clc1268dtKMQ",
    "outputId": "b05603f6-6847-4679-8e15-eff5d973541b"
   },
   "outputs": [
    {
     "name": "stdout",
     "output_type": "stream",
     "text": [
      "for 0.0001 Train_f1_score: 0.0000, Cv_f1_score: 0.0000\n",
      "for 0.001 Train_f1_score: 0.4518, Cv_f1_score: 0.4351\n",
      "for 0.01 Train_f1_score: 0.5552, Cv_f1_score: 0.5110\n",
      "for 0.1 Train_f1_score: 0.7892, Cv_f1_score: 0.4960\n",
      "for 1 Train_f1_score: 0.9755, Cv_f1_score: 0.4533\n",
      "for 10 Train_f1_score: 0.9763, Cv_f1_score: 0.4425\n",
      "for 100 Train_f1_score: 0.9764, Cv_f1_score: 0.4424\n",
      "for 1000 Train_f1_score: 0.9764, Cv_f1_score: 0.4232\n",
      "best parameter : 0.01\n",
      "Accuracy : 0.20433751270755676\n",
      "Hamming loss  0.28166723144696715\n",
      "Micro-average :\n",
      "Precision: 0.4669, Recall: 0.6267, F1-measure: 0.5351\n",
      "CPU times: user 3min 48s, sys: 62 ms, total: 3min 48s\n",
      "Wall time: 3min 48s\n"
     ]
    }
   ],
   "source": [
    "%%time\n",
    "log_reg(bow_tr_uni_bi_tri_5,y_train_5,bow_cv_uni_bi_tri_5,y_cv_5,bow_te_uni_bi_tri_5,y_test_5)"
   ]
  },
  {
   "cell_type": "markdown",
   "metadata": {
    "colab_type": "text",
    "id": "16MNcg8gtKel"
   },
   "source": [
    "<h3>Logistic Regression 5-Tags C3 + C4 </h3>\n"
   ]
  },
  {
   "cell_type": "code",
   "execution_count": 80,
   "metadata": {
    "colab": {
     "base_uri": "https://localhost:8080/",
     "height": 272
    },
    "colab_type": "code",
    "id": "ZHnVJUm5tKsQ",
    "outputId": "a9763e56-3b43-4a73-f7c3-3344fa3614b4"
   },
   "outputs": [
    {
     "name": "stdout",
     "output_type": "stream",
     "text": [
      "for 0.0001 Train_f1_score: 0.4063, Cv_f1_score: 0.3911\n",
      "for 0.001 Train_f1_score: 0.4608, Cv_f1_score: 0.4422\n",
      "for 0.01 Train_f1_score: 0.6229, Cv_f1_score: 0.5041\n",
      "for 0.1 Train_f1_score: 0.9126, Cv_f1_score: 0.4513\n",
      "for 1 Train_f1_score: 0.9763, Cv_f1_score: 0.4235\n",
      "for 10 Train_f1_score: 0.9764, Cv_f1_score: 0.4205\n",
      "for 100 Train_f1_score: 0.9764, Cv_f1_score: 0.4290\n",
      "for 1000 Train_f1_score: 0.9764, Cv_f1_score: 0.4200\n",
      "best parameter : 0.01\n",
      "Accuracy : 0.1928159945781091\n",
      "Hamming loss  0.2854625550660793\n",
      "Micro-average :\n",
      "Precision: 0.4619, Recall: 0.6264, F1-measure: 0.5317\n",
      "CPU times: user 32min 36s, sys: 1.52 s, total: 32min 38s\n",
      "Wall time: 32min 38s\n"
     ]
    }
   ],
   "source": [
    "%%time   \n",
    "log_reg(bow_tr_c3_c4_5,y_train_5,bow_cv_c3_c4_5,y_cv_5,bow_te_c3_c4_5,y_test_5)"
   ]
  },
  {
   "cell_type": "markdown",
   "metadata": {
    "colab_type": "text",
    "id": "mjxtO7_TtK9A"
   },
   "source": [
    "<h3>Logistic Regression 5-Tags UNI + BI + TRI + C3 + C4 </h3>"
   ]
  },
  {
   "cell_type": "code",
   "execution_count": 81,
   "metadata": {
    "colab": {
     "base_uri": "https://localhost:8080/",
     "height": 272
    },
    "colab_type": "code",
    "id": "yDsuafDFtLLJ",
    "outputId": "2199ca44-d26e-45c2-82c2-6da16a6fa8bc"
   },
   "outputs": [
    {
     "name": "stdout",
     "output_type": "stream",
     "text": [
      "for 0.0001 Train_f1_score: 0.4063, Cv_f1_score: 0.3911\n",
      "for 0.001 Train_f1_score: 0.4607, Cv_f1_score: 0.4423\n",
      "for 0.01 Train_f1_score: 0.6243, Cv_f1_score: 0.5032\n",
      "for 0.1 Train_f1_score: 0.9199, Cv_f1_score: 0.4533\n",
      "for 1 Train_f1_score: 0.9763, Cv_f1_score: 0.4320\n",
      "for 10 Train_f1_score: 0.9764, Cv_f1_score: 0.4333\n",
      "for 100 Train_f1_score: 0.9764, Cv_f1_score: 0.4341\n",
      "for 1000 Train_f1_score: 0.9764, Cv_f1_score: 0.4286\n",
      "best parameter : 0.01\n",
      "Accuracy : 0.19146052185699763\n",
      "Hamming loss  0.28390376143680107\n",
      "Micro-average :\n",
      "Precision: 0.4639, Recall: 0.6259, F1-measure: 0.5328\n",
      "CPU times: user 28min 18s, sys: 1.58 s, total: 28min 20s\n",
      "Wall time: 28min 21s\n"
     ]
    }
   ],
   "source": [
    "%%time \n",
    "log_reg(bow_tr_u_b_t_c3_c4_5,y_train_5,bow_cv_u_b_t_c3_c4_5,y_cv_5,bow_te_u_b_t_c3_c4_5,y_test_5) "
   ]
  },
  {
   "cell_type": "markdown",
   "metadata": {
    "colab_type": "text",
    "id": "eTe3zRadyCvR"
   },
   "source": [
    "<h1> Logistic Regression TFIDF 3-Tag models</h1>"
   ]
  },
  {
   "cell_type": "markdown",
   "metadata": {
    "colab_type": "text",
    "id": "SmDIrgS6blla"
   },
   "source": [
    "<h3> Logistic Regression 3-Tags TFIDF UNI Grams Model </h3>"
   ]
  },
  {
   "cell_type": "code",
   "execution_count": 82,
   "metadata": {
    "colab": {
     "base_uri": "https://localhost:8080/",
     "height": 272
    },
    "colab_type": "code",
    "id": "5JPHCPgbtxLt",
    "outputId": "053cc5ac-643f-4278-d459-b84b8cc9a338"
   },
   "outputs": [
    {
     "name": "stdout",
     "output_type": "stream",
     "text": [
      "for 0.0001 Train_f1_score: 0.0000, Cv_f1_score: 0.0000\n",
      "for 0.001 Train_f1_score: 0.0000, Cv_f1_score: 0.0000\n",
      "for 0.01 Train_f1_score: 0.0000, Cv_f1_score: 0.0000\n",
      "for 0.1 Train_f1_score: 0.4750, Cv_f1_score: 0.4728\n",
      "for 1 Train_f1_score: 0.6658, Cv_f1_score: 0.5650\n",
      "for 10 Train_f1_score: 0.9491, Cv_f1_score: 0.5014\n",
      "for 100 Train_f1_score: 0.9778, Cv_f1_score: 0.4791\n",
      "for 1000 Train_f1_score: 0.9779, Cv_f1_score: 0.4836\n",
      "best parameter : 1\n",
      "Accuracy : 0.38292104371399527\n",
      "Hamming loss  0.28532700779396813\n",
      "Micro-average :\n",
      "Precision: 0.5294, Recall: 0.6569, F1-measure: 0.5863\n",
      "CPU times: user 1min 30s, sys: 25 ms, total: 1min 30s\n",
      "Wall time: 1min 30s\n"
     ]
    }
   ],
   "source": [
    "%%time\n",
    "log_reg(xt_train_multilabel_3,y_train_3,xt_cv_multilabel_3,y_cv_3,xt_test_multilabel_3,y_test_3)"
   ]
  },
  {
   "cell_type": "markdown",
   "metadata": {
    "colab_type": "text",
    "id": "O2bm6dz9bpLG"
   },
   "source": [
    "<h3> Logistic Regression 3-Tags TFIDF BI Grams Model </h3>"
   ]
  },
  {
   "cell_type": "code",
   "execution_count": 83,
   "metadata": {
    "colab": {
     "base_uri": "https://localhost:8080/",
     "height": 272
    },
    "colab_type": "code",
    "id": "u5eNasQ7THi3",
    "outputId": "36fd853b-f0f2-4af0-9591-1fff35faf02f"
   },
   "outputs": [
    {
     "name": "stdout",
     "output_type": "stream",
     "text": [
      "for 0.0001 Train_f1_score: 0.0000, Cv_f1_score: 0.0000\n",
      "for 0.001 Train_f1_score: 0.0000, Cv_f1_score: 0.0000\n",
      "for 0.01 Train_f1_score: 0.0000, Cv_f1_score: 0.0000\n",
      "for 0.1 Train_f1_score: 0.3008, Cv_f1_score: 0.3060\n",
      "for 1 Train_f1_score: 0.6466, Cv_f1_score: 0.4901\n",
      "for 10 Train_f1_score: 0.9713, Cv_f1_score: 0.4432\n",
      "for 100 Train_f1_score: 0.9777, Cv_f1_score: 0.4357\n",
      "for 1000 Train_f1_score: 0.9777, Cv_f1_score: 0.4312\n",
      "best parameter : 1\n",
      "Accuracy : 0.3534395120298204\n",
      "Hamming loss  0.3053202304303626\n",
      "Micro-average :\n",
      "Precision: 0.5035, Recall: 0.5732, F1-measure: 0.5361\n",
      "CPU times: user 13.9 s, sys: 15 ms, total: 13.9 s\n",
      "Wall time: 13.9 s\n"
     ]
    }
   ],
   "source": [
    "%%time\n",
    "log_reg(xtb_train_multilabel_3,y_train_3,xtb_cv_multilabel_3,y_cv_3,xtb_test_multilabel_3,y_test_3)"
   ]
  },
  {
   "cell_type": "markdown",
   "metadata": {
    "colab_type": "text",
    "id": "m6U2hP18bq2X"
   },
   "source": [
    "<h3> Logistic Regression 3-Tags TFIDF TRI Grams Model </h3>"
   ]
  },
  {
   "cell_type": "code",
   "execution_count": 84,
   "metadata": {
    "colab": {
     "base_uri": "https://localhost:8080/",
     "height": 272
    },
    "colab_type": "code",
    "id": "-SxOnm3ITHyD",
    "outputId": "7787d658-04d9-4d49-efc5-764271031e2c"
   },
   "outputs": [
    {
     "name": "stdout",
     "output_type": "stream",
     "text": [
      "for 0.0001 Train_f1_score: 0.0000, Cv_f1_score: 0.0000\n",
      "for 0.001 Train_f1_score: 0.0000, Cv_f1_score: 0.0000\n",
      "for 0.01 Train_f1_score: 0.0000, Cv_f1_score: 0.0000\n",
      "for 0.1 Train_f1_score: 0.0167, Cv_f1_score: 0.0089\n",
      "for 1 Train_f1_score: 0.5868, Cv_f1_score: 0.3322\n",
      "for 10 Train_f1_score: 0.8672, Cv_f1_score: 0.3668\n",
      "for 100 Train_f1_score: 0.9016, Cv_f1_score: 0.3562\n",
      "for 1000 Train_f1_score: 0.9019, Cv_f1_score: 0.3585\n",
      "best parameter : 10\n",
      "Accuracy : 0.2710945442222975\n",
      "Hamming loss  0.37501411950751157\n",
      "Micro-average :\n",
      "Precision: 0.3900, Recall: 0.3872, F1-measure: 0.3886\n",
      "CPU times: user 7.33 s, sys: 5 ms, total: 7.34 s\n",
      "Wall time: 7.34 s\n"
     ]
    }
   ],
   "source": [
    "%%time\n",
    "log_reg(xtt_train_multilabel_3,y_train_3,xtt_cv_multilabel_3,y_cv_3,xtt_test_multilabel_3,y_test_3)"
   ]
  },
  {
   "cell_type": "markdown",
   "metadata": {
    "colab_type": "text",
    "id": "G5Lf_ksxbstv"
   },
   "source": [
    "<h3> Logistic Regression 3-Tags TFIDF CHAR-3 Grams Model </h3>"
   ]
  },
  {
   "cell_type": "code",
   "execution_count": 85,
   "metadata": {
    "colab": {
     "base_uri": "https://localhost:8080/",
     "height": 272
    },
    "colab_type": "code",
    "id": "zspwB5QNTH8B",
    "outputId": "bb7c3973-7056-4092-8ce6-08bb4a63693e"
   },
   "outputs": [
    {
     "name": "stdout",
     "output_type": "stream",
     "text": [
      "for 0.0001 Train_f1_score: 0.0000, Cv_f1_score: 0.0000\n",
      "for 0.001 Train_f1_score: 0.0000, Cv_f1_score: 0.0000\n",
      "for 0.01 Train_f1_score: 0.0000, Cv_f1_score: 0.0000\n",
      "for 0.1 Train_f1_score: 0.4853, Cv_f1_score: 0.4570\n",
      "for 1 Train_f1_score: 0.6392, Cv_f1_score: 0.5444\n",
      "for 10 Train_f1_score: 0.8976, Cv_f1_score: 0.4889\n",
      "for 100 Train_f1_score: 0.9779, Cv_f1_score: 0.4482\n",
      "for 1000 Train_f1_score: 0.9779, Cv_f1_score: 0.4447\n",
      "best parameter : 1\n",
      "Accuracy : 0.3656387665198238\n",
      "Hamming loss  0.29526714108211904\n",
      "Micro-average :\n",
      "Precision: 0.5161, Recall: 0.6521, F1-measure: 0.5762\n",
      "CPU times: user 15min 2s, sys: 415 ms, total: 15min 2s\n",
      "Wall time: 15min 3s\n"
     ]
    }
   ],
   "source": [
    "%%time\n",
    "log_reg(xtc_train_multilabel_3,y_train_3,xtc_cv_multilabel_3,y_cv_3,xtc_test_multilabel_3,y_test_3) "
   ]
  },
  {
   "cell_type": "markdown",
   "metadata": {
    "colab_type": "text",
    "id": "0EBrn_r5buoS"
   },
   "source": [
    "<h3> Logistic Regression 3-Tags TFIDF CHAR-4 Grams Model </h3>"
   ]
  },
  {
   "cell_type": "code",
   "execution_count": 86,
   "metadata": {
    "colab": {
     "base_uri": "https://localhost:8080/",
     "height": 272
    },
    "colab_type": "code",
    "id": "lHpZs4YtTIEk",
    "outputId": "904267f6-200b-4e3d-d0f1-4457ff08c97f"
   },
   "outputs": [
    {
     "name": "stdout",
     "output_type": "stream",
     "text": [
      "for 0.0001 Train_f1_score: 0.0000, Cv_f1_score: 0.0000\n",
      "for 0.001 Train_f1_score: 0.0000, Cv_f1_score: 0.0000\n",
      "for 0.01 Train_f1_score: 0.0000, Cv_f1_score: 0.0000\n",
      "for 0.1 Train_f1_score: 0.4857, Cv_f1_score: 0.4598\n",
      "for 1 Train_f1_score: 0.6487, Cv_f1_score: 0.5599\n",
      "for 10 Train_f1_score: 0.9325, Cv_f1_score: 0.4990\n",
      "for 100 Train_f1_score: 0.9778, Cv_f1_score: 0.4670\n",
      "for 1000 Train_f1_score: 0.9780, Cv_f1_score: 0.4622\n",
      "best parameter : 1\n",
      "Accuracy : 0.3812267028126059\n",
      "Hamming loss  0.28713430475545015\n",
      "Micro-average :\n",
      "Precision: 0.5268, Recall: 0.6598, F1-measure: 0.5859\n",
      "CPU times: user 10min 21s, sys: 550 ms, total: 10min 21s\n",
      "Wall time: 10min 21s\n"
     ]
    }
   ],
   "source": [
    "%%time \n",
    "log_reg(xts_train_multilabel_3,y_train_3,xts_cv_multilabel_3,y_cv_3,xts_test_multilabel_3,y_test_3) "
   ]
  },
  {
   "cell_type": "markdown",
   "metadata": {
    "colab_type": "text",
    "id": "NotKcWfduUea"
   },
   "source": [
    "<h3> Logistic Regression 3-Tags UNI + BI + TRI grams </h3>"
   ]
  },
  {
   "cell_type": "code",
   "execution_count": 87,
   "metadata": {
    "colab": {
     "base_uri": "https://localhost:8080/",
     "height": 272
    },
    "colab_type": "code",
    "id": "sihOuPs4uUsu",
    "outputId": "b806eadc-79b6-4e85-fbf0-848ef4333efe"
   },
   "outputs": [
    {
     "name": "stdout",
     "output_type": "stream",
     "text": [
      "for 0.0001 Train_f1_score: 0.0000, Cv_f1_score: 0.0000\n",
      "for 0.001 Train_f1_score: 0.0000, Cv_f1_score: 0.0000\n",
      "for 0.01 Train_f1_score: 0.0000, Cv_f1_score: 0.0000\n",
      "for 0.1 Train_f1_score: 0.4752, Cv_f1_score: 0.4741\n",
      "for 1 Train_f1_score: 0.7350, Cv_f1_score: 0.5554\n",
      "for 10 Train_f1_score: 0.9781, Cv_f1_score: 0.4929\n",
      "for 100 Train_f1_score: 0.9778, Cv_f1_score: 0.4817\n",
      "for 1000 Train_f1_score: 0.9780, Cv_f1_score: 0.4714\n",
      "best parameter : 1\n",
      "Accuracy : 0.39410369366316506\n",
      "Hamming loss  0.2793403366090591\n",
      "Micro-average :\n",
      "Precision: 0.5398, Recall: 0.6264, F1-measure: 0.5799\n",
      "CPU times: user 42.2 s, sys: 42 ms, total: 42.3 s\n",
      "Wall time: 42.2 s\n"
     ]
    }
   ],
   "source": [
    "%%time \n",
    "log_reg(tf_tr_uni_bi_tri_3,y_train_3,tf_cv_uni_bi_tri_3,y_cv_3,tf_te_uni_bi_tri_3,y_test_3)"
   ]
  },
  {
   "cell_type": "markdown",
   "metadata": {
    "colab_type": "text",
    "id": "ew0B5R0kuVEO"
   },
   "source": [
    "<h3> Logistic Regression 3-Tags TFIDF C3 + C4 Model </h3>"
   ]
  },
  {
   "cell_type": "code",
   "execution_count": 88,
   "metadata": {
    "colab": {
     "base_uri": "https://localhost:8080/",
     "height": 272
    },
    "colab_type": "code",
    "id": "P2KE6mE2uVV0",
    "outputId": "d333e495-39ac-4a2e-9d8e-910bfb0ffb56"
   },
   "outputs": [
    {
     "name": "stdout",
     "output_type": "stream",
     "text": [
      "for 0.0001 Train_f1_score: 0.0000, Cv_f1_score: 0.0000\n",
      "for 0.001 Train_f1_score: 0.0000, Cv_f1_score: 0.0000\n",
      "for 0.01 Train_f1_score: 0.0000, Cv_f1_score: 0.0000\n",
      "for 0.1 Train_f1_score: 0.4915, Cv_f1_score: 0.4653\n",
      "for 1 Train_f1_score: 0.6645, Cv_f1_score: 0.5519\n",
      "for 10 Train_f1_score: 0.9564, Cv_f1_score: 0.4927\n",
      "for 100 Train_f1_score: 0.9778, Cv_f1_score: 0.4626\n",
      "for 1000 Train_f1_score: 0.9780, Cv_f1_score: 0.4641\n",
      "best parameter : 1\n",
      "Accuracy : 0.38190443917316164\n",
      "Hamming loss  0.2878120411160059\n",
      "Micro-average :\n",
      "Precision: 0.5262, Recall: 0.6521, F1-measure: 0.5824\n",
      "CPU times: user 10min 12s, sys: 870 ms, total: 10min 13s\n",
      "Wall time: 10min 13s\n"
     ]
    }
   ],
   "source": [
    "%%time \n",
    "log_reg(tf_tr_c3_c4_3,y_train_3,tf_cv_c3_c4_3,y_cv_3,tf_te_c3_c4_3,y_test_3)"
   ]
  },
  {
   "cell_type": "markdown",
   "metadata": {
    "colab_type": "text",
    "id": "g-lfQ40yuVl3"
   },
   "source": [
    "<h3> Logistic Regression 3-Tags TFIDF UNI + BI + TRI + C3 + C4 Model </h3>"
   ]
  },
  {
   "cell_type": "code",
   "execution_count": 89,
   "metadata": {
    "colab": {
     "base_uri": "https://localhost:8080/",
     "height": 272
    },
    "colab_type": "code",
    "id": "juVCYs3HuV5s",
    "outputId": "df6c48bc-fc52-4ceb-991d-a8755d05cb97"
   },
   "outputs": [
    {
     "name": "stdout",
     "output_type": "stream",
     "text": [
      "for 0.0001 Train_f1_score: 0.0000, Cv_f1_score: 0.0000\n",
      "for 0.001 Train_f1_score: 0.0000, Cv_f1_score: 0.0000\n",
      "for 0.01 Train_f1_score: 0.0000, Cv_f1_score: 0.0000\n",
      "for 0.1 Train_f1_score: 0.4962, Cv_f1_score: 0.4718\n",
      "for 1 Train_f1_score: 0.7454, Cv_f1_score: 0.5648\n",
      "for 10 Train_f1_score: 0.9782, Cv_f1_score: 0.5009\n",
      "for 100 Train_f1_score: 0.9778, Cv_f1_score: 0.4884\n",
      "for 1000 Train_f1_score: 0.9780, Cv_f1_score: 0.4844\n",
      "best parameter : 1\n",
      "Accuracy : 0.4039308708912233\n",
      "Hamming loss  0.2757257426860951\n",
      "Micro-average :\n",
      "Precision: 0.5452, Recall: 0.6290, F1-measure: 0.5841\n",
      "CPU times: user 3min 25s, sys: 890 ms, total: 3min 26s\n",
      "Wall time: 3min 26s\n"
     ]
    }
   ],
   "source": [
    "%%time \n",
    "log_reg(tf_tr_u_b_t_c3_c4_3,y_train_3,tf_cv_u_b_t_c3_c4_3,y_cv_3,tf_te_u_b_t_c3_c4_3,y_test_3) "
   ]
  },
  {
   "cell_type": "markdown",
   "metadata": {
    "colab_type": "text",
    "id": "n23ob9KFTdB1"
   },
   "source": [
    "<h1> Logistic Regression TFIDF 5-Tag models</h1>"
   ]
  },
  {
   "cell_type": "markdown",
   "metadata": {
    "colab_type": "text",
    "id": "zzcaTMJ0by0d"
   },
   "source": [
    "<h3> Logistic Regression 5-Tags TFIDF UNI Grams Model </h3>"
   ]
  },
  {
   "cell_type": "code",
   "execution_count": 90,
   "metadata": {
    "colab": {
     "base_uri": "https://localhost:8080/",
     "height": 272
    },
    "colab_type": "code",
    "id": "vcvo106nTIMj",
    "outputId": "99a509ed-625e-401d-dafe-81e5e7ccdf11"
   },
   "outputs": [
    {
     "name": "stdout",
     "output_type": "stream",
     "text": [
      "for 0.0001 Train_f1_score: 0.0000, Cv_f1_score: 0.0000\n",
      "for 0.001 Train_f1_score: 0.0000, Cv_f1_score: 0.0000\n",
      "for 0.01 Train_f1_score: 0.0000, Cv_f1_score: 0.0000\n",
      "for 0.1 Train_f1_score: 0.4272, Cv_f1_score: 0.4247\n",
      "for 1 Train_f1_score: 0.6360, Cv_f1_score: 0.5159\n",
      "for 10 Train_f1_score: 0.9446, Cv_f1_score: 0.4590\n",
      "for 100 Train_f1_score: 0.9763, Cv_f1_score: 0.4336\n",
      "for 1000 Train_f1_score: 0.9763, Cv_f1_score: 0.4370\n",
      "best parameter : 1\n",
      "Accuracy : 0.19925449000338868\n",
      "Hamming loss  0.28397153507285666\n",
      "Micro-average :\n",
      "Precision: 0.4638, Recall: 0.6261, F1-measure: 0.5329\n",
      "CPU times: user 2min 25s, sys: 28 ms, total: 2min 25s\n",
      "Wall time: 2min 25s\n"
     ]
    }
   ],
   "source": [
    "%%time \n",
    "log_reg(xt_train_multilabel_5,y_train_5,xt_cv_multilabel_5,y_cv_5,xt_test_multilabel_5,y_test_5)"
   ]
  },
  {
   "cell_type": "markdown",
   "metadata": {
    "colab_type": "text",
    "id": "tM8rmruMb00j"
   },
   "source": [
    "<h3> Logistic Regression 5-Tags TFIDF BI Grams Model </h3>"
   ]
  },
  {
   "cell_type": "code",
   "execution_count": 91,
   "metadata": {
    "colab": {
     "base_uri": "https://localhost:8080/",
     "height": 272
    },
    "colab_type": "code",
    "id": "W30E801uTITq",
    "outputId": "e2fde7be-fe7d-4145-b6af-4d47e1d297b9"
   },
   "outputs": [
    {
     "name": "stdout",
     "output_type": "stream",
     "text": [
      "for 0.0001 Train_f1_score: 0.0000, Cv_f1_score: 0.0000\n",
      "for 0.001 Train_f1_score: 0.0000, Cv_f1_score: 0.0000\n",
      "for 0.01 Train_f1_score: 0.0000, Cv_f1_score: 0.0000\n",
      "for 0.1 Train_f1_score: 0.2815, Cv_f1_score: 0.2849\n",
      "for 1 Train_f1_score: 0.6267, Cv_f1_score: 0.4500\n",
      "for 10 Train_f1_score: 0.9681, Cv_f1_score: 0.3975\n",
      "for 100 Train_f1_score: 0.9762, Cv_f1_score: 0.3860\n",
      "for 1000 Train_f1_score: 0.9762, Cv_f1_score: 0.3828\n",
      "best parameter : 1\n",
      "Accuracy : 0.17926126736699424\n",
      "Hamming loss  0.302541511352084\n",
      "Micro-average :\n",
      "Precision: 0.4341, Recall: 0.5580, F1-measure: 0.4883\n",
      "CPU times: user 24 s, sys: 9 ms, total: 24 s\n",
      "Wall time: 24 s\n"
     ]
    }
   ],
   "source": [
    "%%time\n",
    "log_reg(xtb_train_multilabel_5,y_train_5,xtb_cv_multilabel_5,y_cv_5,xtb_test_multilabel_5,y_test_5)"
   ]
  },
  {
   "cell_type": "markdown",
   "metadata": {
    "colab_type": "text",
    "id": "5YrNnECtb3-R"
   },
   "source": [
    "<h3> Logistic Regression 5-Tags TFIDF TRI Grams Model </h3>"
   ]
  },
  {
   "cell_type": "code",
   "execution_count": 92,
   "metadata": {
    "colab": {
     "base_uri": "https://localhost:8080/",
     "height": 272
    },
    "colab_type": "code",
    "id": "4VeXCiezTIaG",
    "outputId": "bbb45583-8bbf-4bd2-f275-bdc2c63139e1"
   },
   "outputs": [
    {
     "name": "stdout",
     "output_type": "stream",
     "text": [
      "for 0.0001 Train_f1_score: 0.0000, Cv_f1_score: 0.0000\n",
      "for 0.001 Train_f1_score: 0.0000, Cv_f1_score: 0.0000\n",
      "for 0.01 Train_f1_score: 0.0000, Cv_f1_score: 0.0000\n",
      "for 0.1 Train_f1_score: 0.0118, Cv_f1_score: 0.0062\n",
      "for 1 Train_f1_score: 0.5785, Cv_f1_score: 0.3160\n",
      "for 10 Train_f1_score: 0.8599, Cv_f1_score: 0.3355\n",
      "for 100 Train_f1_score: 0.8982, Cv_f1_score: 0.3278\n",
      "for 1000 Train_f1_score: 0.8982, Cv_f1_score: 0.3274\n",
      "best parameter : 10\n",
      "Accuracy : 0.14029142663503896\n",
      "Hamming loss  0.3476787529650966\n",
      "Micro-average :\n",
      "Precision: 0.3421, Recall: 0.3725, F1-measure: 0.3567\n",
      "CPU times: user 10.4 s, sys: 5 ms, total: 10.4 s\n",
      "Wall time: 10.4 s\n"
     ]
    }
   ],
   "source": [
    "%%time\n",
    "log_reg(xtt_train_multilabel_5,y_train_5,xtt_cv_multilabel_5,y_cv_5,xtt_test_multilabel_5,y_test_5)"
   ]
  },
  {
   "cell_type": "markdown",
   "metadata": {
    "colab_type": "text",
    "id": "F_KWveZ2b594"
   },
   "source": [
    "<h3> Logistic Regression 5-Tags TFIDF CHAR-4 Grams Model </h3>"
   ]
  },
  {
   "cell_type": "code",
   "execution_count": 93,
   "metadata": {
    "colab": {
     "base_uri": "https://localhost:8080/",
     "height": 272
    },
    "colab_type": "code",
    "id": "2uvQiUutTIgo",
    "outputId": "ea054cfd-d906-434c-af64-cb0ed8553404"
   },
   "outputs": [
    {
     "name": "stdout",
     "output_type": "stream",
     "text": [
      "for 0.0001 Train_f1_score: 0.0000, Cv_f1_score: 0.0000\n",
      "for 0.001 Train_f1_score: 0.0000, Cv_f1_score: 0.0000\n",
      "for 0.01 Train_f1_score: 0.0000, Cv_f1_score: 0.0000\n",
      "for 0.1 Train_f1_score: 0.4463, Cv_f1_score: 0.4212\n",
      "for 1 Train_f1_score: 0.5993, Cv_f1_score: 0.4986\n",
      "for 10 Train_f1_score: 0.8898, Cv_f1_score: 0.4486\n",
      "for 100 Train_f1_score: 0.9763, Cv_f1_score: 0.4124\n",
      "for 1000 Train_f1_score: 0.9763, Cv_f1_score: 0.4078\n",
      "best parameter : 1\n",
      "Accuracy : 0.17993900372754998\n",
      "Hamming loss  0.29562860047441547\n",
      "Micro-average :\n",
      "Precision: 0.4496, Recall: 0.6364, F1-measure: 0.5269\n",
      "CPU times: user 25min 9s, sys: 690 ms, total: 25min 10s\n",
      "Wall time: 25min 10s\n"
     ]
    }
   ],
   "source": [
    "%%time \n",
    "log_reg(xtc_train_multilabel_5,y_train_5,xtc_cv_multilabel_5,y_cv_5,xtc_test_multilabel_5,y_test_5)"
   ]
  },
  {
   "cell_type": "markdown",
   "metadata": {
    "colab_type": "text",
    "id": "Jq8I4w-3b8hh"
   },
   "source": [
    "<h3> Logistic Regression 5-Tags TFIDF CHAR-5 Grams Model </h3>"
   ]
  },
  {
   "cell_type": "code",
   "execution_count": 94,
   "metadata": {
    "colab": {
     "base_uri": "https://localhost:8080/",
     "height": 272
    },
    "colab_type": "code",
    "id": "jBdn78_cuPHk",
    "outputId": "0dd20fc4-8b40-4d65-df47-bc9293c971de"
   },
   "outputs": [
    {
     "name": "stdout",
     "output_type": "stream",
     "text": [
      "for 0.0001 Train_f1_score: 0.0000, Cv_f1_score: 0.0000\n",
      "for 0.001 Train_f1_score: 0.0000, Cv_f1_score: 0.0000\n",
      "for 0.01 Train_f1_score: 0.0000, Cv_f1_score: 0.0000\n",
      "for 0.1 Train_f1_score: 0.4433, Cv_f1_score: 0.4251\n",
      "for 1 Train_f1_score: 0.6111, Cv_f1_score: 0.5191\n",
      "for 10 Train_f1_score: 0.9272, Cv_f1_score: 0.4502\n",
      "for 100 Train_f1_score: 0.9763, Cv_f1_score: 0.4205\n",
      "for 1000 Train_f1_score: 0.9764, Cv_f1_score: 0.4176\n",
      "best parameter : 1\n",
      "Accuracy : 0.19959335818366655\n",
      "Hamming loss  0.2878346323280244\n",
      "Micro-average :\n",
      "Precision: 0.4596, Recall: 0.6411, F1-measure: 0.5354\n",
      "CPU times: user 16min 55s, sys: 934 ms, total: 16min 56s\n",
      "Wall time: 16min 56s\n"
     ]
    }
   ],
   "source": [
    "%%time \n",
    "log_reg(xts_train_multilabel_5,y_train_5,xts_cv_multilabel_5,y_cv_5,xts_test_multilabel_5,y_test_5)"
   ]
  },
  {
   "cell_type": "markdown",
   "metadata": {
    "colab_type": "text",
    "id": "6GAxLV6LtxNi"
   },
   "source": [
    "<h3> Logistic Regression 5-Tags TFIDF UNI + BI + TRI  Model </h3>"
   ]
  },
  {
   "cell_type": "code",
   "execution_count": 95,
   "metadata": {
    "colab": {
     "base_uri": "https://localhost:8080/",
     "height": 272
    },
    "colab_type": "code",
    "id": "OHo03AkptxaQ",
    "outputId": "563c3884-2263-4677-b954-2814702c9e0e"
   },
   "outputs": [
    {
     "name": "stdout",
     "output_type": "stream",
     "text": [
      "for 0.0001 Train_f1_score: 0.0000, Cv_f1_score: 0.0000\n",
      "for 0.001 Train_f1_score: 0.0000, Cv_f1_score: 0.0000\n",
      "for 0.01 Train_f1_score: 0.0000, Cv_f1_score: 0.0000\n",
      "for 0.1 Train_f1_score: 0.4279, Cv_f1_score: 0.4280\n",
      "for 1 Train_f1_score: 0.7223, Cv_f1_score: 0.5050\n",
      "for 10 Train_f1_score: 0.9762, Cv_f1_score: 0.4507\n",
      "for 100 Train_f1_score: 0.9763, Cv_f1_score: 0.4370\n",
      "for 1000 Train_f1_score: 0.9764, Cv_f1_score: 0.4286\n",
      "best parameter : 1\n",
      "Accuracy : 0.2121314808539478\n",
      "Hamming loss  0.27665198237885463\n",
      "Micro-average :\n",
      "Precision: 0.4723, Recall: 0.5916, F1-measure: 0.5252\n",
      "CPU times: user 1min 6s, sys: 41 ms, total: 1min 6s\n",
      "Wall time: 1min 6s\n"
     ]
    }
   ],
   "source": [
    "%%time\n",
    "log_reg(tf_tr_uni_bi_tri_5,y_train_5,tf_cv_uni_bi_tri_5,y_cv_5,tf_te_uni_bi_tri_5,y_test_5)"
   ]
  },
  {
   "cell_type": "markdown",
   "metadata": {
    "colab_type": "text",
    "id": "5C5G-rh_tzhJ"
   },
   "source": [
    "<h3> Logistic Regression 5-Tags TFIDF C3 + C4 Model </h3>"
   ]
  },
  {
   "cell_type": "code",
   "execution_count": 96,
   "metadata": {
    "colab": {
     "base_uri": "https://localhost:8080/",
     "height": 272
    },
    "colab_type": "code",
    "id": "yymuWJd1tx0I",
    "outputId": "44665b21-a44b-4717-f0fd-46b7b486bbf1"
   },
   "outputs": [
    {
     "name": "stdout",
     "output_type": "stream",
     "text": [
      "for 0.0001 Train_f1_score: 0.0000, Cv_f1_score: 0.0000\n",
      "for 0.001 Train_f1_score: 0.0000, Cv_f1_score: 0.0000\n",
      "for 0.01 Train_f1_score: 0.0000, Cv_f1_score: 0.0000\n",
      "for 0.1 Train_f1_score: 0.4518, Cv_f1_score: 0.4304\n",
      "for 1 Train_f1_score: 0.6289, Cv_f1_score: 0.5107\n",
      "for 10 Train_f1_score: 0.9526, Cv_f1_score: 0.4470\n",
      "for 100 Train_f1_score: 0.9763, Cv_f1_score: 0.4258\n",
      "for 1000 Train_f1_score: 0.9764, Cv_f1_score: 0.4194\n",
      "best parameter : 1\n",
      "Accuracy : 0.19823788546255505\n",
      "Hamming loss  0.2885801423246357\n",
      "Micro-average :\n",
      "Precision: 0.4584, Recall: 0.6364, F1-measure: 0.5329\n",
      "CPU times: user 16min 31s, sys: 1.46 s, total: 16min 33s\n",
      "Wall time: 16min 33s\n"
     ]
    }
   ],
   "source": [
    "%%time \n",
    "log_reg(tf_tr_c3_c4_5,y_train_5,tf_cv_c3_c4_5,y_cv_5,tf_te_c3_c4_5,y_test_5)"
   ]
  },
  {
   "cell_type": "markdown",
   "metadata": {
    "colab_type": "text",
    "id": "TUlCyXO_tyDg"
   },
   "source": [
    "<h3> Logistic Regression 5-Tags TFIDF UNI + BI + TRI + C3 + C4 Model </h3>"
   ]
  },
  {
   "cell_type": "code",
   "execution_count": 97,
   "metadata": {
    "colab": {
     "base_uri": "https://localhost:8080/",
     "height": 272
    },
    "colab_type": "code",
    "id": "aCBTJHyqtyQm",
    "outputId": "ce237448-b41f-476f-aa35-1205235d5454"
   },
   "outputs": [
    {
     "name": "stdout",
     "output_type": "stream",
     "text": [
      "for 0.0001 Train_f1_score: 0.0000, Cv_f1_score: 0.0000\n",
      "for 0.001 Train_f1_score: 0.0000, Cv_f1_score: 0.0000\n",
      "for 0.01 Train_f1_score: 0.0000, Cv_f1_score: 0.0000\n",
      "for 0.1 Train_f1_score: 0.4548, Cv_f1_score: 0.4326\n",
      "for 1 Train_f1_score: 0.7310, Cv_f1_score: 0.5145\n",
      "for 10 Train_f1_score: 0.9764, Cv_f1_score: 0.4588\n",
      "for 100 Train_f1_score: 0.9763, Cv_f1_score: 0.4473\n",
      "for 1000 Train_f1_score: 0.9764, Cv_f1_score: 0.4370\n",
      "best parameter : 1\n",
      "Accuracy : 0.21619789901728229\n",
      "Hamming loss  0.27245001694340903\n",
      "Micro-average :\n",
      "Precision: 0.4788, Recall: 0.6018, F1-measure: 0.5333\n",
      "CPU times: user 5min 41s, sys: 1.53 s, total: 5min 42s\n",
      "Wall time: 5min 42s\n"
     ]
    }
   ],
   "source": [
    "%%time\n",
    "log_reg(tf_tr_u_b_t_c3_c4_5,y_train_5,tf_cv_u_b_t_c3_c4_5,y_cv_5,tf_te_u_b_t_c3_c4_5,y_test_5) "
   ]
  },
  {
   "cell_type": "markdown",
   "metadata": {
    "colab_type": "text",
    "id": "tIVzwimFQkgS"
   },
   "source": [
    "<h2> SGD with hinge (SVM)  </h2>"
   ]
  },
  {
   "cell_type": "code",
   "execution_count": 0,
   "metadata": {
    "colab": {},
    "colab_type": "code",
    "id": "fYHkE_SVuPPb"
   },
   "outputs": [],
   "source": [
    "#hyperparameter tuning\n",
    "def sgd_hinge(x_train,y_train,x_cv,y_cv,x_test,y_test):\n",
    "  train_f1 = []\n",
    "  cv_f1 = []\n",
    "  parameters=[0.0001,0.001,0.01,0.1,1,10,100,1000]\n",
    "  for i in parameters:\n",
    "    classifier = OneVsRestClassifier(SGDClassifier(loss='hinge',alpha=i, penalty='l1',class_weight='balanced'))\n",
    "    classifier.fit(x_train, y_train)\n",
    "    train_predictions = classifier.predict(x_train)\n",
    "    train_f1_score = f1_score(y_train, train_predictions, average='micro')\n",
    "    train_f1.append(train_f1_score)\n",
    "    cv_predictions = classifier.predict(x_cv)\n",
    "    cv_f1_score = f1_score(y_cv, cv_predictions, average='micro')\n",
    "    cv_f1.append(cv_f1_score)\n",
    "    print(\"for\",i,    \"Train_f1_score: {:.4f}, Cv_f1_score: {:.4f}\".format(train_f1_score, cv_f1_score))\n",
    "  best_estimators = np.argmax(cv_f1)\n",
    "  print('best parameter :',parameters[best_estimators])\n",
    "  #modeling with best hyperparameter \n",
    "  classifier2 = OneVsRestClassifier(SGDClassifier(loss='hinge',alpha=parameters[best_estimators],penalty='l1',class_weight='balanced'))\n",
    "  classifier2.fit(x_train, y_train)\n",
    "  predictions = classifier2.predict(x_test)\n",
    "\n",
    "  print(\"Accuracy :\",metrics.accuracy_score(y_test, predictions))\n",
    "  print(\"Hamming loss \",metrics.hamming_loss(y_test,predictions))\n",
    "\n",
    "  precision = precision_score(y_test, predictions, average='micro')\n",
    "  recall = recall_score(y_test, predictions, average='micro')\n",
    "  f1 = f1_score(y_test, predictions, average='micro')\n",
    "  \n",
    "  print(\"Micro-average :\")\n",
    "  print(\"Precision: {:.4f}, Recall: {:.4f}, F1-measure: {:.4f}\".format(precision, recall, f1)) "
   ]
  },
  {
   "cell_type": "markdown",
   "metadata": {
    "colab_type": "text",
    "id": "gSPwN_Kfb_31"
   },
   "source": [
    "<h3> SVM 3-Tags BOW UNI Grams Model </h3>"
   ]
  },
  {
   "cell_type": "code",
   "execution_count": 99,
   "metadata": {
    "colab": {
     "base_uri": "https://localhost:8080/",
     "height": 272
    },
    "colab_type": "code",
    "id": "GgmcKqepuPNG",
    "outputId": "580ab73a-6942-44c5-f812-2ff9df8307f4"
   },
   "outputs": [
    {
     "name": "stdout",
     "output_type": "stream",
     "text": [
      "for 0.0001 Train_f1_score: 0.9200, Cv_f1_score: 0.4751\n",
      "for 0.001 Train_f1_score: 0.7470, Cv_f1_score: 0.4829\n",
      "for 0.01 Train_f1_score: 0.5360, Cv_f1_score: 0.4880\n",
      "for 0.1 Train_f1_score: 0.3648, Cv_f1_score: 0.3493\n",
      "for 1 Train_f1_score: 0.4762, Cv_f1_score: 0.4643\n",
      "for 10 Train_f1_score: 0.4765, Cv_f1_score: 0.4646\n",
      "for 100 Train_f1_score: 0.3158, Cv_f1_score: 0.3146\n",
      "for 1000 Train_f1_score: 0.3158, Cv_f1_score: 0.3146\n",
      "best parameter : 0.01\n",
      "Accuracy : 0.2399186716367333\n",
      "Hamming loss  0.38111374675251325\n",
      "Micro-average :\n",
      "Precision: 0.4199, Recall: 0.6246, F1-measure: 0.5022\n",
      "CPU times: user 5min 46s, sys: 32 ms, total: 5min 46s\n",
      "Wall time: 5min 46s\n"
     ]
    }
   ],
   "source": [
    "%%time \n",
    "sgd_hinge(xb_train_multilabel_3,y_train_3,xb_cv_multilabel_3,y_cv_3,xb_test_multilabel_3,y_test_3)"
   ]
  },
  {
   "cell_type": "markdown",
   "metadata": {
    "colab_type": "text",
    "id": "ak2x0sgIcD2n"
   },
   "source": [
    "<h3> SVM 3-Tags BOW BI Grams Model </h3>"
   ]
  },
  {
   "cell_type": "code",
   "execution_count": 100,
   "metadata": {
    "colab": {
     "base_uri": "https://localhost:8080/",
     "height": 272
    },
    "colab_type": "code",
    "id": "IaJnfwHFT3rq",
    "outputId": "a3eaf204-c15a-40cb-8505-0be3e70a4aeb"
   },
   "outputs": [
    {
     "name": "stdout",
     "output_type": "stream",
     "text": [
      "for 0.0001 Train_f1_score: 0.9450, Cv_f1_score: 0.4379\n",
      "for 0.001 Train_f1_score: 0.6036, Cv_f1_score: 0.4533\n",
      "for 0.01 Train_f1_score: 0.3002, Cv_f1_score: 0.2764\n",
      "for 0.1 Train_f1_score: 0.3196, Cv_f1_score: 0.3180\n",
      "for 1 Train_f1_score: 0.2120, Cv_f1_score: 0.2033\n",
      "for 10 Train_f1_score: 0.4131, Cv_f1_score: 0.4011\n",
      "for 100 Train_f1_score: 0.0000, Cv_f1_score: 0.0000\n",
      "for 1000 Train_f1_score: 0.3158, Cv_f1_score: 0.3146\n",
      "best parameter : 0.001\n",
      "Accuracy : 0.3751270755676042\n",
      "Hamming loss  0.29334688806054443\n",
      "Micro-average :\n",
      "Precision: 0.5260, Recall: 0.4760, F1-measure: 0.4997\n",
      "CPU times: user 9.85 s, sys: 8 ms, total: 9.86 s\n",
      "Wall time: 9.86 s\n"
     ]
    }
   ],
   "source": [
    "%%time\n",
    "sgd_hinge(xb2_train_multilabel_3,y_train_3,xb2_cv_multilabel_3,y_cv_3,xb2_test_multilabel_3,y_test_3)"
   ]
  },
  {
   "cell_type": "markdown",
   "metadata": {
    "colab_type": "text",
    "id": "XZp1w11acLBI"
   },
   "source": [
    "<h3> SVM 3-Tags BOW TRI Grams Model </h3>"
   ]
  },
  {
   "cell_type": "code",
   "execution_count": 101,
   "metadata": {
    "colab": {
     "base_uri": "https://localhost:8080/",
     "height": 272
    },
    "colab_type": "code",
    "id": "FDkimfSDT32R",
    "outputId": "728c0f9e-45d0-4afe-f826-399c541c6c4b"
   },
   "outputs": [
    {
     "name": "stdout",
     "output_type": "stream",
     "text": [
      "for 0.0001 Train_f1_score: 0.5086, Cv_f1_score: 0.3043\n",
      "for 0.001 Train_f1_score: 0.2311, Cv_f1_score: 0.1532\n",
      "for 0.01 Train_f1_score: 0.2122, Cv_f1_score: 0.2037\n",
      "for 0.1 Train_f1_score: 0.4131, Cv_f1_score: 0.4011\n",
      "for 1 Train_f1_score: 0.4087, Cv_f1_score: 0.3923\n",
      "for 10 Train_f1_score: 0.4131, Cv_f1_score: 0.4011\n",
      "for 100 Train_f1_score: 0.0000, Cv_f1_score: 0.0000\n",
      "for 1000 Train_f1_score: 0.2120, Cv_f1_score: 0.2033\n",
      "best parameter : 0.1\n",
      "Accuracy : 0.10776008132836326\n",
      "Hamming loss  0.43375127075567604\n",
      "Micro-average :\n",
      "Precision: 0.3111, Recall: 0.3369, F1-measure: 0.3235\n",
      "CPU times: user 392 ms, sys: 1 ms, total: 393 ms\n",
      "Wall time: 388 ms\n"
     ]
    }
   ],
   "source": [
    "%%time\n",
    "sgd_hinge(xb3_train_multilabel_3,y_train_3,xb3_cv_multilabel_3,y_cv_3,xb3_test_multilabel_3,y_test_3)"
   ]
  },
  {
   "cell_type": "markdown",
   "metadata": {
    "colab_type": "text",
    "id": "WLhlu7yecNTM"
   },
   "source": [
    "<h3> SVM 3-Tags BOW CHAR-3 Grams Model </h3>"
   ]
  },
  {
   "cell_type": "code",
   "execution_count": 102,
   "metadata": {
    "colab": {
     "base_uri": "https://localhost:8080/",
     "height": 272
    },
    "colab_type": "code",
    "id": "QMec1mEfT393",
    "outputId": "95a94a6c-d64c-4554-9f9e-7caa264f70f4"
   },
   "outputs": [
    {
     "name": "stdout",
     "output_type": "stream",
     "text": [
      "for 0.0001 Train_f1_score: 0.7989, Cv_f1_score: 0.4680\n",
      "for 0.001 Train_f1_score: 0.6681, Cv_f1_score: 0.4825\n",
      "for 0.01 Train_f1_score: 0.5531, Cv_f1_score: 0.4679\n",
      "for 0.1 Train_f1_score: 0.4762, Cv_f1_score: 0.4444\n",
      "for 1 Train_f1_score: 0.4133, Cv_f1_score: 0.4042\n",
      "for 10 Train_f1_score: 0.3158, Cv_f1_score: 0.3146\n",
      "for 100 Train_f1_score: 0.4131, Cv_f1_score: 0.4011\n",
      "for 1000 Train_f1_score: 0.4131, Cv_f1_score: 0.4011\n",
      "best parameter : 0.001\n",
      "Accuracy : 0.28871568959674687\n",
      "Hamming loss  0.3524229074889868\n",
      "Micro-average :\n",
      "Precision: 0.4438, Recall: 0.5725, F1-measure: 0.5000\n",
      "CPU times: user 28min 57s, sys: 118 ms, total: 28min 57s\n",
      "Wall time: 28min 58s\n"
     ]
    }
   ],
   "source": [
    "%%time \n",
    "sgd_hinge(xbc_train_multilabel_3,y_train_3,xbc_cv_multilabel_3,y_cv_3,xbc_test_multilabel_3,y_test_3)"
   ]
  },
  {
   "cell_type": "markdown",
   "metadata": {
    "colab_type": "text",
    "id": "7d1I9fhxcPp_"
   },
   "source": [
    "<h3> SVM 3-Tags BOW CHAR-4 Grams Model </h3>"
   ]
  },
  {
   "cell_type": "code",
   "execution_count": 103,
   "metadata": {
    "colab": {
     "base_uri": "https://localhost:8080/",
     "height": 272
    },
    "colab_type": "code",
    "id": "An45Ss6RT4KA",
    "outputId": "16ec3734-fd9b-4439-a691-850b2418db17"
   },
   "outputs": [
    {
     "name": "stdout",
     "output_type": "stream",
     "text": [
      "for 0.0001 Train_f1_score: 0.9017, Cv_f1_score: 0.4565\n",
      "for 0.001 Train_f1_score: 0.7522, Cv_f1_score: 0.4703\n",
      "for 0.01 Train_f1_score: 0.5773, Cv_f1_score: 0.4912\n",
      "for 0.1 Train_f1_score: 0.4479, Cv_f1_score: 0.4440\n",
      "for 1 Train_f1_score: 0.3718, Cv_f1_score: 0.3743\n",
      "for 10 Train_f1_score: 0.4087, Cv_f1_score: 0.3923\n",
      "for 100 Train_f1_score: 0.4570, Cv_f1_score: 0.4416\n",
      "for 1000 Train_f1_score: 0.4087, Cv_f1_score: 0.3923\n",
      "best parameter : 0.01\n",
      "Accuracy : 0.2616062351745171\n",
      "Hamming loss  0.37591776798825255\n",
      "Micro-average :\n",
      "Precision: 0.4255, Recall: 0.6316, F1-measure: 0.5084\n",
      "CPU times: user 40min 1s, sys: 95.9 ms, total: 40min 1s\n",
      "Wall time: 40min 2s\n"
     ]
    }
   ],
   "source": [
    "%%time\n",
    "sgd_hinge(xbs_train_multilabel_3,y_train_3,xbs_cv_multilabel_3,y_cv_3,xbs_test_multilabel_3,y_test_3)"
   ]
  },
  {
   "cell_type": "markdown",
   "metadata": {
    "colab_type": "text",
    "id": "v8w_PrqkxWWe"
   },
   "source": [
    "<h3> SVM 3-Tags BOW UNI + BI + TRI  Model </h3>"
   ]
  },
  {
   "cell_type": "code",
   "execution_count": 104,
   "metadata": {
    "colab": {
     "base_uri": "https://localhost:8080/",
     "height": 272
    },
    "colab_type": "code",
    "id": "J58SUaz2xWku",
    "outputId": "b3539db8-260c-469c-9be8-4016a25aff65"
   },
   "outputs": [
    {
     "name": "stdout",
     "output_type": "stream",
     "text": [
      "for 0.0001 Train_f1_score: 0.9319, Cv_f1_score: 0.4869\n",
      "for 0.001 Train_f1_score: 0.7495, Cv_f1_score: 0.4885\n",
      "for 0.01 Train_f1_score: 0.5240, Cv_f1_score: 0.4737\n",
      "for 0.1 Train_f1_score: 0.4006, Cv_f1_score: 0.3870\n",
      "for 1 Train_f1_score: 0.4135, Cv_f1_score: 0.4016\n",
      "for 10 Train_f1_score: 0.4131, Cv_f1_score: 0.4011\n",
      "for 100 Train_f1_score: 0.4131, Cv_f1_score: 0.4011\n",
      "for 1000 Train_f1_score: 0.0000, Cv_f1_score: 0.0000\n",
      "best parameter : 0.001\n",
      "Accuracy : 0.31548627583869876\n",
      "Hamming loss  0.33525358635490793\n",
      "Micro-average :\n",
      "Precision: 0.4640, Recall: 0.5743, F1-measure: 0.5133\n",
      "CPU times: user 7min 44s, sys: 8.06 s, total: 7min 52s\n",
      "Wall time: 7min 43s\n"
     ]
    }
   ],
   "source": [
    "%%time \n",
    "sgd_hinge(bow_tr_uni_bi_tri_3,y_train_3,bow_cv_uni_bi_tri_3,y_cv_3,bow_te_uni_bi_tri_3,y_test_3)"
   ]
  },
  {
   "cell_type": "markdown",
   "metadata": {
    "colab_type": "text",
    "id": "u0tJGC3xxW-e"
   },
   "source": [
    "<h3> SVM 3-Tags BOW C3 + C4 Model </h3>"
   ]
  },
  {
   "cell_type": "code",
   "execution_count": 105,
   "metadata": {
    "colab": {
     "base_uri": "https://localhost:8080/",
     "height": 272
    },
    "colab_type": "code",
    "id": "8O3kRQ7nxXVc",
    "outputId": "708d8e11-a4ff-4f69-d3b6-84b96b5039ec"
   },
   "outputs": [
    {
     "name": "stdout",
     "output_type": "stream",
     "text": [
      "for 0.0001 Train_f1_score: 0.8913, Cv_f1_score: 0.4584\n",
      "for 0.001 Train_f1_score: 0.6914, Cv_f1_score: 0.4785\n",
      "for 0.01 Train_f1_score: 0.5630, Cv_f1_score: 0.4874\n",
      "for 0.1 Train_f1_score: 0.4498, Cv_f1_score: 0.4333\n",
      "for 1 Train_f1_score: 0.3384, Cv_f1_score: 0.3300\n",
      "for 10 Train_f1_score: 0.2120, Cv_f1_score: 0.2033\n",
      "for 100 Train_f1_score: 0.4765, Cv_f1_score: 0.4646\n",
      "for 1000 Train_f1_score: 0.4131, Cv_f1_score: 0.4011\n",
      "best parameter : 0.01\n",
      "Accuracy : 0.25245679430701456\n",
      "Hamming loss  0.37106065740426974\n",
      "Micro-average :\n",
      "Precision: 0.4274, Recall: 0.6048, F1-measure: 0.5008\n",
      "CPU times: user 1h 13min 9s, sys: 8.14 s, total: 1h 13min 17s\n",
      "Wall time: 1h 13min 9s\n"
     ]
    }
   ],
   "source": [
    "%%time  \n",
    "sgd_hinge(bow_tr_c3_c4_3,y_train_3,bow_cv_c3_c4_3,y_cv_3,bow_te_c3_c4_3,y_test_3) "
   ]
  },
  {
   "cell_type": "markdown",
   "metadata": {
    "colab_type": "text",
    "id": "Uh62RuT0xXrS"
   },
   "source": [
    "<h3> SVM 3-Tags BOW UNI + BI + TRI + C3 + C4 Model </h3>"
   ]
  },
  {
   "cell_type": "code",
   "execution_count": 106,
   "metadata": {
    "colab": {
     "base_uri": "https://localhost:8080/",
     "height": 272
    },
    "colab_type": "code",
    "id": "xsMCc0g0xYLW",
    "outputId": "e91df378-bb56-4511-90bb-02ccc678246c"
   },
   "outputs": [
    {
     "name": "stdout",
     "output_type": "stream",
     "text": [
      "for 0.0001 Train_f1_score: 0.8866, Cv_f1_score: 0.4617\n",
      "for 0.001 Train_f1_score: 0.7306, Cv_f1_score: 0.4830\n",
      "for 0.01 Train_f1_score: 0.5757, Cv_f1_score: 0.4700\n",
      "for 0.1 Train_f1_score: 0.4593, Cv_f1_score: 0.4398\n",
      "for 1 Train_f1_score: 0.4178, Cv_f1_score: 0.4032\n",
      "for 10 Train_f1_score: 0.4131, Cv_f1_score: 0.4011\n",
      "for 100 Train_f1_score: 0.2120, Cv_f1_score: 0.2033\n",
      "for 1000 Train_f1_score: 0.4131, Cv_f1_score: 0.4011\n",
      "best parameter : 0.001\n",
      "Accuracy : 0.3066757031514741\n",
      "Hamming loss  0.33434993787416695\n",
      "Micro-average :\n",
      "Precision: 0.4649, Recall: 0.5714, F1-measure: 0.5127\n",
      "CPU times: user 1h 28min 33s, sys: 8.24 s, total: 1h 28min 41s\n",
      "Wall time: 1h 28min 33s\n"
     ]
    }
   ],
   "source": [
    "%%time \n",
    "sgd_hinge(bow_tr_u_b_t_c3_c4_3,y_train_3,bow_cv_u_b_t_c3_c4_3,y_cv_3,bow_te_u_b_t_c3_c4_3,y_test_3) "
   ]
  },
  {
   "cell_type": "markdown",
   "metadata": {
    "colab_type": "text",
    "id": "1FVYXt5GVRdX"
   },
   "source": [
    "<h1>SVM BOW 5-Tags Models</h1>"
   ]
  },
  {
   "cell_type": "markdown",
   "metadata": {
    "colab_type": "text",
    "id": "QFCGTYZDcShU"
   },
   "source": [
    "<h3> SVM 5-Tags BOW UNI Grams Model </h3>"
   ]
  },
  {
   "cell_type": "code",
   "execution_count": 110,
   "metadata": {
    "colab": {
     "base_uri": "https://localhost:8080/",
     "height": 272
    },
    "colab_type": "code",
    "id": "apvdgMsLT4Xz",
    "outputId": "11981da7-bafb-4b75-f2da-82d7f0391595"
   },
   "outputs": [
    {
     "name": "stdout",
     "output_type": "stream",
     "text": [
      "for 0.0001 Train_f1_score: 0.9128, Cv_f1_score: 0.4264\n",
      "for 0.001 Train_f1_score: 0.7356, Cv_f1_score: 0.4431\n",
      "for 0.01 Train_f1_score: 0.4820, Cv_f1_score: 0.4438\n",
      "for 0.1 Train_f1_score: 0.4368, Cv_f1_score: 0.4280\n",
      "for 1 Train_f1_score: 0.3331, Cv_f1_score: 0.3265\n",
      "for 10 Train_f1_score: 0.0000, Cv_f1_score: 0.0000\n",
      "for 100 Train_f1_score: 0.3498, Cv_f1_score: 0.3364\n",
      "for 1000 Train_f1_score: 0.0000, Cv_f1_score: 0.0000\n",
      "best parameter : 0.01\n",
      "Accuracy : 0.09352761775669265\n",
      "Hamming loss  0.3817011182649949\n",
      "Micro-average :\n",
      "Precision: 0.3610, Recall: 0.6175, F1-measure: 0.4556\n",
      "CPU times: user 9min 3s, sys: 43 ms, total: 9min 3s\n",
      "Wall time: 9min 3s\n"
     ]
    }
   ],
   "source": [
    "%%time \n",
    "sgd_hinge(xb_train_multilabel_5,y_train_5,xb_cv_multilabel_5,y_cv_5,xb_test_multilabel_5,y_test_5) "
   ]
  },
  {
   "cell_type": "markdown",
   "metadata": {
    "colab_type": "text",
    "id": "NPzuMoNhcUK-"
   },
   "source": [
    "<h3> SVM 5-Tags BOW BI Grams Model </h3>"
   ]
  },
  {
   "cell_type": "code",
   "execution_count": 111,
   "metadata": {
    "colab": {
     "base_uri": "https://localhost:8080/",
     "height": 272
    },
    "colab_type": "code",
    "id": "vZGO5QA7T4ev",
    "outputId": "2fd0ced7-3a30-46e1-eec1-84262c44a957"
   },
   "outputs": [
    {
     "name": "stdout",
     "output_type": "stream",
     "text": [
      "for 0.0001 Train_f1_score: 0.9380, Cv_f1_score: 0.3850\n",
      "for 0.001 Train_f1_score: 0.5742, Cv_f1_score: 0.4133\n",
      "for 0.01 Train_f1_score: 0.3108, Cv_f1_score: 0.2872\n",
      "for 0.1 Train_f1_score: 0.2635, Cv_f1_score: 0.2625\n",
      "for 1 Train_f1_score: 0.3442, Cv_f1_score: 0.3338\n",
      "for 10 Train_f1_score: 0.0000, Cv_f1_score: 0.0000\n",
      "for 100 Train_f1_score: 0.1737, Cv_f1_score: 0.1814\n",
      "for 1000 Train_f1_score: 0.0000, Cv_f1_score: 0.0000\n",
      "best parameter : 0.001\n",
      "Accuracy : 0.17756692646560487\n",
      "Hamming loss  0.3007793968146391\n",
      "Micro-average :\n",
      "Precision: 0.4255, Recall: 0.4642, F1-measure: 0.4440\n",
      "CPU times: user 18.1 s, sys: 17 ms, total: 18.1 s\n",
      "Wall time: 18.1 s\n"
     ]
    }
   ],
   "source": [
    "%%time\n",
    "sgd_hinge(xb2_train_multilabel_5,y_train_5,xb2_cv_multilabel_5,y_cv_5,xb2_test_multilabel_5,y_test_5)"
   ]
  },
  {
   "cell_type": "markdown",
   "metadata": {
    "colab_type": "text",
    "id": "0GiZ9w00cWk2"
   },
   "source": [
    "<h3> SVM 5-Tags BOW TRI Grams Model </h3>"
   ]
  },
  {
   "cell_type": "code",
   "execution_count": 112,
   "metadata": {
    "colab": {
     "base_uri": "https://localhost:8080/",
     "height": 272
    },
    "colab_type": "code",
    "id": "T7yBprsIT4mI",
    "outputId": "bf8c0a04-3418-4b18-c77e-c2965c17b650"
   },
   "outputs": [
    {
     "name": "stdout",
     "output_type": "stream",
     "text": [
      "for 0.0001 Train_f1_score: 0.4906, Cv_f1_score: 0.2960\n",
      "for 0.001 Train_f1_score: 0.2390, Cv_f1_score: 0.1739\n",
      "for 0.01 Train_f1_score: 0.3625, Cv_f1_score: 0.3570\n",
      "for 0.1 Train_f1_score: 0.2315, Cv_f1_score: 0.2313\n",
      "for 1 Train_f1_score: 0.3442, Cv_f1_score: 0.3338\n",
      "for 10 Train_f1_score: 0.0000, Cv_f1_score: 0.0000\n",
      "for 100 Train_f1_score: 0.3442, Cv_f1_score: 0.3338\n",
      "for 1000 Train_f1_score: 0.2936, Cv_f1_score: 0.2868\n",
      "best parameter : 0.01\n",
      "Accuracy : 0.028126058963063368\n",
      "Hamming loss  0.4134869535750593\n",
      "Micro-average :\n",
      "Precision: 0.3076, Recall: 0.4784, F1-measure: 0.3744\n",
      "CPU times: user 652 ms, sys: 5 ms, total: 657 ms\n",
      "Wall time: 649 ms\n"
     ]
    }
   ],
   "source": [
    "%%time\n",
    "sgd_hinge(xb3_train_multilabel_5,y_train_5,xb3_cv_multilabel_5,y_cv_5,xb3_test_multilabel_5,y_test_5)"
   ]
  },
  {
   "cell_type": "markdown",
   "metadata": {
    "colab_type": "text",
    "id": "F7OX1C4xcZk6"
   },
   "source": [
    "<h3> SVM 5-Tags BOW CHAR-4 Grams Model </h3>"
   ]
  },
  {
   "cell_type": "code",
   "execution_count": 72,
   "metadata": {
    "colab": {
     "base_uri": "https://localhost:8080/",
     "height": 272
    },
    "colab_type": "code",
    "id": "fynFJAtYT4Hc",
    "outputId": "5b841531-384c-4d48-ec23-5a0d3597ae4e"
   },
   "outputs": [
    {
     "name": "stdout",
     "output_type": "stream",
     "text": [
      "for 0.0001 Train_f1_score: 0.7835, Cv_f1_score: 0.4230\n",
      "for 0.001 Train_f1_score: 0.6267, Cv_f1_score: 0.4391\n",
      "for 0.01 Train_f1_score: 0.5123, Cv_f1_score: 0.4271\n",
      "for 0.1 Train_f1_score: 0.4192, Cv_f1_score: 0.3961\n",
      "for 1 Train_f1_score: 0.4049, Cv_f1_score: 0.3914\n",
      "for 10 Train_f1_score: 0.0544, Cv_f1_score: 0.0595\n",
      "for 100 Train_f1_score: 0.0000, Cv_f1_score: 0.0000\n",
      "for 1000 Train_f1_score: 0.3442, Cv_f1_score: 0.3338\n",
      "best parameter : 0.001\n",
      "Accuracy : 0.13317519484920365\n",
      "Hamming loss  0.3447644866147069\n",
      "Micro-average :\n",
      "Precision: 0.3849, Recall: 0.5562, F1-measure: 0.4549\n",
      "CPU times: user 46min 36s, sys: 186 ms, total: 46min 36s\n",
      "Wall time: 46min 37s\n"
     ]
    }
   ],
   "source": [
    "%%time \n",
    "sgd_hinge(xbc_train_multilabel_5,y_train_5,xbc_cv_multilabel_5,y_cv_5,xbc_test_multilabel_5,y_test_5)"
   ]
  },
  {
   "cell_type": "markdown",
   "metadata": {
    "colab_type": "text",
    "id": "m9yl6-emcbfb"
   },
   "source": [
    "<h3> SVM 5-Tags BOW CHAR-5 Grams Model </h3>"
   ]
  },
  {
   "cell_type": "code",
   "execution_count": 73,
   "metadata": {
    "colab": {
     "base_uri": "https://localhost:8080/",
     "height": 272
    },
    "colab_type": "code",
    "id": "B_IVM-0gUIO7",
    "outputId": "9f2971e7-514b-4f87-83b4-5c243f503671"
   },
   "outputs": [
    {
     "name": "stdout",
     "output_type": "stream",
     "text": [
      "for 0.0001 Train_f1_score: 0.8807, Cv_f1_score: 0.4296\n",
      "for 0.001 Train_f1_score: 0.7099, Cv_f1_score: 0.4399\n",
      "for 0.01 Train_f1_score: 0.5315, Cv_f1_score: 0.4276\n",
      "for 0.1 Train_f1_score: 0.3966, Cv_f1_score: 0.3857\n",
      "for 1 Train_f1_score: 0.2908, Cv_f1_score: 0.2871\n",
      "for 10 Train_f1_score: 0.4076, Cv_f1_score: 0.3946\n",
      "for 100 Train_f1_score: 0.3677, Cv_f1_score: 0.3568\n",
      "for 1000 Train_f1_score: 0.4214, Cv_f1_score: 0.4108\n",
      "best parameter : 0.001\n",
      "Accuracy : 0.14096916299559473\n",
      "Hamming loss  0.3314130803117587\n",
      "Micro-average :\n",
      "Precision: 0.3974, Recall: 0.5447, F1-measure: 0.4595\n",
      "CPU times: user 1h 7min 2s, sys: 304 ms, total: 1h 7min 3s\n",
      "Wall time: 1h 7min 4s\n"
     ]
    }
   ],
   "source": [
    "%%time \n",
    "sgd_hinge(xbs_train_multilabel_5,y_train_5,xbs_cv_multilabel_5,y_cv_5,xbs_test_multilabel_5,y_test_5)"
   ]
  },
  {
   "cell_type": "markdown",
   "metadata": {
    "colab_type": "text",
    "id": "c5Ixo_viyFiH"
   },
   "source": [
    "<h3> SVM 5-Tags BOW UNI + BI + TRI  Model </h3>"
   ]
  },
  {
   "cell_type": "code",
   "execution_count": 76,
   "metadata": {
    "colab": {
     "base_uri": "https://localhost:8080/",
     "height": 272
    },
    "colab_type": "code",
    "id": "tkXWWmzkyFwW",
    "outputId": "44e5839d-3789-433c-b342-83183c2e728f"
   },
   "outputs": [
    {
     "name": "stdout",
     "output_type": "stream",
     "text": [
      "for 0.0001 Train_f1_score: 0.9197, Cv_f1_score: 0.4157\n",
      "for 0.001 Train_f1_score: 0.7242, Cv_f1_score: 0.4473\n",
      "for 0.01 Train_f1_score: 0.4664, Cv_f1_score: 0.4230\n",
      "for 0.1 Train_f1_score: 0.3994, Cv_f1_score: 0.3883\n",
      "for 1 Train_f1_score: 0.4155, Cv_f1_score: 0.4031\n",
      "for 10 Train_f1_score: 0.3498, Cv_f1_score: 0.3364\n",
      "for 100 Train_f1_score: 0.4165, Cv_f1_score: 0.4026\n",
      "for 1000 Train_f1_score: 0.0000, Cv_f1_score: 0.0000\n",
      "best parameter : 0.001\n",
      "Accuracy : 0.13927482209420536\n",
      "Hamming loss  0.3343273466621484\n",
      "Micro-average :\n",
      "Precision: 0.3927, Recall: 0.5352, F1-measure: 0.4530\n",
      "CPU times: user 933 ms, sys: 882 ms, total: 1.81 s\n",
      "Wall time: 7min 20s\n"
     ]
    }
   ],
   "source": [
    "%%time \n",
    "sgd_hinge(bow_tr_uni_bi_tri_5,y_train_5,bow_cv_uni_bi_tri_5,y_cv_5,bow_te_uni_bi_tri_5,y_test_5)"
   ]
  },
  {
   "cell_type": "markdown",
   "metadata": {
    "colab_type": "text",
    "id": "_vaxzNxdyGF3"
   },
   "source": [
    "<h3> SVM 5-Tags BOW C3 +C4 Model </h3>"
   ]
  },
  {
   "cell_type": "code",
   "execution_count": 77,
   "metadata": {
    "colab": {
     "base_uri": "https://localhost:8080/",
     "height": 272
    },
    "colab_type": "code",
    "id": "hEe6jN7vyGjx",
    "outputId": "5cd08a43-6b9e-490a-a5ab-efd23850fd3e"
   },
   "outputs": [
    {
     "name": "stdout",
     "output_type": "stream",
     "text": [
      "for 0.0001 Train_f1_score: 0.8613, Cv_f1_score: 0.4133\n",
      "for 0.001 Train_f1_score: 0.6631, Cv_f1_score: 0.4261\n",
      "for 0.01 Train_f1_score: 0.5285, Cv_f1_score: 0.4357\n",
      "for 0.1 Train_f1_score: 0.4099, Cv_f1_score: 0.3879\n",
      "for 1 Train_f1_score: 0.3885, Cv_f1_score: 0.3831\n",
      "for 10 Train_f1_score: 0.2351, Cv_f1_score: 0.2348\n",
      "for 100 Train_f1_score: 0.3442, Cv_f1_score: 0.3338\n",
      "for 1000 Train_f1_score: 0.3442, Cv_f1_score: 0.3338\n",
      "best parameter : 0.01\n",
      "Accuracy : 0.09081667231446967\n",
      "Hamming loss  0.380887834632328\n",
      "Micro-average :\n",
      "Precision: 0.3580, Recall: 0.5955, F1-measure: 0.4472\n",
      "CPU times: user 5.11 s, sys: 2.04 s, total: 7.14 s\n",
      "Wall time: 59min 8s\n"
     ]
    }
   ],
   "source": [
    "%%time \n",
    "sgd_hinge(bow_tr_c3_c4_5,y_train_5,bow_cv_c3_c4_5,y_cv_5,bow_te_c3_c4_5,y_test_5)"
   ]
  },
  {
   "cell_type": "markdown",
   "metadata": {
    "colab_type": "text",
    "id": "wYeCXn7ayG6h"
   },
   "source": [
    "<h3> SVM 5-Tags BOW UNI + BI + TRI + C3 + C4 Model </h3>"
   ]
  },
  {
   "cell_type": "code",
   "execution_count": 65,
   "metadata": {
    "colab": {
     "base_uri": "https://localhost:8080/",
     "height": 272
    },
    "colab_type": "code",
    "id": "yKJ7NQTTyHM0",
    "outputId": "f8a36df1-0412-4962-c5f6-d5fa70639cee"
   },
   "outputs": [
    {
     "name": "stdout",
     "output_type": "stream",
     "text": [
      "for 0.0001 Train_f1_score: 0.8732, Cv_f1_score: 0.4302\n",
      "for 0.001 Train_f1_score: 0.7255, Cv_f1_score: 0.4362\n",
      "for 0.01 Train_f1_score: 0.5099, Cv_f1_score: 0.4361\n",
      "for 0.1 Train_f1_score: 0.4072, Cv_f1_score: 0.3917\n",
      "for 1 Train_f1_score: 0.2545, Cv_f1_score: 0.2490\n",
      "for 10 Train_f1_score: 0.1599, Cv_f1_score: 0.1540\n",
      "for 100 Train_f1_score: 0.4214, Cv_f1_score: 0.4108\n",
      "for 1000 Train_f1_score: 0.0000, Cv_f1_score: 0.0000\n",
      "best parameter : 0.001\n",
      "Accuracy : 0.14977973568281938\n",
      "Hamming loss  0.3282954930532023\n",
      "Micro-average :\n",
      "Precision: 0.4011, Recall: 0.5457, F1-measure: 0.4624\n",
      "CPU times: user 2h 18min 4s, sys: 13.9 s, total: 2h 18min 18s\n",
      "Wall time: 2h 18min 6s\n"
     ]
    }
   ],
   "source": [
    "%%time \n",
    "sgd_hinge(bow_tr_u_b_t_c3_c4_5,y_train_5,bow_cv_u_b_t_c3_c4_5,y_cv_5,bow_te_u_b_t_c3_c4_5,y_test_5) "
   ]
  },
  {
   "cell_type": "markdown",
   "metadata": {
    "colab_type": "text",
    "id": "rfBGE2JGFg4h"
   },
   "source": [
    "<h1> SVM TFIDF 3-Tag Models</h1>"
   ]
  },
  {
   "cell_type": "markdown",
   "metadata": {
    "colab_type": "text",
    "id": "lPQP9xou_gwr"
   },
   "source": [
    "<h3> SVM 3-Tags TFIDF UNI Gram Model </h3>"
   ]
  },
  {
   "cell_type": "code",
   "execution_count": 66,
   "metadata": {
    "colab": {
     "base_uri": "https://localhost:8080/",
     "height": 272
    },
    "colab_type": "code",
    "id": "teGlIQ-1_xYv",
    "outputId": "baa84776-c947-4292-857b-7cff49e15e7a"
   },
   "outputs": [
    {
     "name": "stdout",
     "output_type": "stream",
     "text": [
      "for 0.0001 Train_f1_score: 0.7368, Cv_f1_score: 0.5524\n",
      "for 0.001 Train_f1_score: 0.4621, Cv_f1_score: 0.4585\n",
      "for 0.01 Train_f1_score: 0.4765, Cv_f1_score: 0.4646\n",
      "for 0.1 Train_f1_score: 0.3158, Cv_f1_score: 0.3146\n",
      "for 1 Train_f1_score: 0.2120, Cv_f1_score: 0.2033\n",
      "for 10 Train_f1_score: 0.0000, Cv_f1_score: 0.0000\n",
      "for 100 Train_f1_score: 0.4131, Cv_f1_score: 0.4011\n",
      "for 1000 Train_f1_score: 0.0000, Cv_f1_score: 0.0000\n",
      "best parameter : 0.0001\n",
      "Accuracy : 0.3690274483226025\n",
      "Hamming loss  0.29436349260137806\n",
      "Micro-average :\n",
      "Precision: 0.5178, Recall: 0.6352, F1-measure: 0.5705\n",
      "CPU times: user 7.33 s, sys: 6 ms, total: 7.34 s\n",
      "Wall time: 7.33 s\n"
     ]
    }
   ],
   "source": [
    "%%time\n",
    "sgd_hinge(xt_train_multilabel_3,y_train_3,xt_cv_multilabel_3,y_cv_3,xt_test_multilabel_3,y_test_3) "
   ]
  },
  {
   "cell_type": "markdown",
   "metadata": {
    "colab_type": "text",
    "id": "edKO9kvyC1fl"
   },
   "source": [
    "<h3> SVM 3-Tags TFIDF Bi Gram  Model </h3>"
   ]
  },
  {
   "cell_type": "code",
   "execution_count": 67,
   "metadata": {
    "colab": {
     "base_uri": "https://localhost:8080/",
     "height": 272
    },
    "colab_type": "code",
    "id": "sT2FNM1z_xjS",
    "outputId": "74b163b0-ba2e-4e71-8708-24117c3f191c"
   },
   "outputs": [
    {
     "name": "stdout",
     "output_type": "stream",
     "text": [
      "for 0.0001 Train_f1_score: 0.7625, Cv_f1_score: 0.4904\n",
      "for 0.001 Train_f1_score: 0.2511, Cv_f1_score: 0.2477\n",
      "for 0.01 Train_f1_score: 0.4131, Cv_f1_score: 0.4011\n",
      "for 0.1 Train_f1_score: 0.4570, Cv_f1_score: 0.4416\n",
      "for 1 Train_f1_score: 0.4765, Cv_f1_score: 0.4646\n",
      "for 10 Train_f1_score: 0.4765, Cv_f1_score: 0.4646\n",
      "for 100 Train_f1_score: 0.0000, Cv_f1_score: 0.0000\n",
      "for 1000 Train_f1_score: 0.0000, Cv_f1_score: 0.0000\n",
      "best parameter : 0.0001\n",
      "Accuracy : 0.35072856658759743\n",
      "Hamming loss  0.3091607364735118\n",
      "Micro-average :\n",
      "Precision: 0.4980, Recall: 0.5523, F1-measure: 0.5238\n",
      "CPU times: user 1.52 s, sys: 1.01 ms, total: 1.52 s\n",
      "Wall time: 1.52 s\n"
     ]
    }
   ],
   "source": [
    "%%time\n",
    "sgd_hinge(xtb_train_multilabel_3,y_train_3,xtb_cv_multilabel_3,y_cv_3,xtb_test_multilabel_3,y_test_3)"
   ]
  },
  {
   "cell_type": "markdown",
   "metadata": {
    "colab_type": "text",
    "id": "4zj1kWhfC67N"
   },
   "source": [
    "<h3> SVM 3-Tags TFIDF TRI  Gram Model </h3>"
   ]
  },
  {
   "cell_type": "code",
   "execution_count": 68,
   "metadata": {
    "colab": {
     "base_uri": "https://localhost:8080/",
     "height": 272
    },
    "colab_type": "code",
    "id": "OecfQHO-_xs3",
    "outputId": "20a5afb6-4f9e-444f-ee43-8e745c8b6d47"
   },
   "outputs": [
    {
     "name": "stdout",
     "output_type": "stream",
     "text": [
      "for 0.0001 Train_f1_score: 0.6760, Cv_f1_score: 0.3305\n",
      "for 0.001 Train_f1_score: 0.0475, Cv_f1_score: 0.0280\n",
      "for 0.01 Train_f1_score: 0.2120, Cv_f1_score: 0.2033\n",
      "for 0.1 Train_f1_score: 0.4087, Cv_f1_score: 0.3923\n",
      "for 1 Train_f1_score: 0.4131, Cv_f1_score: 0.4011\n",
      "for 10 Train_f1_score: 0.4131, Cv_f1_score: 0.4011\n",
      "for 100 Train_f1_score: 0.0000, Cv_f1_score: 0.0000\n",
      "for 1000 Train_f1_score: 0.4131, Cv_f1_score: 0.4011\n",
      "best parameter : 1\n",
      "Accuracy : 0.12368688580142324\n",
      "Hamming loss  0.49508641138597087\n",
      "Micro-average :\n",
      "Precision: 0.3595, Recall: 0.7787, F1-measure: 0.4919\n",
      "CPU times: user 537 ms, sys: 4 ms, total: 541 ms\n",
      "Wall time: 537 ms\n"
     ]
    }
   ],
   "source": [
    "%%time\n",
    "sgd_hinge(xtt_train_multilabel_3,y_train_3,xtt_cv_multilabel_3,y_cv_3,xtt_test_multilabel_3,y_test_3)"
   ]
  },
  {
   "cell_type": "markdown",
   "metadata": {
    "colab_type": "text",
    "id": "DVTiqfnNDGol"
   },
   "source": [
    "<h3> SVM 3-Tags TFIDF Char-3  Model </h3>"
   ]
  },
  {
   "cell_type": "code",
   "execution_count": 69,
   "metadata": {
    "colab": {
     "base_uri": "https://localhost:8080/",
     "height": 272
    },
    "colab_type": "code",
    "id": "gOA4yJzV_x2R",
    "outputId": "493c2d1a-fbd0-4000-84fb-0906a39483fa"
   },
   "outputs": [
    {
     "name": "stdout",
     "output_type": "stream",
     "text": [
      "for 0.0001 Train_f1_score: 0.6957, Cv_f1_score: 0.5331\n",
      "for 0.001 Train_f1_score: 0.4696, Cv_f1_score: 0.4527\n",
      "for 0.01 Train_f1_score: 0.0000, Cv_f1_score: 0.0000\n",
      "for 0.1 Train_f1_score: 0.0000, Cv_f1_score: 0.0000\n",
      "for 1 Train_f1_score: 0.3451, Cv_f1_score: 0.3362\n",
      "for 10 Train_f1_score: 0.4765, Cv_f1_score: 0.4646\n",
      "for 100 Train_f1_score: 0.4765, Cv_f1_score: 0.4646\n",
      "for 1000 Train_f1_score: 0.0000, Cv_f1_score: 0.0000\n",
      "best parameter : 0.0001\n",
      "Accuracy : 0.3497119620467638\n",
      "Hamming loss  0.3090477804134192\n",
      "Micro-average :\n",
      "Precision: 0.4985, Recall: 0.6528, F1-measure: 0.5653\n",
      "CPU times: user 27.2 s, sys: 7.98 ms, total: 27.2 s\n",
      "Wall time: 27.2 s\n"
     ]
    }
   ],
   "source": [
    "%%time \n",
    "sgd_hinge(xtc_train_multilabel_3,y_train_3,xtc_cv_multilabel_3,y_cv_3,xtc_test_multilabel_3,y_test_3)"
   ]
  },
  {
   "cell_type": "markdown",
   "metadata": {
    "colab_type": "text",
    "id": "vQioC4RNDK5w"
   },
   "source": [
    "<h3> SVM 3-Tags TFIDF Char-4  Model </h3>"
   ]
  },
  {
   "cell_type": "code",
   "execution_count": 70,
   "metadata": {
    "colab": {
     "base_uri": "https://localhost:8080/",
     "height": 272
    },
    "colab_type": "code",
    "id": "TmlRB0Qe_x-o",
    "outputId": "629b2ee0-b3a1-4760-b36f-a29b3dbdf2aa"
   },
   "outputs": [
    {
     "name": "stdout",
     "output_type": "stream",
     "text": [
      "for 0.0001 Train_f1_score: 0.7089, Cv_f1_score: 0.5543\n",
      "for 0.001 Train_f1_score: 0.4866, Cv_f1_score: 0.4614\n",
      "for 0.01 Train_f1_score: 0.4131, Cv_f1_score: 0.4011\n",
      "for 0.1 Train_f1_score: 0.0000, Cv_f1_score: 0.0000\n",
      "for 1 Train_f1_score: 0.4131, Cv_f1_score: 0.4011\n",
      "for 10 Train_f1_score: 0.0000, Cv_f1_score: 0.0000\n",
      "for 100 Train_f1_score: 0.0000, Cv_f1_score: 0.0000\n",
      "for 1000 Train_f1_score: 0.3158, Cv_f1_score: 0.3146\n",
      "best parameter : 0.0001\n",
      "Accuracy : 0.38224330735343953\n",
      "Hamming loss  0.290184118377951\n",
      "Micro-average :\n",
      "Precision: 0.5228, Recall: 0.6558, F1-measure: 0.5818\n",
      "CPU times: user 39 s, sys: 10 ms, total: 39 s\n",
      "Wall time: 39 s\n"
     ]
    }
   ],
   "source": [
    "%%time \n",
    "sgd_hinge(xts_train_multilabel_3,y_train_3,xts_cv_multilabel_3,y_cv_3,xts_test_multilabel_3,y_test_3)"
   ]
  },
  {
   "cell_type": "markdown",
   "metadata": {
    "colab_type": "text",
    "id": "vI__qJIzDOk0"
   },
   "source": [
    "<h3> SVM 3-Tags TFIDF UNI + BI + TRI Model </h3>"
   ]
  },
  {
   "cell_type": "code",
   "execution_count": 71,
   "metadata": {
    "colab": {
     "base_uri": "https://localhost:8080/",
     "height": 272
    },
    "colab_type": "code",
    "id": "JLRJaIaQ_5Ac",
    "outputId": "34d637b0-dab4-4f75-a140-61479cde66fa"
   },
   "outputs": [
    {
     "name": "stdout",
     "output_type": "stream",
     "text": [
      "for 0.0001 Train_f1_score: 0.8482, Cv_f1_score: 0.5242\n",
      "for 0.001 Train_f1_score: 0.4687, Cv_f1_score: 0.4560\n",
      "for 0.01 Train_f1_score: 0.4087, Cv_f1_score: 0.3923\n",
      "for 0.1 Train_f1_score: 0.4087, Cv_f1_score: 0.3923\n",
      "for 1 Train_f1_score: 0.2120, Cv_f1_score: 0.2033\n",
      "for 10 Train_f1_score: 0.4131, Cv_f1_score: 0.4011\n",
      "for 100 Train_f1_score: 0.4765, Cv_f1_score: 0.4646\n",
      "for 1000 Train_f1_score: 0.0000, Cv_f1_score: 0.0000\n",
      "best parameter : 0.0001\n",
      "Accuracy : 0.3832599118942731\n",
      "Hamming loss  0.2897322941375805\n",
      "Micro-average :\n",
      "Precision: 0.5260, Recall: 0.5934, F1-measure: 0.5577\n",
      "CPU times: user 13.2 s, sys: 8.03 s, total: 21.3 s\n",
      "Wall time: 11.9 s\n"
     ]
    }
   ],
   "source": [
    "%%time\n",
    "sgd_hinge(tf_tr_uni_bi_tri_3,y_train_3,tf_cv_uni_bi_tri_3,y_cv_3,tf_te_uni_bi_tri_3,y_test_3)"
   ]
  },
  {
   "cell_type": "markdown",
   "metadata": {
    "colab_type": "text",
    "id": "eefZLbjZDS7b"
   },
   "source": [
    "<h3> SVM 3-Tags TFIDF C3 + C4  Model </h3>"
   ]
  },
  {
   "cell_type": "code",
   "execution_count": 72,
   "metadata": {
    "colab": {
     "base_uri": "https://localhost:8080/",
     "height": 272
    },
    "colab_type": "code",
    "id": "u2P_4AOq_5Kf",
    "outputId": "44911cee-c593-4b6c-b3f9-1976d17837ce"
   },
   "outputs": [
    {
     "name": "stdout",
     "output_type": "stream",
     "text": [
      "for 0.0001 Train_f1_score: 0.7292, Cv_f1_score: 0.5427\n",
      "for 0.001 Train_f1_score: 0.5003, Cv_f1_score: 0.4717\n",
      "for 0.01 Train_f1_score: 0.4765, Cv_f1_score: 0.4646\n",
      "for 0.1 Train_f1_score: 0.4087, Cv_f1_score: 0.3923\n",
      "for 1 Train_f1_score: 0.3451, Cv_f1_score: 0.3362\n",
      "for 10 Train_f1_score: 0.4570, Cv_f1_score: 0.4416\n",
      "for 100 Train_f1_score: 0.0000, Cv_f1_score: 0.0000\n",
      "for 1000 Train_f1_score: 0.4765, Cv_f1_score: 0.4646\n",
      "best parameter : 0.0001\n",
      "Accuracy : 0.37953236191121653\n",
      "Hamming loss  0.29323393200045184\n",
      "Micro-average :\n",
      "Precision: 0.5190, Recall: 0.6451, F1-measure: 0.5753\n",
      "CPU times: user 1min 11s, sys: 8.03 s, total: 1min 19s\n",
      "Wall time: 1min 10s\n"
     ]
    }
   ],
   "source": [
    "%%time \n",
    "sgd_hinge(tf_tr_c3_c4_3,y_train_3,tf_cv_c3_c4_3,y_cv_3,tf_te_c3_c4_3,y_test_3)"
   ]
  },
  {
   "cell_type": "markdown",
   "metadata": {
    "colab_type": "text",
    "id": "_LIPyGnyDVlU"
   },
   "source": [
    "<h3> SVM 3-Tags TFIDF UNI + BI + TRI + C3 + C4  Model </h3>"
   ]
  },
  {
   "cell_type": "code",
   "execution_count": 73,
   "metadata": {
    "colab": {
     "base_uri": "https://localhost:8080/",
     "height": 272
    },
    "colab_type": "code",
    "id": "Kz1cbWVR_5UC",
    "outputId": "48051fb9-374e-4727-b31c-b1dbc23d3891"
   },
   "outputs": [
    {
     "name": "stdout",
     "output_type": "stream",
     "text": [
      "for 0.0001 Train_f1_score: 0.8537, Cv_f1_score: 0.5344\n",
      "for 0.001 Train_f1_score: 0.5302, Cv_f1_score: 0.5148\n",
      "for 0.01 Train_f1_score: 0.3158, Cv_f1_score: 0.3146\n",
      "for 0.1 Train_f1_score: 0.4131, Cv_f1_score: 0.4011\n",
      "for 1 Train_f1_score: 0.3158, Cv_f1_score: 0.3146\n",
      "for 10 Train_f1_score: 0.4087, Cv_f1_score: 0.3923\n",
      "for 100 Train_f1_score: 0.0000, Cv_f1_score: 0.0000\n",
      "for 1000 Train_f1_score: 0.0000, Cv_f1_score: 0.0000\n",
      "best parameter : 0.0001\n",
      "Accuracy : 0.37309386648593695\n",
      "Hamming loss  0.29041003049813624\n",
      "Micro-average :\n",
      "Precision: 0.5244, Recall: 0.6062, F1-measure: 0.5624\n",
      "CPU times: user 1min 37s, sys: 8.02 s, total: 1min 45s\n",
      "Wall time: 1min 35s\n"
     ]
    }
   ],
   "source": [
    "%%time \n",
    "sgd_hinge(tf_tr_u_b_t_c3_c4_3,y_train_3,tf_cv_u_b_t_c3_c4_3,y_cv_3,tf_te_u_b_t_c3_c4_3,y_test_3) "
   ]
  },
  {
   "cell_type": "markdown",
   "metadata": {
    "colab_type": "text",
    "id": "y2gJSY27FUw0"
   },
   "source": [
    "<h1>SVM TFIDF  5-Tag Models</h1>"
   ]
  },
  {
   "cell_type": "markdown",
   "metadata": {
    "colab_type": "text",
    "id": "M9bPSBEqA0XU"
   },
   "source": [
    "<h3> SVM 5-Tags TFIDF UNI gram </h3>"
   ]
  },
  {
   "cell_type": "code",
   "execution_count": 74,
   "metadata": {
    "colab": {
     "base_uri": "https://localhost:8080/",
     "height": 272
    },
    "colab_type": "code",
    "id": "kuCj6YRE_5jg",
    "outputId": "f74854a7-0e96-4b26-c6cc-d485020716d7"
   },
   "outputs": [
    {
     "name": "stdout",
     "output_type": "stream",
     "text": [
      "for 0.0001 Train_f1_score: 0.7120, Cv_f1_score: 0.5032\n",
      "for 0.001 Train_f1_score: 0.4214, Cv_f1_score: 0.4173\n",
      "for 0.01 Train_f1_score: 0.4062, Cv_f1_score: 0.3910\n",
      "for 0.1 Train_f1_score: 0.3052, Cv_f1_score: 0.2973\n",
      "for 1 Train_f1_score: 0.1737, Cv_f1_score: 0.1814\n",
      "for 10 Train_f1_score: 0.0000, Cv_f1_score: 0.0000\n",
      "for 100 Train_f1_score: 0.2336, Cv_f1_score: 0.2229\n",
      "for 1000 Train_f1_score: 0.3442, Cv_f1_score: 0.3338\n",
      "best parameter : 0.0001\n",
      "Accuracy : 0.19010504913588613\n",
      "Hamming loss  0.29461199593358184\n",
      "Micro-average :\n",
      "Precision: 0.4488, Recall: 0.6083, F1-measure: 0.5165\n",
      "CPU times: user 13.4 s, sys: 2.98 ms, total: 13.4 s\n",
      "Wall time: 13.4 s\n"
     ]
    }
   ],
   "source": [
    "%%time\n",
    "sgd_hinge(xt_train_multilabel_5,y_train_5,xt_cv_multilabel_5,y_cv_5,xt_test_multilabel_5,y_test_5) "
   ]
  },
  {
   "cell_type": "markdown",
   "metadata": {
    "colab_type": "text",
    "id": "qqVtLjQPDdfr"
   },
   "source": [
    "<h3> SVM 5-Tags TFIDF BI gram </h3>"
   ]
  },
  {
   "cell_type": "code",
   "execution_count": 75,
   "metadata": {
    "colab": {
     "base_uri": "https://localhost:8080/",
     "height": 272
    },
    "colab_type": "code",
    "id": "igQ3vDqdA7V_",
    "outputId": "f8cbf41d-6fd4-4903-fb74-d491de089919"
   },
   "outputs": [
    {
     "name": "stdout",
     "output_type": "stream",
     "text": [
      "for 0.0001 Train_f1_score: 0.7459, Cv_f1_score: 0.4492\n",
      "for 0.001 Train_f1_score: 0.2162, Cv_f1_score: 0.2118\n",
      "for 0.01 Train_f1_score: 0.2936, Cv_f1_score: 0.2868\n",
      "for 0.1 Train_f1_score: 0.4214, Cv_f1_score: 0.4108\n",
      "for 1 Train_f1_score: 0.3593, Cv_f1_score: 0.3554\n",
      "for 10 Train_f1_score: 0.0000, Cv_f1_score: 0.0000\n",
      "for 100 Train_f1_score: 0.3498, Cv_f1_score: 0.3364\n",
      "for 1000 Train_f1_score: 0.4076, Cv_f1_score: 0.3946\n",
      "best parameter : 0.0001\n",
      "Accuracy : 0.1809556082683836\n",
      "Hamming loss  0.29962724500169435\n",
      "Micro-average :\n",
      "Precision: 0.4366, Recall: 0.5444, F1-measure: 0.4846\n",
      "CPU times: user 2.48 s, sys: 7.99 ms, total: 2.49 s\n",
      "Wall time: 2.49 s\n"
     ]
    }
   ],
   "source": [
    "%%time\n",
    "sgd_hinge(xtb_train_multilabel_5,y_train_5,xtb_cv_multilabel_5,y_cv_5,xtb_test_multilabel_5,y_test_5)"
   ]
  },
  {
   "cell_type": "markdown",
   "metadata": {
    "colab_type": "text",
    "id": "Z3X_Qx4FDfQj"
   },
   "source": [
    "<h3> SVM 5-Tags TFIDF TRI gram </h3>"
   ]
  },
  {
   "cell_type": "code",
   "execution_count": 76,
   "metadata": {
    "colab": {
     "base_uri": "https://localhost:8080/",
     "height": 272
    },
    "colab_type": "code",
    "id": "T0wkQ91YA7gm",
    "outputId": "265fbc46-0727-4f69-efcb-640a5f856e63"
   },
   "outputs": [
    {
     "name": "stdout",
     "output_type": "stream",
     "text": [
      "for 0.0001 Train_f1_score: 0.6637, Cv_f1_score: 0.3176\n",
      "for 0.001 Train_f1_score: 0.0674, Cv_f1_score: 0.0440\n",
      "for 0.01 Train_f1_score: 0.4149, Cv_f1_score: 0.4090\n",
      "for 0.1 Train_f1_score: 0.3498, Cv_f1_score: 0.3364\n",
      "for 1 Train_f1_score: 0.4149, Cv_f1_score: 0.4090\n",
      "for 10 Train_f1_score: 0.3442, Cv_f1_score: 0.3338\n",
      "for 100 Train_f1_score: 0.0000, Cv_f1_score: 0.0000\n",
      "for 1000 Train_f1_score: 0.3442, Cv_f1_score: 0.3338\n",
      "best parameter : 0.01\n",
      "Accuracy : 0.00711623178583531\n",
      "Hamming loss  0.7413080311758726\n",
      "Micro-average :\n",
      "Precision: 0.2587, Recall: 1.0000, F1-measure: 0.4110\n",
      "CPU times: user 921 ms, sys: 7 ms, total: 928 ms\n",
      "Wall time: 924 ms\n"
     ]
    }
   ],
   "source": [
    "%%time\n",
    "sgd_hinge(xtt_train_multilabel_5,y_train_5,xtt_cv_multilabel_5,y_cv_5,xtt_test_multilabel_5,y_test_5)"
   ]
  },
  {
   "cell_type": "markdown",
   "metadata": {
    "colab_type": "text",
    "id": "DN8oCoeCDg1q"
   },
   "source": [
    "<h3> SVM 5-Tags TFIDF CHAR-3 gram </h3>"
   ]
  },
  {
   "cell_type": "code",
   "execution_count": 77,
   "metadata": {
    "colab": {
     "base_uri": "https://localhost:8080/",
     "height": 272
    },
    "colab_type": "code",
    "id": "zw5ty1RDA7ro",
    "outputId": "971d916b-1c2d-4abb-d952-22b224adabf5"
   },
   "outputs": [
    {
     "name": "stdout",
     "output_type": "stream",
     "text": [
      "for 0.0001 Train_f1_score: 0.6629, Cv_f1_score: 0.4998\n",
      "for 0.001 Train_f1_score: 0.4451, Cv_f1_score: 0.4229\n",
      "for 0.01 Train_f1_score: 0.4049, Cv_f1_score: 0.3962\n",
      "for 0.1 Train_f1_score: 0.3690, Cv_f1_score: 0.3603\n",
      "for 1 Train_f1_score: 0.2431, Cv_f1_score: 0.2418\n",
      "for 10 Train_f1_score: 0.0000, Cv_f1_score: 0.0000\n",
      "for 100 Train_f1_score: 0.2336, Cv_f1_score: 0.2229\n",
      "for 1000 Train_f1_score: 0.3442, Cv_f1_score: 0.3338\n",
      "best parameter : 0.0001\n",
      "Accuracy : 0.16807861741782446\n",
      "Hamming loss  0.3066757031514741\n",
      "Micro-average :\n",
      "Precision: 0.4366, Recall: 0.6387, F1-measure: 0.5187\n",
      "CPU times: user 46.2 s, sys: 12 ms, total: 46.2 s\n",
      "Wall time: 46.2 s\n"
     ]
    }
   ],
   "source": [
    "%%time\n",
    "sgd_hinge(xtc_train_multilabel_5,y_train_5,xtc_cv_multilabel_5,y_cv_5,xtc_test_multilabel_5,y_test_5)"
   ]
  },
  {
   "cell_type": "markdown",
   "metadata": {
    "colab_type": "text",
    "id": "UtguXFPzDj9M"
   },
   "source": [
    "<h3> SVM 5-Tags TFIDF CHAR-4 gram </h3>"
   ]
  },
  {
   "cell_type": "code",
   "execution_count": 78,
   "metadata": {
    "colab": {
     "base_uri": "https://localhost:8080/",
     "height": 272
    },
    "colab_type": "code",
    "id": "fEy4W4nrA8GL",
    "outputId": "e3b2f919-3cf0-4135-c93d-81144ab5ce08"
   },
   "outputs": [
    {
     "name": "stdout",
     "output_type": "stream",
     "text": [
      "for 0.0001 Train_f1_score: 0.6783, Cv_f1_score: 0.5110\n",
      "for 0.001 Train_f1_score: 0.4574, Cv_f1_score: 0.4460\n",
      "for 0.01 Train_f1_score: 0.3329, Cv_f1_score: 0.3262\n",
      "for 0.1 Train_f1_score: 0.3614, Cv_f1_score: 0.3470\n",
      "for 1 Train_f1_score: 0.3329, Cv_f1_score: 0.3262\n",
      "for 10 Train_f1_score: 0.2936, Cv_f1_score: 0.2868\n",
      "for 100 Train_f1_score: 0.3442, Cv_f1_score: 0.3338\n",
      "for 1000 Train_f1_score: 0.0000, Cv_f1_score: 0.0000\n",
      "best parameter : 0.0001\n",
      "Accuracy : 0.19823788546255505\n",
      "Hamming loss  0.2935953913927482\n",
      "Micro-average :\n",
      "Precision: 0.4524, Recall: 0.6411, F1-measure: 0.5305\n",
      "CPU times: user 1min 2s, sys: 10 ms, total: 1min 2s\n",
      "Wall time: 1min 2s\n"
     ]
    }
   ],
   "source": [
    "%%time \n",
    "sgd_hinge(xts_train_multilabel_5,y_train_5,xts_cv_multilabel_5,y_cv_5,xts_test_multilabel_5,y_test_5)"
   ]
  },
  {
   "cell_type": "markdown",
   "metadata": {
    "colab_type": "text",
    "id": "uHMEbvjdDmR8"
   },
   "source": [
    "<h3> SVM 5-Tags TFIDF UNI + BI + TRI gram </h3>"
   ]
  },
  {
   "cell_type": "code",
   "execution_count": 79,
   "metadata": {
    "colab": {
     "base_uri": "https://localhost:8080/",
     "height": 272
    },
    "colab_type": "code",
    "id": "fYdFVkMD_5tu",
    "outputId": "9b0abc68-4ea6-409f-a919-cfe80cb60801"
   },
   "outputs": [
    {
     "name": "stdout",
     "output_type": "stream",
     "text": [
      "for 0.0001 Train_f1_score: 0.8369, Cv_f1_score: 0.4797\n",
      "for 0.001 Train_f1_score: 0.4190, Cv_f1_score: 0.4033\n",
      "for 0.01 Train_f1_score: 0.3601, Cv_f1_score: 0.3523\n",
      "for 0.1 Train_f1_score: 0.3259, Cv_f1_score: 0.3224\n",
      "for 1 Train_f1_score: 0.4214, Cv_f1_score: 0.4108\n",
      "for 10 Train_f1_score: 0.3442, Cv_f1_score: 0.3338\n",
      "for 100 Train_f1_score: 0.0000, Cv_f1_score: 0.0000\n",
      "for 1000 Train_f1_score: 0.3442, Cv_f1_score: 0.3338\n",
      "best parameter : 0.0001\n",
      "Accuracy : 0.1941714672992206\n",
      "Hamming loss  0.28851236868858016\n",
      "Micro-average :\n",
      "Precision: 0.4530, Recall: 0.5554, F1-measure: 0.4990\n",
      "CPU times: user 23 s, sys: 13.4 s, total: 36.3 s\n",
      "Wall time: 20.7 s\n"
     ]
    }
   ],
   "source": [
    "%%time\n",
    "sgd_hinge(tf_tr_uni_bi_tri_5,y_train_5,tf_cv_uni_bi_tri_5,y_cv_5,tf_te_uni_bi_tri_5,y_test_5)"
   ]
  },
  {
   "cell_type": "markdown",
   "metadata": {
    "colab_type": "text",
    "id": "9gsg00XtDpWa"
   },
   "source": [
    "<h3> SVM 5-Tags TFIDF C3 + C4 gram </h3>"
   ]
  },
  {
   "cell_type": "code",
   "execution_count": 80,
   "metadata": {
    "colab": {
     "base_uri": "https://localhost:8080/",
     "height": 272
    },
    "colab_type": "code",
    "id": "cswDyBJ3_5d_",
    "outputId": "3263a295-f19b-4877-e4f7-d40499a34fff"
   },
   "outputs": [
    {
     "name": "stdout",
     "output_type": "stream",
     "text": [
      "for 0.0001 Train_f1_score: 0.7012, Cv_f1_score: 0.5012\n",
      "for 0.001 Train_f1_score: 0.4611, Cv_f1_score: 0.4431\n",
      "for 0.01 Train_f1_score: 0.3259, Cv_f1_score: 0.3224\n",
      "for 0.1 Train_f1_score: 0.3031, Cv_f1_score: 0.3057\n",
      "for 1 Train_f1_score: 0.2936, Cv_f1_score: 0.2868\n",
      "for 10 Train_f1_score: 0.0000, Cv_f1_score: 0.0000\n",
      "for 100 Train_f1_score: 0.0000, Cv_f1_score: 0.0000\n",
      "for 1000 Train_f1_score: 0.0000, Cv_f1_score: 0.0000\n",
      "best parameter : 0.0001\n",
      "Accuracy : 0.19349373093866487\n",
      "Hamming loss  0.2944764486614707\n",
      "Micro-average :\n",
      "Precision: 0.4502, Recall: 0.6246, F1-measure: 0.5232\n",
      "CPU times: user 2min 14s, sys: 13.5 s, total: 2min 27s\n",
      "Wall time: 2min 12s\n"
     ]
    }
   ],
   "source": [
    "%%time \n",
    "sgd_hinge(tf_tr_c3_c4_5,y_train_5,tf_cv_c3_c4_5,y_cv_5,tf_te_c3_c4_5,y_test_5)"
   ]
  },
  {
   "cell_type": "markdown",
   "metadata": {
    "colab_type": "text",
    "id": "c5ogwdZtDtjG"
   },
   "source": [
    "<h3> SVM 5-Tags TFIDF UNI + BI + TRI + C3 + C4 Model </h3>"
   ]
  },
  {
   "cell_type": "code",
   "execution_count": 81,
   "metadata": {
    "colab": {
     "base_uri": "https://localhost:8080/",
     "height": 272
    },
    "colab_type": "code",
    "id": "FYDgKSIcBIwN",
    "outputId": "e7b7b6ba-d25a-4a39-8eba-7b28854456a2"
   },
   "outputs": [
    {
     "name": "stdout",
     "output_type": "stream",
     "text": [
      "for 0.0001 Train_f1_score: 0.8446, Cv_f1_score: 0.4847\n",
      "for 0.001 Train_f1_score: 0.4856, Cv_f1_score: 0.4621\n",
      "for 0.01 Train_f1_score: 0.2315, Cv_f1_score: 0.2313\n",
      "for 0.1 Train_f1_score: 0.3617, Cv_f1_score: 0.3458\n",
      "for 1 Train_f1_score: 0.0000, Cv_f1_score: 0.0000\n",
      "for 10 Train_f1_score: 0.3031, Cv_f1_score: 0.3057\n",
      "for 100 Train_f1_score: 0.2631, Cv_f1_score: 0.2618\n",
      "for 1000 Train_f1_score: 0.2631, Cv_f1_score: 0.2618\n",
      "best parameter : 0.0001\n",
      "Accuracy : 0.20196543544561166\n",
      "Hamming loss  0.28634361233480177\n",
      "Micro-average :\n",
      "Precision: 0.4573, Recall: 0.5727, F1-measure: 0.5085\n",
      "CPU times: user 2min 56s, sys: 13.4 s, total: 3min 9s\n",
      "Wall time: 2min 54s\n"
     ]
    }
   ],
   "source": [
    "%%time \n",
    "sgd_hinge(tf_tr_u_b_t_c3_c4_5,y_train_5,tf_cv_u_b_t_c3_c4_5,y_cv_5,tf_te_u_b_t_c3_c4_5,y_test_5) "
   ]
  },
  {
   "cell_type": "markdown",
   "metadata": {
    "colab_type": "text",
    "id": "VAiVluPX1_4l"
   },
   "source": [
    "<h2> SGD with LOG (Logistic Regression) </h2>"
   ]
  },
  {
   "cell_type": "code",
   "execution_count": 0,
   "metadata": {
    "colab": {},
    "colab_type": "code",
    "id": "chAK693v1Tq5"
   },
   "outputs": [],
   "source": [
    "#hyperparameter tuning\n",
    "def sgd_log(x_train,y_train,x_cv,y_cv,x_test,y_test):\n",
    "  train_f1 = []\n",
    "  cv_f1 = []\n",
    "  parameters=[0.0001,0.001,0.01,0.1,1,10,100,1000]\n",
    "  for i in parameters:\n",
    "    classifier = OneVsRestClassifier(SGDClassifier(loss='log',alpha=i, penalty='l1',class_weight='balanced'))\n",
    "    classifier.fit(x_train, y_train)\n",
    "    train_predictions = classifier.predict (x_train)\n",
    "    train_f1_score = f1_score(y_train, train_predictions, average='micro')\n",
    "    train_f1.append(train_f1_score)\n",
    "    cv_predictions = classifier.predict(x_cv)\n",
    "    cv_f1_score = f1_score(y_cv, cv_predictions, average='micro')\n",
    "    cv_f1.append(cv_f1_score)\n",
    "    print(\"for\",i,\"Train_f1_score: {:.4f}, Cv_f1_score: {:.4f}\".format(train_f1_score, cv_f1_score))\n",
    "  best_estimators = np.argmax(cv_f1)\n",
    "  print('best parameter :',parameters[best_estimators])\n",
    "  #modeling with best hyper parameters\n",
    "  classifier2 = OneVsRestClassifier(SGDClassifier(loss='log',alpha=parameters[best_estimators], penalty='l1',class_weight='balanced'))\n",
    "  classifier2.fit(x_train, y_train)\n",
    "  predictions = classifier2.predict(x_test)\n",
    "\n",
    "  print(\"Accuracy :\",metrics.accuracy_score(y_test, predictions))\n",
    "  print(\"Hamming loss \",metrics.hamming_loss(y_test,predictions))\n",
    "\n",
    "  precision = precision_score(y_test, predictions, average='micro')\n",
    "  recall = recall_score(y_test, predictions, average='micro')\n",
    "  f1 = f1_score(y_test, predictions, average='micro')\n",
    "  \n",
    "  print(\"Micro-average :\")\n",
    "  print(\"Precision: {:.4f}, Recall: {:.4f}, F1-measure: {:.4f}\".format(precision, recall, f1))"
   ]
  },
  {
   "cell_type": "markdown",
   "metadata": {
    "colab_type": "text",
    "id": "0xjD_orupZic"
   },
   "source": [
    "<h3> SGD Tag-3 LOG BOW UNI Grams Model </h3>"
   ]
  },
  {
   "cell_type": "code",
   "execution_count": 83,
   "metadata": {
    "colab": {
     "base_uri": "https://localhost:8080/",
     "height": 272
    },
    "colab_type": "code",
    "id": "Hsba2qW71TuV",
    "outputId": "5f94dcde-4b65-490a-ee2a-22cee837ca6d"
   },
   "outputs": [
    {
     "name": "stdout",
     "output_type": "stream",
     "text": [
      "for 0.0001 Train_f1_score: 0.9194, Cv_f1_score: 0.4773\n",
      "for 0.001 Train_f1_score: 0.7172, Cv_f1_score: 0.4781\n",
      "for 0.01 Train_f1_score: 0.5212, Cv_f1_score: 0.4768\n",
      "for 0.1 Train_f1_score: 0.4109, Cv_f1_score: 0.4043\n",
      "for 1 Train_f1_score: 0.1737, Cv_f1_score: 0.1704\n",
      "for 10 Train_f1_score: 0.0000, Cv_f1_score: 0.0000\n",
      "for 100 Train_f1_score: 0.3158, Cv_f1_score: 0.3146\n",
      "for 1000 Train_f1_score: 0.4765, Cv_f1_score: 0.4646\n",
      "best parameter : 0.001\n",
      "Accuracy : 0.29007116231785834\n",
      "Hamming loss  0.3445159832825031\n",
      "Micro-average :\n",
      "Precision: 0.4529, Recall: 0.5732, F1-measure: 0.5060\n",
      "CPU times: user 6min 55s, sys: 52.1 ms, total: 6min 55s\n",
      "Wall time: 6min 55s\n"
     ]
    }
   ],
   "source": [
    "%%time \n",
    "sgd_log(xb_train_multilabel_3,y_train_3,xb_cv_multilabel_3,y_cv_3,xb_test_multilabel_3,y_test_3)"
   ]
  },
  {
   "cell_type": "markdown",
   "metadata": {
    "colab_type": "text",
    "id": "eVSQRzxypc_K"
   },
   "source": [
    "<h3> SGD Tag-3 LOG BOW BI Grams Model </h3>"
   ]
  },
  {
   "cell_type": "code",
   "execution_count": 84,
   "metadata": {
    "colab": {
     "base_uri": "https://localhost:8080/",
     "height": 272
    },
    "colab_type": "code",
    "id": "u5eTS06WV0lo",
    "outputId": "5213d22d-e192-433e-87e3-cde6a5248619"
   },
   "outputs": [
    {
     "name": "stdout",
     "output_type": "stream",
     "text": [
      "for 0.0001 Train_f1_score: 0.9312, Cv_f1_score: 0.4282\n",
      "for 0.001 Train_f1_score: 0.5561, Cv_f1_score: 0.4461\n",
      "for 0.01 Train_f1_score: 0.1363, Cv_f1_score: 0.1479\n",
      "for 0.1 Train_f1_score: 0.2129, Cv_f1_score: 0.2040\n",
      "for 1 Train_f1_score: 0.2120, Cv_f1_score: 0.2033\n",
      "for 10 Train_f1_score: 0.3158, Cv_f1_score: 0.3146\n",
      "for 100 Train_f1_score: 0.0000, Cv_f1_score: 0.0000\n",
      "for 1000 Train_f1_score: 0.0000, Cv_f1_score: 0.0000\n",
      "best parameter : 0.001\n",
      "Accuracy : 0.35310064384954254\n",
      "Hamming loss  0.30746639557212246\n",
      "Micro-average :\n",
      "Precision: 0.5006, Recall: 0.4686, F1-measure: 0.4841\n",
      "CPU times: user 8.6 s, sys: 8.02 ms, total: 8.6 s\n",
      "Wall time: 8.6 s\n"
     ]
    }
   ],
   "source": [
    "%%time\n",
    "sgd_log(xb2_train_multilabel_3,y_train_3,xb2_cv_multilabel_3,y_cv_3,xb2_test_multilabel_3,y_test_3)"
   ]
  },
  {
   "cell_type": "markdown",
   "metadata": {
    "colab_type": "text",
    "id": "XxnU1iJ-pgkL"
   },
   "source": [
    "<h3> SGD Tag-3 LOG BOW TRI Grams Model </h3>"
   ]
  },
  {
   "cell_type": "code",
   "execution_count": 85,
   "metadata": {
    "colab": {
     "base_uri": "https://localhost:8080/",
     "height": 272
    },
    "colab_type": "code",
    "id": "mvS3tn87V0vk",
    "outputId": "809c55b8-6ee5-4ec4-e7fa-8921bebf9c68"
   },
   "outputs": [
    {
     "name": "stdout",
     "output_type": "stream",
     "text": [
      "for 0.0001 Train_f1_score: 0.5045, Cv_f1_score: 0.3341\n",
      "for 0.001 Train_f1_score: 0.1648, Cv_f1_score: 0.1237\n",
      "for 0.01 Train_f1_score: 0.4131, Cv_f1_score: 0.4011\n",
      "for 0.1 Train_f1_score: 0.4765, Cv_f1_score: 0.4646\n",
      "for 1 Train_f1_score: 0.0000, Cv_f1_score: 0.0000\n",
      "for 10 Train_f1_score: 0.3158, Cv_f1_score: 0.3146\n",
      "for 100 Train_f1_score: 0.4765, Cv_f1_score: 0.4646\n",
      "for 1000 Train_f1_score: 0.3158, Cv_f1_score: 0.3146\n",
      "best parameter : 0.1\n",
      "Accuracy : 0.018976618095560827\n",
      "Hamming loss  0.6308595956173049\n",
      "Micro-average :\n",
      "Precision: 0.2577, Recall: 0.5582, F1-measure: 0.3526\n",
      "CPU times: user 550 ms, sys: 9.03 ms, total: 559 ms\n",
      "Wall time: 554 ms\n"
     ]
    }
   ],
   "source": [
    "%%time\n",
    "sgd_log(xb3_train_multilabel_3,y_train_3,xb3_cv_multilabel_3,y_cv_3,xb3_test_multilabel_3,y_test_3)"
   ]
  },
  {
   "cell_type": "markdown",
   "metadata": {
    "colab_type": "text",
    "id": "YJY2wAIQpiwG"
   },
   "source": [
    "<h3> SGD Tag-3 LOG BOW CHAR-3 Grams Model </h3>"
   ]
  },
  {
   "cell_type": "code",
   "execution_count": 86,
   "metadata": {
    "colab": {
     "base_uri": "https://localhost:8080/",
     "height": 272
    },
    "colab_type": "code",
    "id": "huA_iqiaV0-A",
    "outputId": "7d454f19-e06d-475b-eeaa-d9b15fed4edd"
   },
   "outputs": [
    {
     "name": "stdout",
     "output_type": "stream",
     "text": [
      "for 0.0001 Train_f1_score: 0.7951, Cv_f1_score: 0.4669\n",
      "for 0.001 Train_f1_score: 0.6670, Cv_f1_score: 0.4808\n",
      "for 0.01 Train_f1_score: 0.5712, Cv_f1_score: 0.4833\n",
      "for 0.1 Train_f1_score: 0.4489, Cv_f1_score: 0.4373\n",
      "for 1 Train_f1_score: 0.1527, Cv_f1_score: 0.1538\n",
      "for 10 Train_f1_score: 0.3368, Cv_f1_score: 0.3237\n",
      "for 100 Train_f1_score: 0.4765, Cv_f1_score: 0.4646\n",
      "for 1000 Train_f1_score: 0.4087, Cv_f1_score: 0.3923\n",
      "best parameter : 0.01\n",
      "Accuracy : 0.2626228397153507\n",
      "Hamming loss  0.3695922286230656\n",
      "Micro-average :\n",
      "Precision: 0.4311, Recall: 0.6275, F1-measure: 0.5111\n",
      "CPU times: user 30min 31s, sys: 139 ms, total: 30min 31s\n",
      "Wall time: 30min 32s\n"
     ]
    }
   ],
   "source": [
    "%%time \n",
    "sgd_log(xbc_train_multilabel_3,y_train_3,xbc_cv_multilabel_3,y_cv_3,xbc_test_multilabel_3,y_test_3)"
   ]
  },
  {
   "cell_type": "markdown",
   "metadata": {
    "colab_type": "text",
    "id": "HCvya771pnRL"
   },
   "source": [
    "<h3> SGD Tag-3 LOG BOW CHAR-4 Grams Model </h3>"
   ]
  },
  {
   "cell_type": "code",
   "execution_count": 87,
   "metadata": {
    "colab": {
     "base_uri": "https://localhost:8080/",
     "height": 272
    },
    "colab_type": "code",
    "id": "t5HKur_iV1Em",
    "outputId": "a1e5a385-5f1c-4d79-b5fd-61c7c22deea7"
   },
   "outputs": [
    {
     "name": "stdout",
     "output_type": "stream",
     "text": [
      "for 0.0001 Train_f1_score: 0.9020, Cv_f1_score: 0.4636\n",
      "for 0.001 Train_f1_score: 0.7267, Cv_f1_score: 0.4796\n",
      "for 0.01 Train_f1_score: 0.5568, Cv_f1_score: 0.4815\n",
      "for 0.1 Train_f1_score: 0.4247, Cv_f1_score: 0.4052\n",
      "for 1 Train_f1_score: 0.4456, Cv_f1_score: 0.4301\n",
      "for 10 Train_f1_score: 0.0000, Cv_f1_score: 0.0000\n",
      "for 100 Train_f1_score: 0.0000, Cv_f1_score: 0.0000\n",
      "for 1000 Train_f1_score: 0.4131, Cv_f1_score: 0.4011\n",
      "best parameter : 0.01\n",
      "Accuracy : 0.26363944425618435\n",
      "Hamming loss  0.36699423924093527\n",
      "Micro-average :\n",
      "Precision: 0.4329, Recall: 0.6206, F1-measure: 0.5100\n",
      "CPU times: user 40min 36s, sys: 184 ms, total: 40min 36s\n",
      "Wall time: 40min 37s\n"
     ]
    }
   ],
   "source": [
    "%%time \n",
    "sgd_log(xbs_train_multilabel_3,y_train_3,xbs_cv_multilabel_3,y_cv_3,xbs_test_multilabel_3,y_test_3)"
   ]
  },
  {
   "cell_type": "markdown",
   "metadata": {
    "colab_type": "text",
    "id": "l4Z8P_xUzOHf"
   },
   "source": [
    "<h3> SGD Tag-3 LOG BOW UNI + BI + TRI Model </h3>"
   ]
  },
  {
   "cell_type": "code",
   "execution_count": 88,
   "metadata": {
    "colab": {
     "base_uri": "https://localhost:8080/",
     "height": 272
    },
    "colab_type": "code",
    "id": "KwCYD7VvzOVK",
    "outputId": "efcdb84e-ff1a-4dcb-b400-c8123fa2689e"
   },
   "outputs": [
    {
     "name": "stdout",
     "output_type": "stream",
     "text": [
      "for 0.0001 Train_f1_score: 0.9281, Cv_f1_score: 0.4634\n",
      "for 0.001 Train_f1_score: 0.7331, Cv_f1_score: 0.4829\n",
      "for 0.01 Train_f1_score: 0.5181, Cv_f1_score: 0.4771\n",
      "for 0.1 Train_f1_score: 0.4660, Cv_f1_score: 0.4595\n",
      "for 1 Train_f1_score: 0.0242, Cv_f1_score: 0.0146\n",
      "for 10 Train_f1_score: 0.4765, Cv_f1_score: 0.4646\n",
      "for 100 Train_f1_score: 0.0000, Cv_f1_score: 0.0000\n",
      "for 1000 Train_f1_score: 0.4131, Cv_f1_score: 0.4011\n",
      "best parameter : 0.001\n",
      "Accuracy : 0.304303625889529\n",
      "Hamming loss  0.3349147181746301\n",
      "Micro-average :\n",
      "Precision: 0.4647, Recall: 0.5794, F1-measure: 0.5158\n",
      "CPU times: user 8min 17s, sys: 7.97 s, total: 8min 25s\n",
      "Wall time: 8min 16s\n"
     ]
    }
   ],
   "source": [
    "%%time\n",
    "sgd_log(bow_tr_uni_bi_tri_3,y_train_3,bow_cv_uni_bi_tri_3,y_cv_3,bow_te_uni_bi_tri_3,y_test_3)"
   ]
  },
  {
   "cell_type": "markdown",
   "metadata": {
    "colab_type": "text",
    "id": "-c5FVocZzOym"
   },
   "source": [
    "<h3> SGD Tag-3 LOG BOW C3 + C4 Model </h3>"
   ]
  },
  {
   "cell_type": "code",
   "execution_count": 89,
   "metadata": {
    "colab": {
     "base_uri": "https://localhost:8080/",
     "height": 272
    },
    "colab_type": "code",
    "id": "aRuOHzTqzPLD",
    "outputId": "fb4fb08a-f169-42f6-f308-f1803ceabb11"
   },
   "outputs": [
    {
     "name": "stdout",
     "output_type": "stream",
     "text": [
      "for 0.0001 Train_f1_score: 0.8770, Cv_f1_score: 0.4741\n",
      "for 0.001 Train_f1_score: 0.7228, Cv_f1_score: 0.4830\n",
      "for 0.01 Train_f1_score: 0.5697, Cv_f1_score: 0.4806\n",
      "for 0.1 Train_f1_score: 0.4642, Cv_f1_score: 0.4460\n",
      "for 1 Train_f1_score: 0.3472, Cv_f1_score: 0.3344\n",
      "for 10 Train_f1_score: 0.4648, Cv_f1_score: 0.4541\n",
      "for 100 Train_f1_score: 0.4131, Cv_f1_score: 0.4011\n",
      "for 1000 Train_f1_score: 0.4087, Cv_f1_score: 0.3923\n",
      "best parameter : 0.001\n",
      "Accuracy : 0.30091494408675024\n",
      "Hamming loss  0.34236981814074324\n",
      "Micro-average :\n",
      "Precision: 0.4557, Recall: 0.5769, F1-measure: 0.5091\n",
      "CPU times: user 1h 26min 25s, sys: 8.3 s, total: 1h 26min 34s\n",
      "Wall time: 1h 26min 27s\n"
     ]
    }
   ],
   "source": [
    "%%time \n",
    "sgd_log(bow_tr_c3_c4_3,y_train_3,bow_cv_c3_c4_3,y_cv_3,bow_te_c3_c4_3,y_test_3)"
   ]
  },
  {
   "cell_type": "markdown",
   "metadata": {
    "colab_type": "text",
    "id": "_Rl7aJdbzPbo"
   },
   "source": [
    "<h3> SGD Tag-3 LOG BOW UNI + BI + TRI + C3 + C4 Model </h3>"
   ]
  },
  {
   "cell_type": "code",
   "execution_count": 90,
   "metadata": {
    "colab": {
     "base_uri": "https://localhost:8080/",
     "height": 272
    },
    "colab_type": "code",
    "id": "4le-aeC8zPzN",
    "outputId": "b877b124-194e-4a02-e433-1697dca36f6e"
   },
   "outputs": [
    {
     "name": "stdout",
     "output_type": "stream",
     "text": [
      "for 0.0001 Train_f1_score: 0.8958, Cv_f1_score: 0.4627\n",
      "for 0.001 Train_f1_score: 0.7407, Cv_f1_score: 0.4834\n",
      "for 0.01 Train_f1_score: 0.5646, Cv_f1_score: 0.4817\n",
      "for 0.1 Train_f1_score: 0.4490, Cv_f1_score: 0.4351\n",
      "for 1 Train_f1_score: 0.3378, Cv_f1_score: 0.3278\n",
      "for 10 Train_f1_score: 0.0000, Cv_f1_score: 0.0000\n",
      "for 100 Train_f1_score: 0.3158, Cv_f1_score: 0.3146\n",
      "for 1000 Train_f1_score: 0.0000, Cv_f1_score: 0.0000\n",
      "best parameter : 0.001\n",
      "Accuracy : 0.30159268044730597\n",
      "Hamming loss  0.341240257539817\n",
      "Micro-average :\n",
      "Precision: 0.4569, Recall: 0.5750, F1-measure: 0.5092\n",
      "CPU times: user 1h 31min 52s, sys: 8.27 s, total: 1h 32min\n",
      "Wall time: 1h 31min 53s\n"
     ]
    }
   ],
   "source": [
    "%%time \n",
    "sgd_log(bow_tr_u_b_t_c3_c4_3,y_train_3,bow_cv_u_b_t_c3_c4_3,y_cv_3,bow_te_u_b_t_c3_c4_3,y_test_3) "
   ]
  },
  {
   "cell_type": "markdown",
   "metadata": {
    "colab_type": "text",
    "id": "_pkIxEzT5nxz"
   },
   "source": [
    "<h1> SGD LOG 5-Tag Models</h1>"
   ]
  },
  {
   "cell_type": "markdown",
   "metadata": {
    "colab_type": "text",
    "id": "lT5epTQepyXt"
   },
   "source": [
    "<h3> SGD 5-Tags LOG BOW UNI Grams Model </h3>"
   ]
  },
  {
   "cell_type": "code",
   "execution_count": 91,
   "metadata": {
    "colab": {
     "base_uri": "https://localhost:8080/",
     "height": 272
    },
    "colab_type": "code",
    "id": "CofzqjCsfMVG",
    "outputId": "a5ff1aae-0a2b-4d19-9be2-364982e2854b"
   },
   "outputs": [
    {
     "name": "stdout",
     "output_type": "stream",
     "text": [
      "for 0.0001 Train_f1_score: 0.9097, Cv_f1_score: 0.4247\n",
      "for 0.001 Train_f1_score: 0.7091, Cv_f1_score: 0.4443\n",
      "for 0.01 Train_f1_score: 0.4647, Cv_f1_score: 0.4217\n",
      "for 0.1 Train_f1_score: 0.3837, Cv_f1_score: 0.3708\n",
      "for 1 Train_f1_score: 0.3574, Cv_f1_score: 0.3432\n",
      "for 10 Train_f1_score: 0.0000, Cv_f1_score: 0.0000\n",
      "for 100 Train_f1_score: 0.0000, Cv_f1_score: 0.0000\n",
      "for 1000 Train_f1_score: 0.0000, Cv_f1_score: 0.0000\n",
      "best parameter : 0.001\n",
      "Accuracy : 0.13961369027448323\n",
      "Hamming loss  0.3320908166723145\n",
      "Micro-average :\n",
      "Precision: 0.3962, Recall: 0.5413, F1-measure: 0.4575\n",
      "CPU times: user 11min 33s, sys: 60.9 ms, total: 11min 33s\n",
      "Wall time: 11min 34s\n"
     ]
    }
   ],
   "source": [
    "%%time \n",
    "sgd_log(xb_train_multilabel_5,y_train_5,xb_cv_multilabel_5,y_cv_5,xb_test_multilabel_5,y_test_5)"
   ]
  },
  {
   "cell_type": "markdown",
   "metadata": {
    "colab_type": "text",
    "id": "FeYU--cBp16z"
   },
   "source": [
    "<h3> SGD 5-Tags LOG BOW BI Grams Model </h3>"
   ]
  },
  {
   "cell_type": "code",
   "execution_count": 92,
   "metadata": {
    "colab": {
     "base_uri": "https://localhost:8080/",
     "height": 272
    },
    "colab_type": "code",
    "id": "vSo2eCWTfMhK",
    "outputId": "69642e5d-b257-40f3-ca47-227dd331188b"
   },
   "outputs": [
    {
     "name": "stdout",
     "output_type": "stream",
     "text": [
      "for 0.0001 Train_f1_score: 0.9189, Cv_f1_score: 0.3943\n",
      "for 0.001 Train_f1_score: 0.5242, Cv_f1_score: 0.4073\n",
      "for 0.01 Train_f1_score: 0.1962, Cv_f1_score: 0.1980\n",
      "for 0.1 Train_f1_score: 0.3455, Cv_f1_score: 0.3360\n",
      "for 1 Train_f1_score: 0.3593, Cv_f1_score: 0.3554\n",
      "for 10 Train_f1_score: 0.2315, Cv_f1_score: 0.2313\n",
      "for 100 Train_f1_score: 0.3442, Cv_f1_score: 0.3338\n",
      "for 1000 Train_f1_score: 0.0000, Cv_f1_score: 0.0000\n",
      "best parameter : 0.001\n",
      "Accuracy : 0.1884107082344968\n",
      "Hamming loss  0.29617078956286\n",
      "Micro-average :\n",
      "Precision: 0.4322, Recall: 0.4619, F1-measure: 0.4466\n",
      "CPU times: user 20.7 s, sys: 7.02 ms, total: 20.7 s\n",
      "Wall time: 20.7 s\n"
     ]
    }
   ],
   "source": [
    "%%time \n",
    "sgd_log(xb2_train_multilabel_5,y_train_5,xb2_cv_multilabel_5,y_cv_5,xb2_test_multilabel_5,y_test_5)"
   ]
  },
  {
   "cell_type": "markdown",
   "metadata": {
    "colab_type": "text",
    "id": "xxg5FnTzp3yV"
   },
   "source": [
    "<h3> SGD 5-Tags LOG BOW TRI Grams Model </h3>"
   ]
  },
  {
   "cell_type": "code",
   "execution_count": 93,
   "metadata": {
    "colab": {
     "base_uri": "https://localhost:8080/",
     "height": 272
    },
    "colab_type": "code",
    "id": "Z0OmiMg1fMqs",
    "outputId": "53b85736-4352-42a3-e7d9-5092d92bcca8"
   },
   "outputs": [
    {
     "name": "stdout",
     "output_type": "stream",
     "text": [
      "for 0.0001 Train_f1_score: 0.4852, Cv_f1_score: 0.3116\n",
      "for 0.001 Train_f1_score: 0.1687, Cv_f1_score: 0.1392\n",
      "for 0.01 Train_f1_score: 0.3689, Cv_f1_score: 0.3596\n",
      "for 0.1 Train_f1_score: 0.3442, Cv_f1_score: 0.3338\n",
      "for 1 Train_f1_score: 0.3031, Cv_f1_score: 0.3057\n",
      "for 10 Train_f1_score: 0.4149, Cv_f1_score: 0.4090\n",
      "for 100 Train_f1_score: 0.3442, Cv_f1_score: 0.3338\n",
      "for 1000 Train_f1_score: 0.1599, Cv_f1_score: 0.1540\n",
      "best parameter : 10\n",
      "Accuracy : 0.029481531684174857\n",
      "Hamming loss  0.48932565232124703\n",
      "Micro-average :\n",
      "Precision: 0.3078, Recall: 0.7139, F1-measure: 0.4301\n",
      "CPU times: user 949 ms, sys: 14 µs, total: 949 ms\n",
      "Wall time: 944 ms\n"
     ]
    }
   ],
   "source": [
    "%%time\n",
    "sgd_log(xb3_train_multilabel_5,y_train_5,xb3_cv_multilabel_5,y_cv_5,xb3_test_multilabel_5,y_test_5)"
   ]
  },
  {
   "cell_type": "markdown",
   "metadata": {
    "colab_type": "text",
    "id": "abq_UXDQp5o1"
   },
   "source": [
    "<h3> SGD 5-Tags LOG BOW CHAR-4 Grams Model </h3>"
   ]
  },
  {
   "cell_type": "code",
   "execution_count": 94,
   "metadata": {
    "colab": {
     "base_uri": "https://localhost:8080/",
     "height": 272
    },
    "colab_type": "code",
    "id": "ZQQkpiLLfM06",
    "outputId": "eca57c28-376f-4ec9-8c9e-3f5c7fbe4863"
   },
   "outputs": [
    {
     "name": "stdout",
     "output_type": "stream",
     "text": [
      "for 0.0001 Train_f1_score: 0.7590, Cv_f1_score: 0.4244\n",
      "for 0.001 Train_f1_score: 0.6327, Cv_f1_score: 0.4301\n",
      "for 0.01 Train_f1_score: 0.5066, Cv_f1_score: 0.4304\n",
      "for 0.1 Train_f1_score: 0.4006, Cv_f1_score: 0.3819\n",
      "for 1 Train_f1_score: 0.3986, Cv_f1_score: 0.3932\n",
      "for 10 Train_f1_score: 0.3258, Cv_f1_score: 0.3240\n",
      "for 100 Train_f1_score: 0.0000, Cv_f1_score: 0.0000\n",
      "for 1000 Train_f1_score: 0.0000, Cv_f1_score: 0.0000\n",
      "best parameter : 0.01\n",
      "Accuracy : 0.10437139952558455\n",
      "Hamming loss  0.383124364622162\n",
      "Micro-average :\n",
      "Precision: 0.3578, Recall: 0.6052, F1-measure: 0.4497\n",
      "CPU times: user 44min 44s, sys: 126 ms, total: 44min 44s\n",
      "Wall time: 44min 44s\n"
     ]
    }
   ],
   "source": [
    "%%time \n",
    "sgd_log(xbc_train_multilabel_5,y_train_5,xbc_cv_multilabel_5,y_cv_5,xbc_test_multilabel_5,y_test_5)"
   ]
  },
  {
   "cell_type": "markdown",
   "metadata": {
    "colab_type": "text",
    "id": "P2mQyarJp9Xi"
   },
   "source": [
    "<h3> SGD 5-Tags LOG BOW CHAR-5 Grams Model </h3>"
   ]
  },
  {
   "cell_type": "code",
   "execution_count": 95,
   "metadata": {
    "colab": {
     "base_uri": "https://localhost:8080/",
     "height": 272
    },
    "colab_type": "code",
    "id": "p6aOwFu6fM_I",
    "outputId": "c7320116-da93-4622-c4c3-e399b66e38b8"
   },
   "outputs": [
    {
     "name": "stdout",
     "output_type": "stream",
     "text": [
      "for 0.0001 Train_f1_score: 0.8924, Cv_f1_score: 0.4228\n",
      "for 0.001 Train_f1_score: 0.7201, Cv_f1_score: 0.4300\n",
      "for 0.01 Train_f1_score: 0.5153, Cv_f1_score: 0.4367\n",
      "for 0.1 Train_f1_score: 0.3953, Cv_f1_score: 0.3837\n",
      "for 1 Train_f1_score: 0.0000, Cv_f1_score: 0.0000\n",
      "for 10 Train_f1_score: 0.2336, Cv_f1_score: 0.2229\n",
      "for 100 Train_f1_score: 0.3031, Cv_f1_score: 0.3057\n",
      "for 1000 Train_f1_score: 0.0000, Cv_f1_score: 0.0000\n",
      "best parameter : 0.01\n",
      "Accuracy : 0.1060657404269739\n",
      "Hamming loss  0.3701118264994917\n",
      "Micro-average :\n",
      "Precision: 0.3678, Recall: 0.5994, F1-measure: 0.4559\n",
      "CPU times: user 1h 4min 26s, sys: 158 ms, total: 1h 4min 26s\n",
      "Wall time: 1h 4min 28s\n"
     ]
    }
   ],
   "source": [
    "%%time \n",
    "sgd_log(xbs_train_multilabel_5,y_train_5,xbs_cv_multilabel_5,y_cv_5,xbs_test_multilabel_5,y_test_5) "
   ]
  },
  {
   "cell_type": "markdown",
   "metadata": {
    "colab_type": "text",
    "id": "HaBOFDWFzxod"
   },
   "source": [
    "<h3> SGD 5-Tags LOG BOW UNI + BI + TRI  Model </h3>"
   ]
  },
  {
   "cell_type": "code",
   "execution_count": 96,
   "metadata": {
    "colab": {
     "base_uri": "https://localhost:8080/",
     "height": 272
    },
    "colab_type": "code",
    "id": "batoh14Xzx_K",
    "outputId": "7f58cf38-644f-4753-f02f-688f8ca77d7d"
   },
   "outputs": [
    {
     "name": "stdout",
     "output_type": "stream",
     "text": [
      "for 0.0001 Train_f1_score: 0.7314, Cv_f1_score: 0.5005\n",
      "for 0.001 Train_f1_score: 0.4347, Cv_f1_score: 0.4306\n",
      "for 0.01 Train_f1_score: 0.3498, Cv_f1_score: 0.3364\n",
      "for 0.1 Train_f1_score: 0.1599, Cv_f1_score: 0.1540\n",
      "for 1 Train_f1_score: 0.1767, Cv_f1_score: 0.1692\n",
      "for 10 Train_f1_score: 0.0000, Cv_f1_score: 0.0000\n",
      "for 100 Train_f1_score: 0.0000, Cv_f1_score: 0.0000\n",
      "for 1000 Train_f1_score: 0.3614, Cv_f1_score: 0.3470\n",
      "best parameter : 0.0001\n",
      "Accuracy : 0.21247034903422568\n",
      "Hamming loss  0.2763808878346323\n",
      "Micro-average :\n",
      "Precision: 0.4729, Recall: 0.5963, F1-measure: 0.5275\n",
      "CPU times: user 14.7 s, sys: 13.3 s, total: 28 s\n",
      "Wall time: 12.4 s\n"
     ]
    }
   ],
   "source": [
    "%%time \n",
    "sgd_log(tf_tr_uni_bi_tri_5,y_train_5,tf_cv_uni_bi_tri_5,y_cv_5,tf_te_uni_bi_tri_5,y_test_5)"
   ]
  },
  {
   "cell_type": "markdown",
   "metadata": {
    "colab_type": "text",
    "id": "lK-niCOJzyZk"
   },
   "source": [
    "<h3> SGD 5-Tags LOG BOW C3 + C4 Model </h3>"
   ]
  },
  {
   "cell_type": "code",
   "execution_count": 97,
   "metadata": {
    "colab": {
     "base_uri": "https://localhost:8080/",
     "height": 272
    },
    "colab_type": "code",
    "id": "v4iZwtyazysa",
    "outputId": "e197bf19-9929-459e-add1-eb1af55e6967"
   },
   "outputs": [
    {
     "name": "stdout",
     "output_type": "stream",
     "text": [
      "for 0.0001 Train_f1_score: 0.6336, Cv_f1_score: 0.5125\n",
      "for 0.001 Train_f1_score: 0.4574, Cv_f1_score: 0.4333\n",
      "for 0.01 Train_f1_score: 0.4076, Cv_f1_score: 0.3946\n",
      "for 0.1 Train_f1_score: 0.4121, Cv_f1_score: 0.4027\n",
      "for 1 Train_f1_score: 0.1737, Cv_f1_score: 0.1814\n",
      "for 10 Train_f1_score: 0.3614, Cv_f1_score: 0.3470\n",
      "for 100 Train_f1_score: 0.0000, Cv_f1_score: 0.0000\n",
      "for 1000 Train_f1_score: 0.3259, Cv_f1_score: 0.3224\n",
      "best parameter : 0.0001\n",
      "Accuracy : 0.18773297187394103\n",
      "Hamming loss  0.2941375804811928\n",
      "Micro-average :\n",
      "Precision: 0.4521, Recall: 0.6461, F1-measure: 0.5319\n",
      "CPU times: user 1min 29s, sys: 13.3 s, total: 1min 42s\n",
      "Wall time: 1min 26s\n"
     ]
    }
   ],
   "source": [
    "%%time \n",
    "sgd_log(tf_tr_c3_c4_5,y_train_5,tf_cv_c3_c4_5,y_cv_5,tf_te_c3_c4_5,y_test_5)"
   ]
  },
  {
   "cell_type": "markdown",
   "metadata": {
    "colab_type": "text",
    "id": "ev4hleQvzzDV"
   },
   "source": [
    "<h3> SGD 5-Tags LOG BOW UNI + BI + TRI + C3 + C4  Model </h3>"
   ]
  },
  {
   "cell_type": "code",
   "execution_count": 98,
   "metadata": {
    "colab": {
     "base_uri": "https://localhost:8080/",
     "height": 272
    },
    "colab_type": "code",
    "id": "ME8HTBjizzcG",
    "outputId": "474c2d08-dc51-4796-b846-61bc4f768439"
   },
   "outputs": [
    {
     "name": "stdout",
     "output_type": "stream",
     "text": [
      "for 0.0001 Train_f1_score: 0.7450, Cv_f1_score: 0.5005\n",
      "for 0.001 Train_f1_score: 0.4552, Cv_f1_score: 0.4324\n",
      "for 0.01 Train_f1_score: 0.2631, Cv_f1_score: 0.2618\n",
      "for 0.1 Train_f1_score: 0.2711, Cv_f1_score: 0.2656\n",
      "for 1 Train_f1_score: 0.4049, Cv_f1_score: 0.3962\n",
      "for 10 Train_f1_score: 0.3442, Cv_f1_score: 0.3338\n",
      "for 100 Train_f1_score: 0.2631, Cv_f1_score: 0.2618\n",
      "for 1000 Train_f1_score: 0.0000, Cv_f1_score: 0.0000\n",
      "best parameter : 0.0001\n",
      "Accuracy : 0.21518129447644865\n",
      "Hamming loss  0.2757709251101322\n",
      "Micro-average :\n",
      "Precision: 0.4734, Recall: 0.5868, F1-measure: 0.5240\n",
      "CPU times: user 1min 45s, sys: 13.3 s, total: 1min 59s\n",
      "Wall time: 1min 43s\n"
     ]
    }
   ],
   "source": [
    "%%time \n",
    "sgd_log(tf_tr_u_b_t_c3_c4_5,y_train_5,tf_cv_u_b_t_c3_c4_5,y_cv_5,tf_te_u_b_t_c3_c4_5,y_test_5) "
   ]
  },
  {
   "cell_type": "markdown",
   "metadata": {
    "colab_type": "text",
    "id": "qAPQgvVDgAv4"
   },
   "source": [
    "<h1> SGD TFIDF 3-Tag Models</h1>\n"
   ]
  },
  {
   "cell_type": "markdown",
   "metadata": {
    "colab_type": "text",
    "id": "NbcCWeYYqBnZ"
   },
   "source": [
    "<h3> SGD 3-Tags LOG TFIDF UNI Grams Model </h3>"
   ]
  },
  {
   "cell_type": "code",
   "execution_count": 99,
   "metadata": {
    "colab": {
     "base_uri": "https://localhost:8080/",
     "height": 272
    },
    "colab_type": "code",
    "id": "h_88qQ44gBIW",
    "outputId": "c659893f-e74d-46d7-cc22-a3bc3e3c75fe"
   },
   "outputs": [
    {
     "name": "stdout",
     "output_type": "stream",
     "text": [
      "for 0.0001 Train_f1_score: 0.6655, Cv_f1_score: 0.5671\n",
      "for 0.001 Train_f1_score: 0.4862, Cv_f1_score: 0.4800\n",
      "for 0.01 Train_f1_score: 0.4765, Cv_f1_score: 0.4646\n",
      "for 0.1 Train_f1_score: 0.3451, Cv_f1_score: 0.3362\n",
      "for 1 Train_f1_score: 0.4131, Cv_f1_score: 0.4011\n",
      "for 10 Train_f1_score: 0.4131, Cv_f1_score: 0.4011\n",
      "for 100 Train_f1_score: 0.0000, Cv_f1_score: 0.0000\n",
      "for 1000 Train_f1_score: 0.0000, Cv_f1_score: 0.0000\n",
      "best parameter : 0.0001\n",
      "Accuracy : 0.38224330735343953\n",
      "Hamming loss  0.28882864565683947\n",
      "Micro-average :\n",
      "Precision: 0.5244, Recall: 0.6617, F1-measure: 0.5851\n",
      "CPU times: user 5.03 s, sys: 8.01 ms, total: 5.04 s\n",
      "Wall time: 5.03 s\n"
     ]
    }
   ],
   "source": [
    "%%time\n",
    "sgd_log(xt_train_multilabel_3,y_train_3,xt_cv_multilabel_3,y_cv_3,xt_test_multilabel_3,y_test_3)"
   ]
  },
  {
   "cell_type": "markdown",
   "metadata": {
    "colab_type": "text",
    "id": "L-3MnGwqqP5p"
   },
   "source": [
    "<h3> SGD 3-Tags LOG TFIDF BI Grams Model </h3>"
   ]
  },
  {
   "cell_type": "code",
   "execution_count": 100,
   "metadata": {
    "colab": {
     "base_uri": "https://localhost:8080/",
     "height": 272
    },
    "colab_type": "code",
    "id": "_w-5ZmihgBUS",
    "outputId": "03955b33-cced-4b5d-b0c4-b23d78d64489"
   },
   "outputs": [
    {
     "name": "stdout",
     "output_type": "stream",
     "text": [
      "for 0.0001 Train_f1_score: 0.6516, Cv_f1_score: 0.4951\n",
      "for 0.001 Train_f1_score: 0.3551, Cv_f1_score: 0.3479\n",
      "for 0.01 Train_f1_score: 0.3451, Cv_f1_score: 0.3362\n",
      "for 0.1 Train_f1_score: 0.2120, Cv_f1_score: 0.2033\n",
      "for 1 Train_f1_score: 0.4131, Cv_f1_score: 0.4011\n",
      "for 10 Train_f1_score: 0.4131, Cv_f1_score: 0.4011\n",
      "for 100 Train_f1_score: 0.4570, Cv_f1_score: 0.4416\n",
      "for 1000 Train_f1_score: 0.0000, Cv_f1_score: 0.0000\n",
      "best parameter : 0.0001\n",
      "Accuracy : 0.3581836665537106\n",
      "Hamming loss  0.30599796679091834\n",
      "Micro-average :\n",
      "Precision: 0.5025, Recall: 0.5817, F1-measure: 0.5392\n",
      "CPU times: user 1.28 s, sys: 8.99 ms, total: 1.29 s\n",
      "Wall time: 1.28 s\n"
     ]
    }
   ],
   "source": [
    "%%time\n",
    "sgd_log(xtb_train_multilabel_3,y_train_3,xtb_cv_multilabel_3,y_cv_3,xtb_test_multilabel_3,y_test_3)"
   ]
  },
  {
   "cell_type": "markdown",
   "metadata": {
    "colab_type": "text",
    "id": "uTxpt_RsqRly"
   },
   "source": [
    "<h3> SGD 3-Tags LOG TFIDF TRI Grams Model </h3>"
   ]
  },
  {
   "cell_type": "code",
   "execution_count": 101,
   "metadata": {
    "colab": {
     "base_uri": "https://localhost:8080/",
     "height": 272
    },
    "colab_type": "code",
    "id": "DwkgWhzWgBdi",
    "outputId": "5aaf5cea-38ba-452a-e915-a7b64791d629"
   },
   "outputs": [
    {
     "name": "stdout",
     "output_type": "stream",
     "text": [
      "for 0.0001 Train_f1_score: 0.5917, Cv_f1_score: 0.3323\n",
      "for 0.001 Train_f1_score: 0.4184, Cv_f1_score: 0.4036\n",
      "for 0.01 Train_f1_score: 0.0000, Cv_f1_score: 0.0000\n",
      "for 0.1 Train_f1_score: 0.3158, Cv_f1_score: 0.3146\n",
      "for 1 Train_f1_score: 0.4570, Cv_f1_score: 0.4416\n",
      "for 10 Train_f1_score: 0.4131, Cv_f1_score: 0.4011\n",
      "for 100 Train_f1_score: 0.4131, Cv_f1_score: 0.4011\n",
      "for 1000 Train_f1_score: 0.4765, Cv_f1_score: 0.4646\n",
      "best parameter : 1000\n",
      "Accuracy : 0.10776008132836326\n",
      "Hamming loss  0.43375127075567604\n",
      "Micro-average :\n",
      "Precision: 0.3111, Recall: 0.3369, F1-measure: 0.3235\n",
      "CPU times: user 583 ms, sys: 2.01 ms, total: 585 ms\n",
      "Wall time: 577 ms\n"
     ]
    }
   ],
   "source": [
    "%%time\n",
    "sgd_log(xtt_train_multilabel_3,y_train_3,xtt_cv_multilabel_3,y_cv_3,xtt_test_multilabel_3,y_test_3)"
   ]
  },
  {
   "cell_type": "markdown",
   "metadata": {
    "colab_type": "text",
    "id": "uzQ5rtlHqUa1"
   },
   "source": [
    "<h3> SGD 3-Tags LOG TFIDF CHAR-4 Grams Model </h3>"
   ]
  },
  {
   "cell_type": "code",
   "execution_count": 102,
   "metadata": {
    "colab": {
     "base_uri": "https://localhost:8080/",
     "height": 272
    },
    "colab_type": "code",
    "id": "dwslmcVYgBnA",
    "outputId": "7c990701-89be-4506-b872-5f5af985e9ef"
   },
   "outputs": [
    {
     "name": "stdout",
     "output_type": "stream",
     "text": [
      "for 0.0001 Train_f1_score: 0.6307, Cv_f1_score: 0.5313\n",
      "for 0.001 Train_f1_score: 0.4870, Cv_f1_score: 0.4539\n",
      "for 0.01 Train_f1_score: 0.0000, Cv_f1_score: 0.0000\n",
      "for 0.1 Train_f1_score: 0.3158, Cv_f1_score: 0.3146\n",
      "for 1 Train_f1_score: 0.4131, Cv_f1_score: 0.4011\n",
      "for 10 Train_f1_score: 0.4131, Cv_f1_score: 0.4011\n",
      "for 100 Train_f1_score: 0.4765, Cv_f1_score: 0.4646\n",
      "for 1000 Train_f1_score: 0.0000, Cv_f1_score: 0.0000\n",
      "best parameter : 0.0001\n",
      "Accuracy : 0.3713995255845476\n",
      "Hamming loss  0.2914266350389698\n",
      "Micro-average :\n",
      "Precision: 0.5213, Recall: 0.6521, F1-measure: 0.5794\n",
      "CPU times: user 20.6 s, sys: 7.99 ms, total: 20.6 s\n",
      "Wall time: 20.6 s\n"
     ]
    }
   ],
   "source": [
    "%%time\n",
    "sgd_log(xtc_train_multilabel_3,y_train_3,xtc_cv_multilabel_3,y_cv_3,xtc_test_multilabel_3,y_test_3)"
   ]
  },
  {
   "cell_type": "markdown",
   "metadata": {
    "colab_type": "text",
    "id": "wvFBW-UKqWJC"
   },
   "source": [
    "<h3> SGD 3-Tags LOG TFIDF CHAR-5 Grams Model </h3>"
   ]
  },
  {
   "cell_type": "code",
   "execution_count": 103,
   "metadata": {
    "colab": {
     "base_uri": "https://localhost:8080/",
     "height": 272
    },
    "colab_type": "code",
    "id": "SO2qODLogBwo",
    "outputId": "e809c18f-49c0-4168-83d4-1b4b55914fcb"
   },
   "outputs": [
    {
     "name": "stdout",
     "output_type": "stream",
     "text": [
      "for 0.0001 Train_f1_score: 0.6463, Cv_f1_score: 0.5559\n",
      "for 0.001 Train_f1_score: 0.4908, Cv_f1_score: 0.4687\n",
      "for 0.01 Train_f1_score: 0.0000, Cv_f1_score: 0.0000\n",
      "for 0.1 Train_f1_score: 0.0000, Cv_f1_score: 0.0000\n",
      "for 1 Train_f1_score: 0.0000, Cv_f1_score: 0.0000\n",
      "for 10 Train_f1_score: 0.2120, Cv_f1_score: 0.2033\n",
      "for 100 Train_f1_score: 0.0000, Cv_f1_score: 0.0000\n",
      "for 1000 Train_f1_score: 0.4131, Cv_f1_score: 0.4011\n",
      "best parameter : 0.0001\n",
      "Accuracy : 0.3798712300914944\n",
      "Hamming loss  0.28928046989721\n",
      "Micro-average :\n",
      "Precision: 0.5238, Recall: 0.6613, F1-measure: 0.5846\n",
      "CPU times: user 29.8 s, sys: 8.98 ms, total: 29.9 s\n",
      "Wall time: 29.9 s\n"
     ]
    }
   ],
   "source": [
    "%%time \n",
    "sgd_log(xts_train_multilabel_3,y_train_3,xts_cv_multilabel_3,y_cv_3,xts_test_multilabel_3,y_test_3)"
   ]
  },
  {
   "cell_type": "markdown",
   "metadata": {
    "colab_type": "text",
    "id": "YP2qmzWt2d96"
   },
   "source": [
    "<h3> SGD 3-Tags LOG TFIDF UNI + BI + TRI Model </h3>"
   ]
  },
  {
   "cell_type": "code",
   "execution_count": 104,
   "metadata": {
    "colab": {
     "base_uri": "https://localhost:8080/",
     "height": 272
    },
    "colab_type": "code",
    "id": "nKsDQ0Ab2eX_",
    "outputId": "589696f0-5129-40a2-a8bf-8c2186d953e8"
   },
   "outputs": [
    {
     "name": "stdout",
     "output_type": "stream",
     "text": [
      "for 0.0001 Train_f1_score: 0.7438, Cv_f1_score: 0.5521\n",
      "for 0.001 Train_f1_score: 0.4819, Cv_f1_score: 0.4831\n",
      "for 0.01 Train_f1_score: 0.4765, Cv_f1_score: 0.4646\n",
      "for 0.1 Train_f1_score: 0.0000, Cv_f1_score: 0.0000\n",
      "for 1 Train_f1_score: 0.4131, Cv_f1_score: 0.4011\n",
      "for 10 Train_f1_score: 0.4087, Cv_f1_score: 0.3923\n",
      "for 100 Train_f1_score: 0.0000, Cv_f1_score: 0.0000\n",
      "for 1000 Train_f1_score: 0.4765, Cv_f1_score: 0.4646\n",
      "best parameter : 0.0001\n",
      "Accuracy : 0.39545916638427653\n",
      "Hamming loss  0.2821642381113747\n",
      "Micro-average :\n",
      "Precision: 0.5356, Recall: 0.6264, F1-measure: 0.5775\n",
      "CPU times: user 8.8 s, sys: 7.98 s, total: 16.8 s\n",
      "Wall time: 7.44 s\n"
     ]
    }
   ],
   "source": [
    "%%time\n",
    "sgd_log(tf_tr_uni_bi_tri_3,y_train_3,tf_cv_uni_bi_tri_3,y_cv_3,tf_te_uni_bi_tri_3,y_test_3)"
   ]
  },
  {
   "cell_type": "markdown",
   "metadata": {
    "colab_type": "text",
    "id": "ooffJ5aZ2ess"
   },
   "source": [
    "<h3> SGD 3-Tags LOG TFIDF C3 + C4 Model </h3>"
   ]
  },
  {
   "cell_type": "code",
   "execution_count": 105,
   "metadata": {
    "colab": {
     "base_uri": "https://localhost:8080/",
     "height": 272
    },
    "colab_type": "code",
    "id": "1xudp0D42e_M",
    "outputId": "1db7dfb0-a194-4a93-c96c-4019b01ec8aa"
   },
   "outputs": [
    {
     "name": "stdout",
     "output_type": "stream",
     "text": [
      "for 0.0001 Train_f1_score: 0.6631, Cv_f1_score: 0.5494\n",
      "for 0.001 Train_f1_score: 0.4923, Cv_f1_score: 0.4618\n",
      "for 0.01 Train_f1_score: 0.4131, Cv_f1_score: 0.4011\n",
      "for 0.1 Train_f1_score: 0.4087, Cv_f1_score: 0.3923\n",
      "for 1 Train_f1_score: 0.4765, Cv_f1_score: 0.4646\n",
      "for 10 Train_f1_score: 0.0000, Cv_f1_score: 0.0000\n",
      "for 100 Train_f1_score: 0.4765, Cv_f1_score: 0.4646\n",
      "for 1000 Train_f1_score: 0.4131, Cv_f1_score: 0.4011\n",
      "best parameter : 0.0001\n",
      "Accuracy : 0.3856319891562182\n",
      "Hamming loss  0.2858917880944313\n",
      "Micro-average :\n",
      "Precision: 0.5286, Recall: 0.6583, F1-measure: 0.5864\n",
      "CPU times: user 55.4 s, sys: 7.96 s, total: 1min 3s\n",
      "Wall time: 54 s\n"
     ]
    }
   ],
   "source": [
    "%%time\n",
    "sgd_log(tf_tr_c3_c4_3,y_train_3,tf_cv_c3_c4_3,y_cv_3,tf_te_c3_c4_3,y_test_3)"
   ]
  },
  {
   "cell_type": "markdown",
   "metadata": {
    "colab_type": "text",
    "id": "8pGub8ue2fUl"
   },
   "source": [
    "<h3> SGD 3-Tags LOG TFIDF UNI + BI + TRI + C3 + C4 Model </h3>"
   ]
  },
  {
   "cell_type": "code",
   "execution_count": 106,
   "metadata": {
    "colab": {
     "base_uri": "https://localhost:8080/",
     "height": 272
    },
    "colab_type": "code",
    "id": "2VMlvg552fsZ",
    "outputId": "72a36aab-3472-4db6-995a-e8d207339e4e"
   },
   "outputs": [
    {
     "name": "stdout",
     "output_type": "stream",
     "text": [
      "for 0.0001 Train_f1_score: 0.7539, Cv_f1_score: 0.5464\n",
      "for 0.001 Train_f1_score: 0.4962, Cv_f1_score: 0.4680\n",
      "for 0.01 Train_f1_score: 0.3451, Cv_f1_score: 0.3362\n",
      "for 0.1 Train_f1_score: 0.4765, Cv_f1_score: 0.4646\n",
      "for 1 Train_f1_score: 0.4131, Cv_f1_score: 0.4011\n",
      "for 10 Train_f1_score: 0.3158, Cv_f1_score: 0.3146\n",
      "for 100 Train_f1_score: 0.4131, Cv_f1_score: 0.4011\n",
      "for 1000 Train_f1_score: 0.0000, Cv_f1_score: 0.0000\n",
      "best parameter : 0.0001\n",
      "Accuracy : 0.38427651643510674\n",
      "Hamming loss  0.2861177002146165\n",
      "Micro-average :\n",
      "Precision: 0.5295, Recall: 0.6319, F1-measure: 0.5762\n",
      "CPU times: user 59.9 s, sys: 7.99 s, total: 1min 7s\n",
      "Wall time: 58.6 s\n"
     ]
    }
   ],
   "source": [
    "%%time \n",
    "sgd_log(tf_tr_u_b_t_c3_c4_3,y_train_3,tf_cv_u_b_t_c3_c4_3,y_cv_3,tf_te_u_b_t_c3_c4_3,y_test_3) "
   ]
  },
  {
   "cell_type": "markdown",
   "metadata": {
    "colab_type": "text",
    "id": "q3VR2fjt47B2"
   },
   "source": [
    "<h1> 5-Tag Models</h1>"
   ]
  },
  {
   "cell_type": "markdown",
   "metadata": {
    "colab_type": "text",
    "id": "-sYY0rCjqeb2"
   },
   "source": [
    "<h3> SGD 5-Tags LOG TFIDF UNI Grams Model </h3>"
   ]
  },
  {
   "cell_type": "code",
   "execution_count": 107,
   "metadata": {
    "colab": {
     "base_uri": "https://localhost:8080/",
     "height": 272
    },
    "colab_type": "code",
    "id": "wmq5aKqPV1Kz",
    "outputId": "e1216b58-345e-46ec-a498-83108e46a9b5"
   },
   "outputs": [
    {
     "name": "stdout",
     "output_type": "stream",
     "text": [
      "for 0.0001 Train_f1_score: 0.6384, Cv_f1_score: 0.5206\n",
      "for 0.001 Train_f1_score: 0.4093, Cv_f1_score: 0.3974\n",
      "for 0.01 Train_f1_score: 0.2315, Cv_f1_score: 0.2313\n",
      "for 0.1 Train_f1_score: 0.3617, Cv_f1_score: 0.3458\n",
      "for 1 Train_f1_score: 0.3031, Cv_f1_score: 0.3057\n",
      "for 10 Train_f1_score: 0.1737, Cv_f1_score: 0.1814\n",
      "for 100 Train_f1_score: 0.3442, Cv_f1_score: 0.3338\n",
      "for 1000 Train_f1_score: 0.0000, Cv_f1_score: 0.0000\n",
      "best parameter : 0.0001\n",
      "Accuracy : 0.19722128092172145\n",
      "Hamming loss  0.2890545577770247\n",
      "Micro-average :\n",
      "Precision: 0.4573, Recall: 0.6280, F1-measure: 0.5292\n",
      "CPU times: user 8.7 s, sys: 7.02 ms, total: 8.71 s\n",
      "Wall time: 8.7 s\n"
     ]
    }
   ],
   "source": [
    "%%time\n",
    "sgd_log(xt_train_multilabel_5,y_train_5,xt_cv_multilabel_5,y_cv_5,xt_test_multilabel_5,y_test_5)"
   ]
  },
  {
   "cell_type": "markdown",
   "metadata": {
    "colab_type": "text",
    "id": "s2EBm7AFqgvL"
   },
   "source": [
    "<h3> SGD 5-Tags LOG TFIDF BI Grams Model </h3>"
   ]
  },
  {
   "cell_type": "code",
   "execution_count": 108,
   "metadata": {
    "colab": {
     "base_uri": "https://localhost:8080/",
     "height": 272
    },
    "colab_type": "code",
    "id": "snUxlUFOV1R8",
    "outputId": "e288a656-f153-41ef-8b17-162f8273a2ce"
   },
   "outputs": [
    {
     "name": "stdout",
     "output_type": "stream",
     "text": [
      "for 0.0001 Train_f1_score: 0.6292, Cv_f1_score: 0.4536\n",
      "for 0.001 Train_f1_score: 0.4306, Cv_f1_score: 0.4237\n",
      "for 0.01 Train_f1_score: 0.4042, Cv_f1_score: 0.3930\n",
      "for 0.1 Train_f1_score: 0.3601, Cv_f1_score: 0.3523\n",
      "for 1 Train_f1_score: 0.1599, Cv_f1_score: 0.1540\n",
      "for 10 Train_f1_score: 0.2431, Cv_f1_score: 0.2418\n",
      "for 100 Train_f1_score: 0.0000, Cv_f1_score: 0.0000\n",
      "for 1000 Train_f1_score: 0.0000, Cv_f1_score: 0.0000\n",
      "best parameter : 0.0001\n",
      "Accuracy : 0.18264994916977295\n",
      "Hamming loss  0.30349034225686206\n",
      "Micro-average :\n",
      "Precision: 0.4324, Recall: 0.5538, F1-measure: 0.4856\n",
      "CPU times: user 2.15 s, sys: 4.02 ms, total: 2.16 s\n",
      "Wall time: 2.15 s\n"
     ]
    }
   ],
   "source": [
    "%%time\n",
    "sgd_log(xtb_train_multilabel_5,y_train_5,xtb_cv_multilabel_5,y_cv_5,xtb_test_multilabel_5,y_test_5)"
   ]
  },
  {
   "cell_type": "markdown",
   "metadata": {
    "colab_type": "text",
    "id": "3UvcimQDqiq1"
   },
   "source": [
    "<h3> SGD 5-Tags LOG TFIDF TRI Grams Model </h3>"
   ]
  },
  {
   "cell_type": "code",
   "execution_count": 109,
   "metadata": {
    "colab": {
     "base_uri": "https://localhost:8080/",
     "height": 272
    },
    "colab_type": "code",
    "id": "HvO_UYIpV1Yt",
    "outputId": "707655d0-0b64-46cf-9855-2b539a928c92"
   },
   "outputs": [
    {
     "name": "stdout",
     "output_type": "stream",
     "text": [
      "for 0.0001 Train_f1_score: 0.5752, Cv_f1_score: 0.3233\n",
      "for 0.001 Train_f1_score: 0.3510, Cv_f1_score: 0.3388\n",
      "for 0.01 Train_f1_score: 0.3617, Cv_f1_score: 0.3458\n",
      "for 0.1 Train_f1_score: 0.4149, Cv_f1_score: 0.4090\n",
      "for 1 Train_f1_score: 0.2711, Cv_f1_score: 0.2656\n",
      "for 10 Train_f1_score: 0.1767, Cv_f1_score: 0.1692\n",
      "for 100 Train_f1_score: 0.2315, Cv_f1_score: 0.2313\n",
      "for 1000 Train_f1_score: 0.3442, Cv_f1_score: 0.3338\n",
      "best parameter : 0.1\n",
      "Accuracy : 0.004744154523890207\n",
      "Hamming loss  0.6230430362588953\n",
      "Micro-average :\n",
      "Precision: 0.2723, Recall: 0.8420, F1-measure: 0.4115\n",
      "CPU times: user 920 ms, sys: 4.02 ms, total: 924 ms\n",
      "Wall time: 922 ms\n"
     ]
    }
   ],
   "source": [
    "%%time\n",
    "sgd_log(xtt_train_multilabel_5,y_train_5,xtt_cv_multilabel_5,y_cv_5,xtt_test_multilabel_5,y_test_5)"
   ]
  },
  {
   "cell_type": "markdown",
   "metadata": {
    "colab_type": "text",
    "id": "f7elUuVkqkiC"
   },
   "source": [
    "<h3> SGD 5-Tags LOG TFIDF CHAR-4 Grams Model </h3>"
   ]
  },
  {
   "cell_type": "code",
   "execution_count": 110,
   "metadata": {
    "colab": {
     "base_uri": "https://localhost:8080/",
     "height": 255
    },
    "colab_type": "code",
    "id": "1WMWfqodV04s",
    "outputId": "3c117201-4d9a-43cd-8b61-09a6e97e2d42"
   },
   "outputs": [
    {
     "name": "stdout",
     "output_type": "stream",
     "text": [
      "for 0.001 Train_f1_score: 0.4400, Cv_f1_score: 0.4203\n",
      "for 0.01 Train_f1_score: 0.3329, Cv_f1_score: 0.3262\n",
      "for 0.1 Train_f1_score: 0.4121, Cv_f1_score: 0.4027\n",
      "for 1 Train_f1_score: 0.3186, Cv_f1_score: 0.3079\n",
      "for 10 Train_f1_score: 0.2631, Cv_f1_score: 0.2618\n",
      "for 100 Train_f1_score: 0.2631, Cv_f1_score: 0.2618\n",
      "for 1000 Train_f1_score: 0.3498, Cv_f1_score: 0.3364\n",
      "best parameter : 0.0001\n",
      "Accuracy : 0.1579125720094883\n",
      "Hamming loss  0.3100643849542528\n",
      "Micro-average :\n",
      "Precision: 0.4353, Recall: 0.6683, F1-measure: 0.5272\n",
      "CPU times: user 35.2 s, sys: 5.03 ms, total: 35.2 s\n",
      "Wall time: 35.2 s\n"
     ]
    }
   ],
   "source": [
    "%%time \n",
    "sgd_log(xtc_train_multilabel_5,y_train_5,xtc_cv_multilabel_5,y_cv_5,xtc_test_multilabel_5,y_test_5)"
   ]
  },
  {
   "cell_type": "markdown",
   "metadata": {
    "colab_type": "text",
    "id": "5fjVUSYwqnWO"
   },
   "source": [
    "<h3> SGD 5-Tags LOG TFIDF CHAR-5 Grams Model </h3>"
   ]
  },
  {
   "cell_type": "code",
   "execution_count": 111,
   "metadata": {
    "colab": {
     "base_uri": "https://localhost:8080/",
     "height": 272
    },
    "colab_type": "code",
    "id": "jQgOjWs1V0r-",
    "outputId": "8171e2af-c523-4bf8-d103-8732d9a4f236"
   },
   "outputs": [
    {
     "name": "stdout",
     "output_type": "stream",
     "text": [
      "for 0.0001 Train_f1_score: 0.6116, Cv_f1_score: 0.5167\n",
      "for 0.001 Train_f1_score: 0.4474, Cv_f1_score: 0.4322\n",
      "for 0.01 Train_f1_score: 0.3186, Cv_f1_score: 0.3079\n",
      "for 0.1 Train_f1_score: 0.2336, Cv_f1_score: 0.2229\n",
      "for 1 Train_f1_score: 0.2336, Cv_f1_score: 0.2229\n",
      "for 10 Train_f1_score: 0.1599, Cv_f1_score: 0.1540\n",
      "for 100 Train_f1_score: 0.3617, Cv_f1_score: 0.3458\n",
      "for 1000 Train_f1_score: 0.1767, Cv_f1_score: 0.1692\n",
      "best parameter : 0.0001\n",
      "Accuracy : 0.19146052185699763\n",
      "Hamming loss  0.2894611995933582\n",
      "Micro-average :\n",
      "Precision: 0.4576, Recall: 0.6424, F1-measure: 0.5345\n",
      "CPU times: user 51 s, sys: 11 ms, total: 51 s\n",
      "Wall time: 51 s\n"
     ]
    }
   ],
   "source": [
    "%%time \n",
    "sgd_log(xts_train_multilabel_5,y_train_5,xts_cv_multilabel_5,y_cv_5,xts_test_multilabel_5,y_test_5)"
   ]
  },
  {
   "cell_type": "markdown",
   "metadata": {
    "colab_type": "text",
    "id": "oYuvCPHQ0Sil"
   },
   "source": [
    "<h3> SGD 5-Tags LOG TFIDF UNI + BI + TRI Grams Model </h3>"
   ]
  },
  {
   "cell_type": "code",
   "execution_count": 112,
   "metadata": {
    "colab": {
     "base_uri": "https://localhost:8080/",
     "height": 272
    },
    "colab_type": "code",
    "id": "hUYLidId0S3r",
    "outputId": "9ac8d3e3-e433-4a15-9220-6e509bab9aa5"
   },
   "outputs": [
    {
     "name": "stdout",
     "output_type": "stream",
     "text": [
      "for 0.0001 Train_f1_score: 0.7376, Cv_f1_score: 0.4983\n",
      "for 0.001 Train_f1_score: 0.4239, Cv_f1_score: 0.4150\n",
      "for 0.01 Train_f1_score: 0.3677, Cv_f1_score: 0.3568\n",
      "for 0.1 Train_f1_score: 0.4214, Cv_f1_score: 0.4108\n",
      "for 1 Train_f1_score: 0.3614, Cv_f1_score: 0.3470\n",
      "for 10 Train_f1_score: 0.0000, Cv_f1_score: 0.0000\n",
      "for 100 Train_f1_score: 0.1767, Cv_f1_score: 0.1692\n",
      "for 1000 Train_f1_score: 0.0000, Cv_f1_score: 0.0000\n",
      "best parameter : 0.0001\n",
      "Accuracy : 0.2111148763131142\n",
      "Hamming loss  0.27610979329041\n",
      "Micro-average :\n",
      "Precision: 0.4727, Recall: 0.5832, F1-measure: 0.5222\n",
      "CPU times: user 15.4 s, sys: 13.4 s, total: 28.8 s\n",
      "Wall time: 13.2 s\n"
     ]
    }
   ],
   "source": [
    "%%time\n",
    "sgd_log(tf_tr_uni_bi_tri_5,y_train_5,tf_cv_uni_bi_tri_5,y_cv_5,tf_te_uni_bi_tri_5,y_test_5)"
   ]
  },
  {
   "cell_type": "markdown",
   "metadata": {
    "colab_type": "text",
    "id": "Wo4laoGI0TVK"
   },
   "source": [
    "<h3> SGD 5-Tags LOG TFIDF C3 + C4 Model </h3>"
   ]
  },
  {
   "cell_type": "code",
   "execution_count": 113,
   "metadata": {
    "colab": {
     "base_uri": "https://localhost:8080/",
     "height": 272
    },
    "colab_type": "code",
    "id": "6athS9-L0Tn0",
    "outputId": "6e7437d4-357b-4e25-a971-11da46f62586"
   },
   "outputs": [
    {
     "name": "stdout",
     "output_type": "stream",
     "text": [
      "for 0.0001 Train_f1_score: 0.6284, Cv_f1_score: 0.5107\n",
      "for 0.001 Train_f1_score: 0.4486, Cv_f1_score: 0.4273\n",
      "for 0.01 Train_f1_score: 0.2711, Cv_f1_score: 0.2656\n",
      "for 0.1 Train_f1_score: 0.2431, Cv_f1_score: 0.2418\n",
      "for 1 Train_f1_score: 0.1737, Cv_f1_score: 0.1814\n",
      "for 10 Train_f1_score: 0.4121, Cv_f1_score: 0.4027\n",
      "for 100 Train_f1_score: 0.0000, Cv_f1_score: 0.0000\n",
      "for 1000 Train_f1_score: 0.3593, Cv_f1_score: 0.3554\n",
      "best parameter : 0.0001\n",
      "Accuracy : 0.19484920365977634\n",
      "Hamming loss  0.284717045069468\n",
      "Micro-average :\n",
      "Precision: 0.4635, Recall: 0.6390, F1-measure: 0.5373\n",
      "CPU times: user 1min 31s, sys: 13.3 s, total: 1min 44s\n",
      "Wall time: 1min 29s\n"
     ]
    }
   ],
   "source": [
    "%%time \n",
    "sgd_log(tf_tr_c3_c4_5,y_train_5,tf_cv_c3_c4_5,y_cv_5,tf_te_c3_c4_5,y_test_5)"
   ]
  },
  {
   "cell_type": "markdown",
   "metadata": {
    "colab_type": "text",
    "id": "wBsUx8r_0T7Z"
   },
   "source": [
    "<h3> SGD 5-Tags LOG TFIDF UNI + BI + TRI + C3 + C4 Model </h3>"
   ]
  },
  {
   "cell_type": "code",
   "execution_count": 119,
   "metadata": {
    "colab": {
     "base_uri": "https://localhost:8080/",
     "height": 272
    },
    "colab_type": "code",
    "id": "84IsH7Oh0UKJ",
    "outputId": "58688724-efc9-4e99-83e2-7e18f70f12a0"
   },
   "outputs": [
    {
     "name": "stdout",
     "output_type": "stream",
     "text": [
      "for 0.0001 Train_f1_score: 0.7400, Cv_f1_score: 0.5036\n",
      "for 0.001 Train_f1_score: 0.4495, Cv_f1_score: 0.4310\n",
      "for 0.01 Train_f1_score: 0.0000, Cv_f1_score: 0.0000\n",
      "for 0.1 Train_f1_score: 0.3031, Cv_f1_score: 0.3057\n",
      "for 1 Train_f1_score: 0.0000, Cv_f1_score: 0.0000\n",
      "for 10 Train_f1_score: 0.3593, Cv_f1_score: 0.3554\n",
      "for 100 Train_f1_score: 0.0000, Cv_f1_score: 0.0000\n",
      "for 1000 Train_f1_score: 0.3052, Cv_f1_score: 0.2973\n",
      "best parameter : 0.0001\n",
      "Accuracy : 0.2111148763131142\n",
      "Hamming loss  0.2775330396475771\n",
      "Micro-average :\n",
      "Precision: 0.4711, Recall: 0.5944, F1-measure: 0.5257\n",
      "CPU times: user 1min 57s, sys: 13.3 s, total: 2min 10s\n",
      "Wall time: 1min 55s\n"
     ]
    }
   ],
   "source": [
    "%%time \n",
    "sgd_log(tf_tr_u_b_t_c3_c4_5,y_train_5,tf_cv_u_b_t_c3_c4_5,y_cv_5,tf_te_u_b_t_c3_c4_5,y_test_5) "
   ]
  },
  {
   "cell_type": "markdown",
   "metadata": {
    "colab_type": "text",
    "id": "70QTKItC2k9j"
   },
   "source": [
    "<h2> Observations</h2>"
   ]
  },
  {
   "cell_type": "code",
   "execution_count": 138,
   "metadata": {
    "colab": {
     "base_uri": "https://localhost:8080/",
     "height": 1000
    },
    "colab_type": "code",
    "id": "1mSievW61T6d",
    "outputId": "cf51775b-bdb6-4369-921c-716fa9f2ce0a"
   },
   "outputs": [
    {
     "name": "stdout",
     "output_type": "stream",
     "text": [
      "==================================================================================\n",
      "                           MODEL_1\n",
      "==================================================================================\n",
      "+---------------+-------------------+---------------------+---------------------+\n",
      "|     Model     |     vectorizer    | Top_3_Tags_F1_score | Top_5_Tags_F1_score |\n",
      "+---------------+-------------------+---------------------+---------------------+\n",
      "| LOGISTIC REGR |      BOW_UNI      |        0.587        |        0.535        |\n",
      "| LOGISTIC REGR |       BOW_BI      |        0.519        |        0.469        |\n",
      "| LOGISTIC REGR |      BOW_TRI      |        0.388        |        0.352        |\n",
      "| LOGISTIC REGR |       BOW_C3      |        0.573        |        0.527        |\n",
      "| LOGISTIC REGR |       BOW_C4      |        0.585        |        0.537        |\n",
      "| LOGISTIC REGR |     BOW_U_B_T     |        0.587        |        0.535        |\n",
      "| LOGISTIC REGR |     BOW_C3_C4     |         0.58        |        0.531        |\n",
      "| LOGISTIC REGR |  BOW_U_B_T_C3_C4  |         0.58        |        0.532        |\n",
      "| LOGISTIC REGR |     TFIDF_UNI     |        0.586        |        0.532        |\n",
      "| LOGISTIC REGR |      TFIDF_BI     |        0.536        |        0.488        |\n",
      "| LOGISTIC REGR |     TFIDF_TRI     |        0.388        |        0.356        |\n",
      "| LOGISTIC REGR |      TFIDF_C3     |        0.576        |        0.526        |\n",
      "| LOGISTIC REGR |      TFIDF_C4     |        0.585        |        0.535        |\n",
      "| LOGISTIC REGR |    TFIDF_U_B_T    |        0.579        |        0.525        |\n",
      "| LOGISTIC REGR |    TFIDF_C3_C4    |        0.582        |        0.532        |\n",
      "| LOGISTIC REGR | TFIDF_U_B_T_C3_C4 |        0.584        |        0.533        |\n",
      "+---------------+-------------------+---------------------+---------------------+\n",
      "==================================================================================\n",
      "                              MODEL_2\n",
      "==================================================================================\n",
      "+----------+-------------------+---------------------+---------------------+\n",
      "|  Model   |     vectorizer    | Top_3_Tags_F1_score | Top_5_Tags_F1_score |\n",
      "+----------+-------------------+---------------------+---------------------+\n",
      "| SGD_SVM  |      BOW_UNI      |        0.502        |        0.455        |\n",
      "| SGD_SVM  |       BOW_BI      |        0.499        |        0.444        |\n",
      "| SGD_SVM  |      BOW_TRI      |        0.323        |        0.374        |\n",
      "| SGD_SVM  |       BOW_C3      |         0.5         |        0.454        |\n",
      "| SGD_SVM  |       BOW_C4      |        0.508        |        0.459        |\n",
      "| SGD_SVM  |     BOW_U_B_T     |        0.513        |        0.453        |\n",
      "| SGD_SVM  |     BOW_C3_C4     |        0.508        |        0.447        |\n",
      "| SGD_SVM  |  BOW_U_B_T_C3_C4  |        0.512        |        0.462        |\n",
      "| SGD_SVM  |     TFIDF_UNI     |         0.57        |        0.516        |\n",
      "| SGD_SVM  |      TFIDF_BI     |        0.523        |        0.484        |\n",
      "| SGD_SVM  |     TFIDF_TRI     |        0.491        |        0.411        |\n",
      "| SGD_SVM  |      TFIDF_C3     |        0.565        |        0.518        |\n",
      "| SGD_SVM  |      TFIDF_C4     |        0.581        |         0.53        |\n",
      "| SGD_SVM  |    TFIDF_U_B_T    |        0.557        |        0.499        |\n",
      "| SGD_SVM  |    TFIDF_C3_C4    |        0.575        |        0.523        |\n",
      "| SGD_SVM  | TFIDF_U_B_T_C3_C4 |        0.562        |        0.508        |\n",
      "+----------+-------------------+---------------------+---------------------+\n",
      "==================================================================================\n",
      "                               MODEL_3\n",
      "==================================================================================\n",
      "+----------+-------------------+---------------------+---------------------+\n",
      "|  Model   |     vectorizer    | Top_3_Tags_F1_score | Top_5_Tags_F1_score |\n",
      "+----------+-------------------+---------------------+---------------------+\n",
      "| SGD_LOG  |      BOW_UNI      |        0.506        |        0.457        |\n",
      "| SGD_LOG  |       BOW_BI      |        0.484        |        0.446        |\n",
      "| SGD_LOG  |      BOW_TRI      |        0.352        |         0.43        |\n",
      "| SGD_LOG  |       BOW_C3      |        0.511        |        0.449        |\n",
      "| SGD_LOG  |       BOW_C4      |         0.51        |        0.455        |\n",
      "| SGD_LOG  |     BOW_U_B_T     |        0.515        |        0.527        |\n",
      "| SGD_LOG  |     BOW_C3_C4     |        0.509        |        0.531        |\n",
      "| SGD_LOG  |  BOW_U_B_T_C3_C4  |        0.575        |        0.524        |\n",
      "| SGD_LOG  |     TFIDF_UNI     |        0.585        |        0.529        |\n",
      "| SGD_LOG  |      TFIDF_BI     |        0.539        |        0.485        |\n",
      "| SGD_LOG  |     TFIDF_TRI     |        0.323        |        0.411        |\n",
      "| SGD_LOG  |      TFIDF_C3     |        0.579        |        0.527        |\n",
      "| SGD_LOG  |      TFIDF_C4     |        0.584        |        0.534        |\n",
      "| SGD_LOG  |    TFIDF_U_B_T    |        0.577        |        0.522        |\n",
      "| SGD_LOG  |    TFIDF_C3_C4    |        0.586        |        0.537        |\n",
      "| SGD_LOG  | TFIDF_U_B_T_C3_C4 |        0.576        |        0.525        |\n",
      "+----------+-------------------+---------------------+---------------------+\n"
     ]
    }
   ],
   "source": [
    "from prettytable import PrettyTable\n",
    "\n",
    "print('='*82)\n",
    "print(\"                           MODEL_1\")\n",
    "print('='*82)   \n",
    "x = PrettyTable()\n",
    "\n",
    "x.field_names = [ \"Model\",\"vectorizer\" ,\"Top_3_Tags_F1_score\",'Top_5_Tags_F1_score']\n",
    "x.add_row([\"LOGISTIC REGR\",\"BOW_UNI\",               0.587,  0.535])\n",
    "x.add_row([\"LOGISTIC REGR\",\"BOW_BI\",                0.519,  0.469])\n",
    "x.add_row([\"LOGISTIC REGR\",\"BOW_TRI\",               0.388,  0.352])\n",
    "x.add_row([\"LOGISTIC REGR\",\"BOW_C3\",                0.573,  0.527])\n",
    "x.add_row([\"LOGISTIC REGR\",\"BOW_C4\",                0.585,  0.537])\n",
    "x.add_row([\"LOGISTIC REGR\",\"BOW_U_B_T\",             0.587,  0.535])\n",
    "x.add_row([\"LOGISTIC REGR\",\"BOW_C3_C4\",             0.580,  0.531])\n",
    "x.add_row([\"LOGISTIC REGR\",\"BOW_U_B_T_C3_C4\",       0.580,  0.532])\n",
    "\n",
    "x.add_row([\"LOGISTIC REGR\",\"TFIDF_UNI\",               0.586,  0.532])\n",
    "x.add_row([\"LOGISTIC REGR\",\"TFIDF_BI\",                0.536,  0.488])\n",
    "x.add_row([\"LOGISTIC REGR\",\"TFIDF_TRI\",               0.388,  0.356])\n",
    "x.add_row([\"LOGISTIC REGR\",\"TFIDF_C3\",                0.576,  0.526])\n",
    "x.add_row([\"LOGISTIC REGR\",\"TFIDF_C4\",                0.585,  0.535])\n",
    "x.add_row([\"LOGISTIC REGR\",\"TFIDF_U_B_T\",             0.579,  0.525])\n",
    "x.add_row([\"LOGISTIC REGR\",\"TFIDF_C3_C4\",             0.582,  0.532])\n",
    "x.add_row([\"LOGISTIC REGR\",\"TFIDF_U_B_T_C3_C4\",       0.584,  0.533])\n",
    "\n",
    "print(x)\n",
    "print('='*82)\n",
    "print(\"                              MODEL_2\")\n",
    "print('='*82)\n",
    "x2 = PrettyTable()\n",
    "\n",
    "x2.field_names = [ \"Model\",\"vectorizer\" ,\"Top_3_Tags_F1_score\",'Top_5_Tags_F1_score']\n",
    "x2.add_row([\"SGD_SVM \",\"BOW_UNI\",              0.502,  0.455])\n",
    "x2.add_row([\"SGD_SVM\",\"BOW_BI\",                0.499,  0.444])\n",
    "x2.add_row([\"SGD_SVM\",\"BOW_TRI\",               0.323,  0.374])\n",
    "x2.add_row([\"SGD_SVM\",\"BOW_C3\",                0.500,  0.454])\n",
    "x2.add_row([\"SGD_SVM\",\"BOW_C4\",                0.508,  0.459])\n",
    "x2.add_row([\"SGD_SVM\",\"BOW_U_B_T\",             0.513,  0.453])\n",
    "x2.add_row([\"SGD_SVM\",\"BOW_C3_C4\",             0.508,  0.447])\n",
    "x2.add_row([\"SGD_SVM\",\"BOW_U_B_T_C3_C4\",       0.512,  0.462])\n",
    "\n",
    "x2.add_row([\"SGD_SVM\",\"TFIDF_UNI\",               0.570,  0.516])\n",
    "x2.add_row([\"SGD_SVM\",\"TFIDF_BI\",                0.523,  0.484])\n",
    "x2.add_row([\"SGD_SVM\",\"TFIDF_TRI\",               0.491,  0.411])\n",
    "x2.add_row([\"SGD_SVM\",\"TFIDF_C3\",                0.565,  0.518])\n",
    "x2.add_row([\"SGD_SVM\",\"TFIDF_C4\",                0.581,  0.530])\n",
    "x2.add_row([\"SGD_SVM\",\"TFIDF_U_B_T\",             0.557,  0.499])\n",
    "x2.add_row([\"SGD_SVM\",\"TFIDF_C3_C4\",             0.575,  0.523])\n",
    "x2.add_row([\"SGD_SVM\",\"TFIDF_U_B_T_C3_C4\",       0.562,  0.508])\n",
    "\n",
    "print(x2)\n",
    "print('='*82)\n",
    "print(\"                               MODEL_3\")\n",
    "print('='*82)\n",
    "\n",
    "x3 = PrettyTable()\n",
    "\n",
    "x3.field_names = [ \"Model\",\"vectorizer\" ,\"Top_3_Tags_F1_score\",'Top_5_Tags_F1_score']\n",
    "x3.add_row([\"SGD_LOG \",\"BOW_UNI\",              0.506,  0.457])\n",
    "x3.add_row([\"SGD_LOG\",\"BOW_BI\",                0.484,  0.446])\n",
    "x3.add_row([\"SGD_LOG\",\"BOW_TRI\",               0.352,  0.430])\n",
    "x3.add_row([\"SGD_LOG\",\"BOW_C3\",                0.511,  0.449])\n",
    "x3.add_row([\"SGD_LOG\",\"BOW_C4\",                0.510,  0.455])\n",
    "x3.add_row([\"SGD_LOG\",\"BOW_U_B_T\",             0.515,  0.527])\n",
    "x3.add_row([\"SGD_LOG\",\"BOW_C3_C4\",             0.509,  0.531])\n",
    "x3.add_row([\"SGD_LOG\",\"BOW_U_B_T_C3_C4\",       0.575,  0.524])\n",
    "\n",
    "x3.add_row([\"SGD_LOG\",\"TFIDF_UNI\",               0.585,  0.529])\n",
    "x3.add_row([\"SGD_LOG\",\"TFIDF_BI\",                0.539,  0.485])\n",
    "x3.add_row([\"SGD_LOG\",\"TFIDF_TRI\",               0.323,  0.411])\n",
    "x3.add_row([\"SGD_LOG\",\"TFIDF_C3\",                0.579,  0.527])\n",
    "x3.add_row([\"SGD_LOG\",\"TFIDF_C4\",                0.584,  0.534])\n",
    "x3.add_row([\"SGD_LOG\",\"TFIDF_U_B_T\",             0.577,  0.522])\n",
    "x3.add_row([\"SGD_LOG\",\"TFIDF_C3_C4\",             0.586,  0.537])\n",
    "x3.add_row([\"SGD_LOG\",\"TFIDF_U_B_T_C3_C4\",       0.576,  0.525])\n",
    "\n",
    "print(x3)"
   ]
  },
  {
   "cell_type": "markdown",
   "metadata": {
    "colab_type": "text",
    "id": "6XPaD-CDcjlJ"
   },
   "source": [
    "<h1>Observations</h1>"
   ]
  },
  {
   "cell_type": "markdown",
   "metadata": {
    "colab_type": "text",
    "id": "TFlzewPscmBG"
   },
   "source": [
    "<ol>\n",
    "  <li>Performed EDA and done some analysis on Tags </li>\n",
    "  <li>Most frequent Tags are Murder, violance,  Flashback, cult, Romantic </li>\n",
    "  <li>First we Trying with Top-3 and Top-5 Tags instead of using all 71-Tags </li>\n",
    "  <li>Applied Differnt NLP Feature Extractions on BOW, TFIDF, with UNI-BI-TRI-CHAR_3-CHAR_4-GRAMS on Top-3 and Top-5 Tags</li>\n",
    "  <li>Applied Logistic Regression , SGD Classifier with hinge and log loss on each NLP Features</li>\n",
    "  <li>Compare to all models in above table_format Logistic Regression using BOW and TFIDF and UNI+BI+TRI+CHAR_3+CHAR_4(Mixing) Models gives 0.58 as F1_SCore </li>\n",
    "  <li>We also performed models with 71-Tags(All-tags)  it gives 0.37 as highest F1-Score for Logistic Regression using TFIDF Vectorizers(uni+bi+tri+c3+c4)</li>\n",
    "  <li>Overall using Top_3 Tags we acheived 0.58 as maximum f1-Score using  BOW, TFIDF(uni_gram) Vectorizers</li>\n",
    "</ol>"
   ]
  },
  {
   "cell_type": "code",
   "execution_count": 0,
   "metadata": {
    "colab": {},
    "colab_type": "code",
    "id": "y7oNWbcoXtJz"
   },
   "outputs": [],
   "source": []
  }
 ],
 "metadata": {
  "accelerator": "GPU",
  "colab": {
   "collapsed_sections": [],
   "machine_shape": "hm",
   "name": "MOVIE_PLOT_SYNPS.ipynb",
   "provenance": []
  },
  "kernelspec": {
   "display_name": "Python 3",
   "language": "python",
   "name": "python3"
  },
  "language_info": {
   "codemirror_mode": {
    "name": "ipython",
    "version": 3
   },
   "file_extension": ".py",
   "mimetype": "text/x-python",
   "name": "python",
   "nbconvert_exporter": "python",
   "pygments_lexer": "ipython3",
   "version": "3.6.5"
  }
 },
 "nbformat": 4,
 "nbformat_minor": 1
}
