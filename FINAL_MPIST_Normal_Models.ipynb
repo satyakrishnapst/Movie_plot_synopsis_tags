{
 "cells": [
  {
   "cell_type": "markdown",
   "metadata": {
    "colab_type": "text",
    "id": "lx34iObWJ8fR"
   },
   "source": [
    "<h1>MPST: Movie Plot Synopses with Tags</h1>\n"
   ]
  },
  {
   "cell_type": "markdown",
   "metadata": {
    "colab_type": "text",
    "id": "lReoH9saQ1_R"
   },
   "source": [
    "<h1>Business Problem</h1>"
   ]
  },
  {
   "cell_type": "markdown",
   "metadata": {
    "colab_type": "text",
    "id": "kcQ_lF0eKA5e"
   },
   "source": [
    "\n",
    "<h2>1.1 Dataset Description</h2>\n",
    "<ul>\n",
    " <li>Abstract Social tagging of movies reveals a wide range of heterogeneous information about movies, like the genre, plot structure, soundtracks, metadata, visual and emotional experiences.</li>\n",
    " <li> Such information can be valuable in building automatic systems to create tags for movies.</li>\n",
    "  <li> Automatic tagging systems can help recommendation engines to improve the retrieval of similar movies as well as help viewers to know what to expect from a movie in advance.</li>\n",
    " <li> In this paper, we set out to the task of collecting a corpus of movie plot synopses and tags. </li>\n",
    "  <li>We describe a methodology that enabled us to build a fine-grained set of around 70 tags exposing heterogeneous characteristics of movie plots and the multi-label associations of these tags with some 14K movie plot synopses.</li>\n",
    " <li> We investigate how these tags correlate with movies and the flow of emotions throughout different types of movies. Finally, we use this corpus to explore the feasibility of inferring tags from plot synopses. </li>\n",
    " <li>We expect the corpus will be useful in other tasks where analysis of narratives is relevant</li>\n",
    "</ul>"
   ]
  },
  {
   "cell_type": "markdown",
   "metadata": {
    "colab_type": "text",
    "id": "EmYyaok4Oev6"
   },
   "source": [
    "<h2>1.2 Data Source</h2>\n",
    "<ul>\n",
    "<li>\n",
    "Dataset : https://www.kaggle.com/cryptexcode/mpst-movie-plot-synopses-with-tags\n",
    "</li>\n",
    "<li>Please find the paper here: https://www.aclweb.org/anthology/L18-1274</li>\n",
    "<li>This dataset was published in LREC 2018@Miyazaki, Japan.</li>\n",
    "<li>Keywords Tag generation for movies, Movie plot analysis, Multi-label dataset, Narrative texts</li>\n",
    "<li>More information is available here http://ritual.uh.edu/mpst-2018/</li>\n",
    "</ul>"
   ]
  },
  {
   "cell_type": "markdown",
   "metadata": {
    "colab_type": "text",
    "id": "JBpeKOR4KA8s"
   },
   "source": [
    "<h2> 1.3 Problem Statement</h2>\n",
    "<ul>\n",
    "<li>Identify which tag should be assigned to which movie.</li>\n",
    "<li>we present the MPST corpus that contains plot synopses of 14,828 movies and their associations with a set of fine-grained tags, where each movie is tagged      with one or more tags.\n",
    "</li>\n",
    "</ul>"
   ]
  },
  {
   "cell_type": "markdown",
   "metadata": {
    "colab_type": "text",
    "id": "gQ5KcDsJKBB3"
   },
   "source": [
    "<h2>1.4 Real world/Business Objectives and Constraints</h2>\n",
    "<ul>\n",
    "<li>Predict as many tags as possible with high precision and recall.</li>\n",
    "<li>No strict latency concerns.</li>\n",
    "</ul>"
   ]
  },
  {
   "cell_type": "markdown",
   "metadata": {
    "colab_type": "text",
    "id": "D_0GN8JdKBFv"
   },
   "source": [
    "<h2>2. Machine Learning Problem </h2>"
   ]
  },
  {
   "cell_type": "markdown",
   "metadata": {
    "colab_type": "text",
    "id": "RLxlFhM2KBPq"
   },
   "source": [
    "<h2>2.1 Data Format</h2>\n",
    "\n",
    "\n",
    "*   Data will be in a csv file\n",
    "*   Train.csv contains 6 columns : imdb_id, title, plot_synopsis, tags, split, synopsis_source\n",
    "\n",
    "*   Size of Train.csv - 28MB \n",
    "*   Number of rows in Train.csv = 14,828\n",
    "\n",
    "\n",
    "\n",
    "\n"
   ]
  },
  {
   "cell_type": "markdown",
   "metadata": {
    "colab_type": "text",
    "id": "1aMlpLjUKBTE"
   },
   "source": [
    "<h2>2.2 Mapping the real-world problem to a Machine Learning Problem</h2>"
   ]
  },
  {
   "cell_type": "markdown",
   "metadata": {
    "colab_type": "text",
    "id": "R4PG6aJOKBW9"
   },
   "source": [
    "<h2>2.2.1Type of Machine Learning Problem</h2>\n",
    "<ul>\n",
    "<li>It is a multi-label classification problem Multi-label Classification: Multilabel classification assigns to each sample a set of target labels.</li> <li>This can be thought as predicting properties of a data-point that are not mutually exclusive, such as topics that are relevant for a document.</li>\n",
    "</ul>"
   ]
  },
  {
   "cell_type": "markdown",
   "metadata": {
    "colab_type": "text",
    "id": "1Q2rihfySB2n"
   },
   "source": [
    "<h2>2.2.2 Performance metric</h2>                             \n",
    "<ul>\n",
    "<li>\n",
    "Micro-Averaged F1-Score (Mean F Score) : The F1 score can be interpreted as a weighted average of the precision and recall, where an F1 score reaches its best value at 1 and worst score at 0. The relative contribution of precision and recall to the F1 score are equal. <br>\n",
    "The formula for the F1 score is: F1 = 2 * (precision * recall) / (precision +   recall)\n",
    "</li>\n",
    "<li>\n",
    "In the multi-class and multi-label case, this is the weighted average of the F1 score of each class.\n",
    "</li>\n",
    "<li>\n",
    "<b>' Micro f1 score ' : </b><br>\n",
    "Calculate metrics globally by counting the total true positives, false negatives and false positives. This is a better metric when we have class imbalance.</li>\n",
    "<li>\n",
    "<b>'Macro f1 score':</b> <br>\n",
    "Calculate metrics for each label, and find their unweighted mean. This does not take label imbalance into account.\n",
    "</li>\n",
    "</ul>"
   ]
  },
  {
   "cell_type": "markdown",
   "metadata": {
    "colab_type": "text",
    "id": "AZJpNB17SB6N"
   },
   "source": [
    "<h2>3.Exploratory Data Analysis</h2>"
   ]
  },
  {
   "cell_type": "markdown",
   "metadata": {
    "colab_type": "text",
    "id": "SY9GGdWvVRhN"
   },
   "source": [
    "<h2>3.1 Data Loading and Cleaning\n",
    "</h2>"
   ]
  },
  {
   "cell_type": "code",
   "execution_count": 1,
   "metadata": {
    "colab": {
     "base_uri": "https://localhost:8080/",
     "height": 122
    },
    "colab_type": "code",
    "id": "oYk4EDhAVfjd",
    "outputId": "5d5b3b06-d909-4011-b4a3-6759297708b5"
   },
   "outputs": [
    {
     "name": "stdout",
     "output_type": "stream",
     "text": [
      "Go to this URL in a browser: https://accounts.google.com/o/oauth2/auth?client_id=947318989803-6bn6qk8qdgf4n4g3pfee6491hc0brc4i.apps.googleusercontent.com&redirect_uri=urn%3Aietf%3Awg%3Aoauth%3A2.0%3Aoob&scope=email%20https%3A%2F%2Fwww.googleapis.com%2Fauth%2Fdocs.test%20https%3A%2F%2Fwww.googleapis.com%2Fauth%2Fdrive%20https%3A%2F%2Fwww.googleapis.com%2Fauth%2Fdrive.photos.readonly%20https%3A%2F%2Fwww.googleapis.com%2Fauth%2Fpeopleapi.readonly&response_type=code\n",
      "\n",
      "Enter your authorization code:\n",
      "··········\n",
      "Mounted at /content/drive\n"
     ]
    }
   ],
   "source": [
    "from google.colab import drive\n",
    "drive.mount('/content/drive')"
   ]
  },
  {
   "cell_type": "code",
   "execution_count": 37,
   "metadata": {
    "colab": {},
    "colab_type": "code",
    "id": "RvW2iHxiJ5th"
   },
   "outputs": [
    {
     "name": "stdout",
     "output_type": "stream",
     "text": [
      "Collecting jupyterhub\n",
      "\u001b[?25l  Downloading https://files.pythonhosted.org/packages/0d/67/c1e7d691bcb635fcde61c544d8fbca1edebb7bb4f68f34f5de291eba02d0/jupyterhub-1.0.0-py3-none-any.whl (3.2MB)\n",
      "\u001b[K    100% |████████████████████████████████| 3.2MB 12.7MB/s ta 0:00:01\n",
      "\u001b[?25hRequirement already satisfied, skipping upgrade: tornado>=5.0 in /opt/conda/envs/fastai/lib/python3.6/site-packages (from jupyterhub) (5.1.1)\n",
      "Requirement already satisfied, skipping upgrade: traitlets>=4.3.2 in /opt/conda/envs/fastai/lib/python3.6/site-packages (from jupyterhub) (4.3.2)\n",
      "Collecting certipy>=0.1.2 (from jupyterhub)\n",
      "  Downloading https://files.pythonhosted.org/packages/4e/c4/02194a623c03547306c5edfb6b1c0fadaa35ad7fdc2a93b2c1e5e86afc51/certipy-0.1.3-py3-none-any.whl\n",
      "Collecting alembic (from jupyterhub)\n",
      "\u001b[?25l  Downloading https://files.pythonhosted.org/packages/70/3d/d5ed7a71fe84f9ed0a69e91232a40b0b148b151524dc5bb1c8e4211eb117/alembic-1.3.0.tar.gz (1.1MB)\n",
      "\u001b[K    100% |████████████████████████████████| 1.1MB 24.9MB/s ta 0:00:01\n",
      "\u001b[?25hCollecting async-generator>=1.8 (from jupyterhub)\n",
      "  Downloading https://files.pythonhosted.org/packages/71/52/39d20e03abd0ac9159c162ec24b93fbcaa111e8400308f2465432495ca2b/async_generator-1.10-py3-none-any.whl\n",
      "Collecting pamela (from jupyterhub)\n",
      "  Downloading https://files.pythonhosted.org/packages/9c/b8/f7592a30aa95ffdea4f2e01aca87c15a7a315ba34f835235291eeba22779/pamela-1.0.0-py2.py3-none-any.whl\n",
      "Requirement already satisfied, skipping upgrade: python-dateutil in /opt/conda/envs/fastai/lib/python3.6/site-packages (from jupyterhub) (2.7.5)\n",
      "Requirement already satisfied, skipping upgrade: entrypoints in /opt/conda/envs/fastai/lib/python3.6/site-packages (from jupyterhub) (0.3)\n",
      "Requirement already satisfied, skipping upgrade: requests in /opt/conda/envs/fastai/lib/python3.6/site-packages (from jupyterhub) (2.21.0)\n",
      "Collecting oauthlib>=3.0 (from jupyterhub)\n",
      "\u001b[?25l  Downloading https://files.pythonhosted.org/packages/05/57/ce2e7a8fa7c0afb54a0581b14a65b56e62b5759dbc98e80627142b8a3704/oauthlib-3.1.0-py2.py3-none-any.whl (147kB)\n",
      "\u001b[K    100% |████████████████████████████████| 153kB 49.4MB/s ta 0:00:01\n",
      "\u001b[?25hRequirement already satisfied, skipping upgrade: prometheus-client>=0.0.21 in /opt/conda/envs/fastai/lib/python3.6/site-packages (from jupyterhub) (0.5.0)\n",
      "Collecting SQLAlchemy>=1.1 (from jupyterhub)\n",
      "\u001b[?25l  Downloading https://files.pythonhosted.org/packages/14/0e/487f7fc1e432cec50d2678f94e4133f2b9e9356e35bacc30d73e8cb831fc/SQLAlchemy-1.3.10.tar.gz (6.0MB)\n",
      "\u001b[K    100% |████████████████████████████████| 6.0MB 5.2MB/s eta 0:00:01\n",
      "\u001b[?25hRequirement already satisfied, skipping upgrade: jinja2 in /opt/conda/envs/fastai/lib/python3.6/site-packages (from jupyterhub) (2.10)\n",
      "Requirement already satisfied, skipping upgrade: ipython_genutils in /opt/conda/envs/fastai/lib/python3.6/site-packages (from traitlets>=4.3.2->jupyterhub) (0.2.0)\n",
      "Requirement already satisfied, skipping upgrade: six in /opt/conda/envs/fastai/lib/python3.6/site-packages (from traitlets>=4.3.2->jupyterhub) (1.12.0)\n",
      "Requirement already satisfied, skipping upgrade: decorator in /opt/conda/envs/fastai/lib/python3.6/site-packages (from traitlets>=4.3.2->jupyterhub) (4.3.0)\n",
      "Requirement already satisfied, skipping upgrade: pyopenssl in /opt/conda/envs/fastai/lib/python3.6/site-packages (from certipy>=0.1.2->jupyterhub) (18.0.0)\n",
      "Collecting Mako (from alembic->jupyterhub)\n",
      "\u001b[?25l  Downloading https://files.pythonhosted.org/packages/b0/3c/8dcd6883d009f7cae0f3157fb53e9afb05a0d3d33b3db1268ec2e6f4a56b/Mako-1.1.0.tar.gz (463kB)\n",
      "\u001b[K    100% |████████████████████████████████| 471kB 35.4MB/s ta 0:00:01\n",
      "\u001b[?25hCollecting python-editor>=0.3 (from alembic->jupyterhub)\n",
      "  Downloading https://files.pythonhosted.org/packages/c6/d3/201fc3abe391bbae6606e6f1d598c15d367033332bd54352b12f35513717/python_editor-1.0.4-py3-none-any.whl\n",
      "Requirement already satisfied, skipping upgrade: certifi>=2017.4.17 in /opt/conda/envs/fastai/lib/python3.6/site-packages (from requests->jupyterhub) (2018.11.29)\n",
      "Requirement already satisfied, skipping upgrade: chardet<3.1.0,>=3.0.2 in /opt/conda/envs/fastai/lib/python3.6/site-packages (from requests->jupyterhub) (3.0.4)\n",
      "Requirement already satisfied, skipping upgrade: urllib3<1.25,>=1.21.1 in /opt/conda/envs/fastai/lib/python3.6/site-packages (from requests->jupyterhub) (1.24.1)\n",
      "Requirement already satisfied, skipping upgrade: idna<2.9,>=2.5 in /opt/conda/envs/fastai/lib/python3.6/site-packages (from requests->jupyterhub) (2.8)\n",
      "Requirement already satisfied, skipping upgrade: MarkupSafe>=0.23 in /opt/conda/envs/fastai/lib/python3.6/site-packages (from jinja2->jupyterhub) (1.1.0)\n",
      "Requirement already satisfied, skipping upgrade: cryptography>=2.2.1 in /opt/conda/envs/fastai/lib/python3.6/site-packages (from pyopenssl->certipy>=0.1.2->jupyterhub) (2.3.1)\n",
      "Requirement already satisfied, skipping upgrade: asn1crypto>=0.21.0 in /opt/conda/envs/fastai/lib/python3.6/site-packages (from cryptography>=2.2.1->pyopenssl->certipy>=0.1.2->jupyterhub) (0.24.0)\n",
      "Requirement already satisfied, skipping upgrade: cffi!=1.11.3,>=1.7 in /opt/conda/envs/fastai/lib/python3.6/site-packages (from cryptography>=2.2.1->pyopenssl->certipy>=0.1.2->jupyterhub) (1.11.5)\n",
      "Requirement already satisfied, skipping upgrade: pycparser in /opt/conda/envs/fastai/lib/python3.6/site-packages (from cffi!=1.11.3,>=1.7->cryptography>=2.2.1->pyopenssl->certipy>=0.1.2->jupyterhub) (2.19)\n",
      "Building wheels for collected packages: alembic, SQLAlchemy, Mako\n",
      "  Running setup.py bdist_wheel for alembic ... \u001b[?25ldone\n",
      "\u001b[?25h  Stored in directory: /root/.cache/pip/wheels/40/f8/22/ad0f408796a4c656fae5ee1fd8d8a139b19ca4af61059cea5b\n",
      "  Running setup.py bdist_wheel for SQLAlchemy ... \u001b[?25ldone\n",
      "\u001b[?25h  Stored in directory: /root/.cache/pip/wheels/4b/b2/89/cd2231ee623987c605f049df55f40a3e4252ef6a15b94836c2\n",
      "  Running setup.py bdist_wheel for Mako ... \u001b[?25ldone\n",
      "\u001b[?25h  Stored in directory: /root/.cache/pip/wheels/98/32/7b/a291926643fc1d1e02593e0d9e247c5a866a366b8343b7aa27\n",
      "Successfully built alembic SQLAlchemy Mako\n",
      "Installing collected packages: certipy, SQLAlchemy, Mako, python-editor, alembic, async-generator, pamela, oauthlib, jupyterhub\n",
      "Successfully installed Mako-1.1.0 SQLAlchemy-1.3.10 alembic-1.3.0 async-generator-1.10 certipy-0.1.3 jupyterhub-1.0.0 oauthlib-3.1.0 pamela-1.0.0 python-editor-1.0.4\n"
     ]
    }
   ],
   "source": [
    "!pip install --upgrade jupyterhub"
   ]
  },
  {
   "cell_type": "code",
   "execution_count": 1,
   "metadata": {
    "colab": {},
    "colab_type": "code",
    "id": "Ez1Jk2mtOIq5"
   },
   "outputs": [],
   "source": [
    "import warnings\n",
    "warnings.filterwarnings(\"ignore\")\n",
    "import pandas as pd\n",
    "import csv\n",
    "import matplotlib.pyplot as plt\n",
    "import seaborn as sns\n",
    "import numpy as np\n",
    "from wordcloud import WordCloud\n",
    "import datetime as dt\n",
    "from nltk.corpus import stopwords\n",
    "from nltk.tokenize import word_tokenize\n",
    "from nltk.stem.snowball import SnowballStemmer\n",
    "from sklearn.feature_extraction.text import CountVectorizer\n",
    "from sklearn.feature_extraction.text import TfidfVectorizer\n",
    "from sklearn.feature_extraction.text import TfidfTransformer\n",
    "from gensim import models\n",
    "from gensim.models import Word2Vec\n",
    "from gensim.models import KeyedVectors\n",
    "from sklearn.multiclass import OneVsRestClassifier\n",
    "from sklearn.linear_model import SGDClassifier\n",
    "from sklearn.model_selection import GridSearchCV\n",
    "from sklearn import metrics\n",
    "from sklearn.metrics import f1_score,precision_score,recall_score\n",
    "from sklearn.model_selection import train_test_split\n",
    "from sklearn import svm\n",
    "from sklearn.linear_model import LogisticRegression\n",
    "from sklearn.naive_bayes import GaussianNB\n",
    "from datetime import datetime\n",
    "from sklearn.model_selection import RandomizedSearchCV\n"
   ]
  },
  {
   "cell_type": "code",
   "execution_count": 2,
   "metadata": {
    "colab": {},
    "colab_type": "code",
    "id": "vHJxJkrfVmby"
   },
   "outputs": [],
   "source": [
    "df= pd.read_csv('mpst__data.csv',sep=',')"
   ]
  },
  {
   "cell_type": "code",
   "execution_count": 3,
   "metadata": {
    "colab": {
     "base_uri": "https://localhost:8080/",
     "height": 142
    },
    "colab_type": "code",
    "id": "nMrnK2N4V1I0",
    "outputId": "916593bc-e468-449f-9bf7-03661522e380"
   },
   "outputs": [
    {
     "data": {
      "text/html": [
       "<div>\n",
       "<style scoped>\n",
       "    .dataframe tbody tr th:only-of-type {\n",
       "        vertical-align: middle;\n",
       "    }\n",
       "\n",
       "    .dataframe tbody tr th {\n",
       "        vertical-align: top;\n",
       "    }\n",
       "\n",
       "    .dataframe thead th {\n",
       "        text-align: right;\n",
       "    }\n",
       "</style>\n",
       "<table border=\"1\" class=\"dataframe\">\n",
       "  <thead>\n",
       "    <tr style=\"text-align: right;\">\n",
       "      <th></th>\n",
       "      <th>imdb_id</th>\n",
       "      <th>title</th>\n",
       "      <th>plot_synopsis</th>\n",
       "      <th>tags</th>\n",
       "      <th>split</th>\n",
       "      <th>synopsis_source</th>\n",
       "    </tr>\n",
       "  </thead>\n",
       "  <tbody>\n",
       "    <tr>\n",
       "      <th>0</th>\n",
       "      <td>tt0057603</td>\n",
       "      <td>I tre volti della paura</td>\n",
       "      <td>Note: this synopsis is for the orginal Italian...</td>\n",
       "      <td>cult, horror, gothic, murder, atmospheric</td>\n",
       "      <td>train</td>\n",
       "      <td>imdb</td>\n",
       "    </tr>\n",
       "    <tr>\n",
       "      <th>1</th>\n",
       "      <td>tt1733125</td>\n",
       "      <td>Dungeons &amp; Dragons: The Book of Vile Darkness</td>\n",
       "      <td>Two thousand years ago, Nhagruul the Foul, a s...</td>\n",
       "      <td>violence</td>\n",
       "      <td>train</td>\n",
       "      <td>imdb</td>\n",
       "    </tr>\n",
       "    <tr>\n",
       "      <th>2</th>\n",
       "      <td>tt0033045</td>\n",
       "      <td>The Shop Around the Corner</td>\n",
       "      <td>Matuschek's, a gift store in Budapest, is the ...</td>\n",
       "      <td>romantic</td>\n",
       "      <td>test</td>\n",
       "      <td>imdb</td>\n",
       "    </tr>\n",
       "  </tbody>\n",
       "</table>\n",
       "</div>"
      ],
      "text/plain": [
       "     imdb_id                                          title  \\\n",
       "0  tt0057603                        I tre volti della paura   \n",
       "1  tt1733125  Dungeons & Dragons: The Book of Vile Darkness   \n",
       "2  tt0033045                     The Shop Around the Corner   \n",
       "\n",
       "                                       plot_synopsis  \\\n",
       "0  Note: this synopsis is for the orginal Italian...   \n",
       "1  Two thousand years ago, Nhagruul the Foul, a s...   \n",
       "2  Matuschek's, a gift store in Budapest, is the ...   \n",
       "\n",
       "                                        tags  split synopsis_source  \n",
       "0  cult, horror, gothic, murder, atmospheric  train            imdb  \n",
       "1                                   violence  train            imdb  \n",
       "2                                   romantic   test            imdb  "
      ]
     },
     "execution_count": 3,
     "metadata": {},
     "output_type": "execute_result"
    }
   ],
   "source": [
    "df.head(3)"
   ]
  },
  {
   "cell_type": "code",
   "execution_count": 16,
   "metadata": {
    "colab": {
     "base_uri": "https://localhost:8080/",
     "height": 34
    },
    "colab_type": "code",
    "id": "l-nNCaHKWcTC",
    "outputId": "2d36f180-486a-4de2-af33-e32542e56a1d"
   },
   "outputs": [
    {
     "name": "stdout",
     "output_type": "stream",
     "text": [
      "No of rows and cols in data: (14828, 6)\n"
     ]
    }
   ],
   "source": [
    "print('No of rows and cols in data:',df.shape)"
   ]
  },
  {
   "cell_type": "markdown",
   "metadata": {
    "colab_type": "text",
    "id": "VsDlOmViKZY0"
   },
   "source": [
    "<h2> Checking NaN values </h2>"
   ]
  },
  {
   "cell_type": "code",
   "execution_count": 17,
   "metadata": {
    "colab": {
     "base_uri": "https://localhost:8080/",
     "height": 34
    },
    "colab_type": "code",
    "id": "lXuLpc7FWjli",
    "outputId": "7fe61e55-5542-44e8-e248-01687a3878bc"
   },
   "outputs": [
    {
     "name": "stdout",
     "output_type": "stream",
     "text": [
      "checking is there any nan values in data :  False\n"
     ]
    }
   ],
   "source": [
    "print('checking is there any nan values in data : ',df.isnull().any().any())\n",
    "#there is no nan values in our data "
   ]
  },
  {
   "cell_type": "markdown",
   "metadata": {
    "colab_type": "text",
    "id": "g1xhfuV0KfRf"
   },
   "source": [
    "<h2>checking Duplicates </h2>"
   ]
  },
  {
   "cell_type": "code",
   "execution_count": 18,
   "metadata": {
    "colab": {
     "base_uri": "https://localhost:8080/",
     "height": 68
    },
    "colab_type": "code",
    "id": "9SnogjEQ4VeR",
    "outputId": "01dc9960-6675-4090-ceea-6a0454e7f86c"
   },
   "outputs": [
    {
     "name": "stdout",
     "output_type": "stream",
     "text": [
      "Duplicates in our data  : 76\n",
      "Before removing duplicates in our data we have : 14828 rows\n",
      "After removing duplicates we have  : 14752 rows\n"
     ]
    }
   ],
   "source": [
    "org_len=len(df) \n",
    "pure_df = df.drop_duplicates(['title','plot_synopsis','tags'])\n",
    "pure_len = len(pure_df)\n",
    "print('Duplicates in our data  :',org_len - pure_len)\n",
    "print('Before removing duplicates in our data we have :',org_len,'rows')\n",
    "print('After removing duplicates we have  :',pure_len,'rows')"
   ]
  },
  {
   "cell_type": "markdown",
   "metadata": {
    "colab_type": "text",
    "id": "jGHKD7ohNm9e"
   },
   "source": [
    "<h2>Analysis of Tags</h2>"
   ]
  },
  {
   "cell_type": "markdown",
   "metadata": {
    "colab_type": "text",
    "id": "Oi8VEuKiK-W0"
   },
   "source": [
    "<h3> checking No of Tags per Movie </h3>"
   ]
  },
  {
   "cell_type": "code",
   "execution_count": 19,
   "metadata": {
    "colab": {
     "base_uri": "https://localhost:8080/",
     "height": 255
    },
    "colab_type": "code",
    "id": "RMqGzgrzKWc_",
    "outputId": "c63e46c6-ccff-4e0f-e5a7-50c14c339324"
   },
   "outputs": [
    {
     "data": {
      "text/html": [
       "<div>\n",
       "<style scoped>\n",
       "    .dataframe tbody tr th:only-of-type {\n",
       "        vertical-align: middle;\n",
       "    }\n",
       "\n",
       "    .dataframe tbody tr th {\n",
       "        vertical-align: top;\n",
       "    }\n",
       "\n",
       "    .dataframe thead th {\n",
       "        text-align: right;\n",
       "    }\n",
       "</style>\n",
       "<table border=\"1\" class=\"dataframe\">\n",
       "  <thead>\n",
       "    <tr style=\"text-align: right;\">\n",
       "      <th></th>\n",
       "      <th>imdb_id</th>\n",
       "      <th>title</th>\n",
       "      <th>plot_synopsis</th>\n",
       "      <th>tags</th>\n",
       "      <th>split</th>\n",
       "      <th>synopsis_source</th>\n",
       "      <th>tags_count</th>\n",
       "    </tr>\n",
       "  </thead>\n",
       "  <tbody>\n",
       "    <tr>\n",
       "      <th>0</th>\n",
       "      <td>tt0057603</td>\n",
       "      <td>I tre volti della paura</td>\n",
       "      <td>Note: this synopsis is for the orginal Italian...</td>\n",
       "      <td>cult, horror, gothic, murder, atmospheric</td>\n",
       "      <td>train</td>\n",
       "      <td>imdb</td>\n",
       "      <td>5</td>\n",
       "    </tr>\n",
       "    <tr>\n",
       "      <th>1</th>\n",
       "      <td>tt1733125</td>\n",
       "      <td>Dungeons &amp; Dragons: The Book of Vile Darkness</td>\n",
       "      <td>Two thousand years ago, Nhagruul the Foul, a s...</td>\n",
       "      <td>violence</td>\n",
       "      <td>train</td>\n",
       "      <td>imdb</td>\n",
       "      <td>1</td>\n",
       "    </tr>\n",
       "    <tr>\n",
       "      <th>2</th>\n",
       "      <td>tt0033045</td>\n",
       "      <td>The Shop Around the Corner</td>\n",
       "      <td>Matuschek's, a gift store in Budapest, is the ...</td>\n",
       "      <td>romantic</td>\n",
       "      <td>test</td>\n",
       "      <td>imdb</td>\n",
       "      <td>1</td>\n",
       "    </tr>\n",
       "    <tr>\n",
       "      <th>3</th>\n",
       "      <td>tt0113862</td>\n",
       "      <td>Mr. Holland's Opus</td>\n",
       "      <td>Glenn Holland, not a morning person by anyone'...</td>\n",
       "      <td>inspiring, romantic, stupid, feel-good</td>\n",
       "      <td>train</td>\n",
       "      <td>imdb</td>\n",
       "      <td>4</td>\n",
       "    </tr>\n",
       "    <tr>\n",
       "      <th>4</th>\n",
       "      <td>tt0086250</td>\n",
       "      <td>Scarface</td>\n",
       "      <td>In May 1980, a Cuban man named Tony Montana (A...</td>\n",
       "      <td>cruelty, murder, dramatic, cult, violence, atm...</td>\n",
       "      <td>val</td>\n",
       "      <td>imdb</td>\n",
       "      <td>10</td>\n",
       "    </tr>\n",
       "  </tbody>\n",
       "</table>\n",
       "</div>"
      ],
      "text/plain": [
       "     imdb_id                                          title  \\\n",
       "0  tt0057603                        I tre volti della paura   \n",
       "1  tt1733125  Dungeons & Dragons: The Book of Vile Darkness   \n",
       "2  tt0033045                     The Shop Around the Corner   \n",
       "3  tt0113862                             Mr. Holland's Opus   \n",
       "4  tt0086250                                       Scarface   \n",
       "\n",
       "                                       plot_synopsis  \\\n",
       "0  Note: this synopsis is for the orginal Italian...   \n",
       "1  Two thousand years ago, Nhagruul the Foul, a s...   \n",
       "2  Matuschek's, a gift store in Budapest, is the ...   \n",
       "3  Glenn Holland, not a morning person by anyone'...   \n",
       "4  In May 1980, a Cuban man named Tony Montana (A...   \n",
       "\n",
       "                                                tags  split synopsis_source  \\\n",
       "0          cult, horror, gothic, murder, atmospheric  train            imdb   \n",
       "1                                           violence  train            imdb   \n",
       "2                                           romantic   test            imdb   \n",
       "3             inspiring, romantic, stupid, feel-good  train            imdb   \n",
       "4  cruelty, murder, dramatic, cult, violence, atm...    val            imdb   \n",
       "\n",
       "   tags_count  \n",
       "0           5  \n",
       "1           1  \n",
       "2           1  \n",
       "3           4  \n",
       "4          10  "
      ]
     },
     "execution_count": 19,
     "metadata": {},
     "output_type": "execute_result"
    }
   ],
   "source": [
    "import warnings\n",
    "warnings.filterwarnings(\"ignore\")\n",
    "pure_df[\"tags_count\"] = pure_df[\"tags\"].apply(lambda text: len(text.split(\" \")))\n",
    "pure_df.head(5)"
   ]
  },
  {
   "cell_type": "markdown",
   "metadata": {
    "colab_type": "text",
    "id": "YAmObrzWNyDL"
   },
   "source": [
    "<h3>Minimum and maximum and Average no of Tags per movie </h3>"
   ]
  },
  {
   "cell_type": "code",
   "execution_count": 20,
   "metadata": {
    "colab": {
     "base_uri": "https://localhost:8080/",
     "height": 68
    },
    "colab_type": "code",
    "id": "RaL7eLRcLeqe",
    "outputId": "f9762208-af48-4d73-c844-b0e28c4afed8"
   },
   "outputs": [
    {
     "name": "stdout",
     "output_type": "stream",
     "text": [
      "Maximum no of tags per movie 27\n",
      "Minimum no of tags per movie 1\n",
      "Avg no of tags per movie: 3.2586090021691976\n"
     ]
    }
   ],
   "source": [
    "print('Maximum no of tags per movie',max(pure_df['tags_count']))\n",
    "print('Minimum no of tags per movie',min(pure_df['tags_count']))\n",
    "print('Avg no of tags per movie:', ((sum(pure_df['tags_count'])*1.0)/len(pure_df['tags_count'])))"
   ]
  },
  {
   "cell_type": "markdown",
   "metadata": {
    "colab_type": "text",
    "id": "60juULq_VAEe"
   },
   "source": [
    "Plotting visually no of tags per movies "
   ]
  },
  {
   "cell_type": "code",
   "execution_count": 21,
   "metadata": {
    "colab": {
     "base_uri": "https://localhost:8080/",
     "height": 295
    },
    "colab_type": "code",
    "id": "6T3ZmWRdRXGR",
    "outputId": "2422e99f-3888-462f-9113-6eec67b57a80"
   },
   "outputs": [
    {
     "data": {
      "image/png": "[encoded data removed]",
      "text/plain": [
       "<Figure size 432x288 with 1 Axes>"
      ]
     },
     "metadata": {
      "needs_background": "light"
     },
     "output_type": "display_data"
    }
   ],
   "source": [
    "sns.countplot(pure_df['tags_count'], palette='gist_rainbow')\n",
    "plt.title(\"Number of tags in the movies \")\n",
    "plt.xlabel(\"Number of Tags\")\n",
    "plt.ylabel(\"Number of movies\")\n",
    "plt.show()"
   ]
  },
  {
   "cell_type": "markdown",
   "metadata": {
    "colab_type": "text",
    "id": "EUBQTiuUSoSa"
   },
   "source": [
    "Maximum no of tags per movie is 27 <br>\n",
    "Minimum no of tags per movie is 1 <br>\n",
    "Average no of tags per movie is 3 <br>\n",
    "Most of the movies having tags 1 <br>\n",
    "2,3 tags with movies tooks next place "
   ]
  },
  {
   "cell_type": "markdown",
   "metadata": {
    "colab_type": "text",
    "id": "z_SOzXd1N5nm"
   },
   "source": [
    "<h3> Unique No of tags </h3>"
   ]
  },
  {
   "cell_type": "code",
   "execution_count": 22,
   "metadata": {
    "colab": {
     "base_uri": "https://localhost:8080/",
     "height": 51
    },
    "colab_type": "code",
    "id": "EEGXmVJRLewk",
    "outputId": "719ef8d5-16da-45d1-c86f-c9a69edbb1fb"
   },
   "outputs": [
    {
     "name": "stdout",
     "output_type": "stream",
     "text": [
      "Number of data points : 14752\n",
      "Number of unique tags : 71\n"
     ]
    }
   ],
   "source": [
    "pure_df['tags_2'] = pure_df['tags'].apply(lambda x : x.replace(' ', '').replace(',',' '))\n",
    "vectorizer = CountVectorizer(tokenizer = lambda x: x.split())\n",
    "tags_vect = vectorizer.fit_transform(pure_df['tags_2'])\n",
    "print(\"Number of data points :\", tags_vect.shape[0])\n",
    "print(\"Number of unique tags :\", tags_vect.shape[1])"
   ]
  },
  {
   "cell_type": "code",
   "execution_count": 23,
   "metadata": {
    "colab": {
     "base_uri": "https://localhost:8080/",
     "height": 54
    },
    "colab_type": "code",
    "id": "oVSSJsxiLezj",
    "outputId": "e6a65aab-17e8-4f27-9237-5e296b1836ed"
   },
   "outputs": [
    {
     "name": "stdout",
     "output_type": "stream",
     "text": [
      "Some of the unique tags we have : ['absurd', 'action', 'adultcomedy', 'allegory', 'alternatehistory', 'alternatereality', 'antiwar', 'atmospheric', 'autobiographical', 'avantgarde']\n"
     ]
    }
   ],
   "source": [
    "tag_names = vectorizer.get_feature_names()\n",
    "print(\"Some of the unique tags we have :\", tag_names[:10])"
   ]
  },
  {
   "cell_type": "markdown",
   "metadata": {
    "colab_type": "text",
    "id": "Kif6d_jUQpyx"
   },
   "source": [
    "<h3> Number of times a movie tag apperead</h3>"
   ]
  },
  {
   "cell_type": "code",
   "execution_count": 24,
   "metadata": {
    "colab": {
     "base_uri": "https://localhost:8080/",
     "height": 1000
    },
    "colab_type": "code",
    "id": "p6QdCvGGQwN0",
    "outputId": "e2767d8f-c42f-4efc-e245-2e268a9e652c"
   },
   "outputs": [
    {
     "data": {
      "text/plain": [
       "{'absurd': 270,\n",
       " 'action': 659,\n",
       " 'adultcomedy': 128,\n",
       " 'allegory': 138,\n",
       " 'alternatehistory': 102,\n",
       " 'alternatereality': 205,\n",
       " 'antiwar': 118,\n",
       " 'atmospheric': 396,\n",
       " 'autobiographical': 44,\n",
       " 'avantgarde': 220,\n",
       " 'blaxploitation': 74,\n",
       " 'bleak': 211,\n",
       " 'boring': 525,\n",
       " 'brainwashing': 107,\n",
       " 'christianfilm': 42,\n",
       " 'claustrophobic': 84,\n",
       " 'clever': 87,\n",
       " 'comedy': 1858,\n",
       " 'comic': 114,\n",
       " 'cruelty': 442,\n",
       " 'cult': 2647,\n",
       " 'cute': 197,\n",
       " 'dark': 405,\n",
       " 'depressing': 205,\n",
       " 'dramatic': 412,\n",
       " 'entertaining': 749,\n",
       " 'fantasy': 544,\n",
       " 'feel-good': 76,\n",
       " 'flashback': 2937,\n",
       " 'goodversusevil': 874,\n",
       " 'gothic': 441,\n",
       " 'grindhousefilm': 66,\n",
       " 'haunting': 149,\n",
       " 'historical': 272,\n",
       " 'historicalfiction': 139,\n",
       " 'homemovie': 153,\n",
       " 'horror': 485,\n",
       " 'humor': 822,\n",
       " 'insanity': 634,\n",
       " 'inspiring': 118,\n",
       " 'intrigue': 168,\n",
       " 'magicalrealism': 54,\n",
       " 'melodrama': 456,\n",
       " 'murder': 5762,\n",
       " 'mystery': 519,\n",
       " 'neonoir': 745,\n",
       " 'nonfiction': 37,\n",
       " 'paranormal': 546,\n",
       " 'philosophical': 228,\n",
       " 'plottwist': 205,\n",
       " 'pornographic': 163,\n",
       " 'prank': 255,\n",
       " 'psychedelic': 1895,\n",
       " 'psychological': 289,\n",
       " 'queer': 98,\n",
       " 'realism': 204,\n",
       " 'revenge': 2462,\n",
       " 'romantic': 2894,\n",
       " 'sadist': 652,\n",
       " 'satire': 815,\n",
       " 'sci-fi': 309,\n",
       " 'sentimental': 233,\n",
       " 'storytelling': 364,\n",
       " 'stupid': 190,\n",
       " 'suicidal': 54,\n",
       " 'suspenseful': 1086,\n",
       " 'thought-provoking': 120,\n",
       " 'tragedy': 585,\n",
       " 'violence': 4420,\n",
       " 'western': 73,\n",
       " 'whimsical': 79}"
      ]
     },
     "execution_count": 24,
     "metadata": {},
     "output_type": "execute_result"
    }
   ],
   "source": [
    "freqs = tags_vect.sum(axis=0).A1\n",
    "result = dict(zip(tag_names, freqs))\n",
    "result"
   ]
  },
  {
   "cell_type": "markdown",
   "metadata": {
    "colab_type": "text",
    "id": "me6hzwIn-iA4"
   },
   "source": [
    "If we observe tags in above dictionary we got same tags with different counts its not duplicate there are some movies which contains same kind tags category or that tag belongs to one of movie sub category "
   ]
  },
  {
   "cell_type": "code",
   "execution_count": 15,
   "metadata": {
    "colab": {
     "base_uri": "https://localhost:8080/",
     "height": 142
    },
    "colab_type": "code",
    "id": "n8B0g7mo5j9Z",
    "outputId": "0bc5216c-a4d3-412f-b9ce-b583f787fdc4"
   },
   "outputs": [
    {
     "data": {
      "text/html": [
       "<div>\n",
       "<style scoped>\n",
       "    .dataframe tbody tr th:only-of-type {\n",
       "        vertical-align: middle;\n",
       "    }\n",
       "\n",
       "    .dataframe tbody tr th {\n",
       "        vertical-align: top;\n",
       "    }\n",
       "\n",
       "    .dataframe thead th {\n",
       "        text-align: right;\n",
       "    }\n",
       "</style>\n",
       "<table border=\"1\" class=\"dataframe\">\n",
       "  <thead>\n",
       "    <tr style=\"text-align: right;\">\n",
       "      <th></th>\n",
       "      <th>tags</th>\n",
       "      <th>counts</th>\n",
       "    </tr>\n",
       "  </thead>\n",
       "  <tbody>\n",
       "    <tr>\n",
       "      <th>43</th>\n",
       "      <td>murder</td>\n",
       "      <td>5762</td>\n",
       "    </tr>\n",
       "    <tr>\n",
       "      <th>68</th>\n",
       "      <td>violence</td>\n",
       "      <td>4420</td>\n",
       "    </tr>\n",
       "    <tr>\n",
       "      <th>28</th>\n",
       "      <td>flashback</td>\n",
       "      <td>2937</td>\n",
       "    </tr>\n",
       "  </tbody>\n",
       "</table>\n",
       "</div>"
      ],
      "text/plain": [
       "         tags  counts\n",
       "43     murder    5762\n",
       "68   violence    4420\n",
       "28  flashback    2937"
      ]
     },
     "execution_count": 15,
     "metadata": {
      "tags": []
     },
     "output_type": "execute_result"
    }
   ],
   "source": [
    "tags_counts = pd.DataFrame(result.items(),columns=['tags','counts'])\n",
    "tags_sorted = tags_counts.sort_values(['counts'],ascending=False)\n",
    "tags_sorted.head(3)"
   ]
  },
  {
   "cell_type": "markdown",
   "metadata": {
    "colab_type": "text",
    "id": "HLBgkVCzULRQ"
   },
   "source": [
    "<h3> Most frequent tags </h3>"
   ]
  },
  {
   "cell_type": "code",
   "execution_count": 16,
   "metadata": {
    "colab": {
     "base_uri": "https://localhost:8080/",
     "height": 391
    },
    "colab_type": "code",
    "id": "Bimv4uZZT0Z9",
    "outputId": "ac0416c6-fd03-46d8-8719-463837d9f003"
   },
   "outputs": [
    {
     "data": {
      "image/png": "[encoded data removed]",
      "text/plain": [
       "<Figure size 720x720 with 1 Axes>"
      ]
     },
     "metadata": {
      "tags": []
     },
     "output_type": "display_data"
    }
   ],
   "source": [
    "# Ploting word cloud\n",
    "# Lets first convert the 'result' dictionary to 'list of tuples'\n",
    "tup = dict(result.items())\n",
    "#Initializing WordCloud using frequencies of tags.\n",
    "wordcloud = WordCloud(    background_color='black',\n",
    "                          width=1600,\n",
    "                          height=800,\n",
    "                    ).generate_from_frequencies(tup)\n",
    "\n",
    "fig = plt.figure(figsize=(10,10))\n",
    "plt.imshow(wordcloud)\n",
    "plt.axis('off')\n",
    "plt.tight_layout(pad=0)\n",
    "fig.savefig(\"tag.png\")\n",
    "plt.show()"
   ]
  },
  {
   "cell_type": "markdown",
   "metadata": {
    "colab_type": "text",
    "id": "Y_57Obu8Uf0S"
   },
   "source": [
    "If we observe above wordcloud most frequent 5 tags are **violance**, **murder**, **cult**, **revenge**, **flashback**"
   ]
  },
  {
   "cell_type": "code",
   "execution_count": 17,
   "metadata": {
    "colab": {
     "base_uri": "https://localhost:8080/",
     "height": 361
    },
    "colab_type": "code",
    "id": "uy1CD1dB4xre",
    "outputId": "d42268d9-e297-4416-d296-3288b3e5fa01"
   },
   "outputs": [
    {
     "data": {
      "image/png": "[encoded data removed]",
      "text/plain": [
       "<Figure size 432x288 with 1 Axes>"
      ]
     },
     "metadata": {
      "tags": []
     },
     "output_type": "display_data"
    }
   ],
   "source": [
    "i=np.arange(30)\n",
    "tags_sorted.head(30).plot(kind='bar')\n",
    "plt.title('Frequency of top 30 tags')\n",
    "plt.xticks(i, tags_sorted['tags'])\n",
    "plt.xlabel('Tags')\n",
    "plt.ylabel('Counts')\n",
    "plt.show()"
   ]
  },
  {
   "cell_type": "markdown",
   "metadata": {
    "colab_type": "text",
    "id": "A_hAhuDH9LkB"
   },
   "source": [
    "Most of the frequent movie tags are **Murder**, **violence**, **cult**, **flashback**, **romantic**, **revenge** <br>\n",
    "\n",
    "\n"
   ]
  },
  {
   "cell_type": "markdown",
   "metadata": {
    "colab_type": "text",
    "id": "kUMbrVN616T1"
   },
   "source": [
    "<h2> Data Cleaning </h2>"
   ]
  },
  {
   "cell_type": "code",
   "execution_count": 25,
   "metadata": {
    "colab": {},
    "colab_type": "code",
    "id": "fHAxQMMY4T7d"
   },
   "outputs": [],
   "source": [
    "# https://stackoverflow.com/a/47091490/4084039\n",
    "import re\n",
    "\n",
    "def decontracted(phrase):\n",
    "    # specific\n",
    "    phrase = re.sub(r\"won't\", \"will not\", phrase)\n",
    "    phrase = re.sub(r\"can\\'t\", \"can not\", phrase)\n",
    "\n",
    "    # general\n",
    "    phrase = re.sub(r\"n\\'t\", \" not\", phrase)\n",
    "    phrase = re.sub(r\"\\'re\", \" are\", phrase)\n",
    "    phrase = re.sub(r\"\\'s\", \" is\", phrase)\n",
    "    phrase = re.sub(r\"\\'d\", \" would\", phrase)\n",
    "    phrase = re.sub(r\"\\'ll\", \" will\", phrase)\n",
    "    phrase = re.sub(r\"\\'t\", \" not\", phrase)\n",
    "    phrase = re.sub(r\"\\'ve\", \" have\", phrase)\n",
    "    phrase = re.sub(r\"\\'m\", \" am\", phrase)\n",
    "    return phrase"
   ]
  },
  {
   "cell_type": "code",
   "execution_count": 26,
   "metadata": {
    "colab": {},
    "colab_type": "code",
    "id": "LQP9FdIfDAoI"
   },
   "outputs": [],
   "source": [
    "stopwords= ['i', 'me', 'my', 'myself', 'we', 'our', 'ours', 'ourselves', 'you', \"you're\", \"you've\",\\\n",
    "            \"you'll\", \"you'd\", 'your', 'yours', 'yourself', 'yourselves', 'he', 'him', 'his', 'himself', \\\n",
    "            'she', \"she's\", 'her', 'hers', 'herself', 'it', \"it's\", 'its', 'itself', 'they', 'them', 'their',\\\n",
    "            'theirs', 'themselves', 'what', 'which', 'who', 'whom', 'this', 'that', \"that'll\", 'these', 'those', \\\n",
    "            'am', 'is', 'are', 'was', 'were', 'be', 'been', 'being', 'have', 'has', 'had', 'having', 'do', 'does', \\\n",
    "            'did', 'doing', 'a', 'an', 'the', 'and', 'but', 'if', 'or', 'because', 'as', 'until', 'while', 'of', \\\n",
    "            'at', 'by', 'for', 'with', 'about', 'against', 'between', 'into', 'through', 'during', 'before', 'after',\\\n",
    "            'above', 'below', 'to', 'from', 'up', 'down', 'in', 'out', 'on', 'off', 'over', 'under', 'again', 'further',\\\n",
    "            'then', 'once', 'here', 'there', 'when', 'where', 'why', 'how', 'all', 'any', 'both', 'each', 'few', 'more',\\\n",
    "            'most', 'other', 'some', 'such', 'only', 'own', 'same', 'so', 'than', 'too', 'very', \\\n",
    "            's', 't', 'can', 'will', 'just', 'don', \"don't\", 'should', \"should've\", 'now', 'd', 'll', 'm', 'o', 're', \\\n",
    "            've', 'y', 'ain', 'aren', \"aren't\", 'couldn', \"couldn't\", 'didn', \"didn't\", 'doesn', \"doesn't\", 'hadn',\\\n",
    "            \"hadn't\", 'hasn', \"hasn't\", 'haven', \"haven't\", 'isn', \"isn't\", 'ma', 'mightn', \"mightn't\", 'mustn',\\\n",
    "            \"mustn't\", 'needn', \"needn't\", 'shan', \"shan't\", 'shouldn', \"shouldn't\", 'wasn', \"wasn't\", 'weren', \"weren't\", \\\n",
    "            'won', \"won't\", 'wouldn', \"wouldn't\"]"
   ]
  },
  {
   "cell_type": "code",
   "execution_count": 27,
   "metadata": {
    "colab": {},
    "colab_type": "code",
    "id": "QVQMu2PiJ5uw",
    "outputId": "144c7107-1c0d-45e5-a2d0-220494f7b95c"
   },
   "outputs": [
    {
     "name": "stdout",
     "output_type": "stream",
     "text": [
      "Requirement already satisfied: tqdm in /opt/conda/envs/fastai/lib/python3.6/site-packages (4.29.1)\r\n"
     ]
    }
   ],
   "source": [
    "!pip install tqdm"
   ]
  },
  {
   "cell_type": "code",
   "execution_count": 28,
   "metadata": {
    "colab": {},
    "colab_type": "code",
    "id": "XKCLjosgUte7"
   },
   "outputs": [],
   "source": [
    "from tqdm import tqdm\n",
    "def preprocess_text(text_data):\n",
    "    preprocessed_text = []\n",
    "    # tqdm is for printing the status bar\n",
    "    for sentance in tqdm(text_data):\n",
    "        sent = decontracted(sentance)\n",
    "        sent = sent.replace('\\\\r', ' ')\n",
    "        sent = sent.replace('\\\\n', ' ')\n",
    "        sent = sent.replace('\\\\\"', ' ')\n",
    "        sent = re.sub('[^A-Za-z0-9]+', ' ', sent)\n",
    "        # https://gist.github.com/sebleier/554280\n",
    "        sent = ' '.join(e for e in sent.split() if e.lower() not in stopwords)\n",
    "        preprocessed_text.append(sent.lower().strip())\n",
    "    return preprocessed_text"
   ]
  },
  {
   "cell_type": "code",
   "execution_count": 29,
   "metadata": {
    "colab": {
     "base_uri": "https://localhost:8080/",
     "height": 193
    },
    "colab_type": "code",
    "id": "C_t13dQMUthj",
    "outputId": "6b750f46-fd53-408c-ca8e-a584fe79e273"
   },
   "outputs": [
    {
     "data": {
      "text/html": [
       "<div>\n",
       "<style scoped>\n",
       "    .dataframe tbody tr th:only-of-type {\n",
       "        vertical-align: middle;\n",
       "    }\n",
       "\n",
       "    .dataframe tbody tr th {\n",
       "        vertical-align: top;\n",
       "    }\n",
       "\n",
       "    .dataframe thead th {\n",
       "        text-align: right;\n",
       "    }\n",
       "</style>\n",
       "<table border=\"1\" class=\"dataframe\">\n",
       "  <thead>\n",
       "    <tr style=\"text-align: right;\">\n",
       "      <th></th>\n",
       "      <th>imdb_id</th>\n",
       "      <th>title</th>\n",
       "      <th>plot_synopsis</th>\n",
       "      <th>tags</th>\n",
       "      <th>split</th>\n",
       "      <th>synopsis_source</th>\n",
       "      <th>tags_count</th>\n",
       "      <th>tags_2</th>\n",
       "    </tr>\n",
       "  </thead>\n",
       "  <tbody>\n",
       "    <tr>\n",
       "      <th>0</th>\n",
       "      <td>tt0057603</td>\n",
       "      <td>I tre volti della paura</td>\n",
       "      <td>Note: this synopsis is for the orginal Italian...</td>\n",
       "      <td>cult, horror, gothic, murder, atmospheric</td>\n",
       "      <td>train</td>\n",
       "      <td>imdb</td>\n",
       "      <td>5</td>\n",
       "      <td>cult horror gothic murder atmospheric</td>\n",
       "    </tr>\n",
       "    <tr>\n",
       "      <th>1</th>\n",
       "      <td>tt1733125</td>\n",
       "      <td>Dungeons &amp; Dragons: The Book of Vile Darkness</td>\n",
       "      <td>Two thousand years ago, Nhagruul the Foul, a s...</td>\n",
       "      <td>violence</td>\n",
       "      <td>train</td>\n",
       "      <td>imdb</td>\n",
       "      <td>1</td>\n",
       "      <td>violence</td>\n",
       "    </tr>\n",
       "    <tr>\n",
       "      <th>2</th>\n",
       "      <td>tt0033045</td>\n",
       "      <td>The Shop Around the Corner</td>\n",
       "      <td>Matuschek's, a gift store in Budapest, is the ...</td>\n",
       "      <td>romantic</td>\n",
       "      <td>test</td>\n",
       "      <td>imdb</td>\n",
       "      <td>1</td>\n",
       "      <td>romantic</td>\n",
       "    </tr>\n",
       "  </tbody>\n",
       "</table>\n",
       "</div>"
      ],
      "text/plain": [
       "     imdb_id                                          title  \\\n",
       "0  tt0057603                        I tre volti della paura   \n",
       "1  tt1733125  Dungeons & Dragons: The Book of Vile Darkness   \n",
       "2  tt0033045                     The Shop Around the Corner   \n",
       "\n",
       "                                       plot_synopsis  \\\n",
       "0  Note: this synopsis is for the orginal Italian...   \n",
       "1  Two thousand years ago, Nhagruul the Foul, a s...   \n",
       "2  Matuschek's, a gift store in Budapest, is the ...   \n",
       "\n",
       "                                        tags  split synopsis_source  \\\n",
       "0  cult, horror, gothic, murder, atmospheric  train            imdb   \n",
       "1                                   violence  train            imdb   \n",
       "2                                   romantic   test            imdb   \n",
       "\n",
       "   tags_count                                 tags_2  \n",
       "0           5  cult horror gothic murder atmospheric  \n",
       "1           1                               violence  \n",
       "2           1                               romantic  "
      ]
     },
     "execution_count": 29,
     "metadata": {},
     "output_type": "execute_result"
    }
   ],
   "source": [
    "pure_df.head(3)"
   ]
  },
  {
   "cell_type": "markdown",
   "metadata": {
    "colab_type": "text",
    "id": "L1dF8-ZUAcPx"
   },
   "source": [
    "We considering only tile ,plot_synopsis, tags for modeling rest of feature are not much useful"
   ]
  },
  {
   "cell_type": "code",
   "execution_count": 30,
   "metadata": {
    "colab": {
     "base_uri": "https://localhost:8080/",
     "height": 51
    },
    "colab_type": "code",
    "id": "HTw1ujECUtkY",
    "outputId": "fd402024-ab5c-4d1d-ca4e-9f9cb366baa7"
   },
   "outputs": [
    {
     "name": "stderr",
     "output_type": "stream",
     "text": [
      "100%|██████████| 14752/14752 [00:00<00:00, 53184.46it/s]\n",
      "100%|██████████| 14752/14752 [00:30<00:00, 486.35it/s]\n"
     ]
    }
   ],
   "source": [
    "pure_df['pre_pro_title'] = preprocess_text(pure_df['title'].values)\n",
    "pure_df['pre_pro_plot_synopsis'] = preprocess_text(pure_df['plot_synopsis'].values)"
   ]
  },
  {
   "cell_type": "code",
   "execution_count": 31,
   "metadata": {
    "colab": {},
    "colab_type": "code",
    "id": "oo0TpvjCUtng"
   },
   "outputs": [],
   "source": [
    "pure_df['pre_pro_tags'] = pure_df['tags'].apply(lambda x : x.replace(' ', '').replace(',',' ')) "
   ]
  },
  {
   "cell_type": "code",
   "execution_count": 32,
   "metadata": {
    "colab": {
     "base_uri": "https://localhost:8080/",
     "height": 278
    },
    "colab_type": "code",
    "id": "MzW3-JjzUtp_",
    "outputId": "b6a1c8e0-c448-479b-e2d6-0846dec2abe0"
   },
   "outputs": [
    {
     "data": {
      "text/html": [
       "<div>\n",
       "<style scoped>\n",
       "    .dataframe tbody tr th:only-of-type {\n",
       "        vertical-align: middle;\n",
       "    }\n",
       "\n",
       "    .dataframe tbody tr th {\n",
       "        vertical-align: top;\n",
       "    }\n",
       "\n",
       "    .dataframe thead th {\n",
       "        text-align: right;\n",
       "    }\n",
       "</style>\n",
       "<table border=\"1\" class=\"dataframe\">\n",
       "  <thead>\n",
       "    <tr style=\"text-align: right;\">\n",
       "      <th></th>\n",
       "      <th>imdb_id</th>\n",
       "      <th>title</th>\n",
       "      <th>plot_synopsis</th>\n",
       "      <th>tags</th>\n",
       "      <th>split</th>\n",
       "      <th>synopsis_source</th>\n",
       "      <th>tags_count</th>\n",
       "      <th>tags_2</th>\n",
       "      <th>pre_pro_title</th>\n",
       "      <th>pre_pro_plot_synopsis</th>\n",
       "      <th>pre_pro_tags</th>\n",
       "    </tr>\n",
       "  </thead>\n",
       "  <tbody>\n",
       "    <tr>\n",
       "      <th>0</th>\n",
       "      <td>tt0057603</td>\n",
       "      <td>I tre volti della paura</td>\n",
       "      <td>Note: this synopsis is for the orginal Italian...</td>\n",
       "      <td>cult, horror, gothic, murder, atmospheric</td>\n",
       "      <td>train</td>\n",
       "      <td>imdb</td>\n",
       "      <td>5</td>\n",
       "      <td>cult horror gothic murder atmospheric</td>\n",
       "      <td>tre volti della paura</td>\n",
       "      <td>note synopsis orginal italian release segments...</td>\n",
       "      <td>cult horror gothic murder atmospheric</td>\n",
       "    </tr>\n",
       "    <tr>\n",
       "      <th>1</th>\n",
       "      <td>tt1733125</td>\n",
       "      <td>Dungeons &amp; Dragons: The Book of Vile Darkness</td>\n",
       "      <td>Two thousand years ago, Nhagruul the Foul, a s...</td>\n",
       "      <td>violence</td>\n",
       "      <td>train</td>\n",
       "      <td>imdb</td>\n",
       "      <td>1</td>\n",
       "      <td>violence</td>\n",
       "      <td>dungeons dragons book vile darkness</td>\n",
       "      <td>two thousand years ago nhagruul foul sorcerer ...</td>\n",
       "      <td>violence</td>\n",
       "    </tr>\n",
       "    <tr>\n",
       "      <th>2</th>\n",
       "      <td>tt0033045</td>\n",
       "      <td>The Shop Around the Corner</td>\n",
       "      <td>Matuschek's, a gift store in Budapest, is the ...</td>\n",
       "      <td>romantic</td>\n",
       "      <td>test</td>\n",
       "      <td>imdb</td>\n",
       "      <td>1</td>\n",
       "      <td>romantic</td>\n",
       "      <td>shop around corner</td>\n",
       "      <td>matuschek gift store budapest workplace alfred...</td>\n",
       "      <td>romantic</td>\n",
       "    </tr>\n",
       "  </tbody>\n",
       "</table>\n",
       "</div>"
      ],
      "text/plain": [
       "     imdb_id                                          title  \\\n",
       "0  tt0057603                        I tre volti della paura   \n",
       "1  tt1733125  Dungeons & Dragons: The Book of Vile Darkness   \n",
       "2  tt0033045                     The Shop Around the Corner   \n",
       "\n",
       "                                       plot_synopsis  \\\n",
       "0  Note: this synopsis is for the orginal Italian...   \n",
       "1  Two thousand years ago, Nhagruul the Foul, a s...   \n",
       "2  Matuschek's, a gift store in Budapest, is the ...   \n",
       "\n",
       "                                        tags  split synopsis_source  \\\n",
       "0  cult, horror, gothic, murder, atmospheric  train            imdb   \n",
       "1                                   violence  train            imdb   \n",
       "2                                   romantic   test            imdb   \n",
       "\n",
       "   tags_count                                 tags_2  \\\n",
       "0           5  cult horror gothic murder atmospheric   \n",
       "1           1                               violence   \n",
       "2           1                               romantic   \n",
       "\n",
       "                         pre_pro_title  \\\n",
       "0                tre volti della paura   \n",
       "1  dungeons dragons book vile darkness   \n",
       "2                   shop around corner   \n",
       "\n",
       "                               pre_pro_plot_synopsis  \\\n",
       "0  note synopsis orginal italian release segments...   \n",
       "1  two thousand years ago nhagruul foul sorcerer ...   \n",
       "2  matuschek gift store budapest workplace alfred...   \n",
       "\n",
       "                            pre_pro_tags  \n",
       "0  cult horror gothic murder atmospheric  \n",
       "1                               violence  \n",
       "2                               romantic  "
      ]
     },
     "execution_count": 32,
     "metadata": {},
     "output_type": "execute_result"
    }
   ],
   "source": [
    "pure_df.head(3)\n"
   ]
  },
  {
   "cell_type": "code",
   "execution_count": 34,
   "metadata": {
    "colab": {},
    "colab_type": "code",
    "id": "HKJPa5wtK6ca"
   },
   "outputs": [],
   "source": [
    "pure_df.to_csv('pure_df.csv')"
   ]
  },
  {
   "cell_type": "code",
   "execution_count": 4,
   "metadata": {},
   "outputs": [],
   "source": [
    "pure_df = pd.read_csv('pure_df.csv')"
   ]
  },
  {
   "cell_type": "markdown",
   "metadata": {
    "colab_type": "text",
    "id": "bzvHhKQ-JbL9"
   },
   "source": [
    "<h3>Converting tags for multilabel problems</h3>"
   ]
  },
  {
   "cell_type": "code",
   "execution_count": 0,
   "metadata": {
    "colab": {
     "base_uri": "https://localhost:8080/",
     "height": 34
    },
    "colab_type": "code",
    "id": "6YKMtM5FUtuw",
    "outputId": "498a22a1-22ea-4a36-c55e-a9370df363bb"
   },
   "outputs": [
    {
     "data": {
      "text/plain": [
       "(14752, 71)"
      ]
     },
     "execution_count": 41,
     "metadata": {
      "tags": []
     },
     "output_type": "execute_result"
    }
   ],
   "source": [
    "# binary='true' will give a binary vectorizer\n",
    "vectorizer = CountVectorizer(tokenizer = lambda x: x.split(), binary='true')\n",
    "multilabel_y = vectorizer.fit_transform(pure_df['pre_pro_tags'])\n",
    "multilabel_y.shape"
   ]
  },
  {
   "cell_type": "code",
   "execution_count": 0,
   "metadata": {
    "colab": {},
    "colab_type": "code",
    "id": "uvLNJOhoJj3q"
   },
   "outputs": [],
   "source": [
    "X = pure_df.drop(['pre_pro_tags'],axis=1) \n",
    "Y = multilabel_y "
   ]
  },
  {
   "cell_type": "code",
   "execution_count": 0,
   "metadata": {
    "colab": {},
    "colab_type": "code",
    "id": "Sv6KTh_2G7iX"
   },
   "outputs": [],
   "source": [
    "x_train_data, x_test, y_train_data, y_test = train_test_split(X, Y, test_size=0.20, random_state=42) "
   ]
  },
  {
   "cell_type": "code",
   "execution_count": 0,
   "metadata": {
    "colab": {},
    "colab_type": "code",
    "id": "1w4ja-ktidCB"
   },
   "outputs": [],
   "source": [
    "x_train, x_cv, y_train, y_cv = train_test_split(x_train_data, y_train_data, test_size=0.20, random_state=42)"
   ]
  },
  {
   "cell_type": "code",
   "execution_count": 0,
   "metadata": {
    "colab": {
     "base_uri": "https://localhost:8080/",
     "height": 68
    },
    "colab_type": "code",
    "id": "gSsbdG9pG7lb",
    "outputId": "2090214f-5e11-48e6-8f46-815ae993511e"
   },
   "outputs": [
    {
     "name": "stdout",
     "output_type": "stream",
     "text": [
      "train_data shape (9440, 1) (9440, 71)\n",
      "train_data shape (2361, 1) (2361, 71)\n",
      "test_data shape (2951, 1) (2951, 71)\n"
     ]
    }
   ],
   "source": [
    "print('train_data shape',x_train.shape,y_train.shape)\n",
    "print('train_data shape',x_cv.shape,y_cv.shape)\n",
    "print('test_data shape',x_test.shape,y_test.shape)"
   ]
  },
  {
   "cell_type": "code",
   "execution_count": 0,
   "metadata": {
    "colab": {},
    "colab_type": "code",
    "id": "sjPWJ9YGAD5u"
   },
   "outputs": [],
   "source": [
    "import pickle\n",
    "pickle_out_1 = open(\"y_train.pickle\",\"wb\")\n",
    "pickle_out_2 = open(\"y_test.pickle\",\"wb\")\n",
    "pickle_out_3 = open(\"y_cv.pickle\",\"wb\")\n",
    "\n",
    "pickle.dump(y_train, pickle_out_1)\n",
    "pickle.dump(y_test, pickle_out_2)\n",
    "pickle.dump(y_cv, pickle_out_3)\n",
    "\n"
   ]
  },
  {
   "cell_type": "code",
   "execution_count": 0,
   "metadata": {
    "colab": {},
    "colab_type": "code",
    "id": "xnws0y57AEHA"
   },
   "outputs": [],
   "source": [
    "pickle_in_1 = open(\"y_train.pickle\",\"rb\")\n",
    "pickle_in_2 = open(\"y_test.pickle\",\"rb\")\n",
    "pickle_in_3 = open(\"y_cv.pickle\",\"rb\")\n",
    "\n",
    "y_train = pickle.load(pickle_in_1) \n",
    "y_test = pickle.load(pickle_in_2) \n",
    "y_cv = pickle.load(pickle_in_3) "
   ]
  },
  {
   "cell_type": "markdown",
   "metadata": {
    "colab_type": "text",
    "id": "AYlp38JTKGfd"
   },
   "source": [
    "<h2>Applying Bow vectorizer on train and test </h2>"
   ]
  },
  {
   "cell_type": "code",
   "execution_count": 0,
   "metadata": {
    "colab": {
     "base_uri": "https://localhost:8080/",
     "height": 68
    },
    "colab_type": "code",
    "id": "_HCx8tajG7qP",
    "outputId": "3ca62a4d-4ae1-4c72-fa27-6140a0ebdc7d"
   },
   "outputs": [
    {
     "name": "stdout",
     "output_type": "stream",
     "text": [
      "bow_train data (9440, 21220) (9440, 71)\n",
      "bow_cv data (2361, 21220) (2361, 71)\n",
      "bow_test data (2951, 21220) (2951, 71)\n"
     ]
    }
   ],
   "source": [
    "vectorizer = CountVectorizer(min_df=10)\n",
    "xb_train_multilabel = vectorizer.fit_transform(x_train['pre_pro_plot_synopsis'])\n",
    "xb_test_multilabel = vectorizer.transform(x_test['pre_pro_plot_synopsis'])\n",
    "xb_cv_multilabel = vectorizer.transform(x_cv['pre_pro_plot_synopsis'])\n",
    "\n",
    "print('bow_train data',xb_train_multilabel.shape,y_train.shape)\n",
    "print('bow_cv data',xb_cv_multilabel.shape,y_cv.shape)\n",
    "print('bow_test data',xb_test_multilabel.shape,y_test.shape)"
   ]
  },
  {
   "cell_type": "code",
   "execution_count": 0,
   "metadata": {
    "colab": {},
    "colab_type": "code",
    "id": "WVue7BcJ_eBb"
   },
   "outputs": [],
   "source": [
    "pickle_out_1 = open(\"bow_train.pickle\",\"wb\")\n",
    "pickle_out_2 = open(\"bow_cv.pickle\",\"wb\")\n",
    "pickle_out_3 = open(\"bow_test.pickle\",\"wb\")\n",
    "\n",
    "pickle.dump(xb_train_multilabel, pickle_out_1)\n",
    "pickle.dump(xb_cv_multilabel, pickle_out_2)\n",
    "pickle.dump(xb_test_multilabel, pickle_out_3)\n",
    "\n"
   ]
  },
  {
   "cell_type": "code",
   "execution_count": 0,
   "metadata": {
    "colab": {},
    "colab_type": "code",
    "id": "h5wYdLR1_efd"
   },
   "outputs": [],
   "source": [
    "pickle_in_1 = open(\"bow_train.pickle\",\"rb\")\n",
    "pickle_in_2 = open(\"bow_cv.pickle\",\"rb\")\n",
    "pickle_in_3 = open(\"bow_test.pickle\",\"rb\")\n",
    "\n",
    "xb_train_multilabel = pickle.load(pickle_in_1) \n",
    "xb_cv_multilabel = pickle.load(pickle_in_2) \n",
    "xb_test_multilabel = pickle.load(pickle_in_3) "
   ]
  },
  {
   "cell_type": "markdown",
   "metadata": {
    "colab_type": "text",
    "id": "L409kpx6Mz7c"
   },
   "source": [
    "<h2>Applying TFIDF vectorizer on train and test </h2>"
   ]
  },
  {
   "cell_type": "code",
   "execution_count": 0,
   "metadata": {
    "colab": {
     "base_uri": "https://localhost:8080/",
     "height": 68
    },
    "colab_type": "code",
    "id": "zMmUf1ylG7s1",
    "outputId": "004d1fcc-d5d7-4db8-95a4-ce30f709bf48"
   },
   "outputs": [
    {
     "name": "stdout",
     "output_type": "stream",
     "text": [
      "tfidf_train data (9440, 21220) (9440, 71)\n",
      "tfidf_cv data (2361, 21220) (2361, 71)\n",
      "tfidf_test data (2951, 21220) (2951, 71)\n"
     ]
    }
   ],
   "source": [
    "tf_idf_vect  = TfidfVectorizer(min_df=10)\n",
    "xt_train_multilabel = tf_idf_vect.fit_transform(x_train['pre_pro_plot_synopsis'])\n",
    "xt_cv_multilabel = tf_idf_vect.transform(x_cv['pre_pro_plot_synopsis'])\n",
    "xt_test_multilabel = tf_idf_vect.transform(x_test['pre_pro_plot_synopsis'])\n",
    "print('tfidf_train data',xt_train_multilabel.shape,y_train.shape)\n",
    "print('tfidf_cv data',xt_cv_multilabel.shape,y_cv.shape)\n",
    "print('tfidf_test data',xt_test_multilabel.shape,y_test.shape)"
   ]
  },
  {
   "cell_type": "code",
   "execution_count": 0,
   "metadata": {
    "colab": {},
    "colab_type": "code",
    "id": "U392pNJ14kGF"
   },
   "outputs": [],
   "source": [
    "pickle_out_1 = open(\"tfidf_train.pickle\",\"wb\")\n",
    "pickle_out_2 = open(\"tfidf_cv.pickle\",\"wb\")\n",
    "pickle_out_3 = open(\"tfidf_test.pickle\",\"wb\")\n",
    "\n",
    "pickle.dump(xt_train_multilabel, pickle_out_1)\n",
    "pickle.dump(xt_cv_multilabel, pickle_out_2)\n",
    "pickle.dump(xt_test_multilabel, pickle_out_3)\n",
    "\n"
   ]
  },
  {
   "cell_type": "code",
   "execution_count": 0,
   "metadata": {
    "colab": {},
    "colab_type": "code",
    "id": "igbQrRl_4kNU"
   },
   "outputs": [],
   "source": [
    "pickle_in_1 = open(\"tfidf_train.pickle\",\"rb\")\n",
    "pickle_in_2 = open(\"tfidf_cv.pickle\",\"rb\")\n",
    "pickle_in_3 = open(\"tfidf_test.pickle\",\"rb\")\n",
    "\n",
    "xt_train_multilabel = pickle.load(pickle_in_1) \n",
    "xt_cv_multilabel = pickle.load(pickle_in_2) \n",
    "xt_test_multilabel = pickle.load(pickle_in_3) "
   ]
  },
  {
   "cell_type": "markdown",
   "metadata": {
    "colab_type": "text",
    "id": "9CsnEo_ZM16K"
   },
   "source": [
    "<h3>AVG W2V </h3>"
   ]
  },
  {
   "cell_type": "code",
   "execution_count": 0,
   "metadata": {
    "colab": {
     "base_uri": "https://localhost:8080/",
     "height": 68
    },
    "colab_type": "code",
    "id": "ouAHWyJNG7xB",
    "outputId": "7a14b1bc-8f1b-4633-e72d-1d277f50fe1c"
   },
   "outputs": [
    {
     "name": "stdout",
     "output_type": "stream",
     "text": [
      "cleantext train data\n",
      "cleantext cv data\n",
      "cleantext test data\n"
     ]
    }
   ],
   "source": [
    "#train_data\n",
    "cleantext_train= x_train['pre_pro_plot_synopsis'] # building own text corpus from w2v train data  \n",
    "i=0\n",
    "list_of_sentance_train=[]\n",
    "for sentance_train in cleantext_train:\n",
    "    list_of_sentance_train.append(sentance_train.split())\n",
    "print(\"cleantext train data\")\n",
    "\n",
    "#cv_data\n",
    "cleantext_cv= x_cv['pre_pro_plot_synopsis'] # building own text corpus from w2v train data  \n",
    "j=0\n",
    "list_of_sentance_cv=[]\n",
    "for sentance_cv in cleantext_cv:\n",
    "    list_of_sentance_cv.append(sentance_cv.split())\n",
    "print(\"cleantext cv data\")\n",
    "\n",
    "#test data\n",
    "cleantext_test= x_test['pre_pro_plot_synopsis'] # building own text corpus from w2v test data  \n",
    "k=0\n",
    "list_of_sentance_test=[]\n",
    "for sentance_test in cleantext_test:\n",
    "    list_of_sentance_test.append(sentance_test.split())\n",
    "print(\"cleantext test data\")\n",
    "\n",
    "\n",
    "#WORD2VEC USING OWN CORPUS FROM ABOVE DATA \n",
    "w2v_train_model=Word2Vec(list_of_sentance_train,min_count=5,size=50, workers=4)\n",
    "\n",
    "#creating words only on train data \n",
    "w2v_words_train = list(w2v_train_model.wv.vocab)"
   ]
  },
  {
   "cell_type": "code",
   "execution_count": 0,
   "metadata": {
    "colab": {
     "base_uri": "https://localhost:8080/",
     "height": 85
    },
    "colab_type": "code",
    "id": "sXq2txTtG7vp",
    "outputId": "c47efcbd-e841-4d41-8791-a44a9d8b1f77"
   },
   "outputs": [
    {
     "name": "stderr",
     "output_type": "stream",
     "text": [
      "100%|██████████| 9440/9440 [11:52<00:00, 13.24it/s]"
     ]
    },
    {
     "name": "stdout",
     "output_type": "stream",
     "text": [
      "9440\n",
      "50\n",
      "<class 'list'>\n"
     ]
    },
    {
     "name": "stderr",
     "output_type": "stream",
     "text": [
      "\n"
     ]
    }
   ],
   "source": [
    "# average Word2Vec train data \n",
    "# compute average word2vec_train for each synopsis.\n",
    "\n",
    "sent_vectors_train = []; \n",
    "final_avgw2v_train_data=sent_vectors_train\n",
    "for sent_train in tqdm(list_of_sentance_train):\n",
    "  sent_vec_train = np.zeros(50) \n",
    "  cnt_words_train =0; \n",
    "  for word_train in sent_train:\n",
    "    if word_train in w2v_words_train:\n",
    "      vec_train = w2v_train_model.wv[word_train]\n",
    "      sent_vec_train += vec_train\n",
    "      cnt_words_train += 1\n",
    "  if cnt_words_train != 0:\n",
    "    sent_vec_train /= cnt_words_train\n",
    "  sent_vectors_train.append(sent_vec_train)\n",
    "print(len(sent_vectors_train))\n",
    "print(len(sent_vectors_train[0]))\n",
    "print(type(sent_vectors_train))"
   ]
  },
  {
   "cell_type": "code",
   "execution_count": 0,
   "metadata": {
    "colab": {},
    "colab_type": "code",
    "id": "lrjbuPb_wRZS"
   },
   "outputs": [],
   "source": [
    "pickle_out = open(\"train_avgw2v.pickle\",\"wb\")\n",
    "pickle.dump(final_avgw2v_train_data, pickle_out)\n",
    "pickle_out.close()   "
   ]
  },
  {
   "cell_type": "code",
   "execution_count": 0,
   "metadata": {
    "colab": {},
    "colab_type": "code",
    "id": "NuG4OkmwYrFR"
   },
   "outputs": [],
   "source": [
    "pickle_in = open(\"train_avgw2v.pickle\",\"rb\")\n",
    "final_avgw2v_train_data = pickle.load(pickle_in)"
   ]
  },
  {
   "cell_type": "code",
   "execution_count": 0,
   "metadata": {
    "colab": {
     "base_uri": "https://localhost:8080/",
     "height": 85
    },
    "colab_type": "code",
    "id": "lDBn2lsWnMmK",
    "outputId": "40bcf838-ef3f-4f30-82b2-c636be135c38"
   },
   "outputs": [
    {
     "name": "stderr",
     "output_type": "stream",
     "text": [
      "100%|██████████| 2361/2361 [03:10<00:00, 11.72it/s]"
     ]
    },
    {
     "name": "stdout",
     "output_type": "stream",
     "text": [
      "2361\n",
      "50\n",
      "<class 'list'>\n"
     ]
    },
    {
     "name": "stderr",
     "output_type": "stream",
     "text": [
      "\n"
     ]
    }
   ],
   "source": [
    "# average Word2Vec train data \n",
    "# compute average word2vec_train for each synopsis.\n",
    "#avgw2v cv data \n",
    "sent_vectors_cv = []; \n",
    "final_avgw2v_cv_data=sent_vectors_cv\n",
    "for sent_cv in tqdm(list_of_sentance_cv):\n",
    "  sent_vec_cv = np.zeros(50) \n",
    "  cnt_words_cv =0; \n",
    "  for word_cv in sent_cv:\n",
    "    if word_cv in w2v_words_train:\n",
    "      vec_cv = w2v_train_model.wv[word_cv]\n",
    "      sent_vec_cv += vec_cv\n",
    "      cnt_words_cv += 1\n",
    "  if cnt_words_cv != 0:\n",
    "    sent_vec_cv /= cnt_words_cv\n",
    "  sent_vectors_cv.append(sent_vec_cv)\n",
    "print(len(sent_vectors_cv))\n",
    "print(len(sent_vectors_cv[0]))\n",
    "print(type(sent_vectors_cv))"
   ]
  },
  {
   "cell_type": "code",
   "execution_count": 0,
   "metadata": {
    "colab": {},
    "colab_type": "code",
    "id": "kkokiT5MnMu_"
   },
   "outputs": [],
   "source": [
    "pickle_out = open(\"cv_avgw2v.pickle\",\"wb\")\n",
    "pickle.dump(final_avgw2v_cv_data, pickle_out)\n",
    "pickle_out.close() "
   ]
  },
  {
   "cell_type": "code",
   "execution_count": 0,
   "metadata": {
    "colab": {},
    "colab_type": "code",
    "id": "3ad8DvJ9nM1q"
   },
   "outputs": [],
   "source": [
    "pickle_in = open(\"cv_avgw2v.pickle\",\"rb\")\n",
    "final_avgw2v_cv_data = pickle.load(pickle_in)"
   ]
  },
  {
   "cell_type": "code",
   "execution_count": 0,
   "metadata": {
    "colab": {
     "base_uri": "https://localhost:8080/",
     "height": 85
    },
    "colab_type": "code",
    "id": "uPZ3CfqIgCGW",
    "outputId": "bd16c81a-5bd3-4ea3-de38-39034773a56f"
   },
   "outputs": [
    {
     "name": "stderr",
     "output_type": "stream",
     "text": [
      "100%|██████████| 2951/2951 [03:53<00:00, 16.10it/s]"
     ]
    },
    {
     "name": "stdout",
     "output_type": "stream",
     "text": [
      "2951\n",
      "50\n",
      "<class 'list'>\n"
     ]
    },
    {
     "name": "stderr",
     "output_type": "stream",
     "text": [
      "\n"
     ]
    }
   ],
   "source": [
    "# average Word2Vec test data \n",
    "sent_vectors_test = []; \n",
    "final_avgw2v_test_data=sent_vectors_test\n",
    "for sent_test in tqdm(list_of_sentance_test): \n",
    "    sent_vec_test = np.zeros(50) \n",
    "    cnt_words_test =0;\n",
    "    for word_test in sent_test: \n",
    "        if word_test in w2v_words_train:\n",
    "            vec_test = w2v_train_model.wv[word_test]\n",
    "            sent_vec_test += vec_test\n",
    "            cnt_words_test += 1\n",
    "    if cnt_words_test != 0:\n",
    "        sent_vec_test /= cnt_words_test\n",
    "    sent_vectors_test.append(sent_vec_test)\n",
    "\n",
    "print(len(sent_vectors_test))\n",
    "print(len(sent_vectors_test[0]))\n",
    "print(type(sent_vectors_test))"
   ]
  },
  {
   "cell_type": "code",
   "execution_count": 0,
   "metadata": {
    "colab": {},
    "colab_type": "code",
    "id": "sTP-4vTExFyH"
   },
   "outputs": [],
   "source": [
    "pickle_out = open(\"test_avgw2v.pickle\",\"wb\")\n",
    "pickle.dump(final_avgw2v_test_data, pickle_out)\n",
    "pickle_out.close()"
   ]
  },
  {
   "cell_type": "code",
   "execution_count": 0,
   "metadata": {
    "colab": {},
    "colab_type": "code",
    "id": "UmwOEujgYpmn"
   },
   "outputs": [],
   "source": [
    "pickle_in = open(\"test_avgw2v.pickle\",\"rb\")\n",
    "final_avgw2v_test_data = pickle.load(pickle_in)"
   ]
  },
  {
   "cell_type": "code",
   "execution_count": 0,
   "metadata": {
    "colab": {
     "base_uri": "https://localhost:8080/",
     "height": 85
    },
    "colab_type": "code",
    "id": "-a9rFMSpgIMw",
    "outputId": "3abd2b89-369c-4fb0-e89d-02d0c9ffe07e"
   },
   "outputs": [
    {
     "name": "stderr",
     "output_type": "stream",
     "text": [
      "100%|██████████| 9440/9440 [1:38:20<00:00,  1.37it/s]"
     ]
    },
    {
     "name": "stdout",
     "output_type": "stream",
     "text": [
      "50\n",
      "9440\n",
      "<class 'list'>\n"
     ]
    },
    {
     "name": "stderr",
     "output_type": "stream",
     "text": [
      "\n"
     ]
    }
   ],
   "source": [
    "\n",
    "tfidfw2v_model_train = TfidfVectorizer()\n",
    "final_tfidfw2v_train=tfidfw2v_model_train.fit(x_train['pre_pro_plot_synopsis'])\n",
    "dictionary_train = dict(zip(final_tfidfw2v_train.get_feature_names(), list(final_tfidfw2v_train.idf_)))\n",
    "\n",
    "# TF-IDF weighted Word2Vec on train\n",
    "tfidf_feat_train = final_tfidfw2v_train.get_feature_names() # tfidf words/col-names\n",
    "\n",
    "tfidf_sent_vectors_train = [];\n",
    "final_tfidfw2v_train_data=tfidf_sent_vectors_train\n",
    "row=0;''\n",
    "for sent_train in tqdm(list_of_sentance_train): \n",
    "    sent_vec_train = np.zeros(50) \n",
    "    weight_sum_train =0; \n",
    "    for word in sent_train: \n",
    "        if word in w2v_words_train and word in tfidf_feat_train:\n",
    "            vec_train = w2v_train_model.wv[word]\n",
    "            tf_idf_train = dictionary_train[word]*(sent_train.count(word)/len(sent_train))\n",
    "            sent_vec_train += (vec_train * tf_idf_train)\n",
    "            weight_sum_train += tf_idf_train  \n",
    "    if weight_sum_train != 0:\n",
    "      sent_vec_train /= weight_sum_train\n",
    "    tfidf_sent_vectors_train.append(sent_vec_train)\n",
    "    row += 1\n",
    "print(len(sent_vec_train))\n",
    "print(len(tfidf_sent_vectors_train))  \n",
    "print(type(tfidf_sent_vectors_train))"
   ]
  },
  {
   "cell_type": "code",
   "execution_count": 0,
   "metadata": {
    "colab": {},
    "colab_type": "code",
    "id": "zZEvNcKPxRHJ"
   },
   "outputs": [],
   "source": [
    "pickle_out = open(\"train_tfidfavgw2v.pickle\",\"wb\")\n",
    "pickle.dump(final_tfidfw2v_train_data, pickle_out)\n",
    "pickle_out.close()"
   ]
  },
  {
   "cell_type": "code",
   "execution_count": 0,
   "metadata": {
    "colab": {},
    "colab_type": "code",
    "id": "srvEUTaOYlD-"
   },
   "outputs": [],
   "source": [
    "pickle_in = open(\"train_tfidfavgw2v.pickle\",\"rb\")\n",
    "final_tfidfw2v_train_data = pickle.load(pickle_in)"
   ]
  },
  {
   "cell_type": "code",
   "execution_count": 0,
   "metadata": {
    "colab": {
     "base_uri": "https://localhost:8080/",
     "height": 85
    },
    "colab_type": "code",
    "id": "c9TQmyDwokbw",
    "outputId": "a5ec1b68-260b-405d-8c9f-ef2a1942662b"
   },
   "outputs": [
    {
     "name": "stderr",
     "output_type": "stream",
     "text": [
      "100%|██████████| 2361/2361 [25:57<00:00,  1.05s/it]"
     ]
    },
    {
     "name": "stdout",
     "output_type": "stream",
     "text": [
      "50\n",
      "2361\n",
      "<class 'list'>\n"
     ]
    },
    {
     "name": "stderr",
     "output_type": "stream",
     "text": [
      "\n"
     ]
    }
   ],
   "source": [
    "#tfidfw2v cv data \n",
    "tfidfw2v_model_train = TfidfVectorizer()\n",
    "final_tfidfw2v_train=tfidfw2v_model_train.fit(x_train['pre_pro_plot_synopsis'])\n",
    "dictionary_train = dict(zip(final_tfidfw2v_train.get_feature_names(), list(final_tfidfw2v_train.idf_)))\n",
    "\n",
    "# TF-IDF weighted Word2Vec on train\n",
    "tfidf_feat_cv = final_tfidfw2v_train.get_feature_names() # tfidf words/col-names\n",
    "\n",
    "tfidf_sent_vectors_cv = [];\n",
    "final_tfidfw2v_cv_data=tfidf_sent_vectors_cv\n",
    "row=0;''\n",
    "for sent_cv in tqdm(list_of_sentance_cv): \n",
    "    sent_vec_cv = np.zeros(50) \n",
    "    weight_sum_cv =0; \n",
    "    for word in sent_cv: \n",
    "        if word in w2v_words_train and word in tfidf_feat_cv:\n",
    "            vec_cv = w2v_train_model.wv[word]\n",
    "            tf_idf_cv = dictionary_train[word]*(sent_cv.count(word)/len(sent_cv))\n",
    "            sent_vec_cv += (vec_cv * tf_idf_cv)\n",
    "            weight_sum_cv += tf_idf_cv  \n",
    "    if weight_sum_cv != 0:\n",
    "      sent_vec_cv /= weight_sum_cv\n",
    "    tfidf_sent_vectors_cv.append(sent_vec_cv)\n",
    "    row += 1\n",
    "print(len(sent_vec_cv))\n",
    "print(len(tfidf_sent_vectors_cv))  \n",
    "print(type(tfidf_sent_vectors_cv))"
   ]
  },
  {
   "cell_type": "code",
   "execution_count": 0,
   "metadata": {
    "colab": {},
    "colab_type": "code",
    "id": "GyAUZBwNokh5"
   },
   "outputs": [],
   "source": [
    "pickle_out = open(\"cv_tfidfavgw2v.pickle\",\"wb\")\n",
    "pickle.dump(final_tfidfw2v_cv_data, pickle_out)\n",
    "pickle_out.close()"
   ]
  },
  {
   "cell_type": "code",
   "execution_count": 0,
   "metadata": {
    "colab": {},
    "colab_type": "code",
    "id": "hndVk2KOoknb"
   },
   "outputs": [],
   "source": [
    "pickle_in = open(\"cv_tfidfavgw2v.pickle\",\"rb\")\n",
    "final_tfidfw2v_cv_data = pickle.load(pickle_in)"
   ]
  },
  {
   "cell_type": "code",
   "execution_count": 0,
   "metadata": {
    "colab": {
     "base_uri": "https://localhost:8080/",
     "height": 85
    },
    "colab_type": "code",
    "id": "x10Vr_MWgIRF",
    "outputId": "9966ae42-68b8-4d0c-9cc8-a10ed2db46fe"
   },
   "outputs": [
    {
     "name": "stderr",
     "output_type": "stream",
     "text": [
      "100%|██████████| 2951/2951 [32:42<00:00,  2.55it/s]"
     ]
    },
    {
     "name": "stdout",
     "output_type": "stream",
     "text": [
      "50\n",
      "2951\n",
      "<class 'list'>\n"
     ]
    },
    {
     "name": "stderr",
     "output_type": "stream",
     "text": [
      "\n"
     ]
    }
   ],
   "source": [
    "#tfidf_test_data using  train model\n",
    "\n",
    "tfidfw2v_model_train = TfidfVectorizer()\n",
    "final_tfidfw2v_train=tfidfw2v_model_train.fit(x_train['pre_pro_plot_synopsis'])\n",
    "dictionary_train = dict(zip(final_tfidfw2v_train.get_feature_names(), list(final_tfidfw2v_train.idf_))) \n",
    "\n",
    "#tfidfw2v on test data \n",
    "tfidf_feat_test = final_tfidfw2v_train.get_feature_names() # tfidf words/col-names\n",
    "\n",
    "tfidf_sent_vectors_test = []; \n",
    "final_tfidfw2v_test_data=tfidf_sent_vectors_test\n",
    "row=0;\n",
    "for sent_test in tqdm(list_of_sentance_test): \n",
    "    sent_vec_test = np.zeros(50) \n",
    "    weight_sum_test =0; \n",
    "    for word_test in sent_test: \n",
    "        if word_test in w2v_words_train and word_test in tfidf_feat_test:\n",
    "            vec_test = w2v_train_model.wv[word_test]\n",
    "            tf_idf_test = dictionary_train[word_test]*(sent_test.count(word_test)/len(sent_test))\n",
    "            sent_vec_test += (vec_test * tf_idf_test)\n",
    "            weight_sum_test += tf_idf_test\n",
    "    if weight_sum_test != 0:\n",
    "        sent_vec_test /= weight_sum_test\n",
    "    tfidf_sent_vectors_test.append(sent_vec_test)\n",
    "    row += 1\n",
    "print(len(sent_vec_test))\n",
    "print(len(tfidf_sent_vectors_test))  \n",
    "print(type(tfidf_sent_vectors_test))"
   ]
  },
  {
   "cell_type": "code",
   "execution_count": 0,
   "metadata": {
    "colab": {},
    "colab_type": "code",
    "id": "MGpKqw6mgIXk"
   },
   "outputs": [],
   "source": [
    "pickle_out = open(\"test_tfidfavgw2v.pickle\",\"wb\")\n",
    "pickle.dump(final_tfidfw2v_test_data, pickle_out)\n",
    "pickle_out.close()"
   ]
  },
  {
   "cell_type": "code",
   "execution_count": 0,
   "metadata": {
    "colab": {},
    "colab_type": "code",
    "id": "7n6M0y25gIbM"
   },
   "outputs": [],
   "source": [
    "pickle_in = open(\"test_tfidfavgw2v.pickle\",\"rb\")\n",
    "final_tfidfw2v_test_data = pickle.load(pickle_in)"
   ]
  },
  {
   "cell_type": "markdown",
   "metadata": {
    "colab_type": "text",
    "id": "UojLt9hZx8va"
   },
   "source": [
    "<h2> Logistic Regression BOW</h2>"
   ]
  },
  {
   "cell_type": "code",
   "execution_count": 0,
   "metadata": {
    "colab": {
     "base_uri": "https://localhost:8080/",
     "height": 204
    },
    "colab_type": "code",
    "id": "OtfqyYhpgIUw",
    "outputId": "c122178d-ead8-428a-aeac-f0338711d58a"
   },
   "outputs": [
    {
     "name": "stdout",
     "output_type": "stream",
     "text": [
      "for 0.0001 Train_f1_score: 0.0064, Cv_f1_score: 0.0052\n",
      "for 0.001 Train_f1_score: 0.1228, Cv_f1_score: 0.1167\n",
      "for 0.01 Train_f1_score: 0.3817, Cv_f1_score: 0.2680\n",
      "for 0.1 Train_f1_score: 0.7761, Cv_f1_score: 0.3156\n",
      "for 1 Train_f1_score: 0.9707, Cv_f1_score: 0.2969\n",
      "for 10 Train_f1_score: 0.9712, Cv_f1_score: 0.2941\n",
      "for 100 Train_f1_score: 0.9712, Cv_f1_score: 0.2963\n",
      "for 1000 Train_f1_score: 0.9712, Cv_f1_score: 0.2889\n",
      "for 10000 Train_f1_score: 0.9712, Cv_f1_score: 0.2653\n",
      "CPU times: user 23min 54s, sys: 822 ms, total: 23min 54s\n",
      "Wall time: 23min 57s\n"
     ]
    }
   ],
   "source": [
    "#hyperparameter tuning\n",
    "%%time\n",
    "train_f1 = []\n",
    "cv_f1 = []\n",
    "parameters=[0.0001,0.001,0.01,0.1,1,10,100,1000,10000]\n",
    "for i in parameters:\n",
    "  classifier = OneVsRestClassifier(LogisticRegression(C=i, penalty='l1',class_weight='balanced'))\n",
    "  classifier.fit(xb_train_multilabel, y_train)\n",
    "  train_predictions = classifier.predict (xb_train_multilabel)\n",
    "  train_f1_score = f1_score(y_train, train_predictions, average='micro')\n",
    "  train_f1.append(train_f1_score)\n",
    "  cv_predictions = classifier.predict(xb_cv_multilabel)\n",
    "  cv_f1_score = f1_score(y_cv, cv_predictions, average='micro')\n",
    "  cv_f1.append(cv_f1_score)\n",
    "  print(\"for\",i,\"Train_f1_score: {:.4f}, Cv_f1_score: {:.4f}\".format(train_f1_score, cv_f1_score))\n"
   ]
  },
  {
   "cell_type": "code",
   "execution_count": 0,
   "metadata": {
    "colab": {
     "base_uri": "https://localhost:8080/",
     "height": 34
    },
    "colab_type": "code",
    "id": "BCqFZnESsnrQ",
    "outputId": "400a3b04-f2bc-4036-925e-ee02206249e8"
   },
   "outputs": [
    {
     "name": "stdout",
     "output_type": "stream",
     "text": [
      "best parameter : 0.1\n"
     ]
    }
   ],
   "source": [
    "best_estimators = np.argmax(cv_f1)\n",
    "print('best parameter :',parameters[best_estimators])"
   ]
  },
  {
   "cell_type": "code",
   "execution_count": 0,
   "metadata": {
    "colab": {
     "base_uri": "https://localhost:8080/",
     "height": 85
    },
    "colab_type": "code",
    "id": "Tnk2hPsZuO8z",
    "outputId": "d95b3ef7-8e89-4e00-d289-d92c6e71cf09"
   },
   "outputs": [
    {
     "name": "stdout",
     "output_type": "stream",
     "text": [
      "Accuracy : 0.024737377160284648\n",
      "Hamming loss  0.06992139212775808\n",
      "Micro-average :\n",
      "Precision: 0.2801, Recall: 0.4037, F1-measure: 0.3307\n"
     ]
    }
   ],
   "source": [
    "classifier = OneVsRestClassifier(LogisticRegression(C=parameters[best_estimators], penalty='l1',class_weight='balanced'))\n",
    "classifier.fit(xb_train_multilabel, y_train)\n",
    "predictions = classifier.predict (xb_test_multilabel)\n",
    "\n",
    "print(\"Accuracy :\",metrics.accuracy_score(y_test, predictions))\n",
    "print(\"Hamming loss \",metrics.hamming_loss(y_test,predictions))\n",
    "\n",
    "\n",
    "precision = precision_score(y_test, predictions, average='micro')\n",
    "recall = recall_score(y_test, predictions, average='micro')\n",
    "f1 = f1_score(y_test, predictions, average='micro')\n",
    " \n",
    "print(\"Micro-average :\")\n",
    "print(\"Precision: {:.4f}, Recall: {:.4f}, F1-measure: {:.4f}\".format(precision, recall, f1))"
   ]
  },
  {
   "cell_type": "markdown",
   "metadata": {
    "colab_type": "text",
    "id": "eTe3zRadyCvR"
   },
   "source": [
    "<h2> Logistic Regression TFIDF</h2>"
   ]
  },
  {
   "cell_type": "code",
   "execution_count": 0,
   "metadata": {
    "colab": {
     "base_uri": "https://localhost:8080/",
     "height": 204
    },
    "colab_type": "code",
    "id": "vvGFyybKuPCk",
    "outputId": "b19c8db9-c28f-464f-a228-0ace77a9ca01"
   },
   "outputs": [
    {
     "name": "stdout",
     "output_type": "stream",
     "text": [
      "for 0.0001 Train_f1_score: 0.0000, Cv_f1_score: 0.0000\n",
      "for 0.001 Train_f1_score: 0.0000, Cv_f1_score: 0.0000\n",
      "for 0.01 Train_f1_score: 0.0031, Cv_f1_score: 0.0030\n",
      "for 0.1 Train_f1_score: 0.2321, Cv_f1_score: 0.1847\n",
      "for 1 Train_f1_score: 0.5507, Cv_f1_score: 0.2966\n",
      "for 10 Train_f1_score: 0.9336, Cv_f1_score: 0.2958\n",
      "for 100 Train_f1_score: 0.9711, Cv_f1_score: 0.2846\n",
      "for 1000 Train_f1_score: 0.9712, Cv_f1_score: 0.2866\n",
      "for 10000 Train_f1_score: 0.9712, Cv_f1_score: 0.2852\n",
      "CPU times: user 23min 34s, sys: 452 ms, total: 23min 35s\n",
      "Wall time: 23min 37s\n"
     ]
    }
   ],
   "source": [
    "#hyperparameter tuning\n",
    "%%time\n",
    "train_f1 = []\n",
    "cv_f1 = []\n",
    "parameters=[0.0001,0.001,0.01,0.1,1,10,100,1000,10000]\n",
    "for i in parameters:\n",
    "  classifier = OneVsRestClassifier(LogisticRegression(C=i, penalty='l1',class_weight='balanced'))\n",
    "  classifier.fit(xt_train_multilabel, y_train)\n",
    "  train_predictions = classifier.predict (xt_train_multilabel)\n",
    "  train_f1_score = f1_score(y_train, train_predictions, average='micro')\n",
    "  train_f1.append(train_f1_score)\n",
    "  cv_predictions = classifier.predict(xt_cv_multilabel)\n",
    "  cv_f1_score = f1_score(y_cv, cv_predictions, average='micro')\n",
    "  cv_f1.append(cv_f1_score)\n",
    "  print(\"for\",i,\"Train_f1_score: {:.4f}, Cv_f1_score: {:.4f}\".format(train_f1_score, cv_f1_score))\n"
   ]
  },
  {
   "cell_type": "code",
   "execution_count": 0,
   "metadata": {
    "colab": {
     "base_uri": "https://localhost:8080/",
     "height": 34
    },
    "colab_type": "code",
    "id": "5JPHCPgbtxLt",
    "outputId": "09d50fb9-cc7d-4fb1-a6cb-a62ddfb9a047"
   },
   "outputs": [
    {
     "name": "stdout",
     "output_type": "stream",
     "text": [
      "best parameter : 1\n"
     ]
    }
   ],
   "source": [
    "best_estimators = np.argmax(cv_f1)\n",
    "print('best parameter :',parameters[best_estimators])"
   ]
  },
  {
   "cell_type": "code",
   "execution_count": 0,
   "metadata": {
    "colab": {
     "base_uri": "https://localhost:8080/",
     "height": 119
    },
    "colab_type": "code",
    "id": "jBdn78_cuPHk",
    "outputId": "5e9e8732-c12a-47e3-82a2-d7b6489d34a8"
   },
   "outputs": [
    {
     "name": "stdout",
     "output_type": "stream",
     "text": [
      "Accuracy : 0.012199254490003388\n",
      "Hamming loss  0.08616797361600985\n",
      "Micro-average :\n",
      "Precision: 0.2360, Recall: 0.4530, F1-measure: 0.3103\n",
      "CPU times: user 35.9 s, sys: 25.8 ms, total: 35.9 s\n",
      "Wall time: 36 s\n"
     ]
    }
   ],
   "source": [
    "%%time\n",
    "classifier = OneVsRestClassifier(LogisticRegression(C=parameters[best_estimators], penalty='l1',class_weight='balanced'))\n",
    "classifier.fit(xt_train_multilabel, y_train)\n",
    "predictions = classifier.predict (xt_test_multilabel)\n",
    "\n",
    "print(\"Accuracy :\",metrics.accuracy_score(y_test, predictions))\n",
    "print(\"Hamming loss \",metrics.hamming_loss(y_test,predictions))\n",
    "\n",
    "\n",
    "precision = precision_score(y_test, predictions, average='micro')\n",
    "recall = recall_score(y_test, predictions, average='micro')\n",
    "f1 = f1_score(y_test, predictions, average='micro')\n",
    " \n",
    "print(\"Micro-average :\")\n",
    "print(\"Precision: {:.4f}, Recall: {:.4f}, F1-measure: {:.4f}\".format(precision, recall, f1))"
   ]
  },
  {
   "cell_type": "markdown",
   "metadata": {
    "colab_type": "text",
    "id": "NmR4Dm6iyE0L"
   },
   "source": [
    "<h2> Logistic Regression AVGW2V</h2>"
   ]
  },
  {
   "cell_type": "code",
   "execution_count": 0,
   "metadata": {
    "colab": {
     "base_uri": "https://localhost:8080/",
     "height": 204
    },
    "colab_type": "code",
    "id": "WFJNsee7uPSA",
    "outputId": "ab90836d-25cb-4ebd-c0ae-5c1db679a25e"
   },
   "outputs": [
    {
     "name": "stdout",
     "output_type": "stream",
     "text": [
      "for 0.0001 Train_f1_score: 0.0000, Cv_f1_score: 0.0000\n",
      "for 0.001 Train_f1_score: 0.0000, Cv_f1_score: 0.0000\n",
      "for 0.01 Train_f1_score: 0.1510, Cv_f1_score: 0.1441\n",
      "for 0.1 Train_f1_score: 0.1799, Cv_f1_score: 0.1689\n",
      "for 1 Train_f1_score: 0.1877, Cv_f1_score: 0.1757\n",
      "for 10 Train_f1_score: 0.1880, Cv_f1_score: 0.1760\n",
      "for 100 Train_f1_score: 0.1880, Cv_f1_score: 0.1761\n",
      "for 1000 Train_f1_score: 0.1880, Cv_f1_score: 0.1761\n",
      "for 10000 Train_f1_score: 0.1880, Cv_f1_score: 0.1761\n",
      "CPU times: user 1h 11min 29s, sys: 7.43 s, total: 1h 11min 37s\n",
      "Wall time: 1h 11min 34s\n"
     ]
    }
   ],
   "source": [
    "#hyperparameter tuning\n",
    "%%time\n",
    "train_f1 = []\n",
    "cv_f1 = []\n",
    "parameters=[0.0001,0.001,0.01,0.1,1,10,100,1000,10000]\n",
    "for i in parameters:\n",
    "  classifier = OneVsRestClassifier(LogisticRegression(C=i, penalty='l1',class_weight='balanced'))\n",
    "  classifier.fit(final_avgw2v_train_data, y_train)\n",
    "  train_predictions = classifier.predict (final_avgw2v_train_data)\n",
    "  train_f1_score = f1_score(y_train, train_predictions, average='micro')\n",
    "  train_f1.append(train_f1_score)\n",
    "  cv_predictions = classifier.predict(final_avgw2v_cv_data)\n",
    "  cv_f1_score = f1_score(y_cv, cv_predictions, average='micro')\n",
    "  cv_f1.append(cv_f1_score)\n",
    "  print(\"for\",i,\"Train_f1_score: {:.4f}, Cv_f1_score: {:.4f}\".format(train_f1_score, cv_f1_score))\n"
   ]
  },
  {
   "cell_type": "code",
   "execution_count": 0,
   "metadata": {
    "colab": {
     "base_uri": "https://localhost:8080/",
     "height": 34
    },
    "colab_type": "code",
    "id": "TC4r2g9nuP8D",
    "outputId": "8fc2148c-4a3f-4fba-d939-47221b222758"
   },
   "outputs": [
    {
     "name": "stdout",
     "output_type": "stream",
     "text": [
      "best parameter : 100\n"
     ]
    }
   ],
   "source": [
    "best_estimators = np.argmax(cv_f1)\n",
    "print('best parameter :',parameters[best_estimators])"
   ]
  },
  {
   "cell_type": "code",
   "execution_count": 0,
   "metadata": {
    "colab": {
     "base_uri": "https://localhost:8080/",
     "height": 119
    },
    "colab_type": "code",
    "id": "QOJk2A8-uPXF",
    "outputId": "6f2be15a-bad0-4473-a06e-636faa85ec80"
   },
   "outputs": [
    {
     "name": "stdout",
     "output_type": "stream",
     "text": [
      "Accuracy : 0.0\n",
      "Hamming loss  0.25055245058967834\n",
      "Micro-average :\n",
      "Precision: 0.1061, Recall: 0.6536, F1-measure: 0.1825\n",
      "CPU times: user 14min 47s, sys: 335 ms, total: 14min 47s\n",
      "Wall time: 14min 48s\n"
     ]
    }
   ],
   "source": [
    "%%time\n",
    "classifier = OneVsRestClassifier(LogisticRegression(C=parameters[best_estimators], penalty='l1',class_weight='balanced'))\n",
    "classifier.fit(final_avgw2v_train_data, y_train)\n",
    "predictions = classifier.predict (final_avgw2v_test_data)\n",
    "\n",
    "print(\"Accuracy :\",metrics.accuracy_score(y_test, predictions))\n",
    "print(\"Hamming loss \",metrics.hamming_loss(y_test,predictions))\n",
    "\n",
    "\n",
    "precision = precision_score(y_test, predictions, average='micro')\n",
    "recall = recall_score(y_test, predictions, average='micro')\n",
    "f1 = f1_score(y_test, predictions, average='micro')\n",
    " \n",
    "print(\"Micro-average :\")\n",
    "print(\"Precision: {:.4f}, Recall: {:.4f}, F1-measure: {:.4f}\".format(precision, recall, f1))"
   ]
  },
  {
   "cell_type": "markdown",
   "metadata": {
    "colab_type": "text",
    "id": "DmnvrwI4yHOw"
   },
   "source": [
    "<h2> Logistic Regression TFIDFW2V</h2>"
   ]
  },
  {
   "cell_type": "code",
   "execution_count": 0,
   "metadata": {
    "colab": {
     "base_uri": "https://localhost:8080/",
     "height": 204
    },
    "colab_type": "code",
    "id": "LydVHQYzuPZ6",
    "outputId": "7f1e731f-f450-4a8d-db43-c9b5e5b8c302"
   },
   "outputs": [
    {
     "name": "stdout",
     "output_type": "stream",
     "text": [
      "for 0.0001 Train_f1_score: 0.0000, Cv_f1_score: 0.0000\n",
      "for 0.001 Train_f1_score: 0.0033, Cv_f1_score: 0.0030\n",
      "for 0.01 Train_f1_score: 0.1429, Cv_f1_score: 0.1299\n",
      "for 0.1 Train_f1_score: 0.1658, Cv_f1_score: 0.1436\n",
      "for 1 Train_f1_score: 0.1689, Cv_f1_score: 0.1429\n",
      "for 10 Train_f1_score: 0.1690, Cv_f1_score: 0.1425\n",
      "for 100 Train_f1_score: 0.1690, Cv_f1_score: 0.1425\n",
      "for 1000 Train_f1_score: 0.1689, Cv_f1_score: 0.1425\n",
      "for 10000 Train_f1_score: 0.1689, Cv_f1_score: 0.1425\n",
      "CPU times: user 8min 10s, sys: 6.93 s, total: 8min 16s\n",
      "Wall time: 8min 9s\n"
     ]
    }
   ],
   "source": [
    "#hyperparameter tuning\n",
    "%%time\n",
    "train_f1 = []\n",
    "cv_f1 = []\n",
    "parameters=[0.0001,0.001,0.01,0.1,1,10,100,1000,10000]\n",
    "for i in parameters:\n",
    "  classifier = OneVsRestClassifier(LogisticRegression(C=i, penalty='l1',class_weight='balanced'))\n",
    "  classifier.fit(final_tfidfw2v_train_data, y_train)\n",
    "  train_predictions = classifier.predict (final_tfidfw2v_train_data)\n",
    "  train_f1_score = f1_score(y_train, train_predictions, average='micro')\n",
    "  train_f1.append(train_f1_score)\n",
    "  cv_predictions = classifier.predict(final_tfidfw2v_cv_data)\n",
    "  cv_f1_score = f1_score(y_cv, cv_predictions, average='micro')\n",
    "  cv_f1.append(cv_f1_score)\n",
    "  print(\"for\",i,\"Train_f1_score: {:.4f}, Cv_f1_score: {:.4f}\".format(train_f1_score, cv_f1_score))\n"
   ]
  },
  {
   "cell_type": "code",
   "execution_count": 0,
   "metadata": {
    "colab": {
     "base_uri": "https://localhost:8080/",
     "height": 34
    },
    "colab_type": "code",
    "id": "g60AvNJrugnB",
    "outputId": "921e5019-1e6b-4f75-e871-28310282a320"
   },
   "outputs": [
    {
     "name": "stdout",
     "output_type": "stream",
     "text": [
      "best parameter : 0.1\n"
     ]
    }
   ],
   "source": [
    "best_estimators = np.argmax(cv_f1)\n",
    "print('best parameter :',parameters[best_estimators])"
   ]
  },
  {
   "cell_type": "code",
   "execution_count": 0,
   "metadata": {
    "colab": {
     "base_uri": "https://localhost:8080/",
     "height": 119
    },
    "colab_type": "code",
    "id": "ainh1egSuPVB",
    "outputId": "8cc21f4a-44b5-47e5-ed50-ec226ba3d9d6"
   },
   "outputs": [
    {
     "name": "stdout",
     "output_type": "stream",
     "text": [
      "Accuracy : 0.0\n",
      "Hamming loss  0.27251206322993876\n",
      "Micro-average :\n",
      "Precision: 0.0888, Recall: 0.5792, F1-measure: 0.1539\n",
      "CPU times: user 40.8 s, sys: 250 ms, total: 41.1 s\n",
      "Wall time: 40.9 s\n"
     ]
    }
   ],
   "source": [
    "%%time\n",
    "classifier = OneVsRestClassifier(LogisticRegression(C=parameters[best_estimators], penalty='l1',class_weight='balanced'))\n",
    "classifier.fit(final_tfidfw2v_train_data, y_train)\n",
    "predictions = classifier.predict (final_tfidfw2v_test_data)\n",
    "\n",
    "print(\"Accuracy :\",metrics.accuracy_score(y_test, predictions))\n",
    "print(\"Hamming loss \",metrics.hamming_loss(y_test,predictions))\n",
    "\n",
    "\n",
    "precision = precision_score(y_test, predictions, average='micro')\n",
    "recall = recall_score(y_test, predictions, average='micro')\n",
    "f1 = f1_score(y_test, predictions, average='micro')\n",
    " \n",
    "print(\"Micro-average :\")\n",
    "print(\"Precision: {:.4f}, Recall: {:.4f}, F1-measure: {:.4f}\".format(precision, recall, f1))"
   ]
  },
  {
   "cell_type": "markdown",
   "metadata": {
    "colab_type": "text",
    "id": "5gxCdgNjyJUR"
   },
   "source": [
    "<h2> SGD with hinge loss BOW (SVM)  </h2>"
   ]
  },
  {
   "cell_type": "code",
   "execution_count": 0,
   "metadata": {
    "colab": {
     "base_uri": "https://localhost:8080/",
     "height": 204
    },
    "colab_type": "code",
    "id": "fYHkE_SVuPPb",
    "outputId": "4646dbc4-0051-4204-bcc8-cd2566d061a9"
   },
   "outputs": [
    {
     "name": "stdout",
     "output_type": "stream",
     "text": [
      "for 0.0001 Train_f1_score: 0.6884, Cv_f1_score: 0.2306\n",
      "for 0.001 Train_f1_score: 0.4407, Cv_f1_score: 0.1967\n",
      "for 0.01 Train_f1_score: 0.2081, Cv_f1_score: 0.1453\n",
      "for 0.1 Train_f1_score: 0.1057, Cv_f1_score: 0.0988\n",
      "for 1 Train_f1_score: 0.0713, Cv_f1_score: 0.0672\n",
      "for 10 Train_f1_score: 0.1335, Cv_f1_score: 0.1282\n",
      "for 100 Train_f1_score: 0.1779, Cv_f1_score: 0.1717\n",
      "for 1000 Train_f1_score: 0.0570, Cv_f1_score: 0.0604\n",
      "for 10000 Train_f1_score: 0.2757, Cv_f1_score: 0.2690\n",
      "CPU times: user 2h 9min 58s, sys: 1min 3s, total: 2h 11min 2s\n",
      "Wall time: 2h 9min 59s\n"
     ]
    }
   ],
   "source": [
    "#hyperparameter tuning\n",
    "%%time\n",
    "train_f1 = []\n",
    "cv_f1 = []\n",
    "parameters=[0.0001,0.001,0.01,0.1,1,10,100,1000,10000]\n",
    "for i in parameters:\n",
    "  classifier = OneVsRestClassifier(SGDClassifier(loss='hinge',alpha=i, penalty='l1',class_weight='balanced'))\n",
    "  classifier.fit(xb_train_multilabel, y_train)\n",
    "  train_predictions = classifier.predict(xb_train_multilabel)\n",
    "  train_f1_score = f1_score(y_train, train_predictions, average='micro')\n",
    "  train_f1.append(train_f1_score)\n",
    "  cv_predictions = classifier.predict(xb_cv_multilabel)\n",
    "  cv_f1_score = f1_score(y_cv, cv_predictions, average='micro')\n",
    "  cv_f1.append(cv_f1_score)\n",
    "  print(\"for\",i,\"Train_f1_score: {:.4f}, Cv_f1_score: {:.4f}\".format(train_f1_score, cv_f1_score))\n"
   ]
  },
  {
   "cell_type": "code",
   "execution_count": 0,
   "metadata": {
    "colab": {
     "base_uri": "https://localhost:8080/",
     "height": 34
    },
    "colab_type": "code",
    "id": "eefAO4FIvL4G",
    "outputId": "0faef46d-5d9c-4362-f1a5-51abe2db14c1"
   },
   "outputs": [
    {
     "name": "stdout",
     "output_type": "stream",
     "text": [
      "best parameter : 10000\n"
     ]
    }
   ],
   "source": [
    "best_estimators = np.argmax(cv_f1)\n",
    "print('best parameter :',parameters[best_estimators])"
   ]
  },
  {
   "cell_type": "code",
   "execution_count": 0,
   "metadata": {
    "colab": {
     "base_uri": "https://localhost:8080/",
     "height": 119
    },
    "colab_type": "code",
    "id": "GgmcKqepuPNG",
    "outputId": "164b42f4-45d4-451a-e1f1-20dc2cc16598"
   },
   "outputs": [
    {
     "name": "stdout",
     "output_type": "stream",
     "text": [
      "Accuracy : 0.011521518129447645\n",
      "Hamming loss  0.05204251602464669\n",
      "Micro-average :\n",
      "Precision: 0.1718, Recall: 0.0565, F1-measure: 0.0851\n",
      "CPU times: user 16.7 s, sys: 7 s, total: 23.7 s\n",
      "Wall time: 15.7 s\n"
     ]
    }
   ],
   "source": [
    "%%time\n",
    "classifier = OneVsRestClassifier(SGDClassifier(loss='hinge',alpha=parameters[best_estimators], penalty='l1',class_weight='balanced'))\n",
    "classifier.fit(xb_train_multilabel, y_train)\n",
    "predictions = classifier.predict (xb_test_multilabel)\n",
    "\n",
    "print(\"Accuracy :\",metrics.accuracy_score(y_test, predictions))\n",
    "print(\"Hamming loss \",metrics.hamming_loss(y_test,predictions))\n",
    "\n",
    "\n",
    "precision = precision_score(y_test, predictions, average='micro')\n",
    "recall = recall_score(y_test, predictions, average='micro')\n",
    "f1 = f1_score(y_test, predictions, average='micro')\n",
    " \n",
    "print(\"Micro-average :\")\n",
    "print(\"Precision: {:.4f}, Recall: {:.4f}, F1-measure: {:.4f}\".format(precision, recall, f1))"
   ]
  },
  {
   "cell_type": "markdown",
   "metadata": {
    "colab_type": "text",
    "id": "MPEAuaBcyKBs"
   },
   "source": [
    "<h2> SGD with hinge loss TFIDF (SVM)  </h2>"
   ]
  },
  {
   "cell_type": "code",
   "execution_count": 0,
   "metadata": {
    "colab": {
     "base_uri": "https://localhost:8080/",
     "height": 204
    },
    "colab_type": "code",
    "id": "GhK9GTBXuPKZ",
    "outputId": "69aab084-6d5e-4a75-c514-c9a79f8992f4"
   },
   "outputs": [
    {
     "name": "stdout",
     "output_type": "stream",
     "text": [
      "for 0.0001 Train_f1_score: 0.5430, Cv_f1_score: 0.2600\n",
      "for 0.001 Train_f1_score: 0.2101, Cv_f1_score: 0.1444\n",
      "for 0.01 Train_f1_score: 0.0907, Cv_f1_score: 0.0863\n",
      "for 0.1 Train_f1_score: 0.0957, Cv_f1_score: 0.0938\n",
      "for 1 Train_f1_score: 0.0783, Cv_f1_score: 0.0756\n",
      "for 10 Train_f1_score: 0.1327, Cv_f1_score: 0.1296\n",
      "for 100 Train_f1_score: 0.1538, Cv_f1_score: 0.1518\n",
      "for 1000 Train_f1_score: 0.2494, Cv_f1_score: 0.2414\n",
      "for 10000 Train_f1_score: 0.0908, Cv_f1_score: 0.0873\n",
      "CPU times: user 8min 35s, sys: 1min 2s, total: 9min 37s\n",
      "Wall time: 8min 25s\n"
     ]
    }
   ],
   "source": [
    "#hyperparameter tuning\n",
    "%%time\n",
    "train_f1 = []\n",
    "cv_f1 = []\n",
    "parameters=[0.0001,0.001,0.01,0.1,1,10,100,1000,10000]\n",
    "for i in parameters:\n",
    "  classifier = OneVsRestClassifier(SGDClassifier(loss='hinge',alpha=i, penalty='l1',class_weight='balanced'))\n",
    "  classifier.fit(xt_train_multilabel, y_train)\n",
    "  train_predictions = classifier.predict (xt_train_multilabel)\n",
    "  train_f1_score = f1_score(y_train, train_predictions, average='micro')\n",
    "  train_f1.append(train_f1_score)\n",
    "  cv_predictions = classifier.predict(xt_cv_multilabel)\n",
    "  cv_f1_score = f1_score(y_cv, cv_predictions, average='micro')\n",
    "  cv_f1.append(cv_f1_score)\n",
    "  print(\"for\",i,\"Train_f1_score: {:.4f}, Cv_f1_score: {:.4f}\".format(train_f1_score, cv_f1_score))\n"
   ]
  },
  {
   "cell_type": "code",
   "execution_count": 0,
   "metadata": {
    "colab": {
     "base_uri": "https://localhost:8080/",
     "height": 34
    },
    "colab_type": "code",
    "id": "7ZDEKdSGvfA_",
    "outputId": "ae916602-08f2-4135-aeae-48efe77beefe"
   },
   "outputs": [
    {
     "name": "stdout",
     "output_type": "stream",
     "text": [
      "best parameter : 0.0001\n"
     ]
    }
   ],
   "source": [
    "best_estimators = np.argmax(cv_f1)\n",
    "print('best parameter :',parameters[best_estimators])"
   ]
  },
  {
   "cell_type": "code",
   "execution_count": 0,
   "metadata": {
    "colab": {
     "base_uri": "https://localhost:8080/",
     "height": 119
    },
    "colab_type": "code",
    "id": "UclIciB-1TH9",
    "outputId": "d40574a9-e012-4261-c169-84f93a70e31c"
   },
   "outputs": [
    {
     "name": "stdout",
     "output_type": "stream",
     "text": [
      "Accuracy : 0.006438495425279567\n",
      "Hamming loss  0.10084430677593177\n",
      "Micro-average :\n",
      "Precision: 0.1938, Recall: 0.4292, F1-measure: 0.2670\n",
      "CPU times: user 3min 49s, sys: 6.89 s, total: 3min 55s\n",
      "Wall time: 3min 48s\n"
     ]
    }
   ],
   "source": [
    "%%time\n",
    "classifier = OneVsRestClassifier(SGDClassifier(loss='hinge',alpha=parameters[best_estimators], penalty='l1',class_weight='balanced'))\n",
    "classifier.fit(xt_train_multilabel, y_train)\n",
    "predictions = classifier.predict (xt_test_multilabel)\n",
    "\n",
    "print(\"Accuracy :\",metrics.accuracy_score(y_test, predictions))\n",
    "print(\"Hamming loss \",metrics.hamming_loss(y_test,predictions))\n",
    "\n",
    "\n",
    "precision = precision_score(y_test, predictions, average='micro')\n",
    "recall = recall_score(y_test, predictions, average='micro')\n",
    "f1 = f1_score(y_test, predictions, average='micro')\n",
    " \n",
    "print(\"Micro-average :\")\n",
    "print(\"Precision: {:.4f}, Recall: {:.4f}, F1-measure: {:.4f}\".format(precision, recall, f1))"
   ]
  },
  {
   "cell_type": "markdown",
   "metadata": {
    "colab_type": "text",
    "id": "BozYsj5R1vvy"
   },
   "source": [
    "<h2> SGD with hinge loss AVGW2V (SVM)  </h2>"
   ]
  },
  {
   "cell_type": "code",
   "execution_count": 0,
   "metadata": {
    "colab": {
     "base_uri": "https://localhost:8080/",
     "height": 204
    },
    "colab_type": "code",
    "id": "WoZcNmr41TOR",
    "outputId": "d72d6fca-bf86-4994-c2da-5ceec48f2122"
   },
   "outputs": [
    {
     "name": "stdout",
     "output_type": "stream",
     "text": [
      "for 0.0001 Train_f1_score: 0.1558, Cv_f1_score: 0.1453\n",
      "for 0.001 Train_f1_score: 0.1671, Cv_f1_score: 0.1563\n",
      "for 0.01 Train_f1_score: 0.1483, Cv_f1_score: 0.1412\n",
      "for 0.1 Train_f1_score: 0.0738, Cv_f1_score: 0.0728\n",
      "for 1 Train_f1_score: 0.0618, Cv_f1_score: 0.0614\n",
      "for 10 Train_f1_score: 0.0515, Cv_f1_score: 0.0488\n",
      "for 100 Train_f1_score: 0.1325, Cv_f1_score: 0.1295\n",
      "for 1000 Train_f1_score: 0.1494, Cv_f1_score: 0.1484\n",
      "for 10000 Train_f1_score: 0.1645, Cv_f1_score: 0.1583\n",
      "CPU times: user 1min 24s, sys: 6.77 s, total: 1min 31s\n",
      "Wall time: 1min 23s\n"
     ]
    }
   ],
   "source": [
    "#hyperparameter tuning\n",
    "%%time\n",
    "train_f1 = []\n",
    "cv_f1 = []\n",
    "parameters=[0.0001,0.001,0.01,0.1,1,10,100,1000,10000]\n",
    "for i in parameters:\n",
    "  classifier = OneVsRestClassifier(SGDClassifier(loss='hinge',alpha=i, penalty='l1',class_weight='balanced'))\n",
    "  classifier.fit(final_avgw2v_train_data, y_train)\n",
    "  train_predictions = classifier.predict (final_avgw2v_train_data)\n",
    "  train_f1_score = f1_score(y_train, train_predictions, average='micro')\n",
    "  train_f1.append(train_f1_score)\n",
    "  cv_predictions = classifier.predict(final_avgw2v_cv_data)\n",
    "  cv_f1_score = f1_score(y_cv, cv_predictions, average='micro')\n",
    "  cv_f1.append(cv_f1_score)\n",
    "  print(\"for\",i,\"Train_f1_score: {:.4f}, Cv_f1_score: {:.4f}\".format(train_f1_score, cv_f1_score))\n"
   ]
  },
  {
   "cell_type": "code",
   "execution_count": 0,
   "metadata": {
    "colab": {
     "base_uri": "https://localhost:8080/",
     "height": 34
    },
    "colab_type": "code",
    "id": "VWYHBI8mv9MA",
    "outputId": "1239341a-b286-4b55-ad9f-c9f882f59d21"
   },
   "outputs": [
    {
     "name": "stdout",
     "output_type": "stream",
     "text": [
      "best parameter : 10000\n"
     ]
    }
   ],
   "source": [
    "best_estimators = np.argmax(cv_f1)\n",
    "print('best parameter :',parameters[best_estimators])"
   ]
  },
  {
   "cell_type": "code",
   "execution_count": 0,
   "metadata": {
    "colab": {
     "base_uri": "https://localhost:8080/",
     "height": 119
    },
    "colab_type": "code",
    "id": "8KngdFS01TTF",
    "outputId": "ec186a76-6dbd-4bbb-9152-bdbf0098371a"
   },
   "outputs": [
    {
     "name": "stdout",
     "output_type": "stream",
     "text": [
      "Accuracy : 0.00711623178583531\n",
      "Hamming loss  0.05608984302289508\n",
      "Micro-average :\n",
      "Precision: 0.0281, Recall: 0.0093, F1-measure: 0.0139\n",
      "CPU times: user 2.96 s, sys: 204 ms, total: 3.16 s\n",
      "Wall time: 2.93 s\n"
     ]
    }
   ],
   "source": [
    "%%time\n",
    "classifier = OneVsRestClassifier(SGDClassifier(loss='hinge',alpha=parameters[best_estimators], penalty='l1',class_weight='balanced'))\n",
    "classifier.fit(final_avgw2v_train_data, y_train)\n",
    "predictions = classifier.predict (final_avgw2v_test_data)\n",
    "\n",
    "print(\"Accuracy :\",metrics.accuracy_score(y_test, predictions))\n",
    "print(\"Hamming loss \",metrics.hamming_loss(y_test,predictions))\n",
    "\n",
    "\n",
    "precision = precision_score(y_test, predictions, average='micro')\n",
    "recall = recall_score(y_test, predictions, average='micro')\n",
    "f1 = f1_score(y_test, predictions, average='micro')\n",
    " \n",
    "print(\"Micro-average :\")\n",
    "print(\"Precision: {:.4f}, Recall: {:.4f}, F1-measure: {:.4f}\".format(precision, recall, f1))"
   ]
  },
  {
   "cell_type": "markdown",
   "metadata": {
    "colab_type": "text",
    "id": "_qC7APlx1yUD"
   },
   "source": [
    "<h2> SGD with hinge loss TFIDFW2V (SVM)  </h2>"
   ]
  },
  {
   "cell_type": "code",
   "execution_count": 0,
   "metadata": {
    "colab": {
     "base_uri": "https://localhost:8080/",
     "height": 204
    },
    "colab_type": "code",
    "id": "ND9_hBJg1TW4",
    "outputId": "62645f4b-e95b-47c6-c43b-6e0949ca4e97"
   },
   "outputs": [
    {
     "name": "stdout",
     "output_type": "stream",
     "text": [
      "for 0.0001 Train_f1_score: 0.1439, Cv_f1_score: 0.1209\n",
      "for 0.001 Train_f1_score: 0.1476, Cv_f1_score: 0.1272\n",
      "for 0.01 Train_f1_score: 0.1377, Cv_f1_score: 0.1209\n",
      "for 0.1 Train_f1_score: 0.0585, Cv_f1_score: 0.0566\n",
      "for 1 Train_f1_score: 0.0822, Cv_f1_score: 0.0793\n",
      "for 10 Train_f1_score: 0.1027, Cv_f1_score: 0.0969\n",
      "for 100 Train_f1_score: 0.1141, Cv_f1_score: 0.1103\n",
      "for 1000 Train_f1_score: 0.1494, Cv_f1_score: 0.1475\n",
      "for 10000 Train_f1_score: 0.2546, Cv_f1_score: 0.2479\n",
      "CPU times: user 1min 50s, sys: 6.97 s, total: 1min 57s\n",
      "Wall time: 1min 49s\n"
     ]
    }
   ],
   "source": [
    "#hyperparameter tuning\n",
    "%%time\n",
    "train_f1 = []\n",
    "cv_f1 = []\n",
    "parameters=[0.0001,0.001,0.01,0.1,1,10,100,1000,10000]\n",
    "for i in parameters:\n",
    "  classifier = OneVsRestClassifier(SGDClassifier(loss='hinge',alpha=i, penalty='l1',class_weight='balanced'))\n",
    "  classifier.fit(final_tfidfw2v_train_data, y_train)\n",
    "  train_predictions = classifier.predict (final_tfidfw2v_train_data)\n",
    "  train_f1_score = f1_score(y_train, train_predictions, average='micro')\n",
    "  train_f1.append(train_f1_score)\n",
    "  cv_predictions = classifier.predict(final_tfidfw2v_cv_data)\n",
    "  cv_f1_score = f1_score(y_cv, cv_predictions, average='micro')\n",
    "  cv_f1.append(cv_f1_score)\n",
    "  print(\"for\",i,\"Train_f1_score: {:.4f}, Cv_f1_score: {:.4f}\".format(train_f1_score, cv_f1_score))\n"
   ]
  },
  {
   "cell_type": "code",
   "execution_count": 0,
   "metadata": {
    "colab": {
     "base_uri": "https://localhost:8080/",
     "height": 34
    },
    "colab_type": "code",
    "id": "C_hT1bFkwGfh",
    "outputId": "f21ac988-81e5-401e-c5b2-639a63092e71"
   },
   "outputs": [
    {
     "name": "stdout",
     "output_type": "stream",
     "text": [
      "best parameter : 10000\n"
     ]
    }
   ],
   "source": [
    "best_estimators = np.argmax(cv_f1)\n",
    "print('best parameter :',parameters[best_estimators])"
   ]
  },
  {
   "cell_type": "code",
   "execution_count": 0,
   "metadata": {
    "colab": {
     "base_uri": "https://localhost:8080/",
     "height": 119
    },
    "colab_type": "code",
    "id": "PXluP1kS1TeL",
    "outputId": "1cf199d3-4cc8-4531-a754-54327f3c9365"
   },
   "outputs": [
    {
     "name": "stdout",
     "output_type": "stream",
     "text": [
      "Accuracy : 0.0\n",
      "Hamming loss  0.09095985605261525\n",
      "Micro-average :\n",
      "Precision: 0.1580, Recall: 0.2601, F1-measure: 0.1966\n",
      "CPU times: user 3.17 s, sys: 240 ms, total: 3.41 s\n",
      "Wall time: 3.16 s\n"
     ]
    }
   ],
   "source": [
    "%%time\n",
    "classifier = OneVsRestClassifier(SGDClassifier(loss='hinge',alpha=parameters[best_estimators], penalty='l1',class_weight='balanced'))\n",
    "classifier.fit(final_tfidfw2v_train_data, y_train)\n",
    "predictions = classifier.predict (final_tfidfw2v_test_data)\n",
    "\n",
    "print(\"Accuracy :\",metrics.accuracy_score(y_test, predictions))\n",
    "print(\"Hamming loss \",metrics.hamming_loss(y_test,predictions))\n",
    "\n",
    "\n",
    "precision = precision_score(y_test, predictions, average='micro')\n",
    "recall = recall_score(y_test, predictions, average='micro')\n",
    "f1 = f1_score(y_test, predictions, average='micro')\n",
    " \n",
    "print(\"Micro-average :\")\n",
    "print(\"Precision: {:.4f}, Recall: {:.4f}, F1-measure: {:.4f}\".format(precision, recall, f1))"
   ]
  },
  {
   "cell_type": "markdown",
   "metadata": {
    "colab_type": "text",
    "id": "MKkdwznf13hd"
   },
   "source": [
    "<h2> SGD with log loss BOW (Logistic)  </h2>"
   ]
  },
  {
   "cell_type": "code",
   "execution_count": 0,
   "metadata": {
    "colab": {
     "base_uri": "https://localhost:8080/",
     "height": 204
    },
    "colab_type": "code",
    "id": "RNAfN72u1TjX",
    "outputId": "569f7907-367b-47c0-82fe-f1a901ac6e5b"
   },
   "outputs": [
    {
     "name": "stdout",
     "output_type": "stream",
     "text": [
      "for 0.0001 Train_f1_score: 0.6881, Cv_f1_score: 0.2343\n",
      "for 0.001 Train_f1_score: 0.4347, Cv_f1_score: 0.1975\n",
      "for 0.01 Train_f1_score: 0.1972, Cv_f1_score: 0.1431\n",
      "for 0.1 Train_f1_score: 0.0986, Cv_f1_score: 0.0932\n",
      "for 1 Train_f1_score: 0.0677, Cv_f1_score: 0.0634\n",
      "for 10 Train_f1_score: 0.1014, Cv_f1_score: 0.0982\n",
      "for 100 Train_f1_score: 0.1854, Cv_f1_score: 0.1838\n",
      "for 1000 Train_f1_score: 0.0157, Cv_f1_score: 0.0166\n",
      "for 10000 Train_f1_score: 0.1193, Cv_f1_score: 0.1176\n",
      "CPU times: user 2h 26min 13s, sys: 1min 3s, total: 2h 27min 17s\n",
      "Wall time: 2h 26min 15s\n"
     ]
    }
   ],
   "source": [
    "#hyperparameter tuning\n",
    "%%time\n",
    "train_f1 = []\n",
    "cv_f1 = []\n",
    "parameters=[0.0001,0.001,0.01,0.1,1,10,100,1000,10000]\n",
    "for i in parameters:\n",
    "  classifier = OneVsRestClassifier(SGDClassifier(loss='log',alpha=i, penalty='l1',class_weight='balanced'))\n",
    "  classifier.fit(xb_train_multilabel, y_train)\n",
    "  train_predictions = classifier.predict (xb_train_multilabel)\n",
    "  train_f1_score = f1_score(y_train, train_predictions, average='micro')\n",
    "  train_f1.append(train_f1_score)\n",
    "  cv_predictions = classifier.predict(xb_cv_multilabel)\n",
    "  cv_f1_score = f1_score(y_cv, cv_predictions, average='micro')\n",
    "  cv_f1.append(cv_f1_score)\n",
    "  print(\"for\",i,\"Train_f1_score: {:.4f}, Cv_f1_score: {:.4f}\".format(train_f1_score, cv_f1_score))\n"
   ]
  },
  {
   "cell_type": "code",
   "execution_count": 0,
   "metadata": {
    "colab": {
     "base_uri": "https://localhost:8080/",
     "height": 34
    },
    "colab_type": "code",
    "id": "EGZ9daB_wYMf",
    "outputId": "9de8ebec-8fc3-408e-deb7-429f729bf737"
   },
   "outputs": [
    {
     "name": "stdout",
     "output_type": "stream",
     "text": [
      "best parameter : 0.0001\n"
     ]
    }
   ],
   "source": [
    "best_estimators = np.argmax(cv_f1)\n",
    "print('best parameter :',parameters[best_estimators])"
   ]
  },
  {
   "cell_type": "code",
   "execution_count": 0,
   "metadata": {
    "colab": {
     "base_uri": "https://localhost:8080/",
     "height": 119
    },
    "colab_type": "code",
    "id": "1nHFTCor1Tmt",
    "outputId": "10a0e622-695e-4afc-edef-79fcb48ea819"
   },
   "outputs": [
    {
     "name": "stdout",
     "output_type": "stream",
     "text": [
      "Accuracy : 0.0057607590647238225\n",
      "Hamming loss  0.08834436643582266\n",
      "Micro-average :\n",
      "Precision: 0.1908, Recall: 0.3283, F1-measure: 0.2413\n",
      "CPU times: user 33min 58s, sys: 7.26 s, total: 34min 5s\n",
      "Wall time: 34min\n"
     ]
    }
   ],
   "source": [
    "%%time\n",
    "classifier = OneVsRestClassifier(SGDClassifier(loss='log',alpha=parameters[best_estimators], penalty='l1',class_weight='balanced'))\n",
    "classifier.fit(xb_train_multilabel, y_train)\n",
    "predictions = classifier.predict (xb_test_multilabel)\n",
    "\n",
    "print(\"Accuracy :\",metrics.accuracy_score(y_test, predictions))\n",
    "print(\"Hamming loss \",metrics.hamming_loss(y_test,predictions))\n",
    "\n",
    "\n",
    "precision = precision_score(y_test, predictions, average='micro')\n",
    "recall = recall_score(y_test, predictions, average='micro')\n",
    "f1 = f1_score(y_test, predictions, average='micro')\n",
    " \n",
    "print(\"Micro-average :\")\n",
    "print(\"Precision: {:.4f}, Recall: {:.4f}, F1-measure: {:.4f}\".format(precision, recall, f1))"
   ]
  },
  {
   "cell_type": "markdown",
   "metadata": {
    "colab_type": "text",
    "id": "VAiVluPX1_4l"
   },
   "source": [
    "<h2> SGD with log loss TFIDF (Logistic)  </h2>"
   ]
  },
  {
   "cell_type": "code",
   "execution_count": 0,
   "metadata": {
    "colab": {
     "base_uri": "https://localhost:8080/",
     "height": 204
    },
    "colab_type": "code",
    "id": "chAK693v1Tq5",
    "outputId": "0ff498c0-d0fa-4f9d-88be-d41f68af41c7"
   },
   "outputs": [
    {
     "name": "stdout",
     "output_type": "stream",
     "text": [
      "for 0.0001 Train_f1_score: 0.4890, Cv_f1_score: 0.2641\n",
      "for 0.001 Train_f1_score: 0.2138, Cv_f1_score: 0.1694\n",
      "for 0.01 Train_f1_score: 0.1009, Cv_f1_score: 0.0999\n",
      "for 0.1 Train_f1_score: 0.0840, Cv_f1_score: 0.0822\n",
      "for 1 Train_f1_score: 0.1334, Cv_f1_score: 0.1285\n",
      "for 10 Train_f1_score: 0.0316, Cv_f1_score: 0.0323\n",
      "for 100 Train_f1_score: 0.1362, Cv_f1_score: 0.1353\n",
      "for 1000 Train_f1_score: 0.2148, Cv_f1_score: 0.2140\n",
      "for 10000 Train_f1_score: 0.2228, Cv_f1_score: 0.2184\n",
      "CPU times: user 6min 3s, sys: 1min 2s, total: 7min 5s\n",
      "Wall time: 5min 53s\n"
     ]
    }
   ],
   "source": [
    "#hyperparameter tuning\n",
    "%%time\n",
    "train_f1 = []\n",
    "cv_f1 = []\n",
    "parameters=[0.0001,0.001,0.01,0.1,1,10,100,1000,10000]\n",
    "for i in parameters:\n",
    "  classifier = OneVsRestClassifier(SGDClassifier(loss='log',alpha=i, penalty='l1',class_weight='balanced'))\n",
    "  classifier.fit(xt_train_multilabel, y_train)\n",
    "  train_predictions = classifier.predict (xt_train_multilabel)\n",
    "  train_f1_score = f1_score(y_train, train_predictions, average='micro')\n",
    "  train_f1.append(train_f1_score)\n",
    "  cv_predictions = classifier.predict(xt_cv_multilabel)\n",
    "  cv_f1_score = f1_score(y_cv, cv_predictions, average='micro')\n",
    "  cv_f1.append(cv_f1_score)\n",
    "  print(\"for\",i,\"Train_f1_score: {:.4f}, Cv_f1_score: {:.4f}\".format(train_f1_score, cv_f1_score))\n"
   ]
  },
  {
   "cell_type": "code",
   "execution_count": 0,
   "metadata": {
    "colab": {
     "base_uri": "https://localhost:8080/",
     "height": 34
    },
    "colab_type": "code",
    "id": "XMob6attwjlS",
    "outputId": "451bbcd7-b77c-4aaf-a8a8-95dfdc4aa510"
   },
   "outputs": [
    {
     "name": "stdout",
     "output_type": "stream",
     "text": [
      "best parameter : 0.0001\n"
     ]
    }
   ],
   "source": [
    "best_estimators = np.argmax(cv_f1)\n",
    "print('best parameter :',parameters[best_estimators])"
   ]
  },
  {
   "cell_type": "code",
   "execution_count": 0,
   "metadata": {
    "colab": {
     "base_uri": "https://localhost:8080/",
     "height": 119
    },
    "colab_type": "code",
    "id": "Hsba2qW71TuV",
    "outputId": "4f42f1bd-5be7-462a-da17-3ecb70ca4159"
   },
   "outputs": [
    {
     "name": "stdout",
     "output_type": "stream",
     "text": [
      "Accuracy : 0.004744154523890207\n",
      "Hamming loss  0.10420912462235289\n",
      "Micro-average :\n",
      "Precision: 0.1939, Recall: 0.4547, F1-measure: 0.2719\n",
      "CPU times: user 3min 17s, sys: 6.92 s, total: 3min 24s\n",
      "Wall time: 3min 16s\n"
     ]
    }
   ],
   "source": [
    "%%time\n",
    "classifier = OneVsRestClassifier(SGDClassifier(loss='log',alpha=parameters[best_estimators], penalty='l1',class_weight='balanced'))\n",
    "classifier.fit(xt_train_multilabel, y_train)\n",
    "predictions = classifier.predict (xt_test_multilabel)\n",
    "\n",
    "print(\"Accuracy :\",metrics.accuracy_score(y_test, predictions))\n",
    "print(\"Hamming loss \",metrics.hamming_loss(y_test,predictions))\n",
    "\n",
    "\n",
    "precision = precision_score(y_test, predictions, average='micro')\n",
    "recall = recall_score(y_test, predictions, average='micro')\n",
    "f1 = f1_score(y_test, predictions, average='micro')\n",
    " \n",
    "print(\"Micro-average :\")\n",
    "print(\"Precision: {:.4f}, Recall: {:.4f}, F1-measure: {:.4f}\".format(precision, recall, f1))"
   ]
  },
  {
   "cell_type": "markdown",
   "metadata": {
    "colab_type": "text",
    "id": "kyc6hcZ42EF6"
   },
   "source": [
    "<h2> SGD with log loss AVGW2V (Logistic)  </h2>"
   ]
  },
  {
   "cell_type": "code",
   "execution_count": 0,
   "metadata": {
    "colab": {
     "base_uri": "https://localhost:8080/",
     "height": 204
    },
    "colab_type": "code",
    "id": "qkzCe2gh1Tzt",
    "outputId": "e3844796-ffb7-471a-b6e2-85efe415f600"
   },
   "outputs": [
    {
     "name": "stdout",
     "output_type": "stream",
     "text": [
      "for 0.0001 Train_f1_score: 0.1719, Cv_f1_score: 0.1601\n",
      "for 0.001 Train_f1_score: 0.1734, Cv_f1_score: 0.1643\n",
      "for 0.01 Train_f1_score: 0.1443, Cv_f1_score: 0.1381\n",
      "for 0.1 Train_f1_score: 0.1128, Cv_f1_score: 0.1102\n",
      "for 1 Train_f1_score: 0.0901, Cv_f1_score: 0.0884\n",
      "for 10 Train_f1_score: 0.1107, Cv_f1_score: 0.1089\n",
      "for 100 Train_f1_score: 0.0810, Cv_f1_score: 0.0843\n",
      "for 1000 Train_f1_score: 0.1216, Cv_f1_score: 0.1206\n",
      "for 10000 Train_f1_score: 0.0259, Cv_f1_score: 0.0235\n",
      "CPU times: user 1min 43s, sys: 6.55 s, total: 1min 49s\n",
      "Wall time: 1min 42s\n"
     ]
    }
   ],
   "source": [
    "#hyperparameter tuning\n",
    "%%time\n",
    "train_f1 = []\n",
    "cv_f1 = []\n",
    "parameters=[0.0001,0.001,0.01,0.1,1,10,100,1000,10000]\n",
    "for i in parameters:\n",
    "  classifier = OneVsRestClassifier(SGDClassifier(loss='log',alpha=i, penalty='l1',class_weight='balanced'))\n",
    "  classifier.fit(final_avgw2v_train_data, y_train)\n",
    "  train_predictions = classifier.predict (final_avgw2v_train_data)\n",
    "  train_f1_score = f1_score(y_train, train_predictions, average='micro')\n",
    "  train_f1.append(train_f1_score)\n",
    "  cv_predictions = classifier.predict(final_avgw2v_cv_data)\n",
    "  cv_f1_score = f1_score(y_cv, cv_predictions, average='micro')\n",
    "  cv_f1.append(cv_f1_score)\n",
    "  print(\"for\",i,\"Train_f1_score: {:.4f}, Cv_f1_score: {:.4f}\".format(train_f1_score, cv_f1_score))\n"
   ]
  },
  {
   "cell_type": "code",
   "execution_count": 0,
   "metadata": {
    "colab": {
     "base_uri": "https://localhost:8080/",
     "height": 34
    },
    "colab_type": "code",
    "id": "DogfxRTWwzdu",
    "outputId": "22911f47-5445-45a8-c2e7-0b45645f9f4f"
   },
   "outputs": [
    {
     "name": "stdout",
     "output_type": "stream",
     "text": [
      "best parameter : 0.001\n"
     ]
    }
   ],
   "source": [
    "best_estimators = np.argmax(cv_f1)\n",
    "print('best parameter :',parameters[best_estimators])"
   ]
  },
  {
   "cell_type": "code",
   "execution_count": 0,
   "metadata": {
    "colab": {
     "base_uri": "https://localhost:8080/",
     "height": 119
    },
    "colab_type": "code",
    "id": "g6ZnOhOV1T3Q",
    "outputId": "8a9766f6-2b72-4de1-8cc3-b6ec1f391a04"
   },
   "outputs": [
    {
     "name": "stdout",
     "output_type": "stream",
     "text": [
      "Accuracy : 0.0\n",
      "Hamming loss  0.2740393564368249\n",
      "Micro-average :\n",
      "Precision: 0.0958, Recall: 0.6399, F1-measure: 0.1666\n",
      "CPU times: user 12.7 s, sys: 238 ms, total: 13 s\n",
      "Wall time: 12.7 s\n"
     ]
    }
   ],
   "source": [
    "%%time\n",
    "classifier = OneVsRestClassifier(SGDClassifier(loss='log',alpha=parameters[best_estimators], penalty='l1',class_weight='balanced'))\n",
    "classifier.fit(final_avgw2v_train_data, y_train)\n",
    "predictions = classifier.predict (final_avgw2v_test_data)\n",
    "\n",
    "print(\"Accuracy :\",metrics.accuracy_score(y_test, predictions))\n",
    "print(\"Hamming loss \",metrics.hamming_loss(y_test,predictions))\n",
    "\n",
    "\n",
    "precision = precision_score(y_test, predictions, average='micro')\n",
    "recall = recall_score(y_test, predictions, average='micro')\n",
    "f1 = f1_score(y_test, predictions, average='micro')\n",
    " \n",
    "print(\"Micro-average :\")\n",
    "print(\"Precision: {:.4f}, Recall: {:.4f}, F1-measure: {:.4f}\".format(precision, recall, f1))"
   ]
  },
  {
   "cell_type": "markdown",
   "metadata": {
    "colab_type": "text",
    "id": "6Cm3DdSE2GZV"
   },
   "source": [
    "<h2> SGD with log loss TFIDFW2V (Logistic)  </h2>"
   ]
  },
  {
   "cell_type": "code",
   "execution_count": 0,
   "metadata": {
    "colab": {
     "base_uri": "https://localhost:8080/",
     "height": 204
    },
    "colab_type": "code",
    "id": "oHa3jEPf1T_G",
    "outputId": "55115592-1698-41e8-96fd-1ea62cde32a0"
   },
   "outputs": [
    {
     "name": "stdout",
     "output_type": "stream",
     "text": [
      "for 0.0001 Train_f1_score: 0.1457, Cv_f1_score: 0.1241\n",
      "for 0.001 Train_f1_score: 0.1571, Cv_f1_score: 0.1361\n",
      "for 0.01 Train_f1_score: 0.1321, Cv_f1_score: 0.1181\n",
      "for 0.1 Train_f1_score: 0.0682, Cv_f1_score: 0.0670\n",
      "for 1 Train_f1_score: 0.0720, Cv_f1_score: 0.0700\n",
      "for 10 Train_f1_score: 0.0798, Cv_f1_score: 0.0791\n",
      "for 100 Train_f1_score: 0.2086, Cv_f1_score: 0.2058\n",
      "for 1000 Train_f1_score: 0.1514, Cv_f1_score: 0.1492\n",
      "for 10000 Train_f1_score: 0.0081, Cv_f1_score: 0.0080\n",
      "CPU times: user 2min 7s, sys: 6.71 s, total: 2min 14s\n",
      "Wall time: 2min 7s\n"
     ]
    }
   ],
   "source": [
    "#hyperparameter tuning\n",
    "%%time\n",
    "train_f1 = []\n",
    "cv_f1 = []\n",
    "parameters=[0.0001,0.001,0.01,0.1,1,10,100,1000,10000]\n",
    "for i in parameters:\n",
    "  classifier = OneVsRestClassifier(SGDClassifier(loss='log',alpha=i, penalty='l1',class_weight='balanced'))\n",
    "  classifier.fit(final_tfidfw2v_train_data, y_train)\n",
    "  train_predictions = classifier.predict (final_tfidfw2v_train_data)\n",
    "  train_f1_score = f1_score(y_train, train_predictions, average='micro')\n",
    "  train_f1.append(train_f1_score)\n",
    "  cv_predictions = classifier.predict(final_tfidfw2v_cv_data)\n",
    "  cv_f1_score = f1_score(y_cv, cv_predictions, average='micro')\n",
    "  cv_f1.append(cv_f1_score)\n",
    "  print(\"for\",i,\"Train_f1_score: {:.4f}, Cv_f1_score: {:.4f}\".format(train_f1_score, cv_f1_score))\n"
   ]
  },
  {
   "cell_type": "code",
   "execution_count": 0,
   "metadata": {
    "colab": {
     "base_uri": "https://localhost:8080/",
     "height": 34
    },
    "colab_type": "code",
    "id": "mDHfmNy6w-Uj",
    "outputId": "d07cf4ed-9552-477e-f249-9f2f66c254ae"
   },
   "outputs": [
    {
     "name": "stdout",
     "output_type": "stream",
     "text": [
      "best parameter : 100\n"
     ]
    }
   ],
   "source": [
    "best_estimators = np.argmax(cv_f1)\n",
    "print('best parameter :',parameters[best_estimators])"
   ]
  },
  {
   "cell_type": "code",
   "execution_count": 0,
   "metadata": {
    "colab": {
     "base_uri": "https://localhost:8080/",
     "height": 119
    },
    "colab_type": "code",
    "id": "c3AeqpmP1T8n",
    "outputId": "57ec3b17-7b16-436d-d64e-c7c7c38a9d88"
   },
   "outputs": [
    {
     "name": "stdout",
     "output_type": "stream",
     "text": [
      "Accuracy : 0.0\n",
      "Hamming loss  0.09703561934125934\n",
      "Micro-average :\n",
      "Precision: 0.0186, Recall: 0.0245, F1-measure: 0.0212\n",
      "CPU times: user 3.3 s, sys: 211 ms, total: 3.51 s\n",
      "Wall time: 3.3 s\n"
     ]
    }
   ],
   "source": [
    "%%time\n",
    "classifier = OneVsRestClassifier(SGDClassifier(loss='log',alpha=parameters[best_estimators], penalty='l1',class_weight='balanced'))\n",
    "classifier.fit(final_tfidfw2v_train_data, y_train)\n",
    "predictions = classifier.predict (final_tfidfw2v_test_data)\n",
    "\n",
    "print(\"Accuracy :\",metrics.accuracy_score(y_test, predictions))\n",
    "print(\"Hamming loss \",metrics.hamming_loss(y_test,predictions))\n",
    "\n",
    "\n",
    "precision = precision_score(y_test, predictions, average='micro')\n",
    "recall = recall_score(y_test, predictions, average='micro')\n",
    "f1 = f1_score(y_test, predictions, average='micro')\n",
    " \n",
    "print(\"Micro-average :\")\n",
    "print(\"Precision: {:.4f}, Recall: {:.4f}, F1-measure: {:.4f}\".format(precision, recall, f1))"
   ]
  },
  {
   "cell_type": "markdown",
   "metadata": {
    "colab_type": "text",
    "id": "vXdyDndlMSyB"
   },
   "source": [
    "We observed Better results in logistic regression BOW and TFIDF however we used with simple loop method for hyper parameter tuning, now we trying with randomsearchcv let's see is there any change in model performance"
   ]
  },
  {
   "cell_type": "code",
   "execution_count": 5,
   "metadata": {
    "colab": {},
    "colab_type": "code",
    "id": "qzr2CyxcMxWJ"
   },
   "outputs": [],
   "source": [
    "train_data  = pure_df.loc[(pure_df['split'] == 'train') | (pure_df['split'] == 'val')]\n",
    "test_data = pure_df.loc[(pure_df['split'] == 'test')]\n",
    "y_train = train_data['pre_pro_tags']\n",
    "y_test = test_data['pre_pro_tags']\n"
   ]
  },
  {
   "cell_type": "markdown",
   "metadata": {},
   "source": [
    "<h3>TFIDF UNI Grams</h3>"
   ]
  },
  {
   "cell_type": "code",
   "execution_count": 0,
   "metadata": {
    "colab": {
     "base_uri": "https://localhost:8080/",
     "height": 425
    },
    "colab_type": "code",
    "id": "AZNNSz6CMxcU",
    "outputId": "51fb7261-7128-4bbd-bcec-cfd4c0e250e6",
    "scrolled": false
   },
   "outputs": [
    {
     "name": "stdout",
     "output_type": "stream",
     "text": [
      "model Started......!\n",
      "Fitting 5 folds for each of 10 candidates, totalling 50 fits\n",
      "[CV] estimator__penalty=l2, estimator__C=1.5 .........................\n",
      "[CV] estimator__penalty=l2, estimator__C=1.5 .........................\n",
      "[CV] estimator__penalty=l2, estimator__C=1.5 .........................\n",
      "[CV] estimator__penalty=l2, estimator__C=1.5 .........................\n",
      "[CV] estimator__penalty=l2, estimator__C=1.5 .........................\n",
      "[CV] estimator__penalty=l1, estimator__C=100 .........................\n",
      "[CV] estimator__penalty=l1, estimator__C=100 .........................\n",
      "[CV] estimator__penalty=l1, estimator__C=100 .........................\n",
      "[CV]  estimator__penalty=l2, estimator__C=1.5, score=0.364688378244338, total= 1.6min\n",
      "[CV] estimator__penalty=l1, estimator__C=100 .........................\n",
      "[CV]  estimator__penalty=l2, estimator__C=1.5, score=0.3599798330625736, total= 1.7min\n",
      "[CV] estimator__penalty=l1, estimator__C=100 .........................\n"
     ]
    },
    {
     "name": "stderr",
     "output_type": "stream",
     "text": [
      "[Parallel(n_jobs=-1)]: Done   2 tasks      | elapsed:  1.7min\n"
     ]
    },
    {
     "name": "stdout",
     "output_type": "stream",
     "text": [
      "[CV]  estimator__penalty=l2, estimator__C=1.5, score=0.31656584072263194, total= 1.8min\n",
      "[CV] estimator__penalty=l1, estimator__C=0.001 .......................\n",
      "[CV]  estimator__penalty=l2, estimator__C=1.5, score=0.33288948069241014, total= 1.9min\n",
      "[CV] estimator__penalty=l1, estimator__C=0.001 .......................\n",
      "[CV]  estimator__penalty=l2, estimator__C=1.5, score=0.3183091418385536, total= 1.9min\n",
      "[CV] estimator__penalty=l1, estimator__C=0.001 .......................\n",
      "[CV]  estimator__penalty=l1, estimator__C=0.001, score=0.0, total=  21.5s\n",
      "[CV] estimator__penalty=l1, estimator__C=0.001 .......................\n",
      "[CV]  estimator__penalty=l1, estimator__C=0.001, score=0.0, total=  21.4s\n",
      "[CV] estimator__penalty=l1, estimator__C=0.001 .......................\n",
      "[CV]  estimator__penalty=l1, estimator__C=0.001, score=0.0, total=  26.1s\n",
      "[CV] estimator__penalty=l1, estimator__C=0.01 ........................\n",
      "[CV]  estimator__penalty=l1, estimator__C=0.001, score=0.0, total=  25.6s\n",
      "[CV] estimator__penalty=l1, estimator__C=0.01 ........................\n"
     ]
    },
    {
     "name": "stderr",
     "output_type": "stream",
     "text": [
      "[Parallel(n_jobs=-1)]: Done   9 tasks      | elapsed:  2.6min\n"
     ]
    },
    {
     "name": "stdout",
     "output_type": "stream",
     "text": [
      "[CV]  estimator__penalty=l1, estimator__C=0.001, score=0.0, total=  25.3s\n",
      "[CV] estimator__penalty=l1, estimator__C=0.01 ........................\n",
      "[CV]  estimator__penalty=l1, estimator__C=0.01, score=0.00020684662322887577, total=  24.1s\n",
      "[CV] estimator__penalty=l1, estimator__C=0.01 ........................\n",
      "[CV]  estimator__penalty=l1, estimator__C=0.01, score=0.000990295107942167, total=  23.3s\n",
      "[CV] estimator__penalty=l1, estimator__C=0.01 ........................\n",
      "[CV]  estimator__penalty=l1, estimator__C=0.01, score=0.0026763525138596826, total=  26.7s\n",
      "[CV] estimator__penalty=l1, estimator__C=1000 ........................\n",
      "[CV]  estimator__penalty=l1, estimator__C=0.01, score=0.004440333024976873, total=  26.3s\n",
      "[CV] estimator__penalty=l1, estimator__C=1000 ........................\n",
      "[CV]  estimator__penalty=l1, estimator__C=0.01, score=0.0048543689320388345, total=  26.1s\n",
      "[CV] estimator__penalty=l1, estimator__C=1000 ........................\n",
      "[CV]  estimator__penalty=l1, estimator__C=100, score=0.296067557348122, total= 3.8min\n",
      "[CV] estimator__penalty=l1, estimator__C=1000 ........................\n"
     ]
    },
    {
     "name": "stderr",
     "output_type": "stream",
     "text": [
      "[Parallel(n_jobs=-1)]: Done  16 tasks      | elapsed:  3.9min\n"
     ]
    },
    {
     "name": "stdout",
     "output_type": "stream",
     "text": [
      "[CV]  estimator__penalty=l1, estimator__C=100, score=0.2873071437832231, total= 3.9min\n",
      "[CV] estimator__penalty=l1, estimator__C=1000 ........................\n",
      "[CV]  estimator__penalty=l1, estimator__C=100, score=0.27534744893200264, total= 4.4min\n",
      "[CV] estimator__penalty=l2, estimator__C=0.001 .......................\n",
      "[CV]  estimator__penalty=l2, estimator__C=0.001, score=0.3154285714285714, total=  27.8s\n",
      "[CV] estimator__penalty=l2, estimator__C=0.001 .......................\n",
      "[CV]  estimator__penalty=l2, estimator__C=0.001, score=0.32826879130381076, total=  26.2s\n",
      "[CV] estimator__penalty=l2, estimator__C=0.001 .......................\n",
      "[CV]  estimator__penalty=l2, estimator__C=0.001, score=0.24072733851999273, total=  34.8s\n",
      "[CV] estimator__penalty=l2, estimator__C=0.001 .......................\n",
      "[CV]  estimator__penalty=l1, estimator__C=100, score=0.2818999182635546, total= 4.4min\n",
      "[CV] estimator__penalty=l2, estimator__C=0.001 .......................\n",
      "[CV]  estimator__penalty=l1, estimator__C=100, score=0.2785500136276915, total= 4.4min\n",
      "[CV] estimator__penalty=l1, estimator__C=10 ..........................\n",
      "[CV]  estimator__penalty=l2, estimator__C=0.001, score=0.24991042637047653, total=  31.9s\n",
      "[CV] estimator__penalty=l1, estimator__C=10 ..........................\n",
      "[CV]  estimator__penalty=l2, estimator__C=0.001, score=0.2419790237642165, total=  33.4s\n",
      "[CV] estimator__penalty=l1, estimator__C=10 ..........................\n"
     ]
    },
    {
     "name": "stderr",
     "output_type": "stream",
     "text": [
      "[Parallel(n_jobs=-1)]: Done  25 tasks      | elapsed:  6.6min\n"
     ]
    },
    {
     "name": "stdout",
     "output_type": "stream",
     "text": [
      "[CV]  estimator__penalty=l1, estimator__C=10, score=0.2983214021229326, total= 2.3min\n",
      "[CV] estimator__penalty=l1, estimator__C=10 ..........................\n",
      "[CV]  estimator__penalty=l1, estimator__C=10, score=0.30569047190741744, total= 2.2min\n",
      "[CV] estimator__penalty=l1, estimator__C=10 ..........................\n",
      "[CV]  estimator__penalty=l1, estimator__C=10, score=0.2811158798283262, total= 2.6min\n",
      "[CV] estimator__penalty=l1, estimator__C=0.9 .........................\n",
      "[CV]  estimator__penalty=l1, estimator__C=0.9, score=0.33964823438983593, total= 1.6min\n",
      "[CV] estimator__penalty=l1, estimator__C=0.9 .........................\n",
      "[CV]  estimator__penalty=l1, estimator__C=10, score=0.2908456843940715, total= 2.6min\n",
      "[CV] estimator__penalty=l1, estimator__C=0.9 .........................\n",
      "[CV]  estimator__penalty=l1, estimator__C=10, score=0.2844984802431611, total= 2.7min\n",
      "[CV] estimator__penalty=l1, estimator__C=0.9 .........................\n",
      "[CV]  estimator__penalty=l1, estimator__C=1000, score=0.27741995706151407, total= 8.8min\n",
      "[CV] estimator__penalty=l1, estimator__C=0.9 .........................\n",
      "[CV]  estimator__penalty=l1, estimator__C=0.9, score=0.3443282381335479, total= 1.6min\n",
      "[CV] estimator__penalty=l1, estimator__C=0.1 .........................\n",
      "[CV]  estimator__penalty=l1, estimator__C=1000, score=0.2834045349983569, total= 9.3min\n",
      "[CV] estimator__penalty=l1, estimator__C=0.1 .........................\n"
     ]
    },
    {
     "name": "stderr",
     "output_type": "stream",
     "text": [
      "[Parallel(n_jobs=-1)]: Done  34 tasks      | elapsed: 12.5min\n"
     ]
    },
    {
     "name": "stdout",
     "output_type": "stream",
     "text": [
      "[CV]  estimator__penalty=l1, estimator__C=1000, score=0.27941442255557564, total= 8.7min\n",
      "[CV] estimator__penalty=l1, estimator__C=0.1 .........................\n",
      "[CV]  estimator__penalty=l1, estimator__C=1000, score=0.29092998021318695, total= 9.5min\n",
      "[CV] estimator__penalty=l1, estimator__C=0.1 .........................\n",
      "[CV]  estimator__penalty=l1, estimator__C=1000, score=0.28010590705742716, total= 8.9min\n",
      "[CV] estimator__penalty=l1, estimator__C=0.1 .........................\n",
      "[CV]  estimator__penalty=l1, estimator__C=0.9, score=0.28039190408663145, total= 1.8min\n",
      "[CV] estimator__penalty=l1, estimator__C=0.5 .........................\n",
      "[CV]  estimator__penalty=l1, estimator__C=0.9, score=0.2844550777560914, total= 1.7min\n",
      "[CV] estimator__penalty=l1, estimator__C=0.5 .........................\n",
      "[CV]  estimator__penalty=l1, estimator__C=0.1, score=0.20691214713752684, total= 1.4min\n",
      "[CV] estimator__penalty=l1, estimator__C=0.5 .........................\n",
      "[CV]  estimator__penalty=l1, estimator__C=0.1, score=0.20966154312107216, total= 1.3min\n",
      "[CV] estimator__penalty=l1, estimator__C=0.5 .........................\n"
     ]
    },
    {
     "name": "stderr",
     "output_type": "stream",
     "text": [
      "[Parallel(n_jobs=-1)]: Done  41 out of  50 | elapsed: 13.8min remaining:  3.0min\n"
     ]
    },
    {
     "name": "stdout",
     "output_type": "stream",
     "text": [
      "[CV]  estimator__penalty=l1, estimator__C=0.9, score=0.28207042428766954, total= 1.7min\n",
      "[CV] estimator__penalty=l1, estimator__C=0.5 .........................\n",
      "[CV]  estimator__penalty=l1, estimator__C=0.1, score=0.1612721643681396, total= 1.3min\n",
      "[CV]  estimator__penalty=l1, estimator__C=0.1, score=0.1668249145461451, total= 1.4min\n",
      "[CV]  estimator__penalty=l1, estimator__C=0.1, score=0.1642714380888931, total= 1.5min\n",
      "[CV]  estimator__penalty=l1, estimator__C=0.5, score=0.32779930654701206, total= 1.5min\n",
      "[CV]  estimator__penalty=l1, estimator__C=0.5, score=0.33518161362905824, total= 1.3min\n"
     ]
    },
    {
     "name": "stderr",
     "output_type": "stream",
     "text": [
      "[Parallel(n_jobs=-1)]: Done  47 out of  50 | elapsed: 14.7min remaining:   56.3s\n"
     ]
    },
    {
     "name": "stdout",
     "output_type": "stream",
     "text": [
      "[CV]  estimator__penalty=l1, estimator__C=0.5, score=0.2623689845599008, total= 1.3min\n",
      "[CV]  estimator__penalty=l1, estimator__C=0.5, score=0.25755239563702814, total= 1.3min\n",
      "[CV]  estimator__penalty=l1, estimator__C=0.5, score=0.25614445744858716, total= 1.2min\n"
     ]
    },
    {
     "name": "stderr",
     "output_type": "stream",
     "text": [
      "[Parallel(n_jobs=-1)]: Done  50 out of  50 | elapsed: 15.3min finished\n"
     ]
    },
    {
     "name": "stdout",
     "output_type": "stream",
     "text": [
      "Best estimator:  OneVsRestClassifier(estimator=LogisticRegression(C=1.5, class_weight='balanced', dual=False,\n",
      "          fit_intercept=True, intercept_scaling=1, max_iter=100,\n",
      "          multi_class='ovr', n_jobs=1, penalty='l2', random_state=None,\n",
      "          solver='liblinear', tol=0.0001, verbose=0, warm_start=False),\n",
      "          n_jobs=-1)\n",
      "Best Cross Validation Score:  0.3384905779011226\n",
      "Accuracy : 0.046700507614213196\n",
      "Hamming loss  0.06148089892995877\n",
      "Micro-average :\n",
      "Precision: 0.3220, Recall: 0.3908, F1-measure: 0.3531\n",
      "Model Ended......!\n",
      "CPU times: user 0 ns, sys: 0 ns, total: 0 ns\n",
      "Wall time: 6.2 µs\n"
     ]
    }
   ],
   "source": [
    "# Randomsearchcv/Gridsearchcv tooks hrs to compute BOW,so we trying with TFIDF UNI BI TRI \n",
    "vectorizer_1 = TfidfVectorizer(min_df=0.00009,max_features=100000, smooth_idf=True, norm=\"l2\", tokenizer = lambda x: x.split(\" \"), sublinear_tf=False,\n",
    "                             ngram_range=(1,1))\n",
    "xt_train_multilabel_1 = vectorizer_1.fit_transform(train_data['pre_pro_plot_synopsis'])\n",
    "xt_test_multilabel_1 = vectorizer_1.transform(test_data['pre_pro_plot_synopsis'])\n",
    "\n",
    "vectorizer_1_1 = CountVectorizer(tokenizer = lambda x: x.split(\" \"), binary='true').fit(y_train)\n",
    "y_train_1 = vectorizer_1_1.transform(y_train)\n",
    "y_test_1 = vectorizer_1_1.transform(y_test)\n",
    "print('model Started......!')\n",
    "\n",
    "alpha = [0.001,0.01,0.1,0.5,0.9,1,1.5,10,100,1000]\n",
    "penalty = ['l1','l2']\n",
    "\n",
    "params  = {'estimator__C': alpha,\n",
    "          'estimator__penalty': penalty}\n",
    "clf_estimator_1 = OneVsRestClassifier(LogisticRegression(class_weight='balanced'), n_jobs=-1)\n",
    "RS_clf_1 = RandomizedSearchCV(estimator=clf_estimator_1, param_distributions=params, n_iter=10, cv=5, scoring='f1_micro', n_jobs=-1, verbose=10)\n",
    "RS_clf_1.fit(xt_train_multilabel_1, y_train_1)\n",
    "print('Best estimator: ',RS_clf_1.best_estimator_)\n",
    "print('Best Cross Validation Score: ',RS_clf_1.best_score_) \n",
    "\n",
    "classifier_1 = RS_clf_1.best_estimator_\n",
    "classifier_1.fit(xt_train_multilabel_1, y_train_1)\n",
    "predictions_1 = classifier_1.predict(xt_test_multilabel_1)\n",
    "\n",
    "print(\"Accuracy :\",metrics.accuracy_score(y_test_1, predictions_1))\n",
    "print(\"Hamming loss \",metrics.hamming_loss(y_test_1,predictions_1))\n",
    "\n",
    "precision_1 = precision_score(y_test_1, predictions_1, average='micro')\n",
    "recall_1 = recall_score(y_test_1, predictions_1, average='micro')\n",
    "f1_1 = f1_score(y_test_1, predictions_1, average='micro')\n",
    " \n",
    "print(\"Micro-average :\") \n",
    "print(\"Precision: {:.4f}, Recall: {:.4f}, F1-measure: {:.4f}\".format(precision_1, recall_1, f1_1))\n",
    "print('Model Ended......!')\n"
   ]
  },
  {
   "cell_type": "markdown",
   "metadata": {},
   "source": [
    "<h3>TFIDF BI Grams</h3>"
   ]
  },
  {
   "cell_type": "code",
   "execution_count": 0,
   "metadata": {
    "colab": {
     "base_uri": "https://localhost:8080/",
     "height": 425
    },
    "colab_type": "code",
    "id": "UF5tpW6CMxkH",
    "outputId": "357068a3-4289-4545-a88b-d4a0d0224f1b",
    "scrolled": false
   },
   "outputs": [
    {
     "name": "stdout",
     "output_type": "stream",
     "text": [
      "model Started......!\n",
      "Fitting 5 folds for each of 10 candidates, totalling 50 fits\n",
      "[CV] estimator__penalty=l2, estimator__C=1000 ........................\n",
      "[CV] estimator__penalty=l2, estimator__C=1000 ........................\n",
      "[CV] estimator__penalty=l2, estimator__C=1000 ........................\n",
      "[CV] estimator__penalty=l2, estimator__C=1000 ........................\n",
      "[CV] estimator__penalty=l2, estimator__C=1000 ........................\n",
      "[CV] estimator__penalty=l1, estimator__C=0.9 .........................\n",
      "[CV] estimator__penalty=l1, estimator__C=0.9 .........................\n",
      "[CV] estimator__penalty=l1, estimator__C=0.9 .........................\n",
      "[CV]  estimator__penalty=l1, estimator__C=0.9, score=0.3200237201027871, total= 1.3min\n",
      "[CV] estimator__penalty=l1, estimator__C=0.9 .........................\n",
      "[CV]  estimator__penalty=l1, estimator__C=0.9, score=0.23507542718238367, total= 1.4min\n",
      "[CV] estimator__penalty=l1, estimator__C=0.9 .........................\n"
     ]
    },
    {
     "name": "stderr",
     "output_type": "stream",
     "text": [
      "[Parallel(n_jobs=-1)]: Done   2 tasks      | elapsed:  1.5min\n"
     ]
    },
    {
     "name": "stdout",
     "output_type": "stream",
     "text": [
      "[CV]  estimator__penalty=l1, estimator__C=0.9, score=0.31360917494685847, total= 1.5min\n",
      "[CV] estimator__penalty=l2, estimator__C=1 ...........................\n",
      "[CV]  estimator__penalty=l2, estimator__C=1, score=0.31216652889456675, total=  41.3s\n",
      "[CV] estimator__penalty=l2, estimator__C=1 ...........................\n",
      "[CV]  estimator__penalty=l2, estimator__C=1000, score=0.23466884709730168, total= 2.3min\n",
      "[CV] estimator__penalty=l2, estimator__C=1 ...........................\n",
      "[CV]  estimator__penalty=l2, estimator__C=1000, score=0.23339530167314515, total= 2.4min\n",
      "[CV] estimator__penalty=l2, estimator__C=1 ...........................\n",
      "[CV]  estimator__penalty=l2, estimator__C=1000, score=0.2595219332807986, total= 2.6min\n",
      "[CV] estimator__penalty=l2, estimator__C=1 ...........................\n",
      "[CV]  estimator__penalty=l2, estimator__C=1000, score=0.2544197793433471, total= 2.6min\n",
      "[CV] estimator__penalty=l2, estimator__C=0.01 ........................\n",
      "[CV]  estimator__penalty=l2, estimator__C=1000, score=0.25677603423680456, total= 2.7min\n",
      "[CV] estimator__penalty=l2, estimator__C=0.01 ........................\n"
     ]
    },
    {
     "name": "stderr",
     "output_type": "stream",
     "text": [
      "[Parallel(n_jobs=-1)]: Done   9 tasks      | elapsed:  2.7min\n"
     ]
    },
    {
     "name": "stdout",
     "output_type": "stream",
     "text": [
      "[CV]  estimator__penalty=l1, estimator__C=0.9, score=0.2384877771461057, total= 1.4min\n",
      "[CV] estimator__penalty=l2, estimator__C=0.01 ........................\n",
      "[CV]  estimator__penalty=l1, estimator__C=0.9, score=0.2314432616409588, total= 1.4min\n",
      "[CV] estimator__penalty=l2, estimator__C=0.01 ........................\n",
      "[CV]  estimator__penalty=l2, estimator__C=1, score=0.31353884454858316, total=  41.8s\n",
      "[CV] estimator__penalty=l2, estimator__C=0.01 ........................\n",
      "[CV]  estimator__penalty=l2, estimator__C=0.01, score=0.35246166785275285, total=  19.8s\n",
      "[CV] estimator__penalty=l2, estimator__C=0.5 .........................\n",
      "[CV]  estimator__penalty=l2, estimator__C=0.01, score=0.35385722698423083, total=  22.0s\n",
      "[CV] estimator__penalty=l2, estimator__C=0.5 .........................\n",
      "[CV]  estimator__penalty=l2, estimator__C=1, score=0.29699803149606296, total=  47.0s\n",
      "[CV] estimator__penalty=l2, estimator__C=0.5 .........................\n",
      "[CV]  estimator__penalty=l2, estimator__C=1, score=0.3016162352655244, total=  45.4s\n",
      "[CV] estimator__penalty=l2, estimator__C=0.5 .........................\n"
     ]
    },
    {
     "name": "stderr",
     "output_type": "stream",
     "text": [
      "[Parallel(n_jobs=-1)]: Done  16 tasks      | elapsed:  3.1min\n"
     ]
    },
    {
     "name": "stdout",
     "output_type": "stream",
     "text": [
      "[CV]  estimator__penalty=l2, estimator__C=0.01, score=0.30498136225008465, total=  23.1s\n",
      "[CV] estimator__penalty=l2, estimator__C=0.5 .........................\n",
      "[CV]  estimator__penalty=l2, estimator__C=0.01, score=0.31365935919055654, total=  24.1s\n",
      "[CV] estimator__penalty=l1, estimator__C=100 .........................\n",
      "[CV]  estimator__penalty=l2, estimator__C=0.01, score=0.3146092362344583, total=  23.1s\n",
      "[CV] estimator__penalty=l1, estimator__C=100 .........................\n",
      "[CV]  estimator__penalty=l2, estimator__C=1, score=0.2959392697915411, total=  46.8s\n",
      "[CV] estimator__penalty=l1, estimator__C=100 .........................\n",
      "[CV]  estimator__penalty=l2, estimator__C=0.5, score=0.32926119837114604, total=  36.7s\n",
      "[CV] estimator__penalty=l1, estimator__C=100 .........................\n",
      "[CV]  estimator__penalty=l2, estimator__C=0.5, score=0.3276828143839989, total=  37.4s\n",
      "[CV] estimator__penalty=l1, estimator__C=100 .........................\n",
      "[CV]  estimator__penalty=l2, estimator__C=0.5, score=0.30270921131848283, total=  41.1s\n",
      "[CV] estimator__penalty=l2, estimator__C=0.001 .......................\n",
      "[CV]  estimator__penalty=l2, estimator__C=0.5, score=0.3035524607577009, total=  41.6s\n",
      "[CV] estimator__penalty=l2, estimator__C=0.001 .......................\n",
      "[CV]  estimator__penalty=l2, estimator__C=0.5, score=0.3092537313432836, total=  45.5s\n",
      "[CV] estimator__penalty=l2, estimator__C=0.001 .......................\n"
     ]
    },
    {
     "name": "stderr",
     "output_type": "stream",
     "text": [
      "[Parallel(n_jobs=-1)]: Done  25 tasks      | elapsed:  3.9min\n"
     ]
    },
    {
     "name": "stdout",
     "output_type": "stream",
     "text": [
      "[CV]  estimator__penalty=l2, estimator__C=0.001, score=0.38426978170093556, total=  15.8s\n",
      "[CV] estimator__penalty=l2, estimator__C=0.001 .......................\n",
      "[CV]  estimator__penalty=l2, estimator__C=0.001, score=0.38647959183673475, total=  14.9s\n",
      "[CV] estimator__penalty=l2, estimator__C=0.001 .......................\n",
      "[CV]  estimator__penalty=l2, estimator__C=0.001, score=0.32362401715511074, total=  17.2s\n",
      "[CV] estimator__penalty=l2, estimator__C=0.1 .........................\n",
      "[CV]  estimator__penalty=l2, estimator__C=0.001, score=0.33993341510425795, total=  18.4s\n",
      "[CV] estimator__penalty=l2, estimator__C=0.1 .........................\n",
      "[CV]  estimator__penalty=l2, estimator__C=0.001, score=0.32350109409190375, total=  18.8s\n",
      "[CV] estimator__penalty=l2, estimator__C=0.1 .........................\n",
      "[CV]  estimator__penalty=l2, estimator__C=0.1, score=0.3433900164563906, total=  28.5s\n",
      "[CV] estimator__penalty=l2, estimator__C=0.1 .........................\n",
      "[CV]  estimator__penalty=l2, estimator__C=0.1, score=0.3402096719648292, total=  27.6s\n",
      "[CV] estimator__penalty=l2, estimator__C=0.1 .........................\n",
      "[CV]  estimator__penalty=l2, estimator__C=0.1, score=0.30132489154648845, total=  31.8s\n",
      "[CV] estimator__penalty=l2, estimator__C=10 ..........................\n",
      "[CV]  estimator__penalty=l1, estimator__C=100, score=0.2560329605650382, total= 1.7min\n",
      "[CV] estimator__penalty=l2, estimator__C=10 ..........................\n"
     ]
    },
    {
     "name": "stderr",
     "output_type": "stream",
     "text": [
      "[Parallel(n_jobs=-1)]: Done  34 tasks      | elapsed:  5.0min\n"
     ]
    },
    {
     "name": "stdout",
     "output_type": "stream",
     "text": [
      "[CV]  estimator__penalty=l1, estimator__C=100, score=0.25569151963574277, total= 1.7min\n",
      "[CV] estimator__penalty=l2, estimator__C=10 ..........................\n",
      "[CV]  estimator__penalty=l2, estimator__C=0.1, score=0.31040482542628467, total=  33.3s\n",
      "[CV] estimator__penalty=l2, estimator__C=10 ..........................\n",
      "[CV]  estimator__penalty=l1, estimator__C=100, score=0.2515874753667615, total= 1.8min\n",
      "[CV] estimator__penalty=l2, estimator__C=10 ..........................\n",
      "[CV]  estimator__penalty=l2, estimator__C=0.1, score=0.30617170440179287, total=  33.1s\n",
      "[CV] estimator__penalty=l2, estimator__C=0.9 .........................\n",
      "[CV]  estimator__penalty=l1, estimator__C=100, score=0.24819750928555823, total= 1.8min\n",
      "[CV] estimator__penalty=l2, estimator__C=0.9 .........................\n",
      "[CV]  estimator__penalty=l1, estimator__C=100, score=0.24969909180435498, total= 1.8min\n",
      "[CV] estimator__penalty=l2, estimator__C=0.9 .........................\n",
      "[CV]  estimator__penalty=l2, estimator__C=0.9, score=0.31624927198602215, total=  39.9s\n",
      "[CV] estimator__penalty=l2, estimator__C=0.9 .........................\n"
     ]
    },
    {
     "name": "stderr",
     "output_type": "stream",
     "text": [
      "[Parallel(n_jobs=-1)]: Done  41 out of  50 | elapsed:  6.1min remaining:  1.3min\n"
     ]
    },
    {
     "name": "stdout",
     "output_type": "stream",
     "text": [
      "[CV]  estimator__penalty=l2, estimator__C=10, score=0.264687302590019, total= 1.1min\n",
      "[CV] estimator__penalty=l2, estimator__C=0.9 .........................\n",
      "[CV]  estimator__penalty=l2, estimator__C=10, score=0.2635911647241014, total= 1.1min\n",
      "[CV]  estimator__penalty=l2, estimator__C=0.9, score=0.31588380255395415, total=  43.2s\n",
      "[CV]  estimator__penalty=l2, estimator__C=10, score=0.27291612568164114, total= 1.2min\n",
      "[CV]  estimator__penalty=l2, estimator__C=0.9, score=0.298847756803138, total=  44.7s\n",
      "[CV]  estimator__penalty=l2, estimator__C=10, score=0.27424320164186766, total= 1.1min\n"
     ]
    },
    {
     "name": "stderr",
     "output_type": "stream",
     "text": [
      "[Parallel(n_jobs=-1)]: Done  47 out of  50 | elapsed:  6.4min remaining:   24.5s\n"
     ]
    },
    {
     "name": "stdout",
     "output_type": "stream",
     "text": [
      "[CV]  estimator__penalty=l2, estimator__C=10, score=0.27174051845230496, total= 1.1min\n",
      "[CV]  estimator__penalty=l2, estimator__C=0.9, score=0.2966610617343262, total=  32.2s\n",
      "[CV]  estimator__penalty=l2, estimator__C=0.9, score=0.3033680639689847, total=  33.2s\n"
     ]
    },
    {
     "name": "stderr",
     "output_type": "stream",
     "text": [
      "[Parallel(n_jobs=-1)]: Done  50 out of  50 | elapsed:  6.7min finished\n"
     ]
    },
    {
     "name": "stdout",
     "output_type": "stream",
     "text": [
      "Best estimator:  OneVsRestClassifier(estimator=LogisticRegression(C=0.001, class_weight='balanced', dual=False,\n",
      "          fit_intercept=True, intercept_scaling=1, max_iter=100,\n",
      "          multi_class='ovr', n_jobs=1, penalty='l2', random_state=None,\n",
      "          solver='liblinear', tol=0.0001, verbose=0, warm_start=False),\n",
      "          n_jobs=-1)\n",
      "Best Cross Validation Score:  0.3515673124702512\n",
      "Accuracy : 0.038917089678511\n",
      "Hamming loss  0.06436452896737446\n",
      "Micro-average :\n",
      "Precision: 0.3148, Recall: 0.4243, F1-measure: 0.3615\n",
      "Model Ended......!\n",
      "CPU times: user 0 ns, sys: 0 ns, total: 0 ns\n",
      "Wall time: 5.25 µs\n"
     ]
    }
   ],
   "source": [
    "# Randomsearchcv/Gridsearchcv tooks hrs to compute BOW,so we trying with TFIDF UNI BI TRI \n",
    "#Bi grams\n",
    "vectorizer_2 = TfidfVectorizer(min_df=0.00009,max_features=100000, smooth_idf=True, norm=\"l2\", tokenizer = lambda x: x.split(\" \"), sublinear_tf=False,\n",
    "                             ngram_range=(2,2))\n",
    "xt_train_multilabel_2 = vectorizer_2.fit_transform(train_data['pre_pro_plot_synopsis'])\n",
    "xt_test_multilabel_2 = vectorizer_2.transform(test_data['pre_pro_plot_synopsis'])\n",
    "\n",
    "vectorizer_1_2 = CountVectorizer(tokenizer = lambda x: x.split(\" \"), binary='true').fit(y_train)\n",
    "y_train_2 = vectorizer_1_2.transform(y_train)\n",
    "y_test_2 = vectorizer_1_2.transform(y_test)\n",
    "print('model Started......!')\n",
    "alpha = [0.001,0.01,0.1,0.5,0.9,1,1.5,10,100,1000]\n",
    "penalty = ['l1','l2']\n",
    "\n",
    "params  = {'estimator__C': alpha,\n",
    "          'estimator__penalty': penalty}\n",
    "clf_estimator_2 = OneVsRestClassifier(LogisticRegression(class_weight='balanced'), n_jobs=-1)\n",
    "RS_clf_2 = RandomizedSearchCV(estimator=clf_estimator_2, param_distributions=params, n_iter=10, cv=5, scoring='f1_micro', n_jobs=-1, verbose=10)\n",
    "RS_clf_2.fit(xt_train_multilabel_2, y_train_2)\n",
    "print('Best estimator: ',RS_clf_2.best_estimator_)\n",
    "print('Best Cross Validation Score: ',RS_clf_2.best_score_) \n",
    "\n",
    "classifier_2 = RS_clf_2.best_estimator_\n",
    "classifier_2.fit(xt_train_multilabel_2, y_train_2)\n",
    "predictions_2 = classifier_2.predict(xt_test_multilabel_2)\n",
    "\n",
    "print(\"Accuracy :\",metrics.accuracy_score(y_test_2, predictions_2))\n",
    "print(\"Hamming loss \",metrics.hamming_loss(y_test_2,predictions_2))\n",
    "\n",
    "precision_2 = precision_score(y_test_2, predictions_2, average='micro')\n",
    "recall_2 = recall_score(y_test_2, predictions_2, average='micro')\n",
    "f1_2 = f1_score(y_test_2, predictions_2, average='micro')\n",
    " \n",
    "print(\"Micro-average :\") \n",
    "print(\"Precision: {:.4f}, Recall: {:.4f}, F1-measure: {:.4f}\".format(precision_2, recall_2, f1_2))\n",
    "print('Model Ended......!')\n"
   ]
  },
  {
   "cell_type": "markdown",
   "metadata": {},
   "source": [
    "<h3>TFIDF TRI Grams</h3>"
   ]
  },
  {
   "cell_type": "code",
   "execution_count": 0,
   "metadata": {
    "colab": {},
    "colab_type": "code",
    "id": "txnjoOFCJ5yn",
    "outputId": "44c3f042-817e-4724-c6e7-8ad00b96934f",
    "scrolled": false
   },
   "outputs": [
    {
     "name": "stdout",
     "output_type": "stream",
     "text": [
      "model Started......!\n",
      "Fitting 5 folds for each of 10 candidates, totalling 50 fits\n",
      "[CV] estimator__penalty=l2, estimator__C=10 ..........................\n",
      "[CV] estimator__penalty=l2, estimator__C=10 ..........................\n",
      "[CV] estimator__penalty=l2, estimator__C=10 ..........................\n",
      "[CV] estimator__penalty=l2, estimator__C=10 ..........................\n",
      "[CV] estimator__penalty=l2, estimator__C=10 ..........................\n",
      "[CV] estimator__penalty=l1, estimator__C=1000 ........................\n",
      "[CV] estimator__penalty=l1, estimator__C=1000 ........................\n",
      "[CV] estimator__penalty=l1, estimator__C=1000 ........................\n",
      "[CV]  estimator__penalty=l2, estimator__C=10, score=0.20957055214723927, total=  29.1s\n",
      "[CV] estimator__penalty=l1, estimator__C=1000 ........................\n",
      "[CV]  estimator__penalty=l2, estimator__C=10, score=0.2097614145573453, total=  30.5s\n",
      "[CV] estimator__penalty=l1, estimator__C=1000 ........................\n"
     ]
    },
    {
     "name": "stderr",
     "output_type": "stream",
     "text": [
      "[Parallel(n_jobs=-1)]: Done   2 tasks      | elapsed:   30.7s\n"
     ]
    },
    {
     "name": "stdout",
     "output_type": "stream",
     "text": [
      "[CV]  estimator__penalty=l2, estimator__C=10, score=0.1915542710340398, total=  30.7s\n",
      "[CV] estimator__penalty=l1, estimator__C=1 ...........................\n",
      "[CV]  estimator__penalty=l2, estimator__C=10, score=0.20650048875855326, total=  31.7s\n",
      "[CV] estimator__penalty=l1, estimator__C=1 ...........................\n",
      "[CV]  estimator__penalty=l2, estimator__C=10, score=0.19061071873701704, total=  32.1s\n",
      "[CV] estimator__penalty=l1, estimator__C=1 ...........................\n",
      "[CV]  estimator__penalty=l1, estimator__C=1, score=0.18235435724602794, total= 1.3min\n",
      "[CV] estimator__penalty=l1, estimator__C=1 ...........................\n",
      "[CV]  estimator__penalty=l1, estimator__C=1, score=0.12300595810109552, total= 1.4min\n",
      "[CV] estimator__penalty=l1, estimator__C=1 ...........................\n",
      "[CV]  estimator__penalty=l1, estimator__C=1, score=0.1811915312653865, total= 1.5min\n",
      "[CV] estimator__penalty=l2, estimator__C=0.001 .......................\n",
      "[CV]  estimator__penalty=l2, estimator__C=0.001, score=0.2694300518134715, total=   8.3s\n",
      "[CV] estimator__penalty=l2, estimator__C=0.001 .......................\n"
     ]
    },
    {
     "name": "stderr",
     "output_type": "stream",
     "text": [
      "[Parallel(n_jobs=-1)]: Done   9 tasks      | elapsed:  2.2min\n"
     ]
    },
    {
     "name": "stdout",
     "output_type": "stream",
     "text": [
      "[CV]  estimator__penalty=l2, estimator__C=0.001, score=0.2651199165797706, total=   9.5s\n",
      "[CV] estimator__penalty=l2, estimator__C=0.001 .......................\n",
      "[CV]  estimator__penalty=l2, estimator__C=0.001, score=0.2247045790251108, total=   6.9s\n",
      "[CV] estimator__penalty=l2, estimator__C=0.001 .......................\n",
      "[CV]  estimator__penalty=l2, estimator__C=0.001, score=0.23598820058997053, total=   7.4s\n",
      "[CV] estimator__penalty=l2, estimator__C=0.001 .......................\n",
      "[CV]  estimator__penalty=l2, estimator__C=0.001, score=0.23378279883381922, total=   7.2s\n",
      "[CV] estimator__penalty=l1, estimator__C=0.5 .........................\n",
      "[CV]  estimator__penalty=l1, estimator__C=1, score=0.1251646903820817, total= 1.4min\n",
      "[CV] estimator__penalty=l1, estimator__C=0.5 .........................\n",
      "[CV]  estimator__penalty=l1, estimator__C=1, score=0.12463522545420314, total= 1.3min\n",
      "[CV] estimator__penalty=l1, estimator__C=0.5 .........................\n",
      "[CV]  estimator__penalty=l1, estimator__C=0.5, score=0.12393107849393746, total= 1.1min\n",
      "[CV] estimator__penalty=l1, estimator__C=0.5 .........................\n"
     ]
    },
    {
     "name": "stderr",
     "output_type": "stream",
     "text": [
      "[Parallel(n_jobs=-1)]: Done  16 tasks      | elapsed:  3.8min\n"
     ]
    },
    {
     "name": "stdout",
     "output_type": "stream",
     "text": [
      "[CV]  estimator__penalty=l1, estimator__C=0.5, score=0.07502977371973005, total=  49.8s\n",
      "[CV] estimator__penalty=l1, estimator__C=0.5 .........................\n",
      "[CV]  estimator__penalty=l1, estimator__C=0.5, score=0.12092442223610245, total= 1.2min\n",
      "[CV] estimator__penalty=l1, estimator__C=0.1 .........................\n",
      "[CV]  estimator__penalty=l1, estimator__C=0.5, score=0.07798521975884869, total=  57.6s\n",
      "[CV] estimator__penalty=l1, estimator__C=0.1 .........................\n",
      "[CV]  estimator__penalty=l1, estimator__C=0.5, score=0.0805600843962789, total=  48.5s\n",
      "[CV] estimator__penalty=l1, estimator__C=0.1 .........................\n",
      "[CV]  estimator__penalty=l1, estimator__C=0.1, score=0.023145108338804996, total=  34.1s\n",
      "[CV] estimator__penalty=l1, estimator__C=0.1 .........................\n",
      "[CV]  estimator__penalty=l1, estimator__C=0.1, score=0.02387055430951618, total=  36.6s\n",
      "[CV] estimator__penalty=l1, estimator__C=0.1 .........................\n",
      "[CV]  estimator__penalty=l1, estimator__C=0.1, score=0.01436417405999155, total=  30.9s\n",
      "[CV] estimator__penalty=l2, estimator__C=0.5 .........................\n",
      "[CV]  estimator__penalty=l1, estimator__C=0.1, score=0.01273716332758392, total=  32.6s\n",
      "[CV] estimator__penalty=l2, estimator__C=0.5 .........................\n",
      "[CV]  estimator__penalty=l2, estimator__C=0.5, score=0.21463571371194473, total=  19.2s\n",
      "[CV] estimator__penalty=l2, estimator__C=0.5 .........................\n"
     ]
    },
    {
     "name": "stderr",
     "output_type": "stream",
     "text": [
      "[Parallel(n_jobs=-1)]: Done  25 tasks      | elapsed:  5.8min\n"
     ]
    },
    {
     "name": "stdout",
     "output_type": "stream",
     "text": [
      "[CV]  estimator__penalty=l1, estimator__C=0.1, score=0.012518195050946142, total=  28.5s\n",
      "[CV] estimator__penalty=l2, estimator__C=0.5 .........................\n",
      "[CV]  estimator__penalty=l2, estimator__C=0.5, score=0.21876700614164657, total=  18.4s\n",
      "[CV] estimator__penalty=l2, estimator__C=0.5 .........................\n",
      "[CV]  estimator__penalty=l2, estimator__C=0.5, score=0.2125418860698899, total=  17.3s\n",
      "[CV] estimator__penalty=l2, estimator__C=0.9 .........................\n",
      "[CV]  estimator__penalty=l2, estimator__C=0.5, score=0.21950341849586183, total=  16.7s\n",
      "[CV] estimator__penalty=l2, estimator__C=0.9 .........................\n",
      "[CV]  estimator__penalty=l2, estimator__C=0.5, score=0.2184834123222749, total=  18.1s\n",
      "[CV] estimator__penalty=l2, estimator__C=0.9 .........................\n",
      "[CV]  estimator__penalty=l2, estimator__C=0.9, score=0.2113030081894105, total=  20.4s\n",
      "[CV] estimator__penalty=l2, estimator__C=0.9 .........................\n",
      "[CV]  estimator__penalty=l2, estimator__C=0.9, score=0.21190494863147985, total=  19.2s\n",
      "[CV] estimator__penalty=l2, estimator__C=0.9 .........................\n",
      "[CV]  estimator__penalty=l2, estimator__C=0.9, score=0.21005559584239786, total=  20.7s\n",
      "[CV] estimator__penalty=l1, estimator__C=10 ..........................\n",
      "[CV]  estimator__penalty=l2, estimator__C=0.9, score=0.21811147382420507, total=  18.8s\n",
      "[CV] estimator__penalty=l1, estimator__C=10 ..........................\n"
     ]
    },
    {
     "name": "stderr",
     "output_type": "stream",
     "text": [
      "[Parallel(n_jobs=-1)]: Done  34 tasks      | elapsed:  6.7min\n"
     ]
    },
    {
     "name": "stdout",
     "output_type": "stream",
     "text": [
      "[CV]  estimator__penalty=l2, estimator__C=0.9, score=0.21529271206690562, total=  19.2s\n",
      "[CV] estimator__penalty=l1, estimator__C=10 ..........................\n",
      "[CV]  estimator__penalty=l1, estimator__C=1000, score=0.11201092789540444, total=13.5min\n",
      "[CV] estimator__penalty=l1, estimator__C=10 ..........................\n",
      "[CV]  estimator__penalty=l1, estimator__C=10, score=0.15565092989985693, total= 7.0min\n",
      "[CV] estimator__penalty=l1, estimator__C=10 ..........................\n",
      "[CV]  estimator__penalty=l1, estimator__C=1000, score=0.12054766836760472, total=13.6min\n",
      "[CV] estimator__penalty=l2, estimator__C=1000 ........................\n",
      "[CV]  estimator__penalty=l2, estimator__C=1000, score=0.19165616687666245, total= 1.5min\n",
      "[CV] estimator__penalty=l2, estimator__C=1000 ........................\n",
      "[CV]  estimator__penalty=l2, estimator__C=1000, score=0.19776195320447612, total= 1.5min\n",
      "[CV] estimator__penalty=l2, estimator__C=1000 ........................\n",
      "[CV]  estimator__penalty=l2, estimator__C=1000, score=0.1824177591892544, total= 1.3min\n",
      "[CV] estimator__penalty=l2, estimator__C=1000 ........................\n"
     ]
    },
    {
     "name": "stderr",
     "output_type": "stream",
     "text": [
      "[Parallel(n_jobs=-1)]: Done  41 out of  50 | elapsed: 18.4min remaining:  4.0min\n"
     ]
    },
    {
     "name": "stdout",
     "output_type": "stream",
     "text": [
      "[CV]  estimator__penalty=l1, estimator__C=10, score=0.19005979553783833, total=12.9min\n",
      "[CV] estimator__penalty=l2, estimator__C=1000 ........................\n",
      "[CV]  estimator__penalty=l2, estimator__C=1000, score=0.1930198263149271, total= 1.4min\n",
      "[CV]  estimator__penalty=l1, estimator__C=10, score=0.18936918823825083, total=13.1min\n",
      "[CV]  estimator__penalty=l2, estimator__C=1000, score=0.18910569105691058, total= 1.1min\n",
      "[CV]  estimator__penalty=l1, estimator__C=10, score=0.16368238492547107, total= 7.3min\n",
      "[CV]  estimator__penalty=l1, estimator__C=10, score=0.16526742760116972, total= 8.5min\n"
     ]
    },
    {
     "name": "stderr",
     "output_type": "stream",
     "text": [
      "[Parallel(n_jobs=-1)]: Done  47 out of  50 | elapsed: 22.3min remaining:  1.4min\n"
     ]
    },
    {
     "name": "stdout",
     "output_type": "stream",
     "text": [
      "[CV]  estimator__penalty=l1, estimator__C=1000, score=0.11692660989379007, total=22.2min\n",
      "[CV]  estimator__penalty=l1, estimator__C=1000, score=0.1664517849997777, total=26.7min\n",
      "[CV]  estimator__penalty=l1, estimator__C=1000, score=0.16157820573038986, total=29.0min\n"
     ]
    },
    {
     "name": "stderr",
     "output_type": "stream",
     "text": [
      "[Parallel(n_jobs=-1)]: Done  50 out of  50 | elapsed: 29.0min finished\n"
     ]
    },
    {
     "name": "stdout",
     "output_type": "stream",
     "text": [
      "Best estimator:  OneVsRestClassifier(estimator=LogisticRegression(C=0.001, class_weight='balanced', dual=False,\n",
      "          fit_intercept=True, intercept_scaling=1, max_iter=100,\n",
      "          multi_class='ovr', n_jobs=1, penalty='l2', random_state=None,\n",
      "          solver='liblinear', tol=0.0001, verbose=0, warm_start=False),\n",
      "          n_jobs=-1)\n",
      "Best Cross Validation Score:  0.24580874925565888\n",
      "Accuracy : 0.016582064297800337\n",
      "Hamming loss  0.06880674912418674\n",
      "Micro-average :\n",
      "Precision: 0.2372, Recall: 0.2719, F1-measure: 0.2533\n",
      "Model Ended......!\n",
      "CPU times: user 0 ns, sys: 0 ns, total: 0 ns\n",
      "Wall time: 5.72 µs\n"
     ]
    }
   ],
   "source": [
    "# Randomsearchcv/Gridsearchcv tooks hrs to compute BOW,so we trying with TFIDF UNI BI TRI \n",
    "#tri grams\n",
    "vectorizer_3 = TfidfVectorizer(min_df=0.00009,max_features=100000, smooth_idf=True, norm=\"l2\", tokenizer = lambda x: x.split(\" \"), sublinear_tf=False,\n",
    "                             ngram_range=(3,3))\n",
    "xt_train_multilabel_3 = vectorizer_3.fit_transform(train_data['pre_pro_plot_synopsis'])\n",
    "xt_test_multilabel_3 = vectorizer_3.transform(test_data['pre_pro_plot_synopsis'])\n",
    "\n",
    "vectorizer_1_3 = CountVectorizer(tokenizer = lambda x: x.split(\" \"), binary='true').fit(y_train)\n",
    "y_train_3 = vectorizer_1_3.transform(y_train)\n",
    "y_test_3 = vectorizer_1_3.transform(y_test)\n",
    "print('model Started......!')\n",
    "alpha = [0.001,0.01,0.1,0.5,0.9,1,1.5,10,100,1000]\n",
    "penalty = ['l1','l2']\n",
    "\n",
    "params  = {'estimator__C': alpha,\n",
    "          'estimator__penalty': penalty}\n",
    "clf_estimator_3 = OneVsRestClassifier(LogisticRegression(class_weight='balanced'), n_jobs=-1)\n",
    "RS_clf_3 = RandomizedSearchCV(estimator=clf_estimator_3, param_distributions=params, n_iter=10, cv=5, scoring='f1_micro', n_jobs=-1, verbose=10)\n",
    "RS_clf_3.fit(xt_train_multilabel_3, y_train_3)\n",
    "print('Best estimator: ',RS_clf_3.best_estimator_)\n",
    "print('Best Cross Validation Score: ',RS_clf_3.best_score_) \n",
    "\n",
    "classifier_3 = RS_clf_3.best_estimator_\n",
    "classifier_3.fit(xt_train_multilabel_3, y_train_3)\n",
    "predictions_3 = classifier_3.predict(xt_test_multilabel_3)\n",
    "\n",
    "print(\"Accuracy :\",metrics.accuracy_score(y_test_3, predictions_3))\n",
    "print(\"Hamming loss \",metrics.hamming_loss(y_test_3,predictions_3))\n",
    "\n",
    "precision_3 = precision_score(y_test_3, predictions_3, average='micro')\n",
    "recall_3 = recall_score(y_test_3, predictions_3, average='micro')\n",
    "f1_3 = f1_score(y_test_3, predictions_3, average='micro')\n",
    " \n",
    "print(\"Micro-average :\") \n",
    "print(\"Precision: {:.4f}, Recall: {:.4f}, F1-measure: {:.4f}\".format(precision_3, recall_3, f1_3))\n",
    "print('Model Ended......!')\n"
   ]
  },
  {
   "cell_type": "markdown",
   "metadata": {},
   "source": [
    "<h3>TFIDF char-3</h3>"
   ]
  },
  {
   "cell_type": "code",
   "execution_count": 6,
   "metadata": {},
   "outputs": [],
   "source": [
    "#char 3 grams\n",
    "vectorizer_4 = TfidfVectorizer(min_df=0.00009,max_features=10000,analyzer='char',smooth_idf=True, norm=\"l2\", tokenizer = lambda x: x.split(\" \"), sublinear_tf=False,\n",
    "                             ngram_range=(3,3))\n",
    "xt_train_multilabel_4 = vectorizer_4.fit_transform(train_data['pre_pro_plot_synopsis'])\n",
    "xt_test_multilabel_4 = vectorizer_4.transform(test_data['pre_pro_plot_synopsis'])\n",
    "\n",
    "vectorizer_1_4 = CountVectorizer(tokenizer = lambda x: x.split(\" \"), binary='true').fit(y_train)\n",
    "y_train_4 = vectorizer_1_4.transform(y_train)\n",
    "y_test_4 = vectorizer_1_4.transform(y_test)"
   ]
  },
  {
   "cell_type": "code",
   "execution_count": 36,
   "metadata": {
    "colab": {
     "base_uri": "https://localhost:8080/",
     "height": 153
    },
    "colab_type": "code",
    "id": "Pr1eR2OSLXcu",
    "outputId": "c414ac2a-9515-450d-91c7-36118491ae5e",
    "scrolled": false
   },
   "outputs": [
    {
     "name": "stdout",
     "output_type": "stream",
     "text": [
      "model Started......!\n",
      "Fitting 5 folds for each of 10 candidates, totalling 50 fits\n"
     ]
    },
    {
     "name": "stderr",
     "output_type": "stream",
     "text": [
      "[Parallel(n_jobs=-1)]: Using backend LokyBackend with 8 concurrent workers.\n",
      "[Parallel(n_jobs=-1)]: Done   2 tasks      | elapsed:   44.9s\n",
      "[Parallel(n_jobs=-1)]: Done   9 tasks      | elapsed:  2.1min\n",
      "[Parallel(n_jobs=-1)]: Done  16 tasks      | elapsed:  3.3min\n",
      "[Parallel(n_jobs=-1)]: Done  25 tasks      | elapsed:  7.1min\n",
      "[Parallel(n_jobs=-1)]: Done  34 tasks      | elapsed: 10.2min\n",
      "[Parallel(n_jobs=-1)]: Done  41 out of  50 | elapsed: 16.7min remaining:  3.7min\n",
      "[Parallel(n_jobs=-1)]: Done  47 out of  50 | elapsed: 20.9min remaining:  1.3min\n",
      "[Parallel(n_jobs=-1)]: Done  50 out of  50 | elapsed: 22.1min finished\n"
     ]
    },
    {
     "name": "stdout",
     "output_type": "stream",
     "text": [
      "Best estimator:  OneVsRestClassifier(estimator=LogisticRegression(C=10, class_weight='balanced',\n",
      "                                                 dual=False, fit_intercept=True,\n",
      "                                                 intercept_scaling=1,\n",
      "                                                 l1_ratio=None, max_iter=100,\n",
      "                                                 multi_class='warn',\n",
      "                                                 n_jobs=None, penalty='l2',\n",
      "                                                 random_state=None,\n",
      "                                                 solver='warn', tol=0.0001,\n",
      "                                                 verbose=0, warm_start=False),\n",
      "                    n_jobs=-1)\n",
      "Best Cross Validation Score:  0.3121920196744349\n",
      "Accuracy : 0.02131979695431472\n",
      "Hamming loss  0.07232430113676985\n",
      "Micro-average :\n",
      "Precision: 0.2706, Recall: 0.4039, F1-measure: 0.3241\n",
      "Model Ended......!\n"
     ]
    }
   ],
   "source": [
    "# Randomsearchcv \n",
    "\n",
    "print('model Started......!')\n",
    "alpha = [0.001,0.01,0.1,0.5,0.9,1,1.5,10,100,1000]\n",
    "#penalty = ['l1','l2']\n",
    "\n",
    "params  = {'estimator__C': alpha}\n",
    "clf_estimator_4 = OneVsRestClassifier(LogisticRegression(class_weight='balanced',penalty='l2'),n_jobs=-1)\n",
    "RS_clf_4 = RandomizedSearchCV(estimator=clf_estimator_4, param_distributions=params, n_iter=10, cv=5, scoring='f1_micro', n_jobs=-1, verbose=10)\n",
    "RS_clf_4.fit(xt_train_multilabel_4, y_train_4)\n",
    "print('Best estimator: ',RS_clf_4.best_estimator_)\n",
    "print('Best Cross Validation Score: ',RS_clf_4.best_score_) \n",
    "\n",
    "classifier_4 = RS_clf_4.best_estimator_\n",
    "classifier_4.fit(xt_train_multilabel_4, y_train_4)\n",
    "predictions_4 = classifier_4.predict(xt_test_multilabel_4)\n",
    "\n",
    "print(\"Accuracy :\",metrics.accuracy_score(y_test_4, predictions_4))\n",
    "print(\"Hamming loss \",metrics.hamming_loss(y_test_4,predictions_4))\n",
    "\n",
    "precision_4 = precision_score(y_test_4, predictions_4, average='micro')\n",
    "recall_4 = recall_score(y_test_4, predictions_4, average='micro')\n",
    "f1_4 = f1_score(y_test_4, predictions_4, average='micro')\n",
    " \n",
    "print(\"Micro-average :\") \n",
    "print(\"Precision: {:.4f}, Recall: {:.4f}, F1-measure: {:.4f}\".format(precision_4, recall_4, f1_4))\n",
    "print('Model Ended......!')"
   ]
  },
  {
   "cell_type": "markdown",
   "metadata": {},
   "source": [
    "<h3>TFIDF char-4</h3>"
   ]
  },
  {
   "cell_type": "code",
   "execution_count": 7,
   "metadata": {},
   "outputs": [],
   "source": [
    "#char 4 grams\n",
    "vectorizer_5 = TfidfVectorizer(min_df=0.00009,max_features=10000,analyzer='char',smooth_idf=True, norm=\"l2\", tokenizer = lambda x: x.split(\" \"), sublinear_tf=False,\n",
    "                             ngram_range=(4,4))\n",
    "xt_train_multilabel_5 = vectorizer_5.fit_transform(train_data['pre_pro_plot_synopsis'])\n",
    "xt_test_multilabel_5 = vectorizer_5.transform(test_data['pre_pro_plot_synopsis'])\n",
    "\n",
    "vectorizer_1_5 = CountVectorizer(tokenizer = lambda x: x.split(\" \"), binary='true').fit(y_train)\n",
    "y_train_5 = vectorizer_1_5.transform(y_train)\n",
    "y_test_5 = vectorizer_1_5.transform(y_test)"
   ]
  },
  {
   "cell_type": "code",
   "execution_count": 37,
   "metadata": {
    "colab": {},
    "colab_type": "code",
    "id": "p6S1f3AzLXnW"
   },
   "outputs": [
    {
     "name": "stdout",
     "output_type": "stream",
     "text": [
      "model Started......!\n",
      "Fitting 5 folds for each of 10 candidates, totalling 50 fits\n"
     ]
    },
    {
     "name": "stderr",
     "output_type": "stream",
     "text": [
      "[Parallel(n_jobs=-1)]: Using backend LokyBackend with 8 concurrent workers.\n",
      "[Parallel(n_jobs=-1)]: Done   2 tasks      | elapsed:   57.6s\n",
      "[Parallel(n_jobs=-1)]: Done   9 tasks      | elapsed:  2.4min\n",
      "[Parallel(n_jobs=-1)]: Done  16 tasks      | elapsed:  4.0min\n",
      "[Parallel(n_jobs=-1)]: Done  25 tasks      | elapsed:  7.6min\n",
      "[Parallel(n_jobs=-1)]: Done  34 tasks      | elapsed: 11.9min\n",
      "[Parallel(n_jobs=-1)]: Done  41 out of  50 | elapsed: 18.8min remaining:  4.1min\n",
      "[Parallel(n_jobs=-1)]: Done  47 out of  50 | elapsed: 25.1min remaining:  1.6min\n",
      "[Parallel(n_jobs=-1)]: Done  50 out of  50 | elapsed: 26.0min finished\n"
     ]
    },
    {
     "name": "stdout",
     "output_type": "stream",
     "text": [
      "Best estimator:  OneVsRestClassifier(estimator=LogisticRegression(C=1.5, class_weight='balanced',\n",
      "                                                 dual=False, fit_intercept=True,\n",
      "                                                 intercept_scaling=1,\n",
      "                                                 l1_ratio=None, max_iter=100,\n",
      "                                                 multi_class='warn',\n",
      "                                                 n_jobs=None, penalty='l2',\n",
      "                                                 random_state=None,\n",
      "                                                 solver='warn', tol=0.0001,\n",
      "                                                 verbose=0, warm_start=False),\n",
      "                    n_jobs=-1)\n",
      "Best Cross Validation Score:  0.33169991412252436\n",
      "Accuracy : 0.019289340101522844\n",
      "Hamming loss  0.07821071947761016\n",
      "Micro-average :\n",
      "Precision: 0.2660, Recall: 0.4670, F1-measure: 0.3390\n",
      "Model Ended......!\n"
     ]
    }
   ],
   "source": [
    "# Randomsearchcv\n",
    "\n",
    "print('model Started......!')\n",
    "alpha = [0.001,0.01,0.1,0.5,0.9,1,1.5,10,100,1000]\n",
    "#penalty = ['l1','l2']\n",
    "\n",
    "params  = {'estimator__C': alpha}\n",
    "clf_estimator_5 = OneVsRestClassifier(LogisticRegression(class_weight='balanced',penalty='l2'), n_jobs=-1)\n",
    "RS_clf_5 = RandomizedSearchCV(estimator=clf_estimator_5, param_distributions=params, n_iter=10, cv=5, scoring='f1_micro', n_jobs=-1, verbose=10)\n",
    "RS_clf_5.fit(xt_train_multilabel_5, y_train_5)\n",
    "print('Best estimator: ',RS_clf_5.best_estimator_)\n",
    "print('Best Cross Validation Score: ',RS_clf_5.best_score_) \n",
    "\n",
    "classifier_5 = RS_clf_5.best_estimator_\n",
    "classifier_5.fit(xt_train_multilabel_5, y_train_5)\n",
    "predictions_5 = classifier_5.predict(xt_test_multilabel_5)\n",
    "\n",
    "print(\"Accuracy :\",metrics.accuracy_score(y_test_5, predictions_5))\n",
    "print(\"Hamming loss \",metrics.hamming_loss(y_test_5,predictions_5))\n",
    "\n",
    "precision_5 = precision_score(y_test_5, predictions_5, average='micro')\n",
    "recall_5 = recall_score(y_test_5, predictions_5, average='micro')\n",
    "f1_5 = f1_score(y_test_5, predictions_5, average='micro')\n",
    " \n",
    "print(\"Micro-average :\") \n",
    "print(\"Precision: {:.4f}, Recall: {:.4f}, F1-measure: {:.4f}\".format(precision_5, recall_5, f1_5))\n",
    "print('Model Ended......!')"
   ]
  },
  {
   "cell_type": "code",
   "execution_count": 26,
   "metadata": {
    "colab": {},
    "colab_type": "code",
    "id": "Pbbg0UPSLX8f"
   },
   "outputs": [],
   "source": [
    "from scipy.sparse import coo_matrix, hstack \n",
    "#here we considering top 10k features for less computational resources stacking all the features \n",
    "#uni\n",
    "vectorizer_1 = TfidfVectorizer(min_df=0.00009,max_features=10000,ngram_range=(1,1))\n",
    "xt_train_multilabel_1 = vectorizer_1.fit_transform(train_data['pre_pro_plot_synopsis'])\n",
    "xt_test_multilabel_1 = vectorizer_1.transform(test_data['pre_pro_plot_synopsis'])"
   ]
  },
  {
   "cell_type": "code",
   "execution_count": 27,
   "metadata": {},
   "outputs": [],
   "source": [
    "#bi\n",
    "vectorizer_2 = TfidfVectorizer(min_df=0.00009,max_features=10000,ngram_range=(2,2))\n",
    "xt_train_multilabel_2 = vectorizer_2.fit_transform(train_data['pre_pro_plot_synopsis'])\n",
    "xt_test_multilabel_2 = vectorizer_2.transform(test_data['pre_pro_plot_synopsis'])"
   ]
  },
  {
   "cell_type": "code",
   "execution_count": null,
   "metadata": {},
   "outputs": [],
   "source": [
    "#tri\n",
    "vectorizer_3 = TfidfVectorizer(min_df=10,max_features=10000,ngram_range=(3,3))\n",
    "xt_train_multilabel_3 = vectorizer_3.fit_transform(train_data['pre_pro_plot_synopsis'])\n",
    "xt_test_multilabel_3 = vectorizer_3.transform(test_data['pre_pro_plot_synopsis'])"
   ]
  },
  {
   "cell_type": "code",
   "execution_count": null,
   "metadata": {},
   "outputs": [],
   "source": [
    "#char-3\n",
    "vectorizer_4 = TfidfVectorizer(min_df=0.00009,max_features=10000,analyzer='char',ngram_range=(3,3))\n",
    "xt_train_multilabel_4 = vectorizer_4.fit_transform(train_data['pre_pro_plot_synopsis'])\n",
    "xt_test_multilabel_4 = vectorizer_4.transform(test_data['pre_pro_plot_synopsis'])\n"
   ]
  },
  {
   "cell_type": "code",
   "execution_count": null,
   "metadata": {},
   "outputs": [],
   "source": [
    "#char-4\n",
    "vectorizer_5 = TfidfVectorizer(min_df=0.00009,max_features=10000,analyzer='char',ngram_range=(4,4))\n",
    "xt_train_multilabel_5 = vectorizer_5.fit_transform(train_data['pre_pro_plot_synopsis'])\n",
    "xt_test_multilabel_5 = vectorizer_5.transform(test_data['pre_pro_plot_synopsis'])"
   ]
  },
  {
   "cell_type": "code",
   "execution_count": null,
   "metadata": {},
   "outputs": [],
   "source": [
    "#uni + bi\n",
    "x_train_uni_bi = hstack([xt_train_multilabel_1,xt_train_multilabel_2])\n",
    "x_test_uni_bi = hstack([xt_test_multilabel_1,xt_test_multilabel_2])"
   ]
  },
  {
   "cell_type": "code",
   "execution_count": null,
   "metadata": {},
   "outputs": [],
   "source": [
    "#uni + bi + tri \n",
    "x_train_uni_bi_tri = hstack([x_train_uni_bi,xt_train_multilabel_3])\n",
    "x_test_uni_bi_tri = hstack([x_test_uni_bi,xt_test_multilabel_3])"
   ]
  },
  {
   "cell_type": "code",
   "execution_count": null,
   "metadata": {},
   "outputs": [],
   "source": [
    "x_train_uni_bi_tri.shape"
   ]
  },
  {
   "cell_type": "code",
   "execution_count": 13,
   "metadata": {},
   "outputs": [],
   "source": [
    "#c3 + c4\n",
    "x_train_c3_c4 = hstack([xt_train_multilabel_4,xt_train_multilabel_5])\n",
    "x_test_c3_c4 = hstack([xt_test_multilabel_4,xt_test_multilabel_5])"
   ]
  },
  {
   "cell_type": "code",
   "execution_count": 14,
   "metadata": {
    "colab": {},
    "colab_type": "code",
    "id": "WOQvNRnALYIe"
   },
   "outputs": [
    {
     "data": {
      "text/plain": [
       "(11797, 50000)"
      ]
     },
     "execution_count": 14,
     "metadata": {},
     "output_type": "execute_result"
    }
   ],
   "source": [
    "#uni bi tri c3 c4 \n",
    "x_train_u_b_t_c3_c4 = hstack([x_train_uni_bi_tri,x_train_c3_c4])\n",
    "x_test_u_b_t_c3_c4 = hstack([x_test_uni_bi_tri,x_test_c3_c4])\n",
    "\n",
    "x_train_u_b_t_c3_c4.shape"
   ]
  },
  {
   "cell_type": "markdown",
   "metadata": {},
   "source": [
    "<h3> TFIDF UNI + BI + TRI + C3 + C4</h3>"
   ]
  },
  {
   "cell_type": "code",
   "execution_count": 29,
   "metadata": {
    "colab": {},
    "colab_type": "code",
    "id": "yvV8Y1GsMKpA",
    "scrolled": false
   },
   "outputs": [
    {
     "name": "stdout",
     "output_type": "stream",
     "text": [
      "model Started......!\n",
      "Fitting 5 folds for each of 10 candidates, totalling 50 fits\n"
     ]
    },
    {
     "name": "stderr",
     "output_type": "stream",
     "text": [
      "[Parallel(n_jobs=-1)]: Using backend LokyBackend with 8 concurrent workers.\n",
      "[Parallel(n_jobs=-1)]: Done   2 tasks      | elapsed:   21.2s\n",
      "[Parallel(n_jobs=-1)]: Done   9 tasks      | elapsed:   52.2s\n",
      "[Parallel(n_jobs=-1)]: Done  16 tasks      | elapsed:  1.5min\n",
      "[Parallel(n_jobs=-1)]: Done  25 tasks      | elapsed:  2.9min\n",
      "[Parallel(n_jobs=-1)]: Done  34 tasks      | elapsed:  4.2min\n",
      "[Parallel(n_jobs=-1)]: Done  41 out of  50 | elapsed:  6.4min remaining:  1.4min\n",
      "[Parallel(n_jobs=-1)]: Done  47 out of  50 | elapsed:  8.1min remaining:   30.9s\n",
      "[Parallel(n_jobs=-1)]: Done  50 out of  50 | elapsed:  8.4min finished\n"
     ]
    },
    {
     "name": "stdout",
     "output_type": "stream",
     "text": [
      "Best estimator:  OneVsRestClassifier(estimator=LogisticRegression(C=0.1, class_weight='balanced',\n",
      "                                                 dual=False, fit_intercept=True,\n",
      "                                                 intercept_scaling=1,\n",
      "                                                 l1_ratio=None, max_iter=100,\n",
      "                                                 multi_class='warn', n_jobs=-1,\n",
      "                                                 penalty='l2',\n",
      "                                                 random_state=None,\n",
      "                                                 solver='warn', tol=0.0001,\n",
      "                                                 verbose=0, warm_start=False),\n",
      "                    n_jobs=-1)\n",
      "Best Cross Validation Score:  0.3615786034946788\n",
      "Accuracy : 0.04060913705583756\n",
      "Hamming loss  0.06068492171301923\n",
      "Micro-average :\n",
      "Precision: 0.3348, Recall: 0.4190, F1-measure: 0.3722\n",
      "Model Ended......!\n"
     ]
    }
   ],
   "source": [
    "# Randomsearchcv\n",
    "#uni bi tri \n",
    "\n",
    "vectorizer_1_6 = CountVectorizer(tokenizer = lambda x: x.split(\" \"), binary='true').fit(y_train)\n",
    "y_train_6 = vectorizer_1_6.transform(y_train)\n",
    "y_test_6 = vectorizer_1_6.transform(y_test)\n",
    "\n",
    "print('model Started......!')\n",
    "\n",
    "alpha = [0.001,0.01,0.1,0.5,0.9,1,1.5,10,100,1000]\n",
    "#penalty = ['l1','l2']\n",
    "\n",
    "params  = {'estimator__C': alpha}\n",
    "clf_estimator_6 = OneVsRestClassifier(LogisticRegression(class_weight='balanced',penalty='l2',n_jobs=-1),n_jobs=-1)\n",
    "RS_clf_6 = RandomizedSearchCV(estimator=clf_estimator_6, param_distributions=params, n_iter=10, cv=5, scoring='f1_micro', n_jobs=-1,verbose=10)\n",
    "RS_clf_6.fit(x_train_uni_bi_tri, y_train_6)\n",
    "print('Best estimator: ',RS_clf_6.best_estimator_)\n",
    "print('Best Cross Validation Score: ',RS_clf_6.best_score_) \n",
    "\n",
    "classifier_6 = RS_clf_6.best_estimator_\n",
    "classifier_6.fit(x_train_uni_bi_tri, y_train_6)\n",
    "predictions_6 = classifier_6.predict(x_test_uni_bi_tri)\n",
    "\n",
    "print(\"Accuracy :\",metrics.accuracy_score(y_test_6, predictions_6))\n",
    "print(\"Hamming loss \",metrics.hamming_loss(y_test_6,predictions_6))\n",
    "\n",
    "precision_6 = precision_score(y_test_6, predictions_6, average='micro')\n",
    "recall_6 = recall_score(y_test_6, predictions_6, average='micro')\n",
    "f1_6 = f1_score(y_test_6, predictions_6, average='micro')\n",
    " \n",
    "print(\"Micro-average :\") \n",
    "print(\"Precision: {:.4f}, Recall: {:.4f}, F1-measure: {:.4f}\".format(precision_6, recall_6, f1_6))\n",
    "print('Model Ended......!')"
   ]
  },
  {
   "cell_type": "code",
   "execution_count": 34,
   "metadata": {},
   "outputs": [
    {
     "name": "stdout",
     "output_type": "stream",
     "text": [
      "Collecting PrettyTable\n",
      "  Downloading https://files.pythonhosted.org/packages/ef/30/4b0746848746ed5941f052479e7c23d2b56d174b82f4fd34a25e389831f5/prettytable-0.7.2.tar.bz2\n",
      "Building wheels for collected packages: PrettyTable\n",
      "  Running setup.py bdist_wheel for PrettyTable ... \u001b[?25ldone\n",
      "\u001b[?25h  Stored in directory: /root/.cache/pip/wheels/80/34/1c/3967380d9676d162cb59513bd9dc862d0584e045a162095606\n",
      "Successfully built PrettyTable\n",
      "Installing collected packages: PrettyTable\n",
      "Successfully installed PrettyTable-0.7.2\n"
     ]
    }
   ],
   "source": [
    "!pip install PrettyTable"
   ]
  },
  {
   "cell_type": "code",
   "execution_count": 1,
   "metadata": {
    "colab": {},
    "colab_type": "code",
    "id": "1mSievW61T6d"
   },
   "outputs": [
    {
     "name": "stdout",
     "output_type": "stream",
     "text": [
      "==========Models computed using simple loop hyperparameter tuning...==========\n",
      "+----------------+------------+------------+------------+--------+----------+\n",
      "|     Model      | vectorizer | best-alpha | Precision  | Recall | F1-score |\n",
      "+----------------+------------+------------+------------+--------+----------+\n",
      "| LOGISTIC REGR  |    BOW     |    0.1     |   0.2801   | 0.4037 |  0.3307  |\n",
      "| LOGISTIC REGR  |   TFIDF    |     1      |   0.236    | 0.453  |  0.3103  |\n",
      "| LOGISTIC REGR  |   AVGW2V   |    100     |   0.1061   | 0.6536 |  0.1825  |\n",
      "| LOGISTIC REGR  |  TFIDFW2V  |    0.1     |   0.0888   | 0.5792 |  0.1539  |\n",
      "|    SGD(log)    |    BOW     |   0.0001   |   0.1908   | 0.3283 |  0.2413  |\n",
      "|    SGD(log)    |   TFIDF    |   0.0001   |   0.1939   | 0.4547 |  0.2719  |\n",
      "|    SGD(log)    |   AVGW2V   |   0.001    |   0.0958   | 0.6399 |  0.1666  |\n",
      "|    SGD(log)    |  TFIDFW2V  |    100     |   0.0186   | 0.0245 |  0.0212  |\n",
      "| SGD(hinge) SVM |    BOW     |   10000    |   0.1718   | 0.0565 |  0.0581  |\n",
      "| SGD(hinge) SVM |   TFIDF    |   0.0001   |   0.1938   | 0.4292 |  0.267   |\n",
      "| SGD(hinge) SVM |   AVGW2V   |   10000    |   0.0281   | 0.0093 |  0.0139  |\n",
      "| SGD(hinge) SVM | TFFIDFW2v  |   10000    |   0.158    | 0.2601 |  0.1966  |\n",
      "+----------------+------------+------------+------------+--------+----------+\n",
      "==========Models computed using Randomsearch hyperparameter tuning...==========\n",
      "+---------------+------------------------+------------+------------+--------+----------+\n",
      "|     Model     |       vectorizer       | best-alpha | Precision  | Recall | F1-score |\n",
      "+---------------+------------------------+------------+------------+--------+----------+\n",
      "| LOGISTIC REGR |       TFIDF-UNI        |    1.5     |    0.32    |  0.39  |   0.35   |\n",
      "| LOGISTIC REGR |        TFIDF-BI        |   0.001    |    0.31    |  0.42  |   0.36   |\n",
      "| LOGISTIC REGR |       TFIDF-TRI        |   0.001    |    0.23    |  0.27  |   0.25   |\n",
      "| LOGISTIC REGR |        TFIDF-C3        |     10     |    0.27    |  0.4   |   0.32   |\n",
      "| LOGISTIC REGR |        TFIDF-C4        |    1.5     |    0.26    |  0.46  |   0.33   |\n",
      "| LOGISTIC REGR | TFIDF-UNI+BI+TRI+C3+C4 |    0.1     |    0.33    |  0.41  |   0.37   |\n",
      "+---------------+------------------------+------------+------------+--------+----------+\n"
     ]
    }
   ],
   "source": [
    "from prettytable import PrettyTable\n",
    "    \n",
    "x = PrettyTable()\n",
    "\n",
    "x.field_names = [ \"Model\",\"vectorizer\", \"best-alpha\", \"Precision \",\"Recall\",\"F1-score\"]\n",
    "print('==========Models computed using simple loop hyperparameter tuning...==========')\n",
    "x.add_row([\"LOGISTIC REGR\",\"BOW\",      0.1,0.2801,0.4037,0.3307])\n",
    "x.add_row([\"LOGISTIC REGR\",\"TFIDF\",    1,0.2360,0.4530,0.3103])\n",
    "x.add_row([\"LOGISTIC REGR\",\"AVGW2V\",   100,0.1061,0.6536,0.1825])\n",
    "x.add_row([\"LOGISTIC REGR\",\"TFIDFW2V\", 0.1,0.0888,0.5792,0.1539])\n",
    "\n",
    "x.add_row([\"SGD(log)\",\"BOW\",           0.0001,0.1908,0.3283,0.2413])\n",
    "x.add_row([\"SGD(log)\",\"TFIDF\",         0.0001,0.1939,0.4547,0.2719])\n",
    "x.add_row([\"SGD(log)\",\"AVGW2V\",        0.001,0.0958,0.6399,0.1666])\n",
    "x.add_row([\"SGD(log)\",\"TFIDFW2V\",      100,0.0186,0.0245,0.0212])\n",
    "\n",
    "x.add_row([\"SGD(hinge) SVM\",\"BOW\",       10000,0.1718,0.0565,0.0581])\n",
    "x.add_row([\"SGD(hinge) SVM\",\"TFIDF\",     0.0001,0.1938,0.4292,0.2670])\n",
    "x.add_row([\"SGD(hinge) SVM\",\"AVGW2V\",    10000,0.0281,0.0093,0.0139])\n",
    "x.add_row([\"SGD(hinge) SVM\",\"TFFIDFW2v\", 10000,0.1580,0.2601,0.1966])\n",
    "print(x)\n",
    "print('==========Models computed using Randomsearch hyperparameter tuning...==========')\n",
    "x2 = PrettyTable()\n",
    "\n",
    "x2.field_names = [ \"Model\",\"vectorizer\", \"best-alpha\", \"Precision \",\"Recall\",\"F1-score\"]\n",
    "x2.add_row([\"LOGISTIC REGR\",\"TFIDF-UNI\",      1.5,0.32,0.39,0.35])\n",
    "x2.add_row([\"LOGISTIC REGR\",\"TFIDF-BI\",      0.001,0.31,0.42,0.36])\n",
    "x2.add_row([\"LOGISTIC REGR\",\"TFIDF-TRI\",      0.001,0.23,0.27,0.25])\n",
    "x2.add_row([\"LOGISTIC REGR\",\"TFIDF-C3\",      10,0.27,0.40,0.32])\n",
    "x2.add_row([\"LOGISTIC REGR\",\"TFIDF-C4\",      1.5,0.26,0.46,0.33])\n",
    "x2.add_row([\"LOGISTIC REGR\",\"TFIDF-UNI+BI+TRI+C3+C4\",      0.1,0.33,0.41,0.37])\n",
    "\n",
    "print(x2)\n"
   ]
  },
  {
   "cell_type": "markdown",
   "metadata": {
    "colab_type": "text",
    "id": "6XPaD-CDcjlJ"
   },
   "source": [
    "<h1>Observations</h1>"
   ]
  },
  {
   "cell_type": "markdown",
   "metadata": {
    "colab_type": "text",
    "id": "TFlzewPscmBG"
   },
   "source": [
    "<ol>\n",
    "  <li>Performed EDA and done some analysis on Tags </li>\n",
    "  <li>Most frequent Tags are Murder, violance,  Flashback, cult, Romantic </li>\n",
    "  <li>Applied NLP algorithms BOW, TFIDF, AVGW2v, TFIDFW2V for text to numerical convertion </li>\n",
    "  <li>Applied Logistic Regression , SGD Classifier with hinge and log loss on each NLP data </li>\n",
    "  <li>Observed Logistic regression performs better than SGD, so we apply with logistic regression</li>\n",
    "  <li>Compare to all models Logistic Regression using TFIDF gives better results </li>\n",
    "  <li>We tried with some powerful hyper parameter tuning with randomsearchcv models improved in f1-score we got 0.37 is the highest f1-score using TFIDF Uni + bi + tri + c3 + c4 </li>\n",
    "</ol>"
   ]
  }
 ],
 "metadata": {
  "accelerator": "GPU",
  "colab": {
   "collapsed_sections": [],
   "name": "MPIST_Normal_Models_final_1.ipynb",
   "provenance": []
  },
  "kernelspec": {
   "display_name": "Python 3",
   "language": "python",
   "name": "python3"
  },
  "language_info": {
   "codemirror_mode": {
    "name": "ipython",
    "version": 3
   },
   "file_extension": ".py",
   "mimetype": "text/x-python",
   "name": "python",
   "nbconvert_exporter": "python",
   "pygments_lexer": "ipython3",
   "version": "3.6.5"
  }
 },
 "nbformat": 4,
 "nbformat_minor": 1
}
